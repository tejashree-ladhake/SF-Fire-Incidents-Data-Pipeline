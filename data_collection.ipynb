{
 "cells": [
  {
   "cell_type": "code",
   "execution_count": 1,
   "id": "349c239a",
   "metadata": {},
   "outputs": [
    {
     "data": {
      "text/plain": [
       "['date,open',\n",
       " '2015-12-31,107.01',\n",
       " '2015-12-30,108.58',\n",
       " '2015-12-29,106.96',\n",
       " '2015-12-28,107.59']"
      ]
     },
     "execution_count": 1,
     "metadata": {},
     "output_type": "execute_result"
    }
   ],
   "source": [
    "data = ! curl --no-progress-meter \"https://www.quandl.com/api/v3/datatables/WIKI/PRICES.csv?ticker=AAPL&api_key=SECRET&date.gte=20150101&date.lt=20160101&qopts.columns=date,open\"\n",
    "data[0:5]"
   ]
  },
  {
   "cell_type": "code",
   "execution_count": 2,
   "id": "6dc06926",
   "metadata": {},
   "outputs": [
    {
     "data": {
      "text/plain": [
       "['[{\"call_number\":\"221210313\",\"unit_id\":\"E36\",\"incident_number\":\"22054955\",\"call_type\":\"Outside Fire\",\"call_date\":\"2022-05-01T00:00:00.000\",\"watch_date\":\"2022-04-30T00:00:00.000\",\"received_dttm\":\"2022-05-01T02:58:25.000\",\"entry_dttm\":\"2022-05-01T02:59:15.000\",\"dispatch_dttm\":\"2022-05-01T02:59:25.000\",\"response_dttm\":\"2022-05-01T03:01:06.000\",\"on_scene_dttm\":\"2022-05-01T03:02:27.000\",\"call_final_disposition\":\"Fire\",\"available_dttm\":\"2022-05-01T03:05:00.000\",\"address\":\"GOUGH ST/GROVE ST\",\"city\":\"San Francisco\",\"zipcode_of_incident\":\"94102\",\"battalion\":\"B02\",\"station_area\":\"36\",\"box\":\"3265\",\"original_priority\":\"3\",\"priority\":\"3\",\"final_priority\":\"3\",\"als_unit\":true,\"call_type_group\":\"Fire\",\"number_of_alarms\":\"1\",\"unit_type\":\"ENGINE\",\"unit_sequence_in_call_dispatch\":\"1\",\"fire_prevention_district\":\"2\",\"supervisor_district\":\"5\",\"neighborhoods_analysis_boundaries\":\"Hayes Valley\",\"rowid\":\"221210313-E36\",\"case_location\":{\"type\":\"Point\",\"coordinates\":[-122.42316555403964,37.77781524520032]},\":@computed_region_ajp5_b2md\":\"9\"}',\n",
       " ',{\"call_number\":\"220190150\",\"unit_id\":\"E29\",\"incident_number\":\"22008871\",\"call_type\":\"Alarms\",\"call_date\":\"2022-01-19T00:00:00.000\",\"watch_date\":\"2022-01-18T00:00:00.000\",\"received_dttm\":\"2022-01-19T01:42:12.000\",\"entry_dttm\":\"2022-01-19T01:44:13.000\",\"dispatch_dttm\":\"2022-01-19T01:44:28.000\",\"response_dttm\":\"2022-01-19T01:46:47.000\",\"on_scene_dttm\":\"2022-01-19T01:49:32.000\",\"call_final_disposition\":\"Fire\",\"available_dttm\":\"2022-01-19T02:35:26.000\",\"address\":\"100 Block of MISSISSIPPI ST\",\"city\":\"San Francisco\",\"zipcode_of_incident\":\"94107\",\"battalion\":\"B03\",\"station_area\":\"29\",\"box\":\"2431\",\"original_priority\":\"3\",\"priority\":\"3\",\"final_priority\":\"3\",\"als_unit\":true,\"call_type_group\":\"Alarm\",\"number_of_alarms\":\"1\",\"unit_type\":\"ENGINE\",\"unit_sequence_in_call_dispatch\":\"1\",\"fire_prevention_district\":\"3\",\"supervisor_district\":\"10\",\"neighborhoods_analysis_boundaries\":\"Potrero Hill\",\"rowid\":\"220190150-E29\",\"case_location\":{\"type\":\"Point\",\"coordinates\":[-122.39469970274361,37.76460987856451]},\":@computed_region_ajp5_b2md\":\"26\"}',\n",
       " ',{\"call_number\":\"211233271\",\"unit_id\":\"T07\",\"incident_number\":\"21053032\",\"call_type\":\"Alarms\",\"call_date\":\"2021-05-03T00:00:00.000\",\"watch_date\":\"2021-05-03T00:00:00.000\",\"received_dttm\":\"2021-05-03T21:28:12.000\",\"entry_dttm\":\"2021-05-03T21:28:12.000\",\"dispatch_dttm\":\"2021-05-03T21:28:17.000\",\"response_dttm\":\"2021-05-03T21:29:10.000\",\"on_scene_dttm\":\"2021-05-03T21:32:15.000\",\"call_final_disposition\":\"Fire\",\"available_dttm\":\"2021-05-03T21:38:09.000\",\"address\":\"0 Block of HOFF ST\",\"city\":\"San Francisco\",\"zipcode_of_incident\":\"94110\",\"battalion\":\"B02\",\"station_area\":\"07\",\"box\":\"5236\",\"original_priority\":\"A\",\"priority\":\"3\",\"final_priority\":\"3\",\"als_unit\":false,\"call_type_group\":\"Alarm\",\"number_of_alarms\":\"1\",\"unit_type\":\"TRUCK\",\"unit_sequence_in_call_dispatch\":\"2\",\"fire_prevention_district\":\"2\",\"supervisor_district\":\"9\",\"neighborhoods_analysis_boundaries\":\"Mission\",\"rowid\":\"211233271-T07\",\"case_location\":{\"type\":\"Point\",\"coordinates\":[-122.42057572093252,37.76418194637148]},\":@computed_region_ajp5_b2md\":\"20\"}',\n",
       " ',{\"call_number\":\"212933533\",\"unit_id\":\"B02\",\"incident_number\":\"21127914\",\"call_type\":\"Alarms\",\"call_date\":\"2021-10-20T00:00:00.000\",\"watch_date\":\"2021-10-20T00:00:00.000\",\"received_dttm\":\"2021-10-20T22:08:47.000\",\"entry_dttm\":\"2021-10-20T22:09:53.000\",\"dispatch_dttm\":\"2021-10-20T22:10:07.000\",\"response_dttm\":\"2021-10-20T22:11:55.000\",\"call_final_disposition\":\"Fire\",\"available_dttm\":\"2021-10-20T22:25:52.000\",\"address\":\"200 Block of JONES ST\",\"city\":\"San Francisco\",\"zipcode_of_incident\":\"94102\",\"battalion\":\"B03\",\"station_area\":\"03\",\"box\":\"1456\",\"original_priority\":\"3\",\"priority\":\"3\",\"final_priority\":\"3\",\"als_unit\":false,\"call_type_group\":\"Alarm\",\"number_of_alarms\":\"1\",\"unit_type\":\"CHIEF\",\"unit_sequence_in_call_dispatch\":\"3\",\"fire_prevention_district\":\"3\",\"supervisor_district\":\"6\",\"neighborhoods_analysis_boundaries\":\"Tenderloin\",\"rowid\":\"212933533-B02\",\"case_location\":{\"type\":\"Point\",\"coordinates\":[-122.41243514072728,37.78347684038771]},\":@computed_region_ajp5_b2md\":\"36\"}',\n",
       " ',{\"call_number\":\"221202543\",\"unit_id\":\"E41\",\"incident_number\":\"22054815\",\"call_type\":\"Alarms\",\"call_date\":\"2022-04-30T00:00:00.000\",\"watch_date\":\"2022-04-30T00:00:00.000\",\"received_dttm\":\"2022-04-30T18:35:58.000\",\"entry_dttm\":\"2022-04-30T18:37:28.000\",\"dispatch_dttm\":\"2022-04-30T18:37:43.000\",\"response_dttm\":\"2022-04-30T18:38:17.000\",\"call_final_disposition\":\"Fire\",\"available_dttm\":\"2022-04-30T18:40:08.000\",\"address\":\"1400 Block of FILBERT ST\",\"city\":\"San Francisco\",\"zipcode_of_incident\":\"94109\",\"battalion\":\"B04\",\"station_area\":\"16\",\"box\":\"3146\",\"original_priority\":\"3\",\"priority\":\"3\",\"final_priority\":\"3\",\"als_unit\":false,\"call_type_group\":\"Alarm\",\"number_of_alarms\":\"1\",\"unit_type\":\"ENGINE\",\"unit_sequence_in_call_dispatch\":\"4\",\"fire_prevention_district\":\"4\",\"supervisor_district\":\"2\",\"neighborhoods_analysis_boundaries\":\"Russian Hill\",\"rowid\":\"221202543-E41\",\"case_location\":{\"type\":\"Point\",\"coordinates\":[-122.4233369425531,37.799534868680034]},\":@computed_region_ajp5_b2md\":\"32\"}']"
      ]
     },
     "execution_count": 2,
     "metadata": {},
     "output_type": "execute_result"
    }
   ],
   "source": [
    "data = ! curl --no-progress-meter \"https://data.sfgov.org/resource/RowID.json\"\n",
    "data[:5]"
   ]
  },
  {
   "cell_type": "code",
   "execution_count": 4,
   "id": "8643a8ea",
   "metadata": {},
   "outputs": [
    {
     "data": {
      "text/plain": [
       "1000"
      ]
     },
     "execution_count": 4,
     "metadata": {},
     "output_type": "execute_result"
    }
   ],
   "source": [
    "len(data)"
   ]
  },
  {
   "cell_type": "code",
   "execution_count": 5,
   "id": "b41194d4",
   "metadata": {},
   "outputs": [
    {
     "ename": "NameError",
     "evalue": "name 'json' is not defined",
     "output_type": "error",
     "traceback": [
      "\u001b[0;31m---------------------------------------------------------------------------\u001b[0m",
      "\u001b[0;31mNameError\u001b[0m                                 Traceback (most recent call last)",
      "\u001b[1;32m/Users/tejashree/Desktop/USF/Distributed Computing/Project/Project.ipynb Cell 4\u001b[0m in \u001b[0;36m<cell line: 1>\u001b[0;34m()\u001b[0m\n\u001b[0;32m----> <a href='vscode-notebook-cell:/Users/tejashree/Desktop/USF/Distributed%20Computing/Project/Project.ipynb#W3sZmlsZQ%3D%3D?line=0'>1</a>\u001b[0m parsed_data \u001b[39m=\u001b[39m json\u001b[39m.\u001b[39mloads(data)\n",
      "\u001b[0;31mNameError\u001b[0m: name 'json' is not defined"
     ]
    }
   ],
   "source": [
    "parsed_data = json.loads(data)"
   ]
  },
  {
   "cell_type": "code",
   "execution_count": 6,
   "id": "541d2236",
   "metadata": {},
   "outputs": [],
   "source": [
    "import pandas as pd"
   ]
  },
  {
   "cell_type": "code",
   "execution_count": null,
   "id": "7f3b3b0f",
   "metadata": {},
   "outputs": [],
   "source": [
    "import sys\n",
    "import requests\n",
    "\n",
    "HistoryURL = \"https://www.quandl.com/api/v3/datatables/WIKI/PRICES.csv?ticker=%s&api_key=%s\"\n",
    "\n",
    "ticker = \"AAPL\"\n",
    "APIKEY = '22423234'  # any key works apparently (maybe this length)\n",
    "\n",
    "url = HistoryURL % (ticker,APIKEY)\n",
    "r = requests.get(url)\n",
    "csvdata = r.text\n",
    "print(csvdata[0:400])"
   ]
  },
  {
   "cell_type": "code",
   "execution_count": 12,
   "id": "878fd0cd",
   "metadata": {},
   "outputs": [],
   "source": [
    "import sys\n",
    "import requests"
   ]
  },
  {
   "cell_type": "code",
   "execution_count": 13,
   "id": "cb6dc437",
   "metadata": {},
   "outputs": [],
   "source": [
    "URL = \"https://data.sfgov.org/resource/RowID.json\"\n",
    "r = requests.get(URL)"
   ]
  },
  {
   "cell_type": "code",
   "execution_count": 23,
   "id": "7c2fe75b",
   "metadata": {},
   "outputs": [
    {
     "name": "stdout",
     "output_type": "stream",
     "text": [
      "[{\"call_number\": \"221210313\", \"unit_id\": \"E36\", \"incident_number\": \"22054955\", \"call_type\": \"Outside Fire\", \"call_date\": \"2022-05-01T00:00:00.000\", \"watch_date\": \"2022-04-30T00:00:00.000\", \"received_dttm\": \"2022-05-01T02:58:25.000\", \"entry_dttm\": \"2022-05-01T02:59:15.000\", \"dispatch_dttm\": \"2022-05-01T02:59:25.000\", \"response_dttm\": \"2022-05-01T03:01:06.000\", \"on_scene_dttm\": \"2022-05-01T03:02:27.000\", \"call_final_disposition\": \"Fire\", \"available_dttm\": \"2022-05-01T03:05:00.000\", \"address\": \"GOUGH ST/GROVE ST\", \"city\": \"San Francisco\", \"zipcode_of_incident\": \"94102\", \"battalion\": \"B02\", \"station_area\": \"36\", \"box\": \"3265\", \"original_priority\": \"3\", \"priority\": \"3\", \"final_priority\": \"3\", \"als_unit\": true, \"call_type_group\": \"Fire\", \"number_of_alarms\": \"1\", \"unit_type\": \"ENGINE\", \"unit_sequence_in_call_dispatch\": \"1\", \"fire_prevention_district\": \"2\", \"supervisor_district\": \"5\", \"neighborhoods_analysis_boundaries\": \"Hayes Valley\", \"rowid\": \"221210313-E36\", \"case_location\": {\"type\": \"Poin\n"
     ]
    }
   ],
   "source": [
    "data = json.loads(r.text)\n",
    "\n",
    "print(json.dumps(data)[0:1000])"
   ]
  },
  {
   "cell_type": "code",
   "execution_count": 25,
   "id": "a45a2204",
   "metadata": {},
   "outputs": [
    {
     "data": {
      "text/plain": [
       "(list, 1000)"
      ]
     },
     "execution_count": 25,
     "metadata": {},
     "output_type": "execute_result"
    }
   ],
   "source": [
    "type(data), len(data)"
   ]
  },
  {
   "cell_type": "code",
   "execution_count": 18,
   "id": "5f59b2f1",
   "metadata": {},
   "outputs": [
    {
     "data": {
      "text/html": [
       "<div>\n",
       "<style scoped>\n",
       "    .dataframe tbody tr th:only-of-type {\n",
       "        vertical-align: middle;\n",
       "    }\n",
       "\n",
       "    .dataframe tbody tr th {\n",
       "        vertical-align: top;\n",
       "    }\n",
       "\n",
       "    .dataframe thead th {\n",
       "        text-align: right;\n",
       "    }\n",
       "</style>\n",
       "<table border=\"1\" class=\"dataframe\">\n",
       "  <thead>\n",
       "    <tr style=\"text-align: right;\">\n",
       "      <th></th>\n",
       "      <th>call_number</th>\n",
       "      <th>unit_id</th>\n",
       "      <th>incident_number</th>\n",
       "      <th>call_type</th>\n",
       "      <th>call_date</th>\n",
       "      <th>watch_date</th>\n",
       "      <th>received_dttm</th>\n",
       "      <th>entry_dttm</th>\n",
       "      <th>dispatch_dttm</th>\n",
       "      <th>response_dttm</th>\n",
       "      <th>...</th>\n",
       "      <th>unit_type</th>\n",
       "      <th>unit_sequence_in_call_dispatch</th>\n",
       "      <th>fire_prevention_district</th>\n",
       "      <th>supervisor_district</th>\n",
       "      <th>neighborhoods_analysis_boundaries</th>\n",
       "      <th>rowid</th>\n",
       "      <th>case_location</th>\n",
       "      <th>:@computed_region_ajp5_b2md</th>\n",
       "      <th>transport_dttm</th>\n",
       "      <th>hospital_dttm</th>\n",
       "    </tr>\n",
       "  </thead>\n",
       "  <tbody>\n",
       "    <tr>\n",
       "      <th>0</th>\n",
       "      <td>221210313</td>\n",
       "      <td>E36</td>\n",
       "      <td>22054955</td>\n",
       "      <td>Outside Fire</td>\n",
       "      <td>2022-05-01T00:00:00.000</td>\n",
       "      <td>2022-04-30T00:00:00.000</td>\n",
       "      <td>2022-05-01T02:58:25.000</td>\n",
       "      <td>2022-05-01T02:59:15.000</td>\n",
       "      <td>2022-05-01T02:59:25.000</td>\n",
       "      <td>2022-05-01T03:01:06.000</td>\n",
       "      <td>...</td>\n",
       "      <td>ENGINE</td>\n",
       "      <td>1</td>\n",
       "      <td>2</td>\n",
       "      <td>5</td>\n",
       "      <td>Hayes Valley</td>\n",
       "      <td>221210313-E36</td>\n",
       "      <td>{'type': 'Point', 'coordinates': [-122.4231655...</td>\n",
       "      <td>9</td>\n",
       "      <td>NaN</td>\n",
       "      <td>NaN</td>\n",
       "    </tr>\n",
       "    <tr>\n",
       "      <th>1</th>\n",
       "      <td>220190150</td>\n",
       "      <td>E29</td>\n",
       "      <td>22008871</td>\n",
       "      <td>Alarms</td>\n",
       "      <td>2022-01-19T00:00:00.000</td>\n",
       "      <td>2022-01-18T00:00:00.000</td>\n",
       "      <td>2022-01-19T01:42:12.000</td>\n",
       "      <td>2022-01-19T01:44:13.000</td>\n",
       "      <td>2022-01-19T01:44:28.000</td>\n",
       "      <td>2022-01-19T01:46:47.000</td>\n",
       "      <td>...</td>\n",
       "      <td>ENGINE</td>\n",
       "      <td>1</td>\n",
       "      <td>3</td>\n",
       "      <td>10</td>\n",
       "      <td>Potrero Hill</td>\n",
       "      <td>220190150-E29</td>\n",
       "      <td>{'type': 'Point', 'coordinates': [-122.3946997...</td>\n",
       "      <td>26</td>\n",
       "      <td>NaN</td>\n",
       "      <td>NaN</td>\n",
       "    </tr>\n",
       "    <tr>\n",
       "      <th>2</th>\n",
       "      <td>211233271</td>\n",
       "      <td>T07</td>\n",
       "      <td>21053032</td>\n",
       "      <td>Alarms</td>\n",
       "      <td>2021-05-03T00:00:00.000</td>\n",
       "      <td>2021-05-03T00:00:00.000</td>\n",
       "      <td>2021-05-03T21:28:12.000</td>\n",
       "      <td>2021-05-03T21:28:12.000</td>\n",
       "      <td>2021-05-03T21:28:17.000</td>\n",
       "      <td>2021-05-03T21:29:10.000</td>\n",
       "      <td>...</td>\n",
       "      <td>TRUCK</td>\n",
       "      <td>2</td>\n",
       "      <td>2</td>\n",
       "      <td>9</td>\n",
       "      <td>Mission</td>\n",
       "      <td>211233271-T07</td>\n",
       "      <td>{'type': 'Point', 'coordinates': [-122.4205757...</td>\n",
       "      <td>20</td>\n",
       "      <td>NaN</td>\n",
       "      <td>NaN</td>\n",
       "    </tr>\n",
       "  </tbody>\n",
       "</table>\n",
       "<p>3 rows × 35 columns</p>\n",
       "</div>"
      ],
      "text/plain": [
       "  call_number unit_id incident_number     call_type                call_date  \\\n",
       "0   221210313     E36        22054955  Outside Fire  2022-05-01T00:00:00.000   \n",
       "1   220190150     E29        22008871        Alarms  2022-01-19T00:00:00.000   \n",
       "2   211233271     T07        21053032        Alarms  2021-05-03T00:00:00.000   \n",
       "\n",
       "                watch_date            received_dttm               entry_dttm  \\\n",
       "0  2022-04-30T00:00:00.000  2022-05-01T02:58:25.000  2022-05-01T02:59:15.000   \n",
       "1  2022-01-18T00:00:00.000  2022-01-19T01:42:12.000  2022-01-19T01:44:13.000   \n",
       "2  2021-05-03T00:00:00.000  2021-05-03T21:28:12.000  2021-05-03T21:28:12.000   \n",
       "\n",
       "             dispatch_dttm            response_dttm  ... unit_type  \\\n",
       "0  2022-05-01T02:59:25.000  2022-05-01T03:01:06.000  ...    ENGINE   \n",
       "1  2022-01-19T01:44:28.000  2022-01-19T01:46:47.000  ...    ENGINE   \n",
       "2  2021-05-03T21:28:17.000  2021-05-03T21:29:10.000  ...     TRUCK   \n",
       "\n",
       "  unit_sequence_in_call_dispatch fire_prevention_district supervisor_district  \\\n",
       "0                              1                        2                   5   \n",
       "1                              1                        3                  10   \n",
       "2                              2                        2                   9   \n",
       "\n",
       "  neighborhoods_analysis_boundaries          rowid  \\\n",
       "0                      Hayes Valley  221210313-E36   \n",
       "1                      Potrero Hill  220190150-E29   \n",
       "2                           Mission  211233271-T07   \n",
       "\n",
       "                                       case_location  \\\n",
       "0  {'type': 'Point', 'coordinates': [-122.4231655...   \n",
       "1  {'type': 'Point', 'coordinates': [-122.3946997...   \n",
       "2  {'type': 'Point', 'coordinates': [-122.4205757...   \n",
       "\n",
       "  :@computed_region_ajp5_b2md transport_dttm hospital_dttm  \n",
       "0                           9            NaN           NaN  \n",
       "1                          26            NaN           NaN  \n",
       "2                          20            NaN           NaN  \n",
       "\n",
       "[3 rows x 35 columns]"
      ]
     },
     "execution_count": 18,
     "metadata": {},
     "output_type": "execute_result"
    }
   ],
   "source": [
    "import pandas as pd\n",
    "df = pd.DataFrame.from_dict(data)\n",
    "df.head(3)"
   ]
  },
  {
   "cell_type": "code",
   "execution_count": 19,
   "id": "0e8e36e7",
   "metadata": {},
   "outputs": [
    {
     "data": {
      "text/plain": [
       "(1000, 35)"
      ]
     },
     "execution_count": 19,
     "metadata": {},
     "output_type": "execute_result"
    }
   ],
   "source": [
    "df.shape"
   ]
  },
  {
   "cell_type": "code",
   "execution_count": 1,
   "id": "a979ba3c",
   "metadata": {},
   "outputs": [],
   "source": [
    "file = 'Fire_Department_Calls_for_Service.csv'"
   ]
  },
  {
   "cell_type": "code",
   "execution_count": 1,
   "id": "032b349a",
   "metadata": {},
   "outputs": [
    {
     "name": "stderr",
     "output_type": "stream",
     "text": [
      "Setting default log level to \"WARN\".\n",
      "To adjust logging level use sc.setLogLevel(newLevel). For SparkR, use setLogLevel(newLevel).\n"
     ]
    },
    {
     "name": "stdout",
     "output_type": "stream",
     "text": [
      "22/12/10 10:30:52 WARN NativeCodeLoader: Unable to load native-hadoop library for your platform... using builtin-java classes where applicable\n"
     ]
    }
   ],
   "source": [
    "import pyspark\n",
    "import os\n",
    "import pandas as pd\n",
    "import plotly.express as px\n",
    "import plotly.graph_objects as go\n",
    "sc = pyspark.SparkContext()"
   ]
  },
  {
   "cell_type": "code",
   "execution_count": 29,
   "id": "c6725481",
   "metadata": {},
   "outputs": [],
   "source": [
    "sc.stop()"
   ]
  },
  {
   "cell_type": "code",
   "execution_count": 2,
   "id": "c3de34dc",
   "metadata": {},
   "outputs": [],
   "source": [
    "input_rdd = sc.textFile('small_data.csv', 8)"
   ]
  },
  {
   "cell_type": "code",
   "execution_count": 5,
   "id": "28e71e90",
   "metadata": {},
   "outputs": [
    {
     "data": {
      "text/plain": [
       "[',Call Number,Unit ID,Incident Number,Call Type,Call Date,Watch Date,Received DtTm,Entry DtTm,Dispatch DtTm,Response DtTm,On Scene DtTm,Transport DtTm,Hospital DtTm,Call Final Disposition,Available DtTm,Address,City,Zipcode of Incident,Battalion,Station Area,Box,Original Priority,Priority,Final Priority,ALS Unit,Call Type Group,Number of Alarms,Unit Type,Unit sequence in call dispatch,Fire Prevention District,Supervisor District,Neighborhooods - Analysis Boundaries,RowID,case_location,Analysis Neighborhoods',\n",
       " '0,221210313,E36,22054955,Outside Fire,05/01/2022,04/30/2022,05/01/2022 02:58:25 AM,05/01/2022 02:59:15 AM,05/01/2022 02:59:25 AM,05/01/2022 03:01:06 AM,05/01/2022 03:02:27 AM,,,Fire,05/01/2022 03:05:00 AM,GOUGH ST/GROVE ST,San Francisco,94102.0,B02,36.0,3265,3,3,3,True,Fire,1,ENGINE,1.0,2,5,Hayes Valley,221210313-E36,POINT (-122.42316555403964 37.77781524520032),9.0',\n",
       " '1,220190150,E29,22008871,Alarms,01/19/2022,01/18/2022,01/19/2022 01:42:12 AM,01/19/2022 01:44:13 AM,01/19/2022 01:44:28 AM,01/19/2022 01:46:47 AM,01/19/2022 01:49:32 AM,,,Fire,01/19/2022 02:35:26 AM,100 Block of MISSISSIPPI ST,San Francisco,94107.0,B03,29.0,2431,3,3,3,True,Alarm,1,ENGINE,1.0,3,10,Potrero Hill,220190150-E29,POINT (-122.39469970274361 37.76460987856451),26.0',\n",
       " '2,211233271,T07,21053032,Alarms,05/03/2021,05/03/2021,05/03/2021 09:28:12 PM,05/03/2021 09:28:12 PM,05/03/2021 09:28:17 PM,05/03/2021 09:29:10 PM,05/03/2021 09:32:15 PM,,,Fire,05/03/2021 09:38:09 PM,0 Block of HOFF ST,San Francisco,94110.0,B02,7.0,5236,A,3,3,False,Alarm,1,TRUCK,2.0,2,9,Mission,211233271-T07,POINT (-122.42057572093252 37.76418194637148),20.0',\n",
       " '3,212933533,B02,21127914,Alarms,10/20/2021,10/20/2021,10/20/2021 10:08:47 PM,10/20/2021 10:09:53 PM,10/20/2021 10:10:07 PM,10/20/2021 10:11:55 PM,,,,Fire,10/20/2021 10:25:52 PM,200 Block of JONES ST,San Francisco,94102.0,B03,3.0,1456,3,3,3,False,Alarm,1,CHIEF,3.0,3,6,Tenderloin,212933533-B02,POINT (-122.41243514072728 37.78347684038771),36.0',\n",
       " '4,221202543,E41,22054815,Alarms,04/30/2022,04/30/2022,04/30/2022 06:35:58 PM,04/30/2022 06:37:28 PM,04/30/2022 06:37:43 PM,04/30/2022 06:38:17 PM,,,,Fire,04/30/2022 06:40:08 PM,1400 Block of FILBERT ST,San Francisco,94109.0,B04,16.0,3146,3,3,3,False,Alarm,1,ENGINE,4.0,4,2,Russian Hill,221202543-E41,POINT (-122.4233369425531 37.799534868680034),32.0',\n",
       " '5,211232439,B01,21052945,Alarms,05/03/2021,05/03/2021,05/03/2021 04:57:21 PM,05/03/2021 04:58:39 PM,05/03/2021 04:58:44 PM,05/03/2021 05:00:27 PM,,,,Fire,05/03/2021 05:05:20 PM,500 Block of JONES ST,San Francisco,94102.0,B01,3.0,1462,3,3,3,False,Alarm,1,CHIEF,2.0,1,6,Tenderloin,211232439-B01,POINT (-122.41299723589606 37.78626844171642),36.0',\n",
       " '6,211942517,T03,21083057,Alarms,07/13/2021,07/13/2021,07/13/2021 04:50:10 PM,07/13/2021 04:51:07 PM,07/13/2021 04:51:17 PM,,,,,Fire,07/13/2021 04:54:45 PM,900 Block of VAN NESS AVE,San Francisco,94109.0,B04,3.0,3162,3,3,3,False,Alarm,1,TRUCK,3.0,2,6,Tenderloin,211942517-T03,POINT (-122.42090696864193 37.784067668377766),36.0',\n",
       " '7,212932758,B01,21127810,Alarms,10/20/2021,10/20/2021,10/20/2021 05:46:09 PM,10/20/2021 05:47:57 PM,10/20/2021 05:48:05 PM,10/20/2021 05:49:54 PM,10/20/2021 05:53:45 PM,,,Fire,10/20/2021 06:00:04 PM,0 Block of BEACH ST,San Francisco,94133.0,B01,28.0,0939,3,3,3,False,Alarm,1,CHIEF,2.0,1,3,North Beach,212932758-B01,POINT (-122.40987728293031 37.808050096906186),23.0',\n",
       " '8,221201816,T03,22054719,Structure Fire,04/30/2022,04/30/2022,04/30/2022 02:27:39 PM,04/30/2022 02:28:53 PM,04/30/2022 02:29:13 PM,04/30/2022 02:31:58 PM,04/30/2022 02:31:58 PM,,,Fire,04/30/2022 02:46:15 PM,MISSION ST/9TH ST,San Francisco,94103.0,B02,36.0,2336,3,3,3,False,Alarm,1,TRUCK,3.0,2,6,South of Market,221201816-T03,POINT (-122.41471100467277 37.77623051778801),34.0',\n",
       " '9,211941580,SCRT4,21082970,Medical Incident,07/13/2021,07/13/2021,07/13/2021 12:23:31 PM,07/13/2021 12:28:02 PM,07/13/2021 12:47:21 PM,07/13/2021 12:47:21 PM,,,,SFPD,07/13/2021 12:48:46 PM,100 Block of VICENTE ST,San Francisco,94127.0,B08,39.0,8612,1,1,2,False,Non Life-threatening,1,SUPPORT,1.0,8,7,West of Twin Peaks,211941580-SCRT4,POINT (-122.46750730609165 37.73983589352891),41.0',\n",
       " '10,220181779,50,22008631,Other,01/18/2022,01/18/2022,01/18/2022 01:38:10 PM,01/18/2022 01:38:47 PM,01/18/2022 01:59:04 PM,01/18/2022 01:59:04 PM,01/18/2022 01:59:04 PM,,,Fire,01/18/2022 03:55:14 PM,17-TH DE HARO ST,San Francisco,94103.0,B03,29.0,2355,2,2,2,True,Non Life-threatening,1,MEDIC,1.0,3.0,10,Mission Bay,220181779-50,POINT (-122.40113066801707 37.764922583300844),4.0',\n",
       " '11,220111608,E06,22005327,Alarms,01/11/2022,01/11/2022,01/11/2022 01:05:54 PM,01/11/2022 01:07:03 PM,01/11/2022 01:07:09 PM,01/11/2022 01:08:15 PM,01/11/2022 01:09:19 PM,,,Fire,01/11/2022 01:16:05 PM,0 Block of SANCHEZ ST,San Francisco,94114.0,B05,6.0,5131,3,3,3,True,Alarm,1,ENGINE,1.0,2,8,Castro/Upper Market,220111608-E06,POINT (-122.43120487845243 37.768462245901794),5.0',\n",
       " '12,220111597,AM110,22005326,Medical Incident,01/11/2022,01/11/2022,01/11/2022 12:59:13 PM,01/11/2022 01:02:48 PM,01/11/2022 01:03:30 PM,01/11/2022 01:03:48 PM,01/11/2022 01:11:24 PM,01/11/2022 02:04:39 PM,01/11/2022 02:52:05 PM,Code 2 Transport,01/11/2022 03:36:28 PM,100 Block of ADDISON ST,San Francisco,94131.0,B06,26.0,8122,2,2,2,False,Potentially Life-Threatening,1,PRIVATE,1.0,6,8,Glen Park,220111597-AM110,POINT (-122.43239831371099 37.73782181348269),10.0',\n",
       " '13,220111595,E07,22005325,Outside Fire,01/11/2022,01/11/2022,01/11/2022 01:01:47 PM,01/11/2022 01:01:47 PM,01/11/2022 01:02:38 PM,01/11/2022 01:03:25 PM,01/11/2022 01:05:37 PM,,,Fire,01/11/2022 01:07:41 PM,FLORIDA ST/15TH ST,San Francisco,94103.0,B02,29.0,5221,A,3,3,True,Fire,1,ENGINE,1.0,2,9,Mission,220111595-E07,POINT (-122.41158013454891 37.76684138916838),20.0',\n",
       " '14,220181524,E08,22008605,Alarms,01/18/2022,01/18/2022,01/18/2022 12:19:21 PM,01/18/2022 12:22:54 PM,01/18/2022 12:23:05 PM,01/18/2022 12:23:12 PM,01/18/2022 12:24:41 PM,,,Fire,01/18/2022 12:27:19 PM,600 Block of BRYANT ST,San Francisco,94107.0,B03,8.0,2242,3,3,3,True,Alarm,1,ENGINE,2.0,3.0,6,South of Market,220181524-E08,POINT (-122.39917886356567 37.778682965266455),34.0',\n",
       " '15,221201435,E41,22054664,Outside Fire,04/30/2022,04/30/2022,04/30/2022 12:32:37 PM,04/30/2022 12:34:09 PM,04/30/2022 12:34:15 PM,04/30/2022 12:35:20 PM,04/30/2022 12:37:21 PM,,,Fire,04/30/2022 12:41:42 PM,LARKIN ST/GREEN ST,San Francisco,94109.0,B01,41.0,1631,3,3,3,False,Fire,1,ENGINE,1.0,1,3,Russian Hill,221201435-E41,POINT (-122.42050128567884 37.79803346092744),32.0',\n",
       " '16,211941035,T05,21082896,Citizen Assist / Service Call,07/13/2021,07/13/2021,07/13/2021 10:00:30 AM,07/13/2021 10:01:59 AM,07/13/2021 10:05:38 AM,07/13/2021 10:05:46 AM,,,,Fire,07/13/2021 10:10:08 AM,0 Block of FRANKLIN ST,San Francisco,94102.0,B02,36.0,3212,3,3,3,False,Alarm,1,TRUCK,3.0,2,5,Hayes Valley,211941035-T05,POINT (-122.42074129455239 37.77453627709375),9.0',\n",
       " '17,220181030,B10,22008545,Alarms,01/18/2022,01/18/2022,01/18/2022 10:09:29 AM,01/18/2022 10:11:19 AM,01/18/2022 10:11:25 AM,01/18/2022 10:12:14 AM,,,,Fire,01/18/2022 10:21:57 AM,700 Block of FLORIDA ST,San Francisco,94110.0,B06,7.0,5451,3,3,3,False,Alarm,1,CHIEF,2.0,6,9,Mission,220181030-B10,POINT (-122.41082866531978 37.75977151300213),20.0',\n",
       " '18,222091290,T10,22096127,Alarms,07/28/2022,07/28/2022,07/28/2022 11:47:47 AM,07/28/2022 11:49:52 AM,07/28/2022 11:50:13 AM,07/28/2022 11:51:44 AM,,,,Fire,07/28/2022 11:56:01 AM,300 Block of MASONIC AVE,San Francisco,94118.0,B05,21.0,4462,3,3,3,False,Alarm,1,TRUCK,3.0,5,5,Lone Mountain/USF,222091290-T10,POINT (-122.4468748150448 37.778154438518655),18.0',\n",
       " '19,222091252,SCRT3,22096119,Other,07/28/2022,07/28/2022,07/28/2022 11:39:25 AM,07/28/2022 11:39:25 AM,07/28/2022 11:39:50 AM,,,,,Cancelled,07/28/2022 11:40:38 AM,900 Block of MARKET ST,San Francisco,94103.0,B01,1.0,2247,A,1,2,False,,1,SUPPORT,1.0,3,6,South of Market,222091252-SCRT3,POINT (-122.40842111692173 37.78356993869201),34.0',\n",
       " '20,221200830,E03,22054584,Alarms,04/30/2022,04/30/2022,04/30/2022 09:14:00 AM,04/30/2022 09:15:34 AM,04/30/2022 09:15:43 AM,04/30/2022 09:18:05 AM,04/30/2022 09:19:35 AM,,,Fire,04/30/2022 09:31:26 AM,200 Block of GOLDEN GATE AVE,San Francisco,94102.0,B02,3.0,1548,3,3,3,True,Alarm,1,ENGINE,1.0,2,6,Tenderloin,221200830-E03,POINT (-122.41510513501383 37.78176090810061),36.0',\n",
       " '21,220180731,76,22008514,Medical Incident,01/18/2022,01/18/2022,01/18/2022 08:42:03 AM,01/18/2022 08:43:28 AM,01/18/2022 08:47:08 AM,01/18/2022 08:47:15 AM,,,,Code 2 Transport,01/18/2022 08:50:15 AM,0 Block of CARL ST,San Francisco,94117.0,B05,12.0,5199,2,2,2,True,Non Life-threatening,1,MEDIC,2.0,5,5,Haight Ashbury,220180731-76,POINT (-122.44890193700888 37.76599035911472),3.0',\n",
       " '22,211230557,E08,21052693,Alarms,05/03/2021,05/03/2021,05/03/2021 08:10:53 AM,05/03/2021 08:12:23 AM,05/03/2021 08:12:30 AM,05/03/2021 08:15:05 AM,05/03/2021 08:16:37 AM,,,Fire,05/03/2021 08:28:56 AM,100 Block of BERRY ST,San Francisco,94158.0,B03,8.0,2171,3,3,3,True,Alarm,1,ENGINE,2.0,3,6,Mission Bay,211230557-E08,POINT (-122.39218945055315 37.776631385410525),4.0',\n",
       " '23,212930834,E02,21127608,Alarms,10/20/2021,10/20/2021,10/20/2021 08:56:13 AM,10/20/2021 08:57:38 AM,10/20/2021 08:57:51 AM,10/20/2021 08:57:58 AM,10/20/2021 09:02:36 AM,,,Fire,10/20/2021 09:09:37 AM,500-501 TAYLOR ST,San Francisco,94102.0,B01,3.0,1451,3,3,3,True,Alarm,1,ENGINE,1.0,1.0,3,Tenderloin,212930834-E02,POINT (-122.41148097975834 37.787114830341956),36.0',\n",
       " '24,211940163,73,21082786,Medical Incident,07/13/2021,07/12/2021,07/13/2021 02:27:46 AM,07/13/2021 02:30:19 AM,07/13/2021 02:30:47 AM,07/13/2021 02:30:59 AM,07/13/2021 02:42:16 AM,07/13/2021 02:51:27 AM,07/13/2021 02:55:34 AM,Code 3 Transport,07/13/2021 03:42:32 AM,100 Block of 3RD ST,San Francisco,94103.0,B03,1.0,2177,2,2,2,True,Potentially Life-Threatening,1,MEDIC,1.0,3,6,Financial District/South Beach,211940163-73,POINT (-122.40093057593437 37.785468868780875),8.0',\n",
       " '25,211940150,E07,21082785,Traffic Collision,07/13/2021,07/12/2021,07/13/2021 02:14:37 AM,07/13/2021 02:14:37 AM,07/13/2021 02:14:54 AM,07/13/2021 02:16:29 AM,07/13/2021 02:18:18 AM,,,Code 2 Transport,07/13/2021 02:33:19 AM,2600 Block of HARRISON ST,San Francisco,94110.0,B06,7.0,0545,B,3,3,True,Non Life-threatening,1,ENGINE,1.0,6.0,9,Mission,211940150-E07,POINT (-122.41212257930248 37.755031422190974),20.0',\n",
       " '26,211940150,77,21082785,Traffic Collision,07/13/2021,07/12/2021,07/13/2021 02:14:37 AM,07/13/2021 02:14:37 AM,07/13/2021 02:14:54 AM,07/13/2021 02:15:04 AM,07/13/2021 02:19:26 AM,07/13/2021 02:51:42 AM,07/13/2021 02:57:45 AM,Code 2 Transport,07/13/2021 03:44:58 AM,2600 Block of HARRISON ST,San Francisco,94110.0,B06,7.0,0545,B,3,3,True,Non Life-threatening,1,MEDIC,2.0,6.0,9,Mission,211940150-77,POINT (-122.41212257930248 37.755031422190974),20.0',\n",
       " '27,211940174,62,21082787,Medical Incident,07/13/2021,07/12/2021,07/13/2021 02:48:01 AM,07/13/2021 02:50:13 AM,07/13/2021 02:53:06 AM,07/13/2021 02:54:19 AM,07/13/2021 03:08:39 AM,07/13/2021 03:29:15 AM,07/13/2021 03:37:07 AM,Code 2 Transport,07/13/2021 04:19:25 AM,500 Block of SOUTH VAN NESS AVE,San Francisco,94110.0,B02,7.0,5246,2,2,2,True,Non Life-threatening,1,MEDIC,1.0,2,9,Mission,211940174-62,POINT (-122.41747849146768 37.76437320966664),20.0',\n",
       " '28,221200301,T11,22054509,Alarms,04/30/2022,04/29/2022,04/30/2022 02:55:25 AM,04/30/2022 02:57:52 AM,04/30/2022 02:58:00 AM,04/30/2022 03:00:17 AM,04/30/2022 03:02:22 AM,,,Fire,04/30/2022 03:10:16 AM,1000 Block of CHURCH ST,San Francisco,94114.0,B06,11.0,5467,3,3,3,False,Alarm,1,TRUCK,2.0,6,8,Noe Valley,221200301-T11,POINT (-122.42759040963105 37.75409838123123),22.0',\n",
       " '29,221200301,B06,22054509,Alarms,04/30/2022,04/29/2022,04/30/2022 02:55:25 AM,04/30/2022 02:57:52 AM,04/30/2022 02:58:00 AM,04/30/2022 03:01:14 AM,04/30/2022 03:02:50 AM,,,Fire,04/30/2022 03:11:18 AM,1000 Block of CHURCH ST,San Francisco,94114.0,B06,11.0,5467,3,3,3,False,Alarm,1,CHIEF,3.0,6,8,Noe Valley,221200301-B06,POINT (-122.42759040963105 37.75409838123123),22.0',\n",
       " '30,221200301,E11,22054509,Alarms,04/30/2022,04/29/2022,04/30/2022 02:55:25 AM,04/30/2022 02:57:52 AM,04/30/2022 02:58:00 AM,04/30/2022 02:59:52 AM,04/30/2022 03:01:46 AM,,,Fire,04/30/2022 03:10:45 AM,1000 Block of CHURCH ST,San Francisco,94114.0,B06,11.0,5467,3,3,3,True,Alarm,1,ENGINE,1.0,6,8,Noe Valley,221200301-E11,POINT (-122.42759040963105 37.75409838123123),22.0',\n",
       " '31,211940032,T14,21082774,Alarms,07/13/2021,07/12/2021,07/13/2021 12:31:53 AM,07/13/2021 12:34:05 AM,07/13/2021 12:34:12 AM,07/13/2021 12:35:49 AM,,,,Fire,07/13/2021 12:39:58 AM,600 Block of 16TH AVE,San Francisco,94118.0,B07,31.0,7155,3,3,3,False,Alarm,1,TRUCK,3.0,7,1,Outer Richmond,211940032-T14,POINT (-122.47468461641205 37.77581222755014),29.0',\n",
       " '32,211230166,59,21052638,Medical Incident,05/03/2021,05/02/2021,05/03/2021 02:56:45 AM,05/03/2021 02:56:45 AM,05/03/2021 02:57:17 AM,05/03/2021 02:57:24 AM,05/03/2021 02:59:15 AM,05/03/2021 03:04:39 AM,05/03/2021 03:06:30 AM,Code 2 Transport,05/03/2021 03:45:41 AM,1800 Block of WALLER ST,San Francisco,94122.0,B05,12.0,4552,B,3,3,True,Potentially Life-Threatening,1,MEDIC,1.0,5,5,Golden Gate Park,211230166-59,POINT (-122.45431162017051 37.76815416294525),12.0',\n",
       " '33,211230166,E12,21052638,Medical Incident,05/03/2021,05/02/2021,05/03/2021 02:56:45 AM,05/03/2021 02:56:45 AM,05/03/2021 02:57:17 AM,05/03/2021 02:59:00 AM,,,,Code 2 Transport,05/03/2021 03:02:17 AM,1800 Block of WALLER ST,San Francisco,94122.0,B05,12.0,4552,B,3,3,True,Potentially Life-Threatening,1,ENGINE,2.0,5,5,Golden Gate Park,211230166-E12,POINT (-122.45431162017051 37.76815416294525),12.0',\n",
       " '34,211230167,77,21052639,Medical Incident,05/03/2021,05/02/2021,05/03/2021 02:55:59 AM,05/03/2021 02:58:39 AM,05/03/2021 02:59:43 AM,05/03/2021 02:59:49 AM,05/03/2021 03:06:28 AM,05/03/2021 03:17:38 AM,05/03/2021 03:23:45 AM,Code 2 Transport,05/03/2021 03:55:19 AM,HYDE ST/GROVE ST,San Francisco,94103.0,B02,36.0,1552,3,3,3,True,Potentially Life-Threatening,1,MEDIC,2.0,2,6,Tenderloin,211230167-77,POINT (-122.41474122302185 37.77871942885321),36.0',\n",
       " '35,211230167,E03,21052639,Medical Incident,05/03/2021,05/02/2021,05/03/2021 02:55:59 AM,05/03/2021 02:58:39 AM,05/03/2021 02:59:43 AM,05/03/2021 03:01:45 AM,05/03/2021 03:05:18 AM,,,Code 2 Transport,05/03/2021 03:09:21 AM,HYDE ST/GROVE ST,San Francisco,94103.0,B02,36.0,1552,3,3,3,True,Potentially Life-Threatening,1,ENGINE,1.0,2,6,Tenderloin,211230167-E03,POINT (-122.41474122302185 37.77871942885321),36.0',\n",
       " '36,210391341,B02,21017620,Alarms,02/08/2021,02/08/2021,02/08/2021 11:45:49 AM,02/08/2021 11:47:29 AM,02/08/2021 11:48:12 AM,02/08/2021 11:49:34 AM,,,,Fire,02/08/2021 11:51:59 AM,100 Block of EDDY ST,San Francisco,94102.0,B03,3.0,1453,3,3,3,False,Alarm,1,CHIEF,2.0,3,6,Tenderloin,210391341-B02,POINT (-122.41011948345108 37.78419090478903),36.0',\n",
       " '37,222090209,T14,22095985,Other,07/28/2022,07/27/2022,07/28/2022 02:57:56 AM,07/28/2022 02:57:56 AM,07/28/2022 02:58:30 AM,07/28/2022 03:00:42 AM,07/28/2022 03:02:57 AM,,,Fire,07/28/2022 03:16:45 AM,6100 Block of GEARY BL,San Francisco,94121.0,B07,14.0,7213,C,3,3,False,Alarm,1,TRUCK,1.0,7.0,1,Outer Richmond,222090209-T14,POINT (-122.48527495541484 37.78013450549825),29.0',\n",
       " '38,212930249,E14,21127530,Medical Incident,10/20/2021,10/19/2021,10/20/2021 02:46:13 AM,10/20/2021 02:46:58 AM,10/20/2021 02:47:10 AM,10/20/2021 02:49:17 AM,10/20/2021 02:52:09 AM,,,Code 2 Transport,10/20/2021 03:06:01 AM,200 Block of EL CAMINO DEL MAR,San Francisco,94121.0,B07,14.0,7215,3,3,3,True,Potentially Life-Threatening,1,ENGINE,1.0,7,2,Seacliff,212930249-E14,POINT (-122.4858252679559 37.78764160195054),33.0',\n",
       " '39,222090139,B02,22095973,Alarms,07/28/2022,07/27/2022,07/28/2022 02:00:16 AM,07/28/2022 02:02:40 AM,07/28/2022 02:02:51 AM,,,,,Fire,07/28/2022 02:04:49 AM,0 Block of TAYLOR ST,San Francisco,94102.0,B03,1.0,1454,3,3,3,False,Alarm,1,CHIEF,2.0,3,6,Tenderloin,222090139-B02,POINT (-122.41068795650901 37.78248520640453),36.0',\n",
       " '40,212971884,E14,21129868,Alarms,10/24/2021,10/24/2021,10/24/2021 01:22:29 PM,10/24/2021 01:24:05 PM,10/24/2021 01:24:10 PM,10/24/2021 01:25:09 PM,10/24/2021 01:27:51 PM,,,Fire,10/24/2021 01:30:00 PM,600 Block of 24TH AV,San Francisco,94121.0,B07,14.0,7176,3,3,3,True,Alarm,1,ENGINE,1.0,7.0,1,Outer Richmond,212971884-E14,POINT (-122.48345775749036 37.7772826553843),29.0',\n",
       " '41,212971879,E34,21129867,Electrical Hazard,10/24/2021,10/24/2021,10/24/2021 01:21:07 PM,10/24/2021 01:22:57 PM,10/24/2021 01:23:40 PM,10/24/2021 01:24:28 PM,,,,Fire,10/24/2021 01:31:20 PM,700 Block of 47TH AV,San Francisco,94121.0,B07,34.0,7277,3,3,3,True,Alarm,1,ENGINE,1.0,7.0,1,Outer Richmond,212971879-E34,POINT (-122.50795628905959 37.77429187391155),29.0',\n",
       " '42,212971885,E15,21129869,Medical Incident,10/24/2021,10/24/2021,10/24/2021 01:22:41 PM,10/24/2021 01:24:09 PM,10/24/2021 01:24:53 PM,10/24/2021 01:26:28 PM,10/24/2021 01:29:05 PM,,,Code 2 Transport,10/24/2021 02:08:15 PM,1000 Block of CAYUGA AVE,San Francisco,94112.0,B09,15.0,0827,2,2,2,True,Non Life-threatening,1,ENGINE,1.0,9,11,Outer Mission,212971885-E15,POINT (-122.43987498414019 37.72176846236125),28.0',\n",
       " '43,220173023,67,22008351,Medical Incident,01/17/2022,01/17/2022,01/17/2022 09:23:31 PM,01/17/2022 09:24:26 PM,01/17/2022 09:28:39 PM,,,,,Cancelled,01/17/2022 09:32:41 PM,3RD ST/PALOU AV,San Francisco,94124.0,B10,17.0,6515,3,2,2,True,Potentially Life-Threatening,1,MEDIC,2.0,10,10,Bayview Hunters Point,220173023-67,POINT (-122.39096789028375 37.73401387414893),1.0',\n",
       " '44,221192820,B07,22054370,Alarms,04/29/2022,04/29/2022,04/29/2022 07:44:52 PM,04/29/2022 07:47:25 PM,04/29/2022 07:47:51 PM,04/29/2022 07:49:29 PM,04/29/2022 07:58:30 PM,,,No Merit,04/29/2022 08:01:02 PM,7000 Block of CALIFORNIA ST,San Francisco,94121.0,B07,14.0,7246,3,3,3,False,Alarm,1,CHIEF,3.0,7,1,Outer Richmond,221192820-B07,POINT (-122.49299640828323 37.78346573948259),29.0',\n",
       " '45,210390329,T07,21017496,Citizen Assist / Service Call,02/08/2021,02/07/2021,02/08/2021 05:02:39 AM,02/08/2021 05:03:30 AM,02/08/2021 05:04:50 AM,02/08/2021 05:06:59 AM,02/08/2021 05:09:02 AM,,,Fire,02/08/2021 05:17:52 AM,2900 Block of 21ST ST,San Francisco,94110.0,B06,7.0,0545,2,2,2,True,Alarm,1,TRUCK,1.0,6,9,Mission,210390329-T07,POINT (-122.41290267219259 37.75745126564383),20.0',\n",
       " '46,211931446,T02,21082538,Alarms,07/12/2021,07/12/2021,07/12/2021 11:48:57 AM,07/12/2021 11:50:36 AM,07/12/2021 11:52:37 AM,07/12/2021 11:52:48 AM,07/12/2021 11:53:42 AM,,,Fire,07/12/2021 12:00:18 PM,1300 Block of COLUMBUS AVE,San Francisco,94133.0,B01,28.0,1525,3,3,3,False,Alarm,1,TRUCK,1.0,1,3,North Beach,211931446-T02,POINT (-122.41853707467516 37.80615159356133),23.0',\n",
       " '47,222082247,T10,22095798,Alarms,07/27/2022,07/27/2022,07/27/2022 04:26:27 PM,07/27/2022 04:27:52 PM,07/27/2022 04:28:46 PM,07/27/2022 04:30:27 PM,,,,Fire,07/27/2022 04:36:59 PM,200 Block of 3RD AVE,San Francisco,94118.0,B07,31.0,7116,3,3,3,False,Alarm,1,TRUCK,3.0,7,1,Inner Richmond,222082247-T10,POINT (-122.46134103746012 37.784019158038824),11.0',\n",
       " '48,211221179,T15,21052393,Alarms,05/02/2021,05/02/2021,05/02/2021 12:13:31 PM,05/02/2021 12:15:32 PM,05/02/2021 12:15:37 PM,05/02/2021 12:18:10 PM,,,,Fire,05/02/2021 12:31:44 PM,500 Block of CARTER ST,San Francisco,94134.0,B09,43.0,6245,3,3,3,False,Alarm,1,TRUCK,3.0,9,10,Excelsior,211221179-T15,POINT (-122.4236240969691 37.708814905323536),7.0',\n",
       " '49,212971813,E22,21129843,Citizen Assist / Service Call,10/24/2021,10/24/2021,10/24/2021 01:01:05 PM,10/24/2021 01:03:31 PM,10/24/2021 01:03:52 PM,10/24/2021 01:05:13 PM,10/24/2021 01:06:37 PM,,,Fire,10/24/2021 01:12:17 PM,1900 Block of IRVING ST,San Francisco,94122.0,B08,22.0,7424,3,3,3,False,Alarm,1,ENGINE,1.0,8,4,Sunset/Parkside,212971813-E22,POINT (-122.47873250261156 37.763545930089975),35.0',\n",
       " '50,212971812,76,21129842,Medical Incident,10/24/2021,10/24/2021,10/24/2021 01:01:35 PM,10/24/2021 01:03:24 PM,10/24/2021 01:03:33 PM,10/24/2021 01:03:38 PM,10/24/2021 01:19:24 PM,10/24/2021 01:28:36 PM,10/24/2021 01:33:45 PM,Code 3 Transport,10/24/2021 02:14:26 PM,MISSION ST/26TH ST,San Francisco,94110.0,B06,11.0,5613,2,2,2,True,Non Life-threatening,1,MEDIC,1.0,6,9,Mission,212971812-76,POINT (-122.4181352517022 37.74904128843695),20.0',\n",
       " '51,212971814,E44,21129844,Electrical Hazard,10/24/2021,10/24/2021,10/24/2021 01:01:25 PM,10/24/2021 01:03:42 PM,10/24/2021 01:04:15 PM,10/24/2021 01:04:23 PM,,,,Fire,10/24/2021 01:11:47 PM,5-12 SCOTIA AV,San Francisco,94124.0,B10,42.0,6363,3,3,3,True,Alarm,1,ENGINE,1.0,10.0,10,Bayview Hunters Point,212971814-E44,POINT (-122.4019452923132 37.73457174728995),1.0',\n",
       " '52,211931110,E41,21082489,Alarms,07/12/2021,07/12/2021,07/12/2021 10:16:10 AM,07/12/2021 10:17:51 AM,07/12/2021 10:18:21 AM,07/12/2021 10:20:02 AM,07/12/2021 10:21:59 AM,,,Fire,07/12/2021 10:22:32 AM,400 Block of ELLIS ST,San Francisco,94102.0,B03,3.0,1461,3,3,3,False,Alarm,1,ENGINE,2.0,2,6,Tenderloin,211931110-E41,POINT (-122.41359351287615 37.78469892197606),36.0',\n",
       " '53,221191715,B05,22054232,Alarms,04/29/2022,04/29/2022,04/29/2022 01:46:00 PM,04/29/2022 01:49:19 PM,04/29/2022 01:49:38 PM,04/29/2022 01:50:54 PM,04/29/2022 01:54:55 PM,,,Fire,04/29/2022 02:03:08 PM,1400 Block of MARKET ST,San Francisco,94102.0,B02,36.0,3219,3,3,3,False,Alarm,1,CHIEF,1.0,2,6,Tenderloin,221191715-B05,POINT (-122.4184635783809 37.775911866887036),36.0',\n",
       " '54,220170811,B02,22008104,Alarms,01/17/2022,01/17/2022,01/17/2022 09:28:15 AM,01/17/2022 09:29:17 AM,01/17/2022 09:29:25 AM,01/17/2022 09:30:12 AM,01/17/2022 09:33:39 AM,,,Fire,01/17/2022 09:37:53 AM,3000 Block of 16TH ST,San Francisco,94103.0,B02,7.0,5236,3,3,3,False,Alarm,1,CHIEF,2.0,2,9,Mission,220170811-B02,POINT (-122.4207461905871 37.765041354178884),20.0',\n",
       " '55,211930218,70,21082414,Medical Incident,07/12/2021,07/11/2021,07/12/2021 03:00:41 AM,07/12/2021 03:00:41 AM,07/12/2021 03:00:55 AM,07/12/2021 03:01:02 AM,07/12/2021 03:10:55 AM,,,SFPD,07/12/2021 03:11:10 AM,3500 Block of CESAR CHAVEZ ST,San Francisco,94110.0,B06,11.0,0555,A,2,2,True,Non Life-threatening,1,MEDIC,1.0,6,9,Bernal Heights,211930218-70,POINT (-122.42082186491224 37.747999680999996),2.0',\n",
       " '56,221191444,E09,22054185,Outside Fire,04/29/2022,04/29/2022,04/29/2022 12:22:02 PM,04/29/2022 12:22:40 PM,04/29/2022 12:22:45 PM,04/29/2022 12:23:16 PM,04/29/2022 12:26:26 PM,,,Fire,04/29/2022 12:29:24 PM,CESAR CHAVEZ ST/VERMONT ST,San Francisco,94124.0,B10,9.0,6821,3,3,3,True,Fire,1,ENGINE,2.0,10,10,Potrero Hill,221191444-E09,POINT (-122.40286631047564 37.74947845999445),26.0',\n",
       " '57,212921683,E03,21127240,Alarms,10/19/2021,10/19/2021,10/19/2021 01:10:04 PM,10/19/2021 01:10:04 PM,10/19/2021 01:10:04 PM,10/19/2021 01:10:04 PM,10/19/2021 01:10:04 PM,,,Fire,10/19/2021 01:14:45 PM,900 Block of LARKIN ST,San Francisco,94109.0,B04,3.0,1641,3,3,3,True,Alarm,1,ENGINE,1.0,4,6,Tenderloin,212921683-E03,POINT (-122.41829331198136 37.78679355639866),36.0',\n",
       " '58,211922772,T09,21082313,Alarms,07/11/2021,07/11/2021,07/11/2021 08:10:33 PM,07/11/2021 08:11:49 PM,07/11/2021 08:11:52 PM,07/11/2021 08:13:23 PM,07/11/2021 08:17:07 PM,,,Fire,07/11/2021 08:31:29 PM,200 Block of BANKS ST,San Francisco,94110.0,B10,32.0,5727,3,3,3,False,Alarm,1,TRUCK,2.0,10,9,Bernal Heights,211922772-T09,POINT (-122.41265129514453 37.739759628521156),2.0',\n",
       " '59,210381175,E43,21017150,Citizen Assist / Service Call,02/07/2021,02/07/2021,02/07/2021 10:53:18 AM,02/07/2021 10:54:19 AM,02/07/2021 10:55:06 AM,02/07/2021 10:56:46 AM,02/07/2021 11:00:24 AM,,,Fire,02/07/2021 11:16:31 AM,1800 Block of SUNNYDALE AVE,San Francisco,94134.0,B09,44.0,6241,3,3,3,True,Alarm,1,ENGINE,1.0,9,10,Visitacion Valley,210381175-E43,POINT (-122.41714122572736 37.712149508822876),40.0',\n",
       " '60,212920818,B06,21127133,Alarms,10/19/2021,10/19/2021,10/19/2021 08:58:52 AM,10/19/2021 09:00:02 AM,10/19/2021 09:00:29 AM,10/19/2021 09:01:46 AM,10/19/2021 09:05:42 AM,,,Fire,10/19/2021 09:16:31 AM,2600 Block of FOLSOM ST,San Francisco,94110.0,B06,7.0,5473,3,3,3,False,Alarm,1,CHIEF,1.0,6,9,Mission,212920818-B06,POINT (-122.41424157668837 37.75490335969997),20.0',\n",
       " '61,221190681,RS1,22054074,Water Rescue,04/29/2022,04/29/2022,04/29/2022 08:29:55 AM,04/29/2022 08:31:25 AM,04/29/2022 08:31:46 AM,04/29/2022 08:31:54 AM,,,,Code 2 Transport,04/29/2022 08:38:33 AM,3800 Block of TAYLOR ST,San Francisco,94133.0,B01,28.0,0945,3,3,3,False,Fire,1,RESCUE SQUAD,13.0,1.0,3,North Beach,221190681-RS1,POINT (-122.41592344824211 37.80859051371045),23.0',\n",
       " '62,220162991,E16,22007969,Medical Incident,01/16/2022,01/16/2022,01/16/2022 11:07:09 PM,01/16/2022 11:08:45 PM,01/16/2022 11:12:24 PM,01/16/2022 11:14:19 PM,01/16/2022 11:16:30 PM,,,Code 2 Transport,01/16/2022 11:30:18 PM,CHESTNUT ST/DIVISADERO ST,San Francisco,94123.0,B04,16.0,4211,2,3,3,True,Non Life-threatening,1,ENGINE,1.0,4,2,Marina,220162991-E16,POINT (-122.44284609074194 37.7999779796304),13.0',\n",
       " '63,211300761,E39,21055786,Alarms,05/10/2021,05/10/2021,05/10/2021 08:57:03 AM,05/10/2021 08:59:09 AM,05/10/2021 08:59:15 AM,05/10/2021 09:00:11 AM,05/10/2021 09:04:43 AM,,,Fire,05/10/2021 09:13:08 AM,0 Block of FERNWOOD DR,San Francisco,94127.0,B09,39.0,8541,3,3,3,True,Alarm,1,ENGINE,1.0,9,7,West of Twin Peaks,211300761-E39,POINT (-122.46103682536432 37.733698478146984),41.0',\n",
       " '64,211300761,B09,21055786,Alarms,05/10/2021,05/10/2021,05/10/2021 08:57:03 AM,05/10/2021 08:59:09 AM,05/10/2021 08:59:15 AM,05/10/2021 09:00:18 AM,05/10/2021 09:04:47 AM,,,Fire,05/10/2021 09:13:04 AM,0 Block of FERNWOOD DR,San Francisco,94127.0,B09,39.0,8541,3,3,3,False,Alarm,1,CHIEF,2.0,9,7,West of Twin Peaks,211300761-B09,POINT (-122.46103682536432 37.733698478146984),41.0',\n",
       " '65,211300721,T08,21055784,Medical Incident,05/10/2021,05/10/2021,05/10/2021 08:47:58 AM,05/10/2021 08:47:58 AM,05/10/2021 08:47:58 AM,05/10/2021 08:47:58 AM,05/10/2021 08:47:58 AM,,,Code 2 Transport,05/10/2021 09:38:19 AM,0 Block of BLUXOME ST,San Francisco,94107.0,B03,8.0,2223,2,2,2,False,Non Life-threatening,1,TRUCK,1.0,3,6,South of Market,211300721-T08,POINT (-122.3969055319749 37.776858766547065),34.0',\n",
       " '66,211212414,SCRT4,21052119,Medical Incident,05/01/2021,05/01/2021,05/01/2021 05:44:02 PM,05/01/2021 05:47:42 PM,05/01/2021 05:54:18 PM,05/01/2021 06:06:59 PM,05/01/2021 06:06:59 PM,,,Unable to Locate,05/01/2021 06:13:48 PM,1000 Block of VALENCIA ST,San Francisco,94110.0,B06,7.0,5456,1,1,2,False,Non Life-threatening,1,SUPPORT,1.0,6,9,Mission,211212414-SCRT4,POINT (-122.42101035752424 37.75650605958559),20.0',\n",
       " '67,211922073,KM02,21082243,Medical Incident,07/11/2021,07/11/2021,07/11/2021 04:22:26 PM,07/11/2021 04:24:06 PM,07/11/2021 04:24:23 PM,07/11/2021 04:24:53 PM,,,,Code 2 Transport,07/11/2021 04:26:23 PM,1200 Block of 37TH AVE,San Francisco,94122.0,B08,23.0,7565,2,2,2,False,Potentially Life-Threatening,1,PRIVATE,2.0,8,4,Sunset/Parkside,211922073-KM02,POINT (-122.49659449216726 37.76428595125911),35.0',\n",
       " '68,211300702,B04,21055783,Alarms,05/10/2021,05/10/2021,05/10/2021 08:41:43 AM,05/10/2021 08:42:58 AM,05/10/2021 08:43:10 AM,05/10/2021 08:43:54 AM,05/10/2021 08:48:22 AM,,,Fire,05/10/2021 08:57:48 AM,2400 Block of FILBERT ST,San Francisco,94123.0,B04,16.0,4116,3,3,3,False,Alarm,1,CHIEF,2.0,4,2,Marina,211300702-B04,POINT (-122.4397780498066 37.79744383957678),13.0',\n",
       " '69,222080162,T03,22095515,Citizen Assist / Service Call,07/27/2022,07/26/2022,07/27/2022 02:35:01 AM,07/27/2022 02:36:34 AM,07/27/2022 02:36:49 AM,07/27/2022 02:36:58 AM,07/27/2022 02:38:10 AM,,,Fire,07/27/2022 02:43:00 AM,700 Block of EDDY ST,San Francisco,94109.0,B02,3.0,3163,3,3,3,False,Alarm,1,TRUCK,1.0,2,6,Tenderloin,222080162-T03,POINT (-122.42001027025482 37.78305200255877),36.0',\n",
       " '70,222073195,B09,22095478,Alarms,07/26/2022,07/26/2022,07/26/2022 11:44:26 PM,07/26/2022 11:46:13 PM,07/26/2022 11:46:25 PM,07/26/2022 11:48:30 PM,07/26/2022 11:52:13 PM,,,Fire,07/27/2022 12:01:21 AM,8200 Block of OCEANVIEW TER,San Francisco,94132.0,B09,33.0,8412,3,3,3,False,Alarm,1,CHIEF,2.0,9,7,Oceanview/Merced/Ingleside,222073195-B09,POINT (-122.46695479445705 37.71021741069428),24.0',\n",
       " '71,222073105,T03,22095465,Alarms,07/26/2022,07/26/2022,07/26/2022 10:54:53 PM,07/26/2022 10:55:47 PM,07/26/2022 10:56:25 PM,07/26/2022 10:56:38 PM,07/26/2022 11:19:00 PM,,,Fire,07/26/2022 11:22:59 PM,1700 Block of CALIFORNIA ST,San Francisco,94109.0,B04,38.0,3155,3,3,3,False,Alarm,1,TRUCK,3.0,4,2,Pacific Heights,222073105-T03,POINT (-122.42316290679915 37.79031930341958),30.0',\n",
       " '72,212912917,83,21126960,Medical Incident,10/18/2021,10/18/2021,10/18/2021 07:16:12 PM,10/18/2021 07:17:45 PM,10/18/2021 07:17:54 PM,10/18/2021 07:17:57 PM,10/18/2021 07:28:56 PM,10/18/2021 07:40:05 PM,10/18/2021 07:44:36 PM,Code 2 Transport,10/18/2021 08:14:14 PM,900 Block of SUTTER ST,San Francisco,94109.0,B04,3.0,1557,2,2,2,True,Non Life-threatening,1,MEDIC,1.0,4,3,Nob Hill,212912917-83,POINT (-122.4160172278388 37.788337139908855),21.0',\n",
       " '73,220161959,E15,22007824,Medical Incident,01/16/2022,01/16/2022,01/16/2022 04:35:10 PM,01/16/2022 04:36:53 PM,01/16/2022 04:42:36 PM,01/16/2022 04:44:03 PM,01/16/2022 04:49:43 PM,,,Code 2 Transport,01/16/2022 04:54:47 PM,0 Block of THOMAS MORE WAY,San Francisco,94132.0,B08,33.0,8773,3,3,3,True,Potentially Life-Threatening,1,ENGINE,1.0,8,7,Lakeshore,220161959-E15,POINT (-122.47293243797117 37.71226466642372),16.0',\n",
       " '74,222072575,T03,22095392,Alarms,07/26/2022,07/26/2022,07/26/2022 07:05:33 PM,07/26/2022 07:07:30 PM,07/26/2022 07:07:39 PM,07/26/2022 07:09:07 PM,07/26/2022 07:12:03 PM,,,Fire,07/26/2022 07:19:16 PM,200 Block of GOLDEN GATE AVE,San Francisco,94102.0,B02,3.0,1546,3,3,3,False,Alarm,1,TRUCK,2.0,2,6,Tenderloin,222072575-T03,POINT (-122.41428534642033 37.78186544733056),36.0',\n",
       " '75,210372955,E41,21016940,Structure Fire,02/06/2021,02/06/2021,02/06/2021 08:06:32 PM,02/06/2021 08:08:03 PM,02/06/2021 08:08:29 PM,02/06/2021 08:09:13 PM,,,,Fire,02/06/2021 08:19:38 PM,900 Block of SUTTER ST,San Francisco,94109.0,B04,3.0,1557,3,3,3,False,Alarm,1,ENGINE,10.0,4,3,Nob Hill,210372955-E41,POINT (-122.41599519829164 37.788228686156415),21.0',\n",
       " '76,211210756,T13,21051939,Electrical Hazard,05/01/2021,05/01/2021,05/01/2021 09:03:25 AM,05/01/2021 09:06:43 AM,05/01/2021 09:07:43 AM,05/01/2021 09:09:39 AM,05/01/2021 09:20:30 AM,,,Fire,05/01/2021 09:24:43 AM,400 Block of STOCKTON ST,San Francisco,94108.0,B01,13.0,1324,3,3,3,False,Alarm,1,TRUCK,3.0,1,3,Financial District/South Beach,211210756-T13,POINT (-122.40697588777515 37.78990913469094),8.0',\n",
       " '77,211913213,T16,21081964,Structure Fire,07/10/2021,07/10/2021,07/10/2021 10:03:31 PM,07/10/2021 10:04:57 PM,07/10/2021 10:05:08 PM,07/10/2021 10:05:47 PM,07/10/2021 10:11:00 PM,,,No Merit,07/10/2021 10:12:54 PM,3200 Block of JACKSON ST,San Francisco,94118.0,B04,10.0,4415,3,3,3,False,Alarm,1,TRUCK,7.0,4,2,Presidio Heights,211913213-T16,POINT (-122.4483565047766 37.7907698012898),31.0',\n",
       " '78,210371768,55,21016807,Medical Incident,02/06/2021,02/06/2021,02/06/2021 02:10:05 PM,02/06/2021 02:15:10 PM,02/06/2021 02:15:26 PM,02/06/2021 02:15:31 PM,,,,Cancelled,02/06/2021 02:23:13 PM,1900 Block of LEAVENWORTH ST,San Francisco,94109.0,B01,41.0,1533,3,3,3,True,Potentially Life-Threatening,1,MEDIC,2.0,1,3,Russian Hill,210371768-55,POINT (-122.41742828002296 37.79916843486154),32.0',\n",
       " '79,211913089,E03,21081953,Alarms,07/10/2021,07/10/2021,07/10/2021 09:14:58 PM,07/10/2021 09:16:54 PM,07/10/2021 09:16:58 PM,07/10/2021 09:18:30 PM,07/10/2021 09:20:37 PM,,,Fire,07/10/2021 09:24:36 PM,300 Block of POST ST,San Francisco,94108.0,B01,2.0,1362,3,3,3,True,Alarm,1,ENGINE,1.0,1,3,Financial District/South Beach,211913089-E03,POINT (-122.40757545256476 37.788342097542746),8.0',\n",
       " '80,212911159,E01,21126750,Alarms,10/18/2021,10/18/2021,10/18/2021 11:09:30 AM,10/18/2021 11:10:29 AM,10/18/2021 11:10:58 AM,10/18/2021 11:11:15 AM,10/18/2021 11:13:07 AM,,,Fire,10/18/2021 11:36:49 AM,1000 Block of MARKET ST,San Francisco,94102.0,B03,1.0,1454,3,3,3,True,Alarm,1,ENGINE,1.0,3,6,Tenderloin,212911159-E01,POINT (-122.41105817541383 37.781761594074766),36.0',\n",
       " '81,210371410,E11,21016754,Outside Fire,02/06/2021,02/06/2021,02/06/2021 12:28:22 PM,02/06/2021 12:29:32 PM,02/06/2021 12:29:49 PM,,,,,Fire,02/06/2021 12:31:34 PM,BARTLETT ST/22ND ST,San Francisco,94110.0,B06,7.0,5456,3,3,3,True,Fire,1,ENGINE,2.0,6,9,Mission,210371410-E11,POINT (-122.41985794279206 37.75536572967592),20.0',\n",
       " '82,220153178,T19,22007527,Elevator / Escalator Rescue,01/15/2022,01/15/2022,01/15/2022 11:07:27 PM,01/15/2022 11:09:26 PM,01/15/2022 11:09:55 PM,01/15/2022 11:11:31 PM,01/15/2022 11:13:58 PM,,,Fire,01/15/2022 11:48:33 PM,3200 Block of 20TH AVE,San Francisco,94132.0,B08,19.0,8861,3,3,3,True,Alarm,1,TRUCK,1.0,8,7,Lakeshore,220153178-T19,POINT (-122.47564682932648 37.72854447492464),16.0',\n",
       " '83,220152639,T02,22007450,Alarms,01/15/2022,01/15/2022,01/15/2022 07:27:37 PM,01/15/2022 07:29:43 PM,01/15/2022 07:29:54 PM,01/15/2022 07:31:25 PM,01/15/2022 07:34:08 PM,,,Fire,01/15/2022 07:39:30 PM,1300 Block of COLUMBUS AVE,San Francisco,94133.0,B01,28.0,1525,3,3,3,False,Alarm,1,TRUCK,3.0,1,3,North Beach,220152639-T02,POINT (-122.41853707467516 37.80615159356133),23.0',\n",
       " '84,212902975,B02,21126554,Alarms,10/17/2021,10/17/2021,10/17/2021 08:30:11 PM,10/17/2021 08:32:21 PM,10/17/2021 08:32:38 PM,,,,,Fire,10/17/2021 08:33:39 PM,2100 Block of MISSION ST,San Francisco,94110.0,B02,7.0,5423,3,3,3,False,Alarm,1,CHIEF,3.0,2,9,Mission,212902975-B02,POINT (-122.41933251629071 37.76227854911817),20.0',\n",
       " '85,211911697,B03,21081782,Alarms,07/10/2021,07/10/2021,07/10/2021 01:33:36 PM,07/10/2021 01:34:55 PM,07/10/2021 01:35:01 PM,07/10/2021 01:36:32 PM,07/10/2021 01:40:18 PM,,,Fire,07/10/2021 01:54:59 PM,300 Block of KING ST,San Francisco,94158.0,B03,8.0,2236,3,3,3,False,Alarm,1,CHIEF,3.0,3,6,Mission Bay,211911697-B03,POINT (-122.39499963779085 37.775330392833425),4.0',\n",
       " '86,211911637,RS1,21081775,Structure Fire,07/10/2021,07/10/2021,07/10/2021 01:17:51 PM,07/10/2021 01:18:20 PM,07/10/2021 01:19:02 PM,07/10/2021 01:19:11 PM,07/10/2021 01:23:42 PM,,,Fire,07/10/2021 01:30:28 PM,2100 Block of GROVE ST,San Francisco,94117.0,B05,21.0,4535,3,3,3,False,Alarm,1,RESCUE SQUAD,8.0,5.0,5,Lone Mountain/USF,211911637-RS1,POINT (-122.45198805952201 37.77414471630381),18.0',\n",
       " '87,212902769,B06,21126508,Alarms,10/17/2021,10/17/2021,10/17/2021 07:00:03 PM,10/17/2021 07:01:24 PM,10/17/2021 07:01:28 PM,10/17/2021 07:04:29 PM,,,,Fire,10/17/2021 07:04:50 PM,100 Block of HOLLADAY AVE,San Francisco,94110.0,B06,9.0,5671,3,3,3,False,Alarm,1,CHIEF,4.0,6,9,Bernal Heights,212902769-B06,POINT (-122.40524545964281 37.74692583733291),2.0',\n",
       " '88,221172590,63,22053434,Medical Incident,04/27/2022,04/27/2022,04/27/2022 06:46:51 PM,04/27/2022 06:47:11 PM,04/27/2022 06:47:42 PM,04/27/2022 06:47:48 PM,04/27/2022 06:52:28 PM,,,No Merit,04/27/2022 06:54:28 PM,EDDY ST/POLK ST,San Francisco,94109.0,B02,3.0,3115,E,3,3,True,Potentially Life-Threatening,1,MEDIC,2.0,2,6,Tenderloin,221172590-63,POINT (-122.41918170503415 37.78310139927705),36.0',\n",
       " '89,211910956,T03,21081690,Citizen Assist / Service Call,07/10/2021,07/10/2021,07/10/2021 09:56:35 AM,07/10/2021 09:57:54 AM,07/10/2021 09:58:11 AM,07/10/2021 09:58:53 AM,07/10/2021 10:05:33 AM,,,Fire,07/10/2021 10:11:46 AM,1900 Block of GREEN ST,San Francisco,94123.0,B04,16.0,3354,3,3,3,False,Alarm,1,TRUCK,1.0,4,2,Marina,211910956-T03,POINT (-122.43120415343155 37.79673324841256),13.0',\n",
       " '90,222062398,66,22094923,Other,07/25/2022,07/25/2022,07/25/2022 06:30:01 PM,07/25/2022 06:30:01 PM,07/25/2022 06:30:30 PM,07/25/2022 06:30:40 PM,,,,SFPD,07/25/2022 06:32:26 PM,1400 Block of GUERRERO ST,San Francisco,94110.0,B06,11.0,5612,A,3,3,True,,1,MEDIC,2.0,6,8,Mission,222062398-66,POINT (-122.42265371483472 37.7483830829849),20.0',\n",
       " '91,210362574,B04,21016422,Water Rescue,02/05/2021,02/05/2021,02/05/2021 04:48:07 PM,02/05/2021 04:48:48 PM,02/05/2021 04:49:32 PM,02/05/2021 04:49:38 PM,02/05/2021 04:53:29 PM,,,Fire,02/05/2021 05:02:40 PM,1100 Block of EAST BEACH RD,Presidio,94129.0,B04,51.0,4323,3,3,3,False,Fire,1,CHIEF,2.0,7,2,Presidio,210362574-B04,POINT (-122.44927439966743 37.80613058905715),27.0',\n",
       " '92,220150296,E41,22007144,Outside Fire,01/15/2022,01/14/2022,01/15/2022 03:33:23 AM,01/15/2022 03:33:23 AM,01/15/2022 03:33:33 AM,01/15/2022 03:36:00 AM,,,,Fire,01/15/2022 03:39:47 AM,BUSH ST/LARKIN ST,San Francisco,94109.0,B04,3.0,1636,B,3,3,False,Fire,1,ENGINE,1.0,4,3,Nob Hill,220150296-E41,POINT (-122.41865587358623 37.78890961206933),21.0',\n",
       " '93,210361066,E01,21016205,Alarms,02/05/2021,02/05/2021,02/05/2021 10:01:52 AM,02/05/2021 10:03:18 AM,02/05/2021 10:03:36 AM,02/05/2021 10:03:45 AM,02/05/2021 10:08:44 AM,,,Fire,02/05/2021 10:12:54 AM,200 Block of EDDY ST,San Francisco,94102.0,B03,3.0,1453,3,3,3,True,Alarm,1,ENGINE,1.0,3,6,Tenderloin,210361066-E01,POINT (-122.41178436945442 37.78409103617571),36.0',\n",
       " '94,222060711,B04,22094731,Alarms,07/25/2022,07/25/2022,07/25/2022 09:10:23 AM,07/25/2022 09:12:01 AM,07/25/2022 09:12:42 AM,07/25/2022 09:13:51 AM,07/25/2022 09:22:34 AM,,,Fire,07/25/2022 09:22:37 AM,3500 Block of FILLMORE ST,San Francisco,94123.0,B04,16.0,3554,3,3,3,False,Alarm,1,CHIEF,3.0,4,2,Marina,222060711-B04,POINT (-122.43632612957836 37.801742700702306),13.0',\n",
       " '95,210360819,RA48,21016174,Medical Incident,02/05/2021,02/05/2021,02/05/2021 08:48:56 AM,02/05/2021 08:51:55 AM,02/05/2021 08:54:31 AM,02/05/2021 08:55:17 AM,,,,Cancelled,02/05/2021 08:59:19 AM,CALL BOX: FS YB-BLDG 213,San Francisco,94130.0,B03,48.0,2951,3,3,3,False,Potentially Life-Threatening,1,MEDIC,3.0,None,6,Treasure Island,210360819-RA48,POINT (-122.36513827228829 37.81052072252083),37.0',\n",
       " '96,222060076,E36,22094638,Medical Incident,07/25/2022,07/24/2022,07/25/2022 01:06:41 AM,07/25/2022 01:07:56 AM,07/25/2022 01:08:16 AM,07/25/2022 01:10:54 AM,07/25/2022 01:17:45 AM,,,Cancelled,07/25/2022 01:20:57 AM,8TH ST/MARKET ST,San Francisco,94103.0,B02,36.0,1551,E,E,3,True,Potentially Life-Threatening,1,ENGINE,3.0,2,6,Tenderloin,222060076-E36,POINT (-122.41474122302185 37.77871942885321),36.0',\n",
       " '97,211901745,T07,21081320,Alarms,07/09/2021,07/09/2021,07/09/2021 01:20:54 PM,07/09/2021 01:22:11 PM,07/09/2021 01:22:51 PM,07/09/2021 01:24:47 PM,07/09/2021 01:27:57 PM,,,Fire,07/09/2021 01:30:56 PM,3000 Block of 24TH ST,San Francisco,94110.0,B06,7.0,5527,3,3,3,False,Alarm,1,TRUCK,3.0,6.0,9,Mission,211901745-T07,POINT (-122.41218166781088 37.752614869375535),20.0',\n",
       " '98,222052758,E06,22094614,Outside Fire,07/24/2022,07/24/2022,07/24/2022 11:19:51 PM,07/24/2022 11:21:07 PM,07/24/2022 11:21:13 PM,07/24/2022 11:23:36 PM,07/24/2022 11:25:53 PM,,,Fire,07/24/2022 11:41:52 PM,STEVENSON ST/14TH ST,San Francisco,94103.0,B02,6.0,5215,3,3,3,True,Fire,1,ENGINE,1.0,2,9,Mission,222052758-E06,POINT (-122.42136452244178 37.768190111374565),20.0',\n",
       " '99,211190338,B02,21051047,Alarms,04/29/2021,04/28/2021,04/29/2021 05:41:52 AM,04/29/2021 05:43:30 AM,04/29/2021 05:43:55 AM,04/29/2021 05:46:14 AM,04/29/2021 05:49:04 AM,,,Fire,04/29/2021 05:56:02 AM,1100 Block of MISSION ST,San Francisco,94103.0,B02,1.0,2318,3,3,3,False,Alarm,1,CHIEF,3.0,2,6,South of Market,211190338-B02,POINT (-122.41283433212823 37.777790309424844),34.0',\n",
       " '100,222052579,T16,22094577,Structure Fire,07/24/2022,07/24/2022,07/24/2022 09:39:37 PM,07/24/2022 09:40:36 PM,07/24/2022 09:41:15 PM,07/24/2022 09:42:17 PM,07/24/2022 10:08:10 PM,,,Fire,07/24/2022 10:09:00 PM,1300 Block of GREENWICH ST,San Francisco,94109.0,B01,28.0,3132,3,3,3,False,Alarm,1,TRUCK,10.0,4,2,Russian Hill,222052579-T16,POINT (-122.42189917819778 37.80078321936213),32.0',\n",
       " '101,212893071,E03,21126058,Medical Incident,10/16/2021,10/16/2021,10/16/2021 08:03:52 PM,10/16/2021 08:04:44 PM,10/16/2021 08:04:50 PM,10/16/2021 08:06:08 PM,10/16/2021 08:09:33 PM,,,Against Medical Advice,10/16/2021 08:23:49 PM,100 Block of JONES ST,San Francisco,94102.0,B03,3.0,1456,3,3,3,True,Potentially Life-Threatening,1,ENGINE,1.0,3,6,Tenderloin,212893071-E03,POINT (-122.41224793549443 37.78254740004233),36.0',\n",
       " '102,212892856,E13,21126034,Outside Fire,10/16/2021,10/16/2021,10/16/2021 06:51:48 PM,10/16/2021 06:51:48 PM,10/16/2021 06:55:41 PM,10/16/2021 06:56:39 PM,,,,Other,10/16/2021 07:00:08 PM,BATTERY ST/BUSH ST,San Francisco,94111.0,B01,13.0,1163,3,3,3,True,Fire,1,ENGINE,1.0,1,3,Financial District/South Beach,212892856-E13,POINT (-122.39957203113588 37.791326532641165),8.0',\n",
       " '103,220142079,T05,22006887,Alarms,01/14/2022,01/14/2022,01/14/2022 03:15:10 PM,01/14/2022 03:17:08 PM,01/14/2022 03:17:43 PM,01/14/2022 03:18:32 PM,01/14/2022 03:21:04 PM,,,Fire,01/14/2022 03:38:40 PM,300 Block of FULTON ST,San Francisco,94102.0,B02,36.0,3264,3,3,3,False,Alarm,1,TRUCK,1.0,2,5,Hayes Valley,220142079-T05,POINT (-122.42252070216841 37.778797887284746),9.0',\n",
       " '104,212892503,E06,21125982,Fuel Spill,10/16/2021,10/16/2021,10/16/2021 05:06:29 PM,10/16/2021 05:09:43 PM,10/16/2021 05:09:56 PM,10/16/2021 05:11:34 PM,10/16/2021 05:14:01 PM,,,SFPD,10/16/2021 05:27:07 PM,15TH ST/GUERRERO ST,San Francisco,94103.0,B02,6.0,5226,3,3,3,True,Alarm,1,ENGINE,1.0,2,8,Mission,212892503-E06,POINT (-122.42425811345936 37.76640576818064),20.0',\n",
       " '105,211900275,T14,21081159,Alarms,07/09/2021,07/08/2021,07/09/2021 03:47:03 AM,07/09/2021 03:49:32 AM,07/09/2021 03:49:42 AM,07/09/2021 03:52:08 AM,07/09/2021 03:54:23 AM,,,Fire,07/09/2021 04:10:00 AM,700 Block of 29TH AVE,San Francisco,94121.0,B07,14.0,7225,3,3,3,False,Alarm,1,TRUCK,1.0,7,1,Outer Richmond,211900275-T14,POINT (-122.48874256854494 37.77517080013074),29.0',\n",
       " '106,212892351,E06,21125963,Structure Fire,10/16/2021,10/16/2021,10/16/2021 04:22:50 PM,10/16/2021 04:24:27 PM,10/16/2021 04:25:16 PM,10/16/2021 04:26:19 PM,10/16/2021 04:29:30 PM,,,Fire,10/16/2021 04:30:58 PM,1800 Block of HAIGHT ST,San Francisco,94117.0,B05,12.0,4545,3,3,3,True,Fire,1,ENGINE,6.0,5,5,Haight Ashbury,212892351-E06,POINT (-122.45269031019015 37.76921771786161),3.0',\n",
       " '107,220141406,E40,22006793,Structure Fire,01/14/2022,01/14/2022,01/14/2022 12:19:25 PM,01/14/2022 12:20:18 PM,01/14/2022 12:20:56 PM,01/14/2022 12:21:25 PM,01/14/2022 12:26:14 PM,,,Fire,01/14/2022 12:29:19 PM,200 Block of JUANITA WAY,San Francisco,94127.0,B09,39.0,8672,3,3,3,False,Fire,1,ENGINE,2.0,9,7,West of Twin Peaks,220141406-E40,POINT (-122.45635020942346 37.740791022501796),41.0',\n",
       " '108,222051412,T11,22094435,Alarms,07/24/2022,07/24/2022,07/24/2022 01:35:07 PM,07/24/2022 01:37:38 PM,07/24/2022 01:37:45 PM,07/24/2022 01:39:08 PM,07/24/2022 01:41:05 PM,,,Fire,07/24/2022 01:57:59 PM,1500 Block of VALENCIA ST,San Francisco,94110.0,B06,11.0,5611,3,3,3,False,Alarm,1,TRUCK,2.0,6,9,Bernal Heights,222051412-T11,POINT (-122.42027356008818 37.74734648943753),2.0',\n",
       " '109,212891786,AM116,21125898,Medical Incident,10/16/2021,10/16/2021,10/16/2021 01:56:10 PM,10/16/2021 01:57:18 PM,10/16/2021 01:59:45 PM,10/16/2021 02:00:27 PM,,,,No Merit,10/16/2021 02:08:03 PM,400 Block of HICKORY ST,San Francisco,94102.0,B02,36.0,3414,2,3,3,False,Potentially Life-Threatening,1,PRIVATE,2.0,2,5,Hayes Valley,212891786-AM116,POINT (-122.42679430915369 37.77490884332146),9.0',\n",
       " '110,211893262,T14,21081072,Alarms,07/08/2021,07/08/2021,07/08/2021 09:24:51 PM,07/08/2021 09:26:32 PM,07/08/2021 09:27:09 PM,07/08/2021 09:28:27 PM,07/08/2021 09:29:39 PM,,,Fire,07/08/2021 09:44:23 PM,3300 Block of ANZA ST,San Francisco,94121.0,B07,14.0,7176,3,3,3,False,Alarm,1,TRUCK,1.0,7,1,Outer Richmond,211893262-T14,POINT (-122.48405637315723 37.77813523393515),29.0',\n",
       " '111,211181889,E20,21050806,Electrical Hazard,04/28/2021,04/28/2021,04/28/2021 02:18:26 PM,04/28/2021 02:18:26 PM,04/28/2021 02:18:26 PM,04/28/2021 02:18:26 PM,04/28/2021 02:18:26 PM,,,Fire,04/28/2021 02:24:27 PM,SANCHEZ ST/CLIPPER ST,San Francisco,94114.0,B06,11.0,5537,3,3,3,True,Alarm,1,ENGINE,1.0,6,8,Noe Valley,211181889-E20,POINT (-122.4294227632914 37.74915785394729),22.0',\n",
       " '112,211892820,RC3,21081016,Structure Fire,07/08/2021,07/08/2021,07/08/2021 06:55:39 PM,07/08/2021 06:56:16 PM,07/08/2021 07:01:36 PM,,,,,Fire,07/08/2021 07:05:20 PM,2700 Block of 16TH ST,San Francisco,94110.0,B02,7.0,5237,3,3,3,True,Fire,1,RESCUE CAPTAIN,11.0,2,9,Mission,211892820-RC3,POINT (-122.4142015733266 37.76532636126086),20.0',\n",
       " '113,212891202,T04,21125817,Alarms,10/16/2021,10/16/2021,10/16/2021 11:15:09 AM,10/16/2021 11:15:19 AM,10/16/2021 11:15:37 AM,10/16/2021 11:16:28 AM,10/16/2021 11:19:48 AM,,,Fire,10/16/2021 11:33:36 AM,400 Block of MISSOURI ST,San Francisco,94107.0,B10,37.0,0252,3,3,3,False,Alarm,1,TRUCK,1.0,10,10,Potrero Hill,212891202-T04,POINT (-122.39627552031503 37.760667178808404),26.0',\n",
       " '114,211181275,E09,21050737,Outside Fire,04/28/2021,04/28/2021,04/28/2021 11:28:57 AM,04/28/2021 11:32:40 AM,04/28/2021 11:32:45 AM,04/28/2021 11:32:55 AM,04/28/2021 11:35:55 AM,,,Fire,04/28/2021 11:36:14 AM,2200 Block of JERROLD AVE,San Francisco,94124.0,B10,9.0,6411,3,3,3,True,Fire,1,ENGINE,1.0,10,10,Bayview Hunters Point,211181275-E09,POINT (-122.40120923439353 37.74542335471759),1.0',\n",
       " '115,221153256,T11,22052653,Structure Fire,04/25/2022,04/25/2022,04/25/2022 11:31:27 PM,04/25/2022 11:32:55 PM,04/25/2022 11:33:13 PM,04/25/2022 11:34:31 PM,04/25/2022 11:41:55 PM,,,Fire,04/25/2022 11:44:40 PM,900 Block of ALABAMA ST,San Francisco,94110.0,B06,7.0,0545,3,3,3,False,Alarm,1,TRUCK,7.0,6,9,Mission,221153256-T11,POINT (-122.41141748084985 37.756682104765545),20.0',\n",
       " '116,212890870,E04,21125767,Alarms,10/16/2021,10/16/2021,10/16/2021 09:18:55 AM,10/16/2021 09:20:02 AM,10/16/2021 09:20:05 AM,10/16/2021 09:21:11 AM,10/16/2021 09:23:41 AM,,,Fire,10/16/2021 09:28:33 AM,1800 Block of 4TH ST,San Francisco,94158.0,B03,4.0,2436,3,3,3,False,Alarm,1,ENGINE,1.0,3,6,Potrero Hill,212890870-E04,POINT (-122.39060294270423 37.76549653815226),26.0',\n",
       " '117,221153030,E36,22052630,Alarms,04/25/2022,04/25/2022,04/25/2022 09:49:31 PM,04/25/2022 09:50:59 PM,04/25/2022 09:51:10 PM,04/25/2022 09:52:30 PM,04/25/2022 09:55:11 PM,,,Fire,04/25/2022 10:02:25 PM,200 Block of MCALLISTER ST,San Francisco,94102.0,B02,36.0,1553,3,3,3,True,Alarm,1,ENGINE,2.0,2,6,Tenderloin,221153030-E36,POINT (-122.41656225429239 37.78061684466662),36.0',\n",
       " '118,211891587,T02,21080872,Alarms,07/08/2021,07/08/2021,07/08/2021 12:55:02 PM,07/08/2021 12:56:48 PM,07/08/2021 12:57:09 PM,,,,,Fire,07/08/2021 12:59:23 PM,2700 Block of POLK ST,San Francisco,94109.0,B01,28.0,3133,3,3,3,False,Alarm,1,TRUCK,3.0,1,2,Russian Hill,211891587-T02,POINT (-122.42306317378636 37.80201530035625),32.0',\n",
       " '119,211180439,T07,21050630,Alarms,04/28/2021,04/27/2021,04/28/2021 06:36:40 AM,04/28/2021 06:38:43 AM,04/28/2021 06:39:03 AM,04/28/2021 06:41:55 AM,04/28/2021 06:43:52 AM,,,Fire,04/28/2021 06:48:24 AM,2000 Block of MISSION ST,San Francisco,94110.0,B02,7.0,5236,3,3,3,False,Alarm,1,TRUCK,1.0,2,9,Mission,211180439-T07,POINT (-122.41965984240765 37.76423611894494),20.0',\n",
       " '120,212890424,E05,21125704,Structure Fire,10/16/2021,10/15/2021,10/16/2021 04:35:36 AM,10/16/2021 04:35:36 AM,10/16/2021 04:35:49 AM,10/16/2021 04:37:59 AM,10/16/2021 04:40:38 AM,,,Fire,10/16/2021 04:40:46 AM,BUCHANAN ST/FELL ST,San Francisco,94102.0,B02,5.0,3423,3,3,3,True,Alarm,1,ENGINE,1.0,2,5,Hayes Valley,212890424-E05,POINT (-122.42772404660734 37.77531730827167),9.0',\n",
       " '121,211172560,B08,21050452,Structure Fire,04/27/2021,04/27/2021,04/27/2021 05:19:38 PM,04/27/2021 05:20:40 PM,04/27/2021 05:20:57 PM,04/27/2021 05:22:03 PM,04/27/2021 05:25:39 PM,,,Fire,04/27/2021 05:39:40 PM,2200 Block of 31ST AV,San Francisco,94116.0,B08,18.0,7531,3,3,3,False,Fire,1,CHIEF,3.0,8.0,4,Sunset/Parkside,211172560-B08,POINT (-122.48874204119383 37.74528191454723),35.0',\n",
       " '122,222041855,B07,22094081,Other,07/23/2022,07/23/2022,07/23/2022 03:56:22 PM,07/23/2022 03:57:37 PM,07/23/2022 03:58:20 PM,07/23/2022 03:59:21 PM,07/23/2022 04:27:19 PM,,,Code 2 Transport,07/23/2022 05:14:02 PM,CALL BOX: US HWY 101 NB OR SB IN PRESIDIO,San Francisco,94129.0,B07,51.0,4632,3,3,3,False,Fire,1,CHIEF,12.0,7,2,Presidio,222041855-B07,POINT (-122.4747166209797 37.806658198958665),27.0',\n",
       " '123,211172010,E44,21050390,Alarms,04/27/2021,04/27/2021,04/27/2021 02:56:23 PM,04/27/2021 02:58:11 PM,04/27/2021 02:59:23 PM,04/27/2021 03:00:20 PM,04/27/2021 03:04:43 PM,,,Fire,04/27/2021 03:22:35 PM,2600 Block of ARELIOUS WALKER DR,San Francisco,94124.0,B10,17.0,6615,3,3,3,False,Alarm,1,ENGINE,2.0,10,10,Bayview Hunters Point,211172010-E44,POINT (-122.38465573055319 37.719059825603),1.0',\n",
       " '124,211883009,T05,21080633,Alarms,07/07/2021,07/07/2021,07/07/2021 08:14:24 PM,07/07/2021 08:15:11 PM,07/07/2021 08:15:41 PM,07/07/2021 08:16:46 PM,07/07/2021 08:18:51 PM,,,Fire,07/07/2021 08:41:19 PM,1400 Block of SCOTT ST,San Francisco,94115.0,B04,5.0,0413,3,3,3,False,Alarm,1,TRUCK,2.0,4,5,Western Addition,211883009-T05,POINT (-122.43767237409692 37.78319902011865),39.0',\n",
       " '125,212882229,T11,21125464,Alarms,10/15/2021,10/15/2021,10/15/2021 03:48:26 PM,10/15/2021 03:50:05 PM,10/15/2021 03:50:10 PM,10/15/2021 03:51:52 PM,10/15/2021 03:53:45 PM,,,Fire,10/15/2021 03:55:54 PM,400 Block of JERSEY ST,San Francisco,94114.0,B06,11.0,5541,3,3,3,False,Alarm,1,TRUCK,2.0,6,8,Noe Valley,212882229-T11,POINT (-122.43511975040893 37.7504825133031),22.0',\n",
       " '126,220131082,T16,22006263,Other,01/13/2022,01/13/2022,01/13/2022 10:40:34 AM,01/13/2022 10:40:34 AM,01/13/2022 10:42:02 AM,01/13/2022 10:43:46 AM,,,,Fire,01/13/2022 10:48:22 AM,2100 Block of BRODERICK ST,San Francisco,94115.0,B04,10.0,4232,B,3,3,False,Alarm,1,TRUCK,2.0,4,2,Pacific Heights,220131082-T16,POINT (-122.4424970533155 37.790109942255896),30.0',\n",
       " '127,221142913,E25,22052189,Outside Fire,04/24/2022,04/24/2022,04/24/2022 10:40:43 PM,04/24/2022 10:42:07 PM,04/24/2022 10:42:19 PM,04/24/2022 10:43:31 PM,04/24/2022 10:45:43 PM,,,Fire,04/24/2022 10:55:47 PM,25TH ST/PENNSYLVANIA AV,San Francisco,94107.0,B10,25.0,2612,3,3,3,True,Fire,1,ENGINE,1.0,10,10,Bayview Hunters Point,221142913-E25,POINT (-122.39263938656454 37.75254468464408),1.0',\n",
       " '128,221141785,B04,22052022,Alarms,04/24/2022,04/24/2022,04/24/2022 03:06:36 PM,04/24/2022 03:09:39 PM,04/24/2022 03:09:52 PM,04/24/2022 03:10:34 PM,04/24/2022 03:12:52 PM,,,Fire,04/24/2022 03:18:09 PM,2150-2180 POST ST,San Francisco,94115.0,B04,10.0,4131,3,3,3,False,Alarm,1,CHIEF,1.0,4.0,5,Japantown,221141785-B04,POINT (-122.43722055777506 37.78468579380968),15.0',\n",
       " '129,222033145,B01,22093822,Alarms,07/22/2022,07/22/2022,07/22/2022 11:12:24 PM,07/22/2022 11:14:29 PM,07/22/2022 11:14:35 PM,07/22/2022 11:16:14 PM,07/22/2022 11:19:25 PM,,,Fire,07/22/2022 11:29:51 PM,1200 Block of FILBERT ST,San Francisco,94109.0,B01,41.0,1626,3,3,3,False,Alarm,1,CHIEF,2.0,1,2,Russian Hill,222033145-B01,POINT (-122.42005055921358 37.7999745038155),32.0',\n",
       " '130,211163026,E07,21050083,Structure Fire,04/26/2021,04/26/2021,04/26/2021 08:51:49 PM,04/26/2021 08:51:49 PM,04/26/2021 08:51:55 PM,04/26/2021 08:52:33 PM,04/26/2021 08:54:29 PM,,,Fire,04/26/2021 08:54:50 PM,23RD ST/TREAT AV,San Francisco,94110.0,B06,7.0,5477,3,3,3,True,Alarm,1,ENGINE,1.0,6,9,Mission,211163026-E07,POINT (-122.41314089116999 37.75416458139081),20.0',\n",
       " '131,221132830,T06,22051715,Structure Fire,04/23/2022,04/23/2022,04/23/2022 08:56:37 PM,04/23/2022 08:56:37 PM,04/23/2022 08:56:47 PM,04/23/2022 08:58:29 PM,,,,Fire,04/23/2022 08:59:37 PM,FILLMORE ST/FELL ST,San Francisco,94117.0,B05,5.0,3532,3,3,3,False,Alarm,1,TRUCK,2.0,2,5,Hayes Valley,221132830-T06,POINT (-122.43101153946581 37.77490283047128),9.0',\n",
       " '132,211160679,B03,21049807,Alarms,04/26/2021,04/26/2021,04/26/2021 08:45:29 AM,04/26/2021 08:47:03 AM,04/26/2021 08:47:09 AM,04/26/2021 08:49:51 AM,,,,Fire,04/26/2021 08:52:53 AM,1000 Block of HOWARD ST,San Francisco,94103.0,B03,1.0,2252,3,3,3,False,Alarm,1,CHIEF,2.0,3,6,South of Market,211160679-B03,POINT (-122.40737643830516 37.779489776176206),34.0',\n",
       " '133,220121678,E25,22005836,Other,01/12/2022,01/12/2022,01/12/2022 01:15:40 PM,01/12/2022 01:17:14 PM,01/12/2022 01:17:26 PM,01/12/2022 01:18:34 PM,01/12/2022 01:22:41 PM,,,Fire,01/12/2022 01:32:02 PM,1200 Block of 25TH ST,San Francisco,94107.0,B10,25.0,2612,3,3,3,False,Fire,1,ENGINE,1.0,10,10,Potrero Hill,220121678-E25,POINT (-122.39118379125864 37.752687852425105),26.0',\n",
       " '134,211152202,B01,21049635,Alarms,04/25/2021,04/25/2021,04/25/2021 06:27:16 PM,04/25/2021 06:28:36 PM,04/25/2021 06:28:47 PM,04/25/2021 06:29:51 PM,,,,Fire,04/25/2021 06:33:56 PM,800 Block of POST ST,San Francisco,94109.0,B04,3.0,1543,3,3,3,False,Alarm,1,CHIEF,3.0,4,6,Tenderloin,211152202-B01,POINT (-122.41580612874503 37.78729529285942),36.0',\n",
       " '135,211870109,T01,21079921,Alarms,07/06/2021,07/05/2021,07/06/2021 01:13:36 AM,07/06/2021 01:16:25 AM,07/06/2021 01:16:40 AM,07/06/2021 01:19:09 AM,,,,Fire,07/06/2021 01:23:51 AM,0 Block of 7TH ST,San Francisco,94103.0,B02,1.0,2315,3,3,3,False,Alarm,1,TRUCK,3.0,3,6,South of Market,211870109-T01,POINT (-122.41138596259128 37.77964754313431),34.0',\n",
       " '136,222030532,T10,22093423,Alarms,07/22/2022,07/21/2022,07/22/2022 07:27:12 AM,07/22/2022 07:28:52 AM,07/22/2022 07:29:07 AM,07/22/2022 07:30:32 AM,07/22/2022 07:33:24 AM,,,Fire,07/22/2022 07:37:01 AM,400 Block of ARGUELLO BLVD,San Francisco,94118.0,B07,31.0,0711,3,3,3,False,Alarm,1,TRUCK,1.0,7,2,Presidio Heights,222030532-T10,POINT (-122.45885943719175 37.782226010807726),31.0',\n",
       " '137,221130712,B07,22051441,Other,04/23/2022,04/23/2022,04/23/2022 08:59:29 AM,04/23/2022 08:59:59 AM,04/23/2022 09:00:18 AM,04/23/2022 09:02:04 AM,,,,Fire,04/23/2022 09:23:04 AM,CALL BOX: US HWY 101 NB OR SB IN PRESIDIO,San Francisco,94129.0,B99,51.0,4632,3,3,3,False,Fire,1,CHIEF,6.0,7,2,Presidio,221130712-B07,POINT (-122.4747166209797 37.806658198958665),27.0',\n",
       " '138,222030021,64,22093334,Medical Incident,07/22/2022,07/21/2022,07/22/2022 12:13:19 AM,07/22/2022 12:16:00 AM,07/22/2022 12:16:32 AM,07/22/2022 12:16:40 AM,07/22/2022 12:36:04 AM,07/22/2022 01:02:48 AM,07/22/2022 01:13:50 AM,Code 2 Transport,07/22/2022 02:04:02 AM,800 Block of VALLEJO ST,San Francisco,94133.0,B01,2.0,1421,2,2,2,True,Non Life-threatening,1,MEDIC,1.0,1,3,Chinatown,222030021-64,POINT (-122.4112651234856 37.79821473240494),6.0',\n",
       " '139,222023230,B05,22093306,High Angle Rescue,07/21/2022,07/21/2022,07/21/2022 10:16:08 PM,07/21/2022 10:20:04 PM,07/21/2022 10:20:29 PM,07/21/2022 10:22:00 PM,07/21/2022 10:27:12 PM,,,Fire,07/21/2022 10:48:02 PM,0 Block of BOWL DR,San Francisco,94118.0,B07,22.0,7744,3,3,3,False,Fire,1,CHIEF,6.0,7.0,7,Golden Gate Park,222023230-B05,POINT (-122.46668281964527 37.7719852376414),12.0',\n",
       " '140,211862605,E07,21079789,Medical Incident,07/05/2021,07/05/2021,07/05/2021 05:19:43 PM,07/05/2021 05:24:46 PM,07/05/2021 05:25:03 PM,07/05/2021 05:26:22 PM,07/05/2021 05:29:15 PM,,,Code 2 Transport,07/05/2021 05:47:27 PM,500 Block of VALENCIA ST,San Francisco,94103.0,B02,7.0,5247,3,2,2,True,Non Life-threatening,1,ENGINE,1.0,2,9,Mission,211862605-E07,POINT (-122.42173999514011 37.76411273839148),20.0',\n",
       " '141,221130242,T08,22051363,Alarms,04/23/2022,04/22/2022,04/23/2022 02:47:47 AM,04/23/2022 02:49:37 AM,04/23/2022 02:49:58 AM,04/23/2022 02:52:17 AM,04/23/2022 02:54:40 AM,,,Fire,04/23/2022 03:02:41 AM,800 Block of BRYANT ST,San Francisco,94103.0,B03,8.0,2255,3,3,3,False,Alarm,1,TRUCK,2.0,3,6,South of Market,221130242-T08,POINT (-122.40330713303119 37.7753428666816),34.0',\n",
       " '142,222023055,88,22093283,Medical Incident,07/21/2022,07/21/2022,07/21/2022 09:07:06 PM,07/21/2022 09:07:06 PM,07/21/2022 09:07:14 PM,07/21/2022 09:07:25 PM,,,,SFPD,07/21/2022 09:19:46 PM,1200 Block of 45TH AVE,San Francisco,94122.0,B08,23.0,7654,A,2,2,True,Non Life-threatening,1,MEDIC,1.0,8,4,Sunset/Parkside,222023055-88,POINT (-122.50512297104979 37.763270375769196),35.0',\n",
       " '143,212862751,B05,21124569,Alarms,10/13/2021,10/13/2021,10/13/2021 06:04:13 PM,10/13/2021 06:05:52 PM,10/13/2021 06:06:01 PM,10/13/2021 06:06:57 PM,,,,Fire,10/13/2021 06:11:00 PM,3400 Block of WASHINGTON ST,San Francisco,94118.0,B04,10.0,4423,3,3,3,False,Alarm,1,CHIEF,3.0,4,2,Presidio Heights,212862751-B05,POINT (-122.44984436634563 37.78967637831608),31.0',\n",
       " '144,211150565,T16,21049429,Structure Fire,04/25/2021,04/24/2021,04/25/2021 07:41:14 AM,04/25/2021 07:41:39 AM,04/25/2021 07:41:51 AM,04/25/2021 07:43:23 AM,,,,Fire,04/25/2021 09:01:12 AM,1900 Block of LOMBARD ST,San Francisco,94123.0,B04,16.0,3461,3,3,3,False,Fire,1,TRUCK,13.0,4,2,Marina,211150565-T16,POINT (-122.43355921550034 37.80003951001784),13.0',\n",
       " '145,212862641,T01,21124556,Alarms,10/13/2021,10/13/2021,10/13/2021 05:31:59 PM,10/13/2021 05:33:15 PM,10/13/2021 05:33:20 PM,,,,,Fire,10/13/2021 05:38:33 PM,1100 Block of HOWARD ST,San Francisco,94103.0,B03,1.0,2314,3,3,3,False,Alarm,1,TRUCK,2.0,2,6,South of Market,212862641-T01,POINT (-122.40960598233524 37.777726341471485),34.0',\n",
       " '146,220112731,E07,22005486,Alarms,01/11/2022,01/11/2022,01/11/2022 06:12:20 PM,01/11/2022 06:16:10 PM,01/11/2022 06:16:18 PM,01/11/2022 06:18:07 PM,01/11/2022 06:20:26 PM,,,Fire,01/11/2022 06:38:35 PM,0 Block of OAKWOOD ST,San Francisco,94110.0,B02,7.0,5422,3,3,3,True,Alarm,1,ENGINE,1.0,6,8,Mission,220112731-E07,POINT (-122.42501298892726 37.760687940674416),20.0',\n",
       " '147,222022589,B02,22093219,Alarms,07/21/2022,07/21/2022,07/21/2022 06:07:25 PM,07/21/2022 06:08:43 PM,07/21/2022 06:09:51 PM,07/21/2022 06:09:51 PM,07/21/2022 06:13:28 PM,,,Fire,07/21/2022 06:25:19 PM,1000 Block of POTRERO AVE,San Francisco,94110.0,B10,37.0,2552,3,3,3,False,Alarm,1,CHIEF,1.0,10,10,Potrero Hill,222022589-B02,POINT (-122.40654101431957 37.756508001321855),20.0',\n",
       " '148,221122156,T01,22051171,Elevator / Escalator Rescue,04/22/2022,04/22/2022,04/22/2022 03:38:14 PM,04/22/2022 03:40:06 PM,04/22/2022 03:40:10 PM,04/22/2022 03:43:31 PM,04/22/2022 03:46:12 PM,,,Fire,04/22/2022 04:12:07 PM,100 Block of TAYLOR ST,San Francisco,94102.0,B03,3.0,1453,3,3,3,False,Alarm,1,TRUCK,1.0,3,6,Tenderloin,221122156-T01,POINT (-122.41092656213192 37.78366898472874),36.0',\n",
       " '149,211861077,55,21079623,Medical Incident,07/05/2021,07/05/2021,07/05/2021 09:21:42 AM,07/05/2021 09:22:53 AM,07/05/2021 09:23:06 AM,07/05/2021 09:23:13 AM,,,,Cancelled,07/05/2021 09:40:40 AM,800 Block of HAYES ST,San Francisco,94117.0,B02,5.0,3522,2,2,2,True,Non Life-threatening,1,MEDIC,1.0,2,5,Hayes Valley,211861077-55,POINT (-122.43038732318094 37.77599354549776),9.0',\n",
       " '150,212861829,B02,21124453,Alarms,10/13/2021,10/13/2021,10/13/2021 01:51:31 PM,10/13/2021 01:52:42 PM,10/13/2021 01:52:48 PM,10/13/2021 01:54:01 PM,10/13/2021 01:57:36 PM,,,Fire,10/13/2021 02:06:54 PM,600 Block of ELLIS ST,San Francisco,94109.0,B02,3.0,1555,3,3,3,False,Alarm,1,CHIEF,3.0,2,6,Tenderloin,212861829-B02,POINT (-122.41687802842209 37.784288091921894),36.0',\n",
       " '151,211142792,E16,21049293,Electrical Hazard,04/24/2021,04/24/2021,04/24/2021 08:12:43 PM,04/24/2021 08:15:10 PM,04/24/2021 08:16:59 PM,04/24/2021 08:17:17 PM,04/24/2021 08:17:21 PM,,,Fire,04/24/2021 08:17:54 PM,GREENWICH ST/FILLMORE ST,San Francisco,94123.0,B04,16.0,3553,3,3,3,True,Alarm,1,ENGINE,1.0,4,2,Marina,211142792-E16,POINT (-122.43586632130473 37.798951849160765),13.0',\n",
       " '152,212861571,B04,21124417,Alarms,10/13/2021,10/13/2021,10/13/2021 12:31:21 PM,10/13/2021 12:32:54 PM,10/13/2021 12:33:37 PM,10/13/2021 12:34:40 PM,10/13/2021 12:40:53 PM,,,Fire,10/13/2021 12:54:40 PM,2400 Block of FRANCISCO ST,San Francisco,94123.0,B04,16.0,4222,3,3,3,False,Alarm,1,CHIEF,3.0,4.0,2,Marina,212861571-B04,POINT (-122.44552631533793 37.80059111385945),13.0',\n",
       " '153,222021728,70,22093090,Structure Fire,07/21/2022,07/21/2022,07/21/2022 01:52:33 PM,07/21/2022 01:53:00 PM,07/21/2022 01:53:30 PM,07/21/2022 01:53:34 PM,,,,Fire,07/21/2022 02:01:16 PM,900 Block of INNES AVE,San Francisco,94124.0,B10,17.0,6632,3,3,3,True,Alarm,1,MEDIC,9.0,10,10,Bayview Hunters Point,222021728-70,POINT (-122.3771031104594 37.73282768655901),1.0',\n",
       " '154,211860151,B01,21079504,Alarms,07/05/2021,07/04/2021,07/05/2021 12:39:45 AM,07/05/2021 12:41:33 AM,07/05/2021 12:41:42 AM,07/05/2021 12:44:55 AM,,,,Fire,07/05/2021 12:48:50 AM,700 Block of HARRISON ST,San Francisco,94107.0,B03,1.0,2216,3,3,3,False,Alarm,1,CHIEF,3.0,3,6,South of Market,211860151-B01,POINT (-122.39902749500412 37.7813340573866),34.0',\n",
       " '155,220110979,KM115,22005237,Medical Incident,01/11/2022,01/11/2022,01/11/2022 09:57:48 AM,01/11/2022 09:59:43 AM,01/11/2022 09:59:56 AM,01/11/2022 10:00:43 AM,01/11/2022 10:05:54 AM,01/11/2022 10:32:37 AM,01/11/2022 10:45:37 AM,Code 2 Transport,01/11/2022 11:29:22 AM,2100 Block of SCOTT ST,San Francisco,94115.0,B04,38.0,3466,3,3,3,False,Potentially Life-Threatening,1,PRIVATE,1.0,4,2,Pacific Heights,220110979-KM115,POINT (-122.43898152029435 37.789661957559915),30.0',\n",
       " '156,211853408,T15,21079420,Structure Fire,07/04/2021,07/04/2021,07/04/2021 09:59:01 PM,07/04/2021 09:59:45 PM,07/04/2021 10:00:12 PM,07/04/2021 10:01:54 PM,,,,Fire,07/04/2021 10:04:39 PM,4000 Block of MISSION ST,San Francisco,94112.0,B06,32.0,5633,3,3,3,False,Alarm,1,TRUCK,7.0,6,9,Bernal Heights,211853408-T15,POINT (-122.42779351471374 37.732174584535564),2.0',\n",
       " '157,222020415,T09,22092912,Citizen Assist / Service Call,07/21/2022,07/20/2022,07/21/2022 06:16:17 AM,07/21/2022 06:17:35 AM,07/21/2022 06:18:02 AM,07/21/2022 06:20:44 AM,07/21/2022 06:27:17 AM,,,Fire,07/21/2022 06:29:47 AM,100 Block of BANKS ST,San Francisco,94110.0,B10,32.0,5727,2,2,2,False,Alarm,1,TRUCK,1.0,10.0,9,Bernal Heights,222020415-T09,POINT (-122.4126349024096 37.74084918415007),2.0',\n",
       " '158,211140740,T17,21049048,Citizen Assist / Service Call,04/24/2021,04/24/2021,04/24/2021 08:29:30 AM,04/24/2021 08:30:54 AM,04/24/2021 08:31:01 AM,04/24/2021 08:32:47 AM,04/24/2021 08:40:20 AM,,,Fire,04/24/2021 08:44:15 AM,1700 Block of NEWCOMB AVE,San Francisco,94124.0,B10,17.0,6515,2,2,2,False,Alarm,1,TRUCK,1.0,10,10,Bayview Hunters Point,211140740-T17,POINT (-122.39254543260644 37.73686412091329),1.0',\n",
       " '159,220103457,T02,22005102,Alarms,01/10/2022,01/10/2022,01/10/2022 11:37:20 PM,01/10/2022 11:39:13 PM,01/10/2022 11:39:21 PM,01/10/2022 11:40:24 PM,01/10/2022 11:43:41 PM,,,Fire,01/10/2022 11:51:07 PM,1200 Block of JACKSON ST,San Francisco,94109.0,B01,41.0,1535,3,3,3,False,Alarm,1,TRUCK,2.0,1,3,Nob Hill,220103457-T02,POINT (-122.41563816692766 37.79482849806998),21.0',\n",
       " '160,211140067,B01,21048945,Structure Fire,04/24/2021,04/23/2021,04/24/2021 12:37:48 AM,04/24/2021 12:39:18 AM,04/24/2021 12:39:49 AM,04/24/2021 12:41:25 AM,04/24/2021 12:45:01 AM,,,Fire,04/24/2021 12:48:22 AM,200 Block of EDDY ST,San Francisco,94102.0,B03,3.0,1453,3,3,3,False,Alarm,1,CHIEF,7.0,3,6,Tenderloin,211140067-B01,POINT (-122.41176253071582 37.78398255874931),36.0',\n",
       " '161,222012989,E42,22092800,Outside Fire,07/20/2022,07/20/2022,07/20/2022 08:50:42 PM,07/20/2022 08:51:36 PM,07/20/2022 08:52:51 PM,07/20/2022 08:53:57 PM,07/20/2022 08:56:58 PM,,,Fire,07/20/2022 08:59:51 PM,WOOLSEY ST/BOWDOIN ST,San Francisco,94134.0,B10,42.0,6331,3,3,3,True,Fire,1,ENGINE,1.0,9,9,Portola,222012989-E42,POINT (-122.40951468690183 37.723430350404165),25.0',\n",
       " '162,212851348,T04,21123948,Alarms,10/12/2021,10/12/2021,10/12/2021 11:32:31 AM,10/12/2021 11:33:51 AM,10/12/2021 11:33:59 AM,10/12/2021 11:34:12 AM,10/12/2021 11:37:12 AM,,,Fire,10/12/2021 11:42:08 AM,500 Block of INDIANA ST,San Francisco,94107.0,B03,4.0,2436,3,3,3,False,Alarm,1,TRUCK,1.0,3,10,Potrero Hill,212851348-T04,POINT (-122.39172830074102 37.76286357433099),26.0',\n",
       " '163,211131421,T18,21048687,Alarms,04/23/2021,04/23/2021,04/23/2021 12:26:25 PM,04/23/2021 12:28:23 PM,04/23/2021 12:29:07 PM,04/23/2021 12:31:31 PM,,,,Fire,04/23/2021 12:33:42 PM,3100 Block of ORTEGA ST,San Francisco,94116.0,B08,18.0,7623,3,3,3,False,Alarm,1,TRUCK,3.0,8,4,Sunset/Parkside,211131421-T18,POINT (-122.49723224795656 37.75139637306038),35.0',\n",
       " '164,211843055,E13,21078990,Alarms,07/03/2021,07/03/2021,07/03/2021 08:52:18 PM,07/03/2021 08:53:32 PM,07/03/2021 08:53:41 PM,07/03/2021 08:55:13 PM,07/03/2021 08:56:51 PM,,,Fire,07/03/2021 09:03:48 PM,100 Block of BUSH ST,San Francisco,94104.0,B01,13.0,1163,3,3,3,True,Alarm,1,ENGINE,1.0,1,3,Financial District/South Beach,211843055-E13,POINT (-122.40016900228825 37.79130608586201),8.0',\n",
       " '165,221101857,T03,22050238,Alarms,04/20/2022,04/20/2022,04/20/2022 01:56:16 PM,04/20/2022 01:56:55 PM,04/20/2022 01:57:02 PM,04/20/2022 01:59:25 PM,04/20/2022 02:01:40 PM,,,Fire,04/20/2022 02:05:19 PM,100 Block of LARKIN ST,San Francisco,94102.0,B02,36.0,1647,3,3,3,False,Alarm,1,TRUCK,2.0,2,6,Tenderloin,221101857-T03,POINT (-122.41660589429564 37.77912986697991),36.0',\n",
       " '166,222003183,B08,22092426,Alarms,07/19/2022,07/19/2022,07/19/2022 10:11:16 PM,07/19/2022 10:12:52 PM,07/19/2022 10:13:05 PM,07/19/2022 10:15:05 PM,07/19/2022 10:20:08 PM,,,Fire,07/19/2022 10:23:03 PM,1700 Block of 48TH AVE,San Francisco,94122.0,B08,23.0,7716,3,3,3,False,Alarm,1,CHIEF,3.0,8,4,Sunset/Parkside,222003183-B08,POINT (-122.50754067078155 37.753805878794125),35.0',\n",
       " '167,211841832,D3,21078860,Structure Fire,07/03/2021,07/03/2021,07/03/2021 02:31:46 PM,07/03/2021 02:33:27 PM,07/03/2021 02:33:59 PM,07/03/2021 02:34:09 PM,,,,Fire,07/03/2021 02:38:21 PM,100 Block of APOLLO ST,San Francisco,94124.0,B10,42.0,6447,3,3,3,False,Alarm,1,CHIEF,10.0,10,10,Bayview Hunters Point,211841832-D3,POINT (-122.39887782181265 37.73088705992564),1.0',\n",
       " '168,211841634,B02,21078840,Alarms,07/03/2021,07/03/2021,07/03/2021 01:34:15 PM,07/03/2021 01:35:15 PM,07/03/2021 01:35:48 PM,07/03/2021 01:37:30 PM,,,,Fire,07/03/2021 01:41:05 PM,600 Block of POST ST,San Francisco,94109.0,B01,3.0,1451,3,3,3,False,Alarm,1,CHIEF,3.0,1,3,Nob Hill,211841634-B02,POINT (-122.41203235978642 37.78788548961571),21.0',\n",
       " '169,220100357,T01,22004628,Other,01/10/2022,01/09/2022,01/10/2022 05:49:57 AM,01/10/2022 05:49:57 AM,01/10/2022 05:50:29 AM,01/10/2022 05:53:12 AM,01/10/2022 06:01:31 AM,,,Fire,01/10/2022 06:06:59 AM,1200 Block of FOLSOM ST,San Francisco,94103.0,B02,1.0,2322,B,3,3,False,Alarm,1,TRUCK,1.0,2,6,South of Market,220100357-T01,POINT (-122.41078763578462 37.77434164105096),34.0',\n",
       " '170,221101643,AR1,22050205,Structure Fire,04/20/2022,04/20/2022,04/20/2022 12:47:32 PM,04/20/2022 12:48:37 PM,04/20/2022 01:04:23 PM,04/20/2022 01:04:23 PM,04/20/2022 01:22:37 PM,,,Fire,04/20/2022 01:59:43 PM,200 Block of SAN BRUNO AVE,San Francisco,94103.0,B02,29.0,2352,3,3,3,False,Alarm,1,INVESTIGATION,8.0,2,10,Mission,221101643-AR1,POINT (-122.40571547977476 37.76654613819271),20.0',\n",
       " '171,222002923,T08,22092401,Structure Fire,07/19/2022,07/19/2022,07/19/2022 08:31:32 PM,07/19/2022 08:31:59 PM,07/19/2022 08:32:23 PM,07/19/2022 08:33:21 PM,07/19/2022 08:41:50 PM,,,Fire,07/19/2022 09:54:07 PM,400 Block of BERRY ST,San Francisco,94107.0,B03,8.0,2262,3,3,3,True,Alarm,1,TRUCK,6.0,3,6,Mission Bay,222002923-T08,POINT (-122.39820071397206 37.77203350374685),4.0',\n",
       " '172,212842299,D3,21123640,Structure Fire,10/11/2021,10/11/2021,10/11/2021 04:45:15 PM,10/11/2021 04:48:17 PM,10/11/2021 04:48:42 PM,10/11/2021 04:49:19 PM,10/11/2021 04:59:51 PM,,,Fire,10/11/2021 05:33:13 PM,LAKE MERCED BL/BROTHERHOOD WY,San Francisco,94132.0,B08,19.0,8775,3,3,3,False,Fire,1,CHIEF,7.0,8,7,Lakeshore,212842299-D3,POINT (-122.48522893486708 37.71469451375496),16.0',\n",
       " '173,222002802,T12,22092385,Alarms,07/19/2022,07/19/2022,07/19/2022 07:36:30 PM,07/19/2022 07:37:36 PM,07/19/2022 07:37:57 PM,07/19/2022 07:39:20 PM,07/19/2022 07:43:34 PM,,,Fire,07/19/2022 07:55:07 PM,500 Block of PARNASSUS AVE,San Francisco,94131.0,B05,12.0,7323,3,3,3,False,Alarm,1,TRUCK,3.0,5,7,Inner Sunset,222002802-T12,POINT (-122.45820598858694 37.763316596988),14.0',\n",
       " '174,221101494,T02,22050178,Other,04/20/2022,04/20/2022,04/20/2022 12:09:10 PM,04/20/2022 12:10:08 PM,04/20/2022 12:10:13 PM,04/20/2022 12:11:32 PM,04/20/2022 12:12:25 PM,,,Fire,04/20/2022 12:17:42 PM,700 Block of BROADWAY,San Francisco,94133.0,B01,2.0,1353,3,3,3,False,Alarm,1,TRUCK,1.0,1,3,Chinatown,221101494-T02,POINT (-122.40914312494147 37.79750610574507),6.0',\n",
       " '175,222002547,E36,22092357,Medical Incident,07/19/2022,07/19/2022,07/19/2022 06:06:20 PM,07/19/2022 06:08:57 PM,07/19/2022 06:09:32 PM,07/19/2022 06:12:06 PM,07/19/2022 06:14:33 PM,,,No Merit,07/19/2022 06:15:14 PM,VAN NESS AV/MCALLISTER ST,San Francisco,94102.0,B02,36.0,3165,3,3,3,True,Potentially Life-Threatening,1,ENGINE,1.0,2,5,Hayes Valley,222002547-E36,POINT (-122.42024718479252 37.780074696823256),9.0',\n",
       " '176,211841013,T16,21078775,Alarms,07/03/2021,07/03/2021,07/03/2021 10:39:21 AM,07/03/2021 10:40:48 AM,07/03/2021 10:41:09 AM,07/03/2021 10:42:48 AM,07/03/2021 10:48:23 AM,,,Fire,07/03/2021 10:56:35 AM,2300 Block of GREEN ST,San Francisco,94123.0,B04,16.0,3612,3,3,3,False,Alarm,1,TRUCK,3.0,4,2,Marina,211841013-T16,POINT (-122.43778148331212 37.7958995297551),13.0',\n",
       " '177,211122580,60,21048368,Other,04/22/2021,04/22/2021,04/22/2021 06:23:22 PM,04/22/2021 06:23:22 PM,04/22/2021 06:24:29 PM,,,,,Cancelled,04/22/2021 06:27:33 PM,24TH ST/MISSION ST,San Francisco,94110.0,B06,11.0,5525,A,2,2,True,Non Life-threatening,1,MEDIC,1.0,6,9,Mission,211122580-60,POINT (-122.4184452728508 37.75223945497939),20.0',\n",
       " '178,212841844,E03,21123584,Medical Incident,10/11/2021,10/11/2021,10/11/2021 02:49:04 PM,10/11/2021 02:49:46 PM,10/11/2021 02:51:36 PM,,,,,Fire,10/11/2021 02:52:38 PM,1300 Block of ELLIS ST,San Francisco,94115.0,B02,5.0,3431,3,3,3,True,Alarm,1,ENGINE,3.0,2,5,Western Addition,212841844-E03,POINT (-122.42992597107693 37.782633908303985),39.0',\n",
       " '179,211840166,T03,21078666,Elevator / Escalator Rescue,07/03/2021,07/02/2021,07/03/2021 01:22:58 AM,07/03/2021 01:24:07 AM,07/03/2021 01:24:14 AM,07/03/2021 01:27:29 AM,07/03/2021 01:28:52 AM,,,Fire,07/03/2021 01:37:49 AM,300 Block of ELLIS ST,San Francisco,94102.0,B03,3.0,1461,3,3,3,False,Alarm,1,TRUCK,1.0,3,6,Tenderloin,211840166-T03,POINT (-122.41195004222158 37.784916184363595),36.0',\n",
       " '180,211121487,T06,21048240,Alarms,04/22/2021,04/22/2021,04/22/2021 12:57:18 PM,04/22/2021 12:57:20 PM,04/22/2021 12:57:26 PM,04/22/2021 12:59:18 PM,04/22/2021 01:00:25 PM,,,Fire,04/22/2021 01:03:34 PM,3200 Block of 16TH ST,San Francisco,94103.0,B02,6.0,5235,3,3,3,False,Alarm,1,TRUCK,2.0,2,8,Mission,211121487-T06,POINT (-122.42548329632146 37.76475508874529),20.0',\n",
       " '181,220092097,E36,22004401,Outside Fire,01/09/2022,01/09/2022,01/09/2022 04:59:53 PM,01/09/2022 04:59:53 PM,01/09/2022 05:00:38 PM,01/09/2022 05:01:54 PM,01/09/2022 05:03:50 PM,,,Fire,01/09/2022 05:07:44 PM,MCALLISTER ST/FRANKLIN ST,San Francisco,94102.0,B02,36.0,3215,A,3,3,False,Fire,1,ENGINE,1.0,2,5,Western Addition,220092097-E36,POINT (-122.42189157232926 37.77989010491683),39.0',\n",
       " '182,220091721,T16,22004359,Alarms,01/09/2022,01/09/2022,01/09/2022 02:56:52 PM,01/09/2022 02:58:18 PM,01/09/2022 02:58:24 PM,01/09/2022 03:00:19 PM,01/09/2022 03:02:50 PM,,,Fire,01/09/2022 03:10:36 PM,2600 Block of PACIFIC AVE,San Francisco,94115.0,B04,38.0,3653,3,3,3,False,Alarm,1,TRUCK,3.0,4,2,Pacific Heights,220091721-T16,POINT (-122.43885476426611 37.79287910659116),30.0',\n",
       " '183,212840182,B04,21123380,Alarms,10/11/2021,10/10/2021,10/11/2021 02:08:34 AM,10/11/2021 02:11:10 AM,10/11/2021 02:11:22 AM,10/11/2021 02:12:27 AM,10/11/2021 02:15:18 AM,,,Fire,10/11/2021 02:24:25 AM,1400 Block of BUSH ST,San Francisco,94109.0,B04,3.0,3156,3,3,3,False,Alarm,1,CHIEF,2.0,4,3,Nob Hill,212840182-B04,POINT (-122.42111675258481 37.78854011605864),21.0',\n",
       " '184,221092762,T10,22049908,Alarms,04/19/2022,04/19/2022,04/19/2022 08:25:50 PM,04/19/2022 08:28:31 PM,04/19/2022 08:28:37 PM,04/19/2022 08:30:04 PM,04/19/2022 08:33:31 PM,,,Fire,04/19/2022 08:49:59 PM,0 Block of PRESIDIO TER,San Francisco,94118.0,B07,10.0,4444,3,3,3,False,Alarm,1,TRUCK,2.0,7,2,Inner Richmond,221092762-T10,POINT (-122.46136488850534 37.78820098081415),11.0',\n",
       " '185,221092464,D3,22049852,Structure Fire,04/19/2022,04/19/2022,04/19/2022 06:34:53 PM,04/19/2022 06:35:43 PM,04/19/2022 06:35:54 PM,04/19/2022 06:36:26 PM,,,,Fire,04/19/2022 06:42:27 PM,200 Block of RITCH ST,San Francisco,94107.0,B03,8.0,2174,3,3,3,False,Alarm,1,CHIEF,7.0,3.0,6,South of Market,221092464-D3,POINT (-122.39561128216484 37.78027812725701),34.0',\n",
       " '186,211831034,E28,21078353,Medical Incident,07/02/2021,07/02/2021,07/02/2021 10:38:26 AM,07/02/2021 10:39:30 AM,07/02/2021 10:39:57 AM,07/02/2021 10:40:09 AM,07/02/2021 10:42:36 AM,,,Code 2 Transport,07/02/2021 10:51:25 AM,500 Block of NORTH POINT ST,San Francisco,94133.0,B01,28.0,1433,3,3,3,False,Non Life-threatening,1,ENGINE,1.0,1,3,North Beach,211831034-E28,POINT (-122.41626501997827 37.806296620277756),23.0',\n",
       " '187,221993166,B09,22091965,Alarms,07/18/2022,07/18/2022,07/18/2022 11:48:57 PM,07/18/2022 11:50:31 PM,07/18/2022 11:50:39 PM,07/18/2022 11:53:08 PM,07/19/2022 12:06:25 AM,,,Fire,07/19/2022 12:06:29 AM,100 Block of FONT BLVD,San Francisco,94132.0,B08,33.0,8422,3,3,3,False,Alarm,1,CHIEF,3.0,8,7,Lakeshore,221993166-B09,POINT (-122.47362991973824 37.71554505283699),16.0',\n",
       " '188,220083125,E16,22004105,Medical Incident,01/08/2022,01/08/2022,01/08/2022 11:43:36 PM,01/08/2022 11:46:00 PM,01/08/2022 11:47:01 PM,01/08/2022 11:48:38 PM,01/08/2022 11:52:09 PM,,,Code 2 Transport,01/09/2022 12:37:45 AM,LOMBARD ST/FILLMORE ST,San Francisco,94123.0,B04,16.0,3461,3,3,3,True,Potentially Life-Threatening,1,ENGINE,1.0,4,2,Marina,220083125-E16,POINT (-122.43604617398029 37.799842950272584),13.0',\n",
       " '189,211830622,HZ1,21078307,Other,07/02/2021,07/01/2021,07/02/2021 07:57:44 AM,07/02/2021 08:03:48 AM,07/02/2021 08:24:45 AM,07/02/2021 08:27:03 AM,07/02/2021 08:35:00 AM,,,Fire,07/02/2021 09:52:30 AM,200 Block of 2ND ST,San Francisco,94105.0,B03,35.0,2147,3,3,3,False,Alarm,1,SUPPORT,7.0,3,6,Financial District/South Beach,211830622-HZ1,POINT (-122.39692077599308 37.78579181631831),8.0',\n",
       " '190,221992933,RS1,22091936,Other,07/18/2022,07/18/2022,07/18/2022 09:50:00 PM,07/18/2022 09:50:00 PM,07/18/2022 09:50:51 PM,07/18/2022 09:52:37 PM,,,,Cancelled,07/18/2022 09:55:45 PM,DIVISADERO ST/MARINA BL,San Francisco,94123.0,B04,16.0,4214,A,3,3,False,Fire,1,RESCUE SQUAD,5.0,4,2,Marina,221992933-RS1,POINT (-122.44398351783961 37.80558113859593),13.0',\n",
       " '191,221090742,T03,22049636,Alarms,04/19/2022,04/19/2022,04/19/2022 09:20:48 AM,04/19/2022 09:22:57 AM,04/19/2022 09:23:01 AM,04/19/2022 09:25:42 AM,04/19/2022 09:27:23 AM,,,Fire,04/19/2022 09:29:52 AM,300 Block of HYDE ST,San Francisco,94109.0,B02,3.0,1555,3,3,3,False,Alarm,1,TRUCK,1.0,2,6,Tenderloin,221090742-T03,POINT (-122.41590880888869 37.78399096562292),36.0',\n",
       " '192,221992643,KM110,22091891,Medical Incident,07/18/2022,07/18/2022,07/18/2022 07:43:43 PM,07/18/2022 07:44:31 PM,07/18/2022 07:44:43 PM,,,,,Other,,ELLIS ST/LEAVENWORTH ST,San Francisco,94109.0,B04,3.0,1544,3,3,3,False,Potentially Life-Threatening,1,PRIVATE,2.0,2,6,Tenderloin,221992643-KM110,POINT (-122.41443019937931 37.78465713930666),36.0',\n",
       " '193,221992463,82,22091873,Medical Incident,07/18/2022,07/18/2022,07/18/2022 06:31:36 PM,07/18/2022 06:32:43 PM,07/18/2022 06:32:52 PM,,,,,Code 2 Transport,07/18/2022 06:33:41 PM,900 Block of GOLDEN GATE AVE,San Francisco,94102.0,B02,5.0,3411,3,2,2,True,Non Life-threatening,1,MEDIC,5.0,2,5,Western Addition,221992463-82,POINT (-122.42536290801452 37.78034810472574),39.0',\n",
       " '194,212830847,T03,21123033,Alarms,10/10/2021,10/10/2021,10/10/2021 09:28:48 AM,10/10/2021 09:30:14 AM,10/10/2021 09:30:24 AM,10/10/2021 09:31:02 AM,10/10/2021 09:34:25 AM,,,Fire,10/10/2021 09:35:57 AM,0 Block of GROVE ST,San Francisco,94102.0,B02,36.0,1552,3,3,3,False,Alarm,1,TRUCK,1.0,2,6,Tenderloin,212830847-T03,POINT (-122.4173930413141 37.77853962309828),36.0',\n",
       " '195,221992065,T14,22091825,Alarms,07/18/2022,07/18/2022,07/18/2022 04:23:59 PM,07/18/2022 04:26:09 PM,07/18/2022 04:26:20 PM,07/18/2022 04:27:38 PM,07/18/2022 04:32:04 PM,,,Fire,07/18/2022 04:36:24 PM,900 Block of POINT LOBOS AV,San Francisco,94121.0,B07,34.0,7314,3,3,3,False,Alarm,1,TRUCK,2.0,7.0,1,Outer Richmond,221992065-T14,POINT (-122.51358068539928 37.778496591287116),29.0',\n",
       " '196,211823291,E17,21078162,Alarms,07/01/2021,07/01/2021,07/01/2021 08:25:27 PM,07/01/2021 08:27:33 PM,07/01/2021 08:27:42 PM,07/01/2021 08:29:30 PM,07/01/2021 08:33:22 PM,,,Fire,07/01/2021 08:40:51 PM,300 Block of FRIEDELL ST,Hunters Point,94124.0,B10,17.0,6721,3,3,3,True,Alarm,1,ENGINE,1.0,10.0,10,Bayview Hunters Point,211823291-E17,POINT (-122.3705975012815 37.7276519296314),1.0',\n",
       " '197,220082018,KM202,22003946,Medical Incident,01/08/2022,01/08/2022,01/08/2022 04:13:44 PM,01/08/2022 04:16:38 PM,01/08/2022 04:16:59 PM,01/08/2022 04:17:32 PM,01/08/2022 04:22:24 PM,01/08/2022 04:50:43 PM,01/08/2022 05:02:15 PM,Code 2 Transport,01/08/2022 05:30:55 PM,2300 Block of POWELL ST,San Francisco,94133.0,B01,28.0,0131,2,2,2,False,Non Life-threatening,1,PRIVATE,1.0,1,3,North Beach,220082018-KM202,POINT (-122.41197742593573 37.806300326342026),23.0',\n",
       " '198,221991927,T03,22091807,Elevator / Escalator Rescue,07/18/2022,07/18/2022,07/18/2022 03:42:37 PM,07/18/2022 03:44:12 PM,07/18/2022 03:46:07 PM,07/18/2022 03:47:40 PM,07/18/2022 03:49:29 PM,,,Fire,07/18/2022 04:00:05 PM,1000 Block of HYDE ST,San Francisco,94109.0,B04,41.0,1562,3,3,3,False,Alarm,1,TRUCK,1.0,4,3,Nob Hill,221991927-T03,POINT (-122.41736641769324 37.7905005141184),21.0',\n",
       " '199,211103742,T12,21047683,Citizen Assist / Service Call,04/20/2021,04/20/2021,04/20/2021 11:57:14 PM,04/20/2021 11:59:10 PM,04/20/2021 11:59:19 PM,04/21/2021 12:01:23 AM,,,,Fire,04/21/2021 12:17:14 AM,400 Block of BURNETT AVE,San Francisco,94131.0,B06,24.0,5272,2,2,2,False,Alarm,1,TRUCK,2.0,6,8,Twin Peaks,211103742-T12,POINT (-122.44418358910347 37.754847536051635),38.0',\n",
       " '200,211103742,RC3,21047683,Citizen Assist / Service Call,04/20/2021,04/20/2021,04/20/2021 11:57:14 PM,04/20/2021 11:59:10 PM,04/21/2021 12:02:08 AM,04/21/2021 12:04:07 AM,04/21/2021 12:10:41 AM,,,Fire,04/21/2021 12:22:50 AM,400 Block of BURNETT AVE,San Francisco,94131.0,B06,24.0,5272,2,2,2,True,Alarm,1,RESCUE CAPTAIN,1.0,6,8,Twin Peaks,211103742-RC3,POINT (-122.44418358910347 37.754847536051635),38.0',\n",
       " '201,211103718,67,21047682,Medical Incident,04/20/2021,04/20/2021,04/20/2021 11:37:25 PM,04/20/2021 11:42:03 PM,04/20/2021 11:42:20 PM,04/20/2021 11:42:32 PM,04/20/2021 11:57:26 PM,04/21/2021 12:21:56 AM,04/21/2021 12:32:25 AM,Code 2 Transport,04/21/2021 01:34:56 AM,600 Block of LARCH ST,San Francisco,94115.0,B02,5.0,3426,2,2,2,True,Non Life-threatening,1,MEDIC,1.0,2,5,Western Addition,211103718-67,POINT (-122.4281140183357 37.781425962104166),39.0',\n",
       " '202,211103702,E03,21047681,Medical Incident,04/20/2021,04/20/2021,04/20/2021 11:30:22 PM,04/20/2021 11:33:28 PM,04/20/2021 11:33:42 PM,04/20/2021 11:35:18 PM,04/20/2021 11:37:16 PM,,,No Merit,04/20/2021 11:52:49 PM,1400 Block of SUTTER ST,San Francisco,94109.0,B04,3.0,3223,3,3,3,True,Non Life-threatening,1,ENGINE,1.0,4,2,Western Addition,211103702-E03,POINT (-122.42421433781797 37.78718056428697),39.0',\n",
       " '203,211103702,85,21047681,Medical Incident,04/20/2021,04/20/2021,04/20/2021 11:30:22 PM,04/20/2021 11:33:28 PM,04/20/2021 11:33:42 PM,04/20/2021 11:35:21 PM,04/20/2021 11:41:24 PM,,,No Merit,04/21/2021 12:37:29 AM,1400 Block of SUTTER ST,San Francisco,94109.0,B04,3.0,3223,3,3,3,True,Non Life-threatening,1,MEDIC,2.0,4,2,Western Addition,211103702-85,POINT (-122.42421433781797 37.78718056428697),39.0',\n",
       " '204,211103697,64,21047680,Medical Incident,04/20/2021,04/20/2021,04/20/2021 11:30:33 PM,04/20/2021 11:30:33 PM,04/20/2021 11:30:51 PM,04/20/2021 11:31:43 PM,04/20/2021 11:42:28 PM,04/20/2021 11:55:32 PM,04/21/2021 12:15:46 AM,Code 2 Transport,04/21/2021 12:47:14 AM,2200 Block of MISSION ST,San Francisco,94110.0,B02,7.0,5423,A,2,2,True,Non Life-threatening,1,MEDIC,1.0,6,9,Mission,211103697-64,POINT (-122.41935164261461 37.76103144298335),20.0',\n",
       " '205,211103692,60,21047679,Medical Incident,04/20/2021,04/20/2021,04/20/2021 11:23:24 PM,04/20/2021 11:26:18 PM,04/20/2021 11:27:16 PM,04/20/2021 11:27:21 PM,04/20/2021 11:39:34 PM,04/20/2021 11:45:08 PM,04/21/2021 12:02:40 AM,Code 2 Transport,04/21/2021 12:38:01 AM,2300 Block of 46TH AV,San Francisco,94116.0,B08,23.0,7713,3,3,3,True,Potentially Life-Threatening,1,MEDIC,2.0,8.0,4,Sunset/Parkside,211103692-60,POINT (-122.5046865126233 37.74270380690939),35.0',\n",
       " '206,211103692,E23,21047679,Medical Incident,04/20/2021,04/20/2021,04/20/2021 11:23:24 PM,04/20/2021 11:26:18 PM,04/20/2021 11:27:16 PM,04/20/2021 11:29:52 PM,04/20/2021 11:34:34 PM,,,Code 2 Transport,04/20/2021 11:44:07 PM,2300 Block of 46TH AV,San Francisco,94116.0,B08,23.0,7713,3,3,3,True,Potentially Life-Threatening,1,ENGINE,1.0,8.0,4,Sunset/Parkside,211103692-E23,POINT (-122.5046865126233 37.74270380690939),35.0',\n",
       " '207,211103691,E17,21047678,Medical Incident,04/20/2021,04/20/2021,04/20/2021 11:22:45 PM,04/20/2021 11:26:18 PM,04/20/2021 11:26:44 PM,04/20/2021 11:28:39 PM,04/20/2021 11:33:07 PM,,,Code 2 Transport,04/20/2021 11:49:35 PM,0 Block of BEATRICE LN,San Francisco,94124.0,B10,17.0,6641,3,2,2,True,Potentially Life-Threatening,1,ENGINE,1.0,10,10,Bayview Hunters Point,211103691-E17,POINT (-122.38074124910231 37.73102360544148),1.0',\n",
       " '208,211103691,84,21047678,Medical Incident,04/20/2021,04/20/2021,04/20/2021 11:22:45 PM,04/20/2021 11:26:18 PM,04/20/2021 11:26:44 PM,04/20/2021 11:27:04 PM,04/20/2021 11:39:07 PM,04/21/2021 12:07:28 AM,04/21/2021 12:07:29 AM,Code 2 Transport,04/21/2021 12:50:20 AM,0 Block of BEATRICE LN,San Francisco,94124.0,B10,17.0,6641,3,2,2,True,Potentially Life-Threatening,1,MEDIC,2.0,10,10,Bayview Hunters Point,211103691-84,POINT (-122.38074124910231 37.73102360544148),1.0',\n",
       " '209,211103658,E36,21047677,Medical Incident,04/20/2021,04/20/2021,04/20/2021 11:12:32 PM,04/20/2021 11:13:36 PM,04/20/2021 11:13:51 PM,04/20/2021 11:15:47 PM,04/20/2021 11:24:02 PM,,,Code 2 Transport,04/20/2021 11:28:08 PM,300 Block of FULTON ST,San Francisco,94102.0,B02,36.0,3264,3,3,3,True,Potentially Life-Threatening,1,ENGINE,2.0,2,5,Hayes Valley,211103658-E36,POINT (-122.42252070216841 37.778797887284746),9.0',\n",
       " '210,211103658,68,21047677,Medical Incident,04/20/2021,04/20/2021,04/20/2021 11:12:32 PM,04/20/2021 11:13:36 PM,04/20/2021 11:13:51 PM,04/20/2021 11:18:13 PM,04/20/2021 11:22:53 PM,04/20/2021 11:30:37 PM,04/20/2021 11:39:12 PM,Code 2 Transport,04/21/2021 12:19:30 AM,300 Block of FULTON ST,San Francisco,94102.0,B02,36.0,3264,3,3,3,True,Potentially Life-Threatening,1,MEDIC,1.0,2,5,Hayes Valley,211103658-68,POINT (-122.42252070216841 37.778797887284746),9.0',\n",
       " '211,211103647,86,21047676,Medical Incident,04/20/2021,04/20/2021,04/20/2021 11:07:48 PM,04/20/2021 11:09:48 PM,04/20/2021 11:10:31 PM,04/20/2021 11:12:14 PM,04/20/2021 11:24:05 PM,04/20/2021 11:43:31 PM,04/20/2021 11:51:51 PM,Code 2 Transport,04/21/2021 12:28:13 AM,400 Block of TURK ST,San Francisco,94102.0,B02,3.0,1554,2,2,2,True,Non Life-threatening,1,MEDIC,1.0,2,6,Tenderloin,211103647-86,POINT (-122.41632744176756 37.78244849821849),36.0',\n",
       " '212,211103646,E33,21047675,Alarms,04/20/2021,04/20/2021,04/20/2021 11:07:19 PM,04/20/2021 11:09:17 PM,04/20/2021 11:09:24 PM,04/20/2021 11:11:07 PM,04/20/2021 11:12:42 PM,,,Fire,04/20/2021 11:24:50 PM,8300 Block of OCEANVIEW TER,San Francisco,94132.0,B09,33.0,8412,3,3,3,False,Alarm,1,ENGINE,1.0,9,7,Oceanview/Merced/Ingleside,211103646-E33,POINT (-122.46695479445705 37.71021741069428),24.0',\n",
       " '213,211103646,B09,21047675,Alarms,04/20/2021,04/20/2021,04/20/2021 11:07:19 PM,04/20/2021 11:09:17 PM,04/20/2021 11:09:24 PM,04/20/2021 11:10:42 PM,04/20/2021 11:14:44 PM,,,Fire,04/20/2021 11:29:14 PM,8300 Block of OCEANVIEW TER,San Francisco,94132.0,B09,33.0,8412,3,3,3,False,Alarm,1,CHIEF,2.0,9,7,Oceanview/Merced/Ingleside,211103646-B09,POINT (-122.46695479445705 37.71021741069428),24.0',\n",
       " '214,211103646,T19,21047675,Alarms,04/20/2021,04/20/2021,04/20/2021 11:07:19 PM,04/20/2021 11:09:17 PM,04/20/2021 11:09:24 PM,04/20/2021 11:11:23 PM,04/20/2021 11:15:30 PM,,,Fire,04/20/2021 11:25:03 PM,8300 Block of OCEANVIEW TER,San Francisco,94132.0,B09,33.0,8412,3,3,3,False,Alarm,1,TRUCK,3.0,9,7,Oceanview/Merced/Ingleside,211103646-T19,POINT (-122.46695479445705 37.71021741069428),24.0',\n",
       " '215,211103634,52,21047674,Medical Incident,04/20/2021,04/20/2021,04/20/2021 10:56:42 PM,04/20/2021 10:59:10 PM,04/20/2021 10:59:23 PM,04/20/2021 10:59:32 PM,04/20/2021 11:15:55 PM,04/20/2021 11:17:49 PM,04/20/2021 11:38:57 PM,Code 2 Transport,04/21/2021 12:19:11 AM,1700 Block of MCALLISTER ST,San Francisco,94115.0,B05,21.0,4254,2,2,2,True,Potentially Life-Threatening,1,MEDIC,1.0,5,5,Western Addition,211103634-52,POINT (-122.44086368265957 37.77753424051051),39.0',\n",
       " '216,211103618,QRV1,21047673,Medical Incident,04/20/2021,04/20/2021,04/20/2021 10:48:31 PM,04/20/2021 10:52:50 PM,04/20/2021 10:53:04 PM,04/20/2021 10:53:12 PM,04/20/2021 10:57:19 PM,,,Code 2 Transport,04/20/2021 10:57:26 PM,1000 Block of POLK ST,San Francisco,94109.0,B04,3.0,3121,3,3,3,True,Potentially Life-Threatening,1,SUPPORT,2.0,4,6,Tenderloin,211103618-QRV1,POINT (-122.41985424569154 37.7861172118381),36.0',\n",
       " '217,211103618,54,21047673,Medical Incident,04/20/2021,04/20/2021,04/20/2021 10:48:31 PM,04/20/2021 10:52:50 PM,04/20/2021 10:53:04 PM,04/20/2021 10:53:55 PM,04/20/2021 10:56:52 PM,04/20/2021 11:05:02 PM,04/20/2021 11:10:54 PM,Code 2 Transport,04/20/2021 11:41:21 PM,1000 Block of POLK ST,San Francisco,94109.0,B04,3.0,3121,3,3,3,True,Potentially Life-Threatening,1,MEDIC,1.0,4,6,Tenderloin,211103618-54,POINT (-122.41985424569154 37.7861172118381),36.0',\n",
       " '218,211103608,53,21047672,Medical Incident,04/20/2021,04/20/2021,04/20/2021 10:46:48 PM,04/20/2021 10:48:31 PM,04/20/2021 10:49:04 PM,04/20/2021 10:49:16 PM,04/20/2021 10:59:07 PM,,,No Merit,04/20/2021 11:03:41 PM,POLK ST/EDDY ST,San Francisco,94109.0,B02,3.0,3114,2,2,2,True,Non Life-threatening,1,MEDIC,1.0,2,6,Tenderloin,211103608-53,POINT (-122.41918170503415 37.78310139927705),36.0',\n",
       " '219,211103602,E36,21047671,Medical Incident,04/20/2021,04/20/2021,04/20/2021 10:43:13 PM,04/20/2021 10:46:18 PM,04/20/2021 10:46:44 PM,04/20/2021 10:47:13 PM,04/20/2021 10:48:37 PM,,,Code 2 Transport,04/20/2021 10:56:32 PM,100 Block of KISSLING ST,San Francisco,94103.0,B02,36.0,5114,3,2,2,True,Non Life-threatening,1,ENGINE,1.0,2,6,Mission,211103602-E36,POINT (-122.41557408080716 37.77201599515474),20.0',\n",
       " '220,211103602,KM04,21047671,Medical Incident,04/20/2021,04/20/2021,04/20/2021 10:43:13 PM,04/20/2021 10:46:18 PM,04/20/2021 10:46:44 PM,04/20/2021 10:47:16 PM,04/20/2021 10:52:00 PM,04/20/2021 11:03:23 PM,04/20/2021 11:12:16 PM,Code 2 Transport,04/20/2021 11:44:19 PM,100 Block of KISSLING ST,San Francisco,94103.0,B02,36.0,5114,3,2,2,False,Non Life-threatening,1,PRIVATE,2.0,2,6,Mission,211103602-KM04,POINT (-122.41557408080716 37.77201599515474),20.0',\n",
       " '221,211103599,T12,21047670,Citizen Assist / Service Call,04/20/2021,04/20/2021,04/20/2021 10:42:46 PM,04/20/2021 10:44:13 PM,04/20/2021 10:44:21 PM,04/20/2021 10:46:46 PM,04/20/2021 10:51:37 PM,,,Fire,04/20/2021 10:57:33 PM,400 Block of BURNETT AVE,San Francisco,94131.0,B06,24.0,5272,2,2,2,False,Alarm,1,TRUCK,1.0,6,8,Twin Peaks,211103599-T12,POINT (-122.44418358910347 37.754847536051635),38.0',\n",
       " '222,211103574,E39,21047669,Medical Incident,04/20/2021,04/20/2021,04/20/2021 10:36:23 PM,04/20/2021 10:37:36 PM,04/20/2021 10:38:34 PM,04/20/2021 10:40:11 PM,04/20/2021 10:43:17 PM,,,No Merit,04/20/2021 10:46:52 PM,500 Block of DEWEY BLVD,San Francisco,94127.0,B08,39.0,8617,3,3,3,True,Non Life-threatening,1,ENGINE,1.0,8,7,West of Twin Peaks,211103574-E39,POINT (-122.46248478579615 37.74462051323251),41.0',\n",
       " '223,211103574,75,21047669,Medical Incident,04/20/2021,04/20/2021,04/20/2021 10:36:23 PM,04/20/2021 10:37:36 PM,04/20/2021 10:38:34 PM,04/20/2021 10:38:40 PM,04/20/2021 10:43:45 PM,,,No Merit,04/20/2021 10:46:56 PM,500 Block of DEWEY BLVD,San Francisco,94127.0,B08,39.0,8617,3,3,3,False,Non Life-threatening,1,MEDIC,2.0,8,7,West of Twin Peaks,211103574-75,POINT (-122.46248478579615 37.74462051323251),41.0',\n",
       " '224,211103572,T17,21047668,Citizen Assist / Service Call,04/20/2021,04/20/2021,04/20/2021 10:35:14 PM,04/20/2021 10:37:25 PM,04/20/2021 10:37:34 PM,04/20/2021 10:39:24 PM,04/20/2021 11:03:42 PM,,,Fire,04/20/2021 11:05:53 PM,REVERE AV/INGALLS ST,San Francisco,94124.0,B10,17.0,6634,3,3,3,False,Alarm,1,TRUCK,1.0,10,10,Bayview Hunters Point,211103572-T17,POINT (-122.38455630526283 37.728485849940455),1.0',\n",
       " '225,211103562,63,21047667,Medical Incident,04/20/2021,04/20/2021,04/20/2021 10:34:54 PM,04/20/2021 10:34:54 PM,04/20/2021 10:35:03 PM,04/20/2021 10:35:07 PM,04/20/2021 10:52:00 PM,,,Patient Declined Transport,04/20/2021 11:19:15 PM,100 Block of RIPLEY ST,San Francisco,94110.0,B06,11.0,5663,A,2,2,True,Non Life-threatening,1,MEDIC,1.0,6,9,Bernal Heights,211103562-63,POINT (-122.41231374097973 37.74415338867271),2.0',\n",
       " '226,211103556,77,21047666,Medical Incident,04/20/2021,04/20/2021,04/20/2021 10:30:12 PM,04/20/2021 10:32:52 PM,04/20/2021 10:33:14 PM,04/20/2021 10:33:25 PM,04/20/2021 10:39:41 PM,04/20/2021 11:04:36 PM,04/20/2021 11:12:07 PM,Code 2 Transport,04/20/2021 11:43:08 PM,1300 Block of MISSION ST,San Francisco,94103.0,B02,36.0,2341,3,3,3,True,Potentially Life-Threatening,1,MEDIC,2.0,2,6,South of Market,211103556-77,POINT (-122.41574533271555 37.775478549296444),34.0',\n",
       " '227,211103556,E36,21047666,Medical Incident,04/20/2021,04/20/2021,04/20/2021 10:30:12 PM,04/20/2021 10:32:52 PM,04/20/2021 10:33:14 PM,04/20/2021 10:34:49 PM,04/20/2021 10:38:26 PM,,,Code 2 Transport,04/20/2021 10:46:18 PM,1300 Block of MISSION ST,San Francisco,94103.0,B02,36.0,2341,3,3,3,True,Potentially Life-Threatening,1,ENGINE,1.0,2,6,South of Market,211103556-E36,POINT (-122.41574533271555 37.775478549296444),34.0',\n",
       " '228,211103549,87,21047665,Medical Incident,04/20/2021,04/20/2021,04/20/2021 10:28:30 PM,04/20/2021 10:29:54 PM,04/20/2021 10:30:12 PM,04/20/2021 10:30:16 PM,04/20/2021 10:36:38 PM,04/20/2021 10:45:09 PM,04/20/2021 10:56:49 PM,Code 2 Transport,04/20/2021 11:27:55 PM,0 Block of 8TH ST,San Francisco,94103.0,B02,36.0,2317,3,3,3,True,Potentially Life-Threatening,1,MEDIC,2.0,2,6,South of Market,211103549-87,POINT (-122.41439315875472 37.77851883099529),34.0',\n",
       " '229,211103549,QRV1,21047665,Medical Incident,04/20/2021,04/20/2021,04/20/2021 10:28:30 PM,04/20/2021 10:29:54 PM,04/20/2021 10:30:12 PM,04/20/2021 10:30:26 PM,04/20/2021 10:34:51 PM,,,Code 2 Transport,04/20/2021 10:49:39 PM,0 Block of 8TH ST,San Francisco,94103.0,B02,36.0,2317,3,3,3,True,Potentially Life-Threatening,1,SUPPORT,1.0,2,6,South of Market,211103549-QRV1,POINT (-122.41439315875472 37.77851883099529),34.0',\n",
       " '230,211103504,AM116,21047664,Medical Incident,04/20/2021,04/20/2021,04/20/2021 10:18:05 PM,04/20/2021 10:18:05 PM,04/20/2021 10:18:27 PM,04/20/2021 10:18:48 PM,04/20/2021 10:22:14 PM,04/20/2021 10:29:30 PM,04/20/2021 11:08:21 PM,Code 2 Transport,04/20/2021 11:39:01 PM,1000 Block of HARRISON ST,San Francisco,94103.0,B03,1.0,2254,B,2,2,False,Non Life-threatening,1,PRIVATE,1.0,3,6,South of Market,211103504-AM116,POINT (-122.40438896459455 37.77709839625076),34.0',\n",
       " '231,211103489,E02,21047663,Other,04/20/2021,04/20/2021,04/20/2021 10:10:27 PM,04/20/2021 10:14:32 PM,04/20/2021 10:14:38 PM,04/20/2021 10:15:58 PM,04/20/2021 10:19:36 PM,,,Fire,04/20/2021 10:22:03 PM,200 Block of SANSOME ST,San Francisco,94104.0,B01,13.0,1165,3,3,3,True,Alarm,1,ENGINE,1.0,1,3,Financial District/South Beach,211103489-E02,POINT (-122.40109804687124 37.79257561374223),8.0',\n",
       " '232,211103483,E13,21047662,Medical Incident,04/20/2021,04/20/2021,04/20/2021 10:09:00 PM,04/20/2021 10:10:34 PM,04/20/2021 10:10:47 PM,04/20/2021 10:12:39 PM,04/20/2021 10:15:01 PM,,,Code 3 Transport,04/20/2021 10:54:20 PM,MARKET ST/2ND ST,San Francisco,94105.0,B01,13.0,1236,3,3,3,True,Potentially Life-Threatening,1,ENGINE,2.0,3,3,Financial District/South Beach,211103483-E13,POINT (-122.40137549122022 37.78926432160001),8.0',\n",
       " '233,211103483,KM13,21047662,Medical Incident,04/20/2021,04/20/2021,04/20/2021 10:09:00 PM,04/20/2021 10:10:34 PM,04/20/2021 10:10:47 PM,04/20/2021 10:11:15 PM,04/20/2021 10:14:35 PM,04/20/2021 10:28:54 PM,04/20/2021 10:40:17 PM,Code 3 Transport,04/20/2021 11:32:24 PM,MARKET ST/2ND ST,San Francisco,94105.0,B01,13.0,1236,3,3,3,False,Potentially Life-Threatening,1,PRIVATE,1.0,3,3,Financial District/South Beach,211103483-KM13,POINT (-122.40137549122022 37.78926432160001),8.0',\n",
       " '234,211103444,86,21047661,Medical Incident,04/20/2021,04/20/2021,04/20/2021 09:56:16 PM,04/20/2021 09:56:16 PM,04/20/2021 09:56:57 PM,04/20/2021 09:57:10 PM,04/20/2021 10:02:47 PM,,,Patient Declined Transport,04/20/2021 10:38:44 PM,300 Block of SUTTER ST,San Francisco,94108.0,B01,13.0,1324,A,2,2,True,Non Life-threatening,1,MEDIC,1.0,1,3,Financial District/South Beach,211103444-86,POINT (-122.40616689405306 37.78947840486964),8.0',\n",
       " '235,211103443,56,21047660,Medical Incident,04/20/2021,04/20/2021,04/20/2021 09:55:47 PM,04/20/2021 09:55:47 PM,04/20/2021 09:56:19 PM,04/20/2021 09:56:23 PM,04/20/2021 10:14:48 PM,,,Patient Declined Transport,04/20/2021 10:46:05 PM,1100 Block of MARKET ST,San Francisco,94102.0,B03,36.0,1455,C,2,2,True,Non Life-threatening,1,MEDIC,1.0,2,6,Tenderloin,211103443-56,POINT (-122.41232090743603 37.78076422544007),36.0',\n",
       " '236,211103438,85,21047659,Medical Incident,04/20/2021,04/20/2021,04/20/2021 09:54:54 PM,04/20/2021 09:55:27 PM,04/20/2021 09:55:35 PM,04/20/2021 09:56:41 PM,04/20/2021 10:01:28 PM,04/20/2021 10:18:47 PM,04/20/2021 10:29:20 PM,Code 2 Transport,04/20/2021 11:04:17 PM,0 Block of BERTHA LN,San Francisco,94124.0,B10,17.0,6631,3,3,3,True,Potentially Life-Threatening,1,MEDIC,2.0,10,10,Bayview Hunters Point,211103438-85,POINT (-122.38089850716118 37.73322563963494),1.0',\n",
       " '237,211103438,E17,21047659,Medical Incident,04/20/2021,04/20/2021,04/20/2021 09:54:54 PM,04/20/2021 09:55:27 PM,04/20/2021 09:55:35 PM,04/20/2021 09:56:36 PM,04/20/2021 10:00:36 PM,,,Code 2 Transport,04/20/2021 10:03:59 PM,0 Block of BERTHA LN,San Francisco,94124.0,B10,17.0,6631,3,3,3,True,Potentially Life-Threatening,1,ENGINE,1.0,10,10,Bayview Hunters Point,211103438-E17,POINT (-122.38089850716118 37.73322563963494),1.0',\n",
       " '238,211103431,KM04,21047658,Medical Incident,04/20/2021,04/20/2021,04/20/2021 09:49:37 PM,04/20/2021 09:53:09 PM,04/20/2021 09:53:31 PM,04/20/2021 09:53:59 PM,04/20/2021 10:00:50 PM,,,Against Medical Advice,04/20/2021 10:33:23 PM,100 Block of RUSS ST,San Francisco,94103.0,B03,1.0,2252,3,3,3,False,Non Life-threatening,1,PRIVATE,2.0,3,6,South of Market,211103431-KM04,POINT (-122.40744901554491 37.77828359097397),34.0',\n",
       " '239,211103429,KM13,21047657,Medical Incident,04/20/2021,04/20/2021,04/20/2021 09:49:51 PM,04/20/2021 09:51:47 PM,04/20/2021 09:52:06 PM,,,,,Gone on Arrival,04/20/2021 09:52:13 PM,0 Block of FREMONT ST,San Francisco,94105.0,B03,35.0,2126,2,2,2,False,Non Life-threatening,1,PRIVATE,2.0,3.0,6,Financial District/South Beach,211103429-KM13,POINT (-122.3974770659053 37.79108856500023),8.0',\n",
       " '240,211103429,KM12,21047657,Medical Incident,04/20/2021,04/20/2021,04/20/2021 09:49:51 PM,04/20/2021 09:51:47 PM,04/20/2021 09:52:13 PM,04/20/2021 09:52:13 PM,04/20/2021 10:12:16 PM,,,Gone on Arrival,04/20/2021 10:13:33 PM,0 Block of FREMONT ST,San Francisco,94105.0,B03,35.0,2126,2,2,2,False,Non Life-threatening,1,PRIVATE,1.0,3.0,6,Financial District/South Beach,211103429-KM12,POINT (-122.3974770659053 37.79108856500023),8.0',\n",
       " '241,211103403,68,21047655,Medical Incident,04/20/2021,04/20/2021,04/20/2021 09:39:45 PM,04/20/2021 09:41:12 PM,04/20/2021 09:41:26 PM,04/20/2021 09:41:36 PM,04/20/2021 09:49:21 PM,04/20/2021 10:01:51 PM,04/20/2021 10:07:17 PM,Code 2 Transport,04/20/2021 10:59:40 PM,3100 Block of FILLMORE ST,San Francisco,94123.0,B04,16.0,3553,2,2,2,True,Non Life-threatening,1,MEDIC,1.0,4,2,Marina,211103403-68,POINT (-122.43588771322044 37.798710822663),13.0',\n",
       " '242,211103395,QRV1,21047654,Medical Incident,04/20/2021,04/20/2021,04/20/2021 09:37:25 PM,04/20/2021 09:38:20 PM,04/20/2021 09:38:34 PM,04/20/2021 09:39:09 PM,04/20/2021 09:42:38 PM,,,Fire,04/20/2021 10:13:31 PM,300 Block of CLEMENTINA ST,San Francisco,94103.0,B03,1.0,2215,3,3,3,True,Potentially Life-Threatening,1,SUPPORT,1.0,3,6,South of Market,211103395-QRV1,POINT (-122.40232147637953 37.782038714617414),34.0',\n",
       " '243,211103395,AM116,21047654,Medical Incident,04/20/2021,04/20/2021,04/20/2021 09:37:25 PM,04/20/2021 09:38:20 PM,04/20/2021 09:38:34 PM,04/20/2021 09:39:09 PM,04/20/2021 09:43:46 PM,,,Fire,04/20/2021 10:10:03 PM,300 Block of CLEMENTINA ST,San Francisco,94103.0,B03,1.0,2215,3,3,3,False,Potentially Life-Threatening,1,PRIVATE,2.0,3,6,South of Market,211103395-AM116,POINT (-122.40232147637953 37.782038714617414),34.0',\n",
       " '244,211103383,E10,21047653,Odor (Strange / Unknown),04/20/2021,04/20/2021,04/20/2021 09:32:19 PM,04/20/2021 09:34:14 PM,04/20/2021 09:34:33 PM,04/20/2021 09:35:15 PM,04/20/2021 09:38:42 PM,,,Fire,04/20/2021 09:50:45 PM,0 Block of STANYAN BLVD,San Francisco,94118.0,B07,10.0,4563,3,3,3,True,Alarm,1,ENGINE,1.0,7,1,Lone Mountain/USF,211103383-E10,POINT (-122.45621913243352 37.78062935175968),18.0',\n",
       " '245,211103382,T05,21047652,Elevator / Escalator Rescue,04/20/2021,04/20/2021,04/20/2021 09:33:31 PM,04/20/2021 09:34:15 PM,04/20/2021 09:35:03 PM,04/20/2021 09:36:16 PM,04/20/2021 09:37:55 PM,,,Fire,04/20/2021 10:04:34 PM,1000 Block of FILLMORE ST,San Francisco,94115.0,B05,5.0,3534,3,3,3,False,Alarm,1,TRUCK,1.0,5,5,Western Addition,211103382-T05,POINT (-122.43192583901794 37.779089383221105),39.0',\n",
       " '246,211103379,91,21047651,Medical Incident,04/20/2021,04/20/2021,04/20/2021 09:30:38 PM,04/20/2021 09:33:55 PM,04/20/2021 09:34:13 PM,04/20/2021 09:36:09 PM,04/20/2021 10:00:56 PM,04/20/2021 10:34:32 PM,04/20/2021 10:42:55 PM,Code 2 Transport,04/20/2021 11:25:00 PM,200 Block of 3RD ST,San Francisco,94105.0,B03,1.0,2177,2,2,2,True,Potentially Life-Threatening,1,MEDIC,1.0,3,6,Financial District/South Beach,211103379-91,POINT (-122.39991472915952 37.784660412197006),8.0',\n",
       " '247,211103362,88,21047650,Medical Incident,04/20/2021,04/20/2021,04/20/2021 09:24:04 PM,04/20/2021 09:27:01 PM,04/20/2021 09:27:08 PM,,,,,Cancelled,04/20/2021 09:27:44 PM,1000 Block of PALOU AVE,San Francisco,94124.0,B10,17.0,6647,2,2,2,True,Non Life-threatening,1,MEDIC,1.0,10,10,Bayview Hunters Point,211103362-88,POINT (-122.38081834118263 37.72818702798081),1.0',\n",
       " '248,211103362,85,21047650,Medical Incident,04/20/2021,04/20/2021,04/20/2021 09:24:04 PM,04/20/2021 09:27:01 PM,04/20/2021 09:27:56 PM,04/20/2021 09:27:59 PM,,,,Cancelled,04/20/2021 09:29:04 PM,1000 Block of PALOU AVE,San Francisco,94124.0,B10,17.0,6647,2,2,2,True,Non Life-threatening,1,MEDIC,2.0,10,10,Bayview Hunters Point,211103362-85,POINT (-122.38081834118263 37.72818702798081),1.0',\n",
       " '249,211103349,E12,21047649,Structure Fire,04/20/2021,04/20/2021,04/20/2021 09:21:52 PM,04/20/2021 09:21:52 PM,04/20/2021 09:22:04 PM,04/20/2021 09:23:14 PM,04/20/2021 09:24:13 PM,,,Fire,04/20/2021 09:24:55 PM,WILLARD ST/CARL ST,San Francisco,94117.0,B05,12.0,5145,3,3,3,True,Alarm,1,ENGINE,1.0,5,5,Inner Sunset,211103349-E12,POINT (-122.4544040202626 37.765232926789395),14.0',\n",
       " '250,211103330,63,21047647,Medical Incident,04/20/2021,04/20/2021,04/20/2021 09:16:01 PM,04/20/2021 09:16:01 PM,04/20/2021 09:16:22 PM,04/20/2021 09:16:27 PM,,,,Other,04/20/2021 09:16:42 PM,100 Block of DUBOCE AVE,San Francisco,94103.0,B02,6.0,5126,A,2,2,True,Non Life-threatening,1,MEDIC,1.0,2,8,Mission,211103330-63,POINT (-122.42348893715086 37.76985532644622),20.0',\n",
       " '251,211103316,70,21047646,Medical Incident,04/20/2021,04/20/2021,04/20/2021 09:10:37 PM,04/20/2021 09:10:37 PM,04/20/2021 09:11:15 PM,04/20/2021 09:11:21 PM,04/20/2021 09:24:39 PM,04/20/2021 09:55:50 PM,04/20/2021 10:04:03 PM,Code 2 Transport,04/20/2021 10:52:07 PM,DUBOCE AV/PEARL ST,San Francisco,94103.0,B02,6.0,5126,A,2,2,True,Non Life-threatening,1,MEDIC,1.0,2,8,Mission,211103316-70,POINT (-122.42382147624706 37.769780285945544),20.0',\n",
       " '252,211103314,74,21047645,Medical Incident,04/20/2021,04/20/2021,04/20/2021 09:08:39 PM,04/20/2021 09:09:51 PM,04/20/2021 09:09:58 PM,04/20/2021 09:10:14 PM,04/20/2021 09:16:21 PM,04/20/2021 10:00:10 PM,04/20/2021 10:00:18 PM,Code 2 Transport,04/20/2021 10:37:33 PM,3000 Block of 25TH ST,San Francisco,94110.0,B06,7.0,5533,3,3,3,True,Potentially Life-Threatening,1,MEDIC,2.0,6,9,Mission,211103314-74,POINT (-122.41128383596929 37.75111755499799),20.0',\n",
       " '253,211103314,E07,21047645,Medical Incident,04/20/2021,04/20/2021,04/20/2021 09:08:39 PM,04/20/2021 09:09:51 PM,04/20/2021 09:09:58 PM,04/20/2021 09:10:35 PM,04/20/2021 09:13:19 PM,,,Code 2 Transport,04/20/2021 09:27:08 PM,3000 Block of 25TH ST,San Francisco,94110.0,B06,7.0,5533,3,3,3,True,Potentially Life-Threatening,1,ENGINE,1.0,6,9,Mission,211103314-E07,POINT (-122.41128383596929 37.75111755499799),20.0',\n",
       " '254,211103305,EMS6B,21047644,Medical Incident,04/20/2021,04/20/2021,04/20/2021 09:06:08 PM,04/20/2021 09:07:00 PM,04/20/2021 09:20:01 PM,04/20/2021 09:20:01 PM,,,,Code 2 Transport,04/20/2021 09:33:47 PM,300 Block of CLEMENTINA ST,San Francisco,94103.0,B03,1.0,2215,3,3,3,False,Non Life-threatening,1,CHIEF,3.0,3,6,South of Market,211103305-EMS6B,POINT (-122.40232147637953 37.782038714617414),34.0',\n",
       " '255,211103305,84,21047644,Medical Incident,04/20/2021,04/20/2021,04/20/2021 09:06:08 PM,04/20/2021 09:07:00 PM,04/20/2021 09:08:38 PM,04/20/2021 09:08:52 PM,04/20/2021 09:15:43 PM,04/20/2021 09:36:34 PM,04/20/2021 09:36:34 PM,Code 2 Transport,04/20/2021 10:44:46 PM,300 Block of CLEMENTINA ST,San Francisco,94103.0,B03,1.0,2215,3,3,3,True,Non Life-threatening,1,MEDIC,2.0,3,6,South of Market,211103305-84,POINT (-122.40232147637953 37.782038714617414),34.0',\n",
       " '256,211103305,E01,21047644,Medical Incident,04/20/2021,04/20/2021,04/20/2021 09:06:08 PM,04/20/2021 09:07:00 PM,04/20/2021 09:08:38 PM,04/20/2021 09:10:09 PM,04/20/2021 09:12:32 PM,,,Code 2 Transport,04/20/2021 09:17:49 PM,300 Block of CLEMENTINA ST,San Francisco,94103.0,B03,1.0,2215,3,3,3,True,Non Life-threatening,1,ENGINE,1.0,3,6,South of Market,211103305-E01,POINT (-122.40232147637953 37.782038714617414),34.0',\n",
       " '257,211103303,E37,21047643,Alarms,04/20/2021,04/20/2021,04/20/2021 09:03:42 PM,04/20/2021 09:06:31 PM,04/20/2021 09:06:53 PM,04/20/2021 09:07:58 PM,04/20/2021 09:10:56 PM,,,Fire,04/20/2021 09:14:32 PM,1000 Block of POTRERO AVE,San Francisco,94110.0,B10,37.0,2552,3,3,3,False,Alarm,1,ENGINE,1.0,10,10,Potrero Hill,211103303-E37,POINT (-122.40654101431957 37.756508001321855),20.0',\n",
       " '258,211103293,B01,21047642,Gas Leak (Natural and LP Gases),04/20/2021,04/20/2021,04/20/2021 09:02:31 PM,04/20/2021 09:03:34 PM,04/20/2021 09:03:52 PM,04/20/2021 09:05:12 PM,04/20/2021 09:06:36 PM,,,Fire,04/20/2021 09:18:49 PM,1000 Block of JACKSON ST,San Francisco,94108.0,B01,2.0,1443,3,3,3,False,Alarm,1,CHIEF,1.0,1,3,Nob Hill,211103293-B01,POINT (-122.41210374614427 37.79528093270055),21.0',\n",
       " '259,211103293,T02,21047642,Gas Leak (Natural and LP Gases),04/20/2021,04/20/2021,04/20/2021 09:02:31 PM,04/20/2021 09:03:34 PM,04/20/2021 09:03:52 PM,04/20/2021 09:05:38 PM,04/20/2021 09:07:37 PM,,,Fire,04/20/2021 09:18:49 PM,1000 Block of JACKSON ST,San Francisco,94108.0,B01,2.0,1443,3,3,3,False,Alarm,1,TRUCK,3.0,1,3,Nob Hill,211103293-T02,POINT (-122.41210374614427 37.79528093270055),21.0',\n",
       " '260,211103293,E02,21047642,Gas Leak (Natural and LP Gases),04/20/2021,04/20/2021,04/20/2021 09:02:31 PM,04/20/2021 09:03:34 PM,04/20/2021 09:03:52 PM,04/20/2021 09:05:31 PM,04/20/2021 09:06:37 PM,,,Fire,04/20/2021 09:18:48 PM,1000 Block of JACKSON ST,San Francisco,94108.0,B01,2.0,1443,3,3,3,True,Alarm,1,ENGINE,2.0,1,3,Nob Hill,211103293-E02,POINT (-122.41210374614427 37.79528093270055),21.0',\n",
       " '261,211103288,QRV1,21047641,Medical Incident,04/20/2021,04/20/2021,04/20/2021 09:01:11 PM,04/20/2021 09:01:54 PM,04/20/2021 09:02:22 PM,04/20/2021 09:03:12 PM,04/20/2021 09:10:03 PM,,,No Merit,04/20/2021 09:25:38 PM,300 Block of CLEMENTINA ST,San Francisco,94103.0,B03,1.0,2215,3,3,3,True,Potentially Life-Threatening,1,SUPPORT,1.0,3,6,South of Market,211103288-QRV1,POINT (-122.40232147637953 37.782038714617414),34.0',\n",
       " '262,211103288,64,21047641,Medical Incident,04/20/2021,04/20/2021,04/20/2021 09:01:11 PM,04/20/2021 09:01:54 PM,04/20/2021 09:02:22 PM,04/20/2021 09:02:26 PM,04/20/2021 09:14:24 PM,,,No Merit,04/20/2021 09:24:43 PM,300 Block of CLEMENTINA ST,San Francisco,94103.0,B03,1.0,2215,3,3,3,True,Potentially Life-Threatening,1,MEDIC,2.0,3,6,South of Market,211103288-64,POINT (-122.40232147637953 37.782038714617414),34.0',\n",
       " '263,211103284,E15,21047640,Medical Incident,04/20/2021,04/20/2021,04/20/2021 09:00:06 PM,04/20/2021 09:00:53 PM,04/20/2021 09:01:00 PM,04/20/2021 09:02:25 PM,04/20/2021 09:04:27 PM,,,Code 3 Transport,04/20/2021 09:19:42 PM,1000 Block of CAPITOL AVE,San Francisco,94112.0,B09,15.0,8464,3,3,3,True,Potentially Life-Threatening,1,ENGINE,1.0,9,11,Oceanview/Merced/Ingleside,211103284-E15,POINT (-122.45927047276692 37.72093067262399),24.0',\n",
       " '264,211103284,60,21047640,Medical Incident,04/20/2021,04/20/2021,04/20/2021 09:00:06 PM,04/20/2021 09:00:53 PM,04/20/2021 09:01:00 PM,04/20/2021 09:01:06 PM,04/20/2021 09:05:31 PM,04/20/2021 09:20:28 PM,04/20/2021 09:29:06 PM,Code 3 Transport,04/20/2021 10:17:13 PM,1000 Block of CAPITOL AVE,San Francisco,94112.0,B09,15.0,8464,3,3,3,True,Potentially Life-Threatening,1,MEDIC,2.0,9,11,Oceanview/Merced/Ingleside,211103284-60,POINT (-122.45927047276692 37.72093067262399),24.0',\n",
       " '265,211103273,86,21047638,Medical Incident,04/20/2021,04/20/2021,04/20/2021 08:52:54 PM,04/20/2021 08:55:03 PM,04/20/2021 08:55:10 PM,04/20/2021 08:55:35 PM,04/20/2021 09:01:17 PM,04/20/2021 09:09:18 PM,04/20/2021 09:21:31 PM,Code 2 Transport,04/20/2021 09:51:50 PM,100 Block of MINNA ST,San Francisco,94105.0,B03,1.0,2157,2,2,2,True,Non Life-threatening,1,MEDIC,1.0,3,6,Financial District/South Beach,211103273-86,POINT (-122.39966382518864 37.78733396925198),8.0',\n",
       " '266,211103255,77,21047637,Medical Incident,04/20/2021,04/20/2021,04/20/2021 08:43:19 PM,04/20/2021 08:46:49 PM,04/20/2021 08:47:04 PM,04/20/2021 08:47:09 PM,04/20/2021 09:00:06 PM,04/20/2021 09:17:58 PM,04/20/2021 09:24:03 PM,Code 2 Transport,04/20/2021 09:56:45 PM,900 Block of STEINER ST,San Francisco,94117.0,B05,5.0,3626,2,2,2,True,Non Life-threatening,1,MEDIC,1.0,5.0,5,Western Addition,211103255-77,POINT (-122.43331303662745 37.77795642106344),39.0',\n",
       " '267,211103243,54,21047636,Medical Incident,04/20/2021,04/20/2021,04/20/2021 08:38:00 PM,04/20/2021 08:38:48 PM,04/20/2021 08:38:57 PM,04/20/2021 08:39:01 PM,04/20/2021 08:40:16 PM,,,Medical Examiner,04/20/2021 10:33:33 PM,1300 Block of PINE ST,San Francisco,94109.0,B04,41.0,1562,E,E,3,True,Potentially Life-Threatening,1,MEDIC,1.0,4,3,Nob Hill,211103243-54,POINT (-122.4180124227831 37.78988335136768),21.0',\n",
       " '268,211103243,E41,21047636,Medical Incident,04/20/2021,04/20/2021,04/20/2021 08:38:00 PM,04/20/2021 08:38:48 PM,04/20/2021 08:38:57 PM,04/20/2021 08:39:37 PM,04/20/2021 08:41:32 PM,,,Medical Examiner,04/20/2021 09:16:26 PM,1300 Block of PINE ST,San Francisco,94109.0,B04,41.0,1562,E,E,3,False,Potentially Life-Threatening,1,ENGINE,2.0,4,3,Nob Hill,211103243-E41,POINT (-122.4180124227831 37.78988335136768),21.0',\n",
       " '269,211103243,RC1,21047636,Medical Incident,04/20/2021,04/20/2021,04/20/2021 08:38:00 PM,04/20/2021 08:38:48 PM,04/20/2021 08:38:57 PM,04/20/2021 08:40:29 PM,04/20/2021 08:46:21 PM,,,Medical Examiner,04/20/2021 09:46:49 PM,1300 Block of PINE ST,San Francisco,94109.0,B04,41.0,1562,E,E,3,True,Potentially Life-Threatening,1,RESCUE CAPTAIN,3.0,4,3,Nob Hill,211103243-RC1,POINT (-122.4180124227831 37.78988335136768),21.0',\n",
       " '270,211103238,KM13,21047635,Medical Incident,04/20/2021,04/20/2021,04/20/2021 08:36:06 PM,04/20/2021 08:36:06 PM,04/20/2021 08:36:35 PM,04/20/2021 08:37:00 PM,04/20/2021 08:45:44 PM,04/20/2021 09:00:53 PM,04/20/2021 09:19:09 PM,Code 2 Transport,04/20/2021 09:49:06 PM,1500 Block of LOMBARD ST,San Francisco,94123.0,B04,16.0,3244,A,2,2,False,Non Life-threatening,1,PRIVATE,1.0,4,2,Marina,211103238-KM13,POINT (-122.42697909414665 37.80087469233612),13.0',\n",
       " '271,211103236,AM116,21047634,Medical Incident,04/20/2021,04/20/2021,04/20/2021 08:34:24 PM,04/20/2021 08:35:43 PM,04/20/2021 08:36:03 PM,04/20/2021 08:36:28 PM,04/20/2021 08:39:24 PM,04/20/2021 08:56:21 PM,04/20/2021 09:02:28 PM,Code 2 Transport,04/20/2021 09:36:53 PM,300 Block of HYDE ST,San Francisco,94109.0,B02,3.0,1555,3,2,2,False,Non Life-threatening,1,PRIVATE,1.0,2,6,Tenderloin,211103236-AM116,POINT (-122.41604546565515 37.78397351430212),36.0',\n",
       " '272,211103236,QRV1,21047634,Medical Incident,04/20/2021,04/20/2021,04/20/2021 08:34:24 PM,04/20/2021 08:35:43 PM,04/20/2021 08:36:03 PM,04/20/2021 08:36:08 PM,04/20/2021 08:39:28 PM,,,Code 2 Transport,04/20/2021 08:57:35 PM,300 Block of HYDE ST,San Francisco,94109.0,B02,3.0,1555,3,2,2,True,Non Life-threatening,1,SUPPORT,2.0,2,6,Tenderloin,211103236-QRV1,POINT (-122.41604546565515 37.78397351430212),36.0',\n",
       " '273,211103231,E09,21047632,Outside Fire,04/20/2021,04/20/2021,04/20/2021 08:32:03 PM,04/20/2021 08:33:45 PM,04/20/2021 08:34:16 PM,04/20/2021 08:35:27 PM,04/20/2021 08:38:28 PM,,,Fire,04/20/2021 09:05:46 PM,CESAR CHAVEZ ST/POTRERO AV,San Francisco,94110.0,B10,9.0,2626,3,3,3,True,Fire,1,ENGINE,1.0,10.0,9,Bernal Heights,211103231-E09,POINT (-122.40500734373666 37.749005572081494),2.0',\n",
       " '274,211103227,87,21047631,Medical Incident,04/20/2021,04/20/2021,04/20/2021 08:27:35 PM,04/20/2021 08:31:24 PM,04/20/2021 08:31:41 PM,04/20/2021 08:31:45 PM,04/20/2021 08:48:46 PM,04/20/2021 09:09:20 PM,04/20/2021 09:14:52 PM,Code 2 Transport,04/20/2021 10:12:02 PM,0 Block of ANNAPOLIS TER,San Francisco,94118.0,B05,21.0,4564,2,2,2,True,Non Life-threatening,1,MEDIC,1.0,5,1,Lone Mountain/USF,211103227-87,POINT (-122.44796826189496 37.77801480826065),18.0',\n",
       " '275,211103222,RS2,21047630,Other,04/20/2021,04/20/2021,04/20/2021 08:28:32 PM,04/20/2021 08:30:16 PM,04/20/2021 09:13:06 PM,04/20/2021 09:13:26 PM,04/20/2021 09:23:19 PM,,,Fire,04/20/2021 09:36:43 PM,200 Block of JERSEY ST,San Francisco,94114.0,B06,11.0,5537,3,3,3,False,Alarm,1,RESCUE SQUAD,3.0,6,8,Noe Valley,211103222-RS2,POINT (-122.43068003187282 37.75064041751263),22.0',\n",
       " '276,211103222,T11,21047630,Other,04/20/2021,04/20/2021,04/20/2021 08:28:32 PM,04/20/2021 08:30:16 PM,04/20/2021 08:52:21 PM,04/20/2021 08:52:21 PM,04/20/2021 08:54:57 PM,,,Fire,04/20/2021 09:38:01 PM,200 Block of JERSEY ST,San Francisco,94114.0,B06,11.0,5537,3,3,3,False,Alarm,1,TRUCK,2.0,6,8,Noe Valley,211103222-T11,POINT (-122.43068003187282 37.75064041751263),22.0',\n",
       " '277,211103219,52,21047629,Medical Incident,04/20/2021,04/20/2021,04/20/2021 08:27:48 PM,04/20/2021 08:29:08 PM,04/20/2021 08:29:47 PM,04/20/2021 08:29:59 PM,04/20/2021 08:41:51 PM,04/20/2021 09:12:08 PM,04/20/2021 09:26:21 PM,Code 2 Transport,04/20/2021 10:13:38 PM,100 Block of LOMITA AVE,San Francisco,94122.0,B08,22.0,7372,2,3,3,True,Non Life-threatening,1,MEDIC,1.0,8,7,Inner Sunset,211103219-52,POINT (-122.47300033890104 37.757545355536216),14.0',\n",
       " '278,211103219,E22,21047629,Medical Incident,04/20/2021,04/20/2021,04/20/2021 08:27:48 PM,04/20/2021 08:29:08 PM,04/20/2021 08:38:30 PM,04/20/2021 08:39:49 PM,04/20/2021 08:42:51 PM,,,Code 2 Transport,04/20/2021 08:47:33 PM,100 Block of LOMITA AVE,San Francisco,94122.0,B08,22.0,7372,2,3,3,False,Non Life-threatening,1,ENGINE,2.0,8,7,Inner Sunset,211103219-E22,POINT (-122.47300033890104 37.757545355536216),14.0',\n",
       " '279,211103199,QRV1,21047627,Medical Incident,04/20/2021,04/20/2021,04/20/2021 08:21:58 PM,04/20/2021 08:23:20 PM,04/20/2021 08:23:32 PM,04/20/2021 08:23:44 PM,04/20/2021 08:27:09 PM,,,Code 2 Transport,04/20/2021 08:30:37 PM,600 Block of ELLIS ST,San Francisco,94109.0,B02,3.0,1555,3,2,2,True,Non Life-threatening,1,SUPPORT,1.0,2,6,Tenderloin,211103199-QRV1,POINT (-122.41690045984917 37.784396493092686),36.0',\n",
       " '280,211103199,KM12,21047627,Medical Incident,04/20/2021,04/20/2021,04/20/2021 08:21:58 PM,04/20/2021 08:23:20 PM,04/20/2021 08:23:32 PM,04/20/2021 08:27:39 PM,04/20/2021 08:28:22 PM,04/20/2021 08:40:05 PM,04/20/2021 08:50:00 PM,Code 2 Transport,04/20/2021 09:22:34 PM,600 Block of ELLIS ST,San Francisco,94109.0,B02,3.0,1555,3,2,2,False,Non Life-threatening,1,PRIVATE,2.0,2,6,Tenderloin,211103199-KM12,POINT (-122.41690045984917 37.784396493092686),36.0',\n",
       " '281,211103178,RC3,21047626,Traffic Collision,04/20/2021,04/20/2021,04/20/2021 08:17:37 PM,04/20/2021 08:17:37 PM,04/20/2021 08:18:10 PM,04/20/2021 08:18:57 PM,,,,Code 2 Transport,04/20/2021 08:23:15 PM,INGALLS ST/ROSIE LEE LN,San Francisco,94124.0,B10,17.0,6626,A,3,3,True,Non Life-threatening,1,RESCUE CAPTAIN,6.0,10,10,Bayview Hunters Point,211103178-RC3,POINT (-122.37934710987733 37.73167941096414),1.0',\n",
       " '282,211103178,88,21047626,Traffic Collision,04/20/2021,04/20/2021,04/20/2021 08:17:37 PM,04/20/2021 08:17:37 PM,04/20/2021 08:18:10 PM,04/20/2021 08:19:03 PM,,,,Code 2 Transport,04/20/2021 08:24:11 PM,INGALLS ST/ROSIE LEE LN,San Francisco,94124.0,B10,17.0,6626,A,3,3,True,Non Life-threatening,1,MEDIC,5.0,10,10,Bayview Hunters Point,211103178-88,POINT (-122.37934710987733 37.73167941096414),1.0',\n",
       " '283,211103178,RS2,21047626,Traffic Collision,04/20/2021,04/20/2021,04/20/2021 08:17:37 PM,04/20/2021 08:17:37 PM,04/20/2021 08:18:10 PM,04/20/2021 08:19:26 PM,,,,Code 2 Transport,04/20/2021 08:22:28 PM,INGALLS ST/ROSIE LEE LN,San Francisco,94124.0,B10,17.0,6626,A,3,3,False,Non Life-threatening,1,RESCUE SQUAD,7.0,10,10,Bayview Hunters Point,211103178-RS2,POINT (-122.37934710987733 37.73167941096414),1.0',\n",
       " '284,211103178,E17,21047626,Traffic Collision,04/20/2021,04/20/2021,04/20/2021 08:17:37 PM,04/20/2021 08:17:37 PM,04/20/2021 08:18:10 PM,04/20/2021 08:19:21 PM,04/20/2021 08:21:19 PM,,,Code 2 Transport,04/20/2021 08:42:35 PM,INGALLS ST/ROSIE LEE LN,San Francisco,94124.0,B10,17.0,6626,A,3,3,True,Non Life-threatening,1,ENGINE,1.0,10,10,Bayview Hunters Point,211103178-E17,POINT (-122.37934710987733 37.73167941096414),1.0',\n",
       " '285,211103178,73,21047626,Traffic Collision,04/20/2021,04/20/2021,04/20/2021 08:17:37 PM,04/20/2021 08:17:37 PM,04/20/2021 08:18:10 PM,04/20/2021 08:20:23 PM,04/20/2021 08:29:23 PM,04/20/2021 08:51:13 PM,04/20/2021 09:05:30 PM,Code 2 Transport,04/20/2021 09:46:31 PM,INGALLS ST/ROSIE LEE LN,San Francisco,94124.0,B10,17.0,6626,A,3,3,True,Non Life-threatening,1,MEDIC,4.0,10,10,Bayview Hunters Point,211103178-73,POINT (-122.37934710987733 37.73167941096414),1.0',\n",
       " '286,211103178,B10,21047626,Traffic Collision,04/20/2021,04/20/2021,04/20/2021 08:17:37 PM,04/20/2021 08:17:37 PM,04/20/2021 08:18:10 PM,04/20/2021 08:20:00 PM,04/20/2021 08:22:24 PM,,,Code 2 Transport,04/20/2021 08:23:00 PM,INGALLS ST/ROSIE LEE LN,San Francisco,94124.0,B10,17.0,6626,A,3,3,False,Non Life-threatening,1,CHIEF,2.0,10,10,Bayview Hunters Point,211103178-B10,POINT (-122.37934710987733 37.73167941096414),1.0',\n",
       " '287,211103178,T17,21047626,Traffic Collision,04/20/2021,04/20/2021,04/20/2021 08:17:37 PM,04/20/2021 08:17:37 PM,04/20/2021 08:18:10 PM,04/20/2021 08:19:44 PM,04/20/2021 08:23:30 PM,,,Code 2 Transport,04/20/2021 08:34:31 PM,INGALLS ST/ROSIE LEE LN,San Francisco,94124.0,B10,17.0,6626,A,3,3,False,Non Life-threatening,1,TRUCK,3.0,10,10,Bayview Hunters Point,211103178-T17,POINT (-122.37934710987733 37.73167941096414),1.0',\n",
       " '288,211103172,83,21047625,Structure Fire,04/20/2021,04/20/2021,04/20/2021 08:11:11 PM,04/20/2021 08:13:36 PM,04/20/2021 08:13:46 PM,04/20/2021 08:14:12 PM,04/20/2021 08:18:45 PM,,,Fire,04/20/2021 08:23:19 PM,1000 Block of MISSION ST,San Francisco,94103.0,B03,1.0,2251,3,3,3,True,Alarm,1,MEDIC,7.0,3,6,South of Market,211103172-83,POINT (-122.40977382525976 37.78005250308135),34.0',\n",
       " '289,211103172,D3,21047625,Structure Fire,04/20/2021,04/20/2021,04/20/2021 08:11:11 PM,04/20/2021 08:13:36 PM,04/20/2021 08:13:46 PM,04/20/2021 08:14:35 PM,04/20/2021 08:19:10 PM,,,Fire,04/20/2021 08:39:21 PM,1000 Block of MISSION ST,San Francisco,94103.0,B03,1.0,2251,3,3,3,False,Alarm,1,CHIEF,8.0,3,6,South of Market,211103172-D3,POINT (-122.40977382525976 37.78005250308135),34.0',\n",
       " '290,211103172,E36,21047625,Structure Fire,04/20/2021,04/20/2021,04/20/2021 08:11:11 PM,04/20/2021 08:13:36 PM,04/20/2021 08:13:46 PM,04/20/2021 08:16:47 PM,04/20/2021 08:16:47 PM,,,Fire,04/20/2021 08:24:14 PM,1000 Block of MISSION ST,San Francisco,94103.0,B03,1.0,2251,3,3,3,True,Alarm,1,ENGINE,4.0,3,6,South of Market,211103172-E36,POINT (-122.40977382525976 37.78005250308135),34.0',\n",
       " '291,211103172,T08,21047625,Structure Fire,04/20/2021,04/20/2021,04/20/2021 08:11:11 PM,04/20/2021 08:13:36 PM,04/20/2021 08:13:46 PM,04/20/2021 08:14:41 PM,,,,Fire,04/20/2021 08:31:13 PM,1000 Block of MISSION ST,San Francisco,94103.0,B03,1.0,2251,3,3,3,False,Alarm,1,TRUCK,9.0,3,6,South of Market,211103172-T08,POINT (-122.40977382525976 37.78005250308135),34.0',\n",
       " '292,211103172,T01,21047625,Structure Fire,04/20/2021,04/20/2021,04/20/2021 08:11:11 PM,04/20/2021 08:13:36 PM,04/20/2021 08:13:46 PM,04/20/2021 08:15:00 PM,,,,Fire,04/20/2021 08:26:21 PM,1000 Block of MISSION ST,San Francisco,94103.0,B03,1.0,2251,3,3,3,False,Alarm,1,TRUCK,10.0,3,6,South of Market,211103172-T01,POINT (-122.40977382525976 37.78005250308135),34.0',\n",
       " '293,211103172,E01,21047625,Structure Fire,04/20/2021,04/20/2021,04/20/2021 08:11:11 PM,04/20/2021 08:13:36 PM,04/20/2021 08:13:46 PM,04/20/2021 08:14:28 PM,04/20/2021 08:16:06 PM,,,Fire,04/20/2021 08:26:10 PM,1000 Block of MISSION ST,San Francisco,94103.0,B03,1.0,2251,3,3,3,True,Alarm,1,ENGINE,1.0,3,6,South of Market,211103172-E01,POINT (-122.40977382525976 37.78005250308135),34.0',\n",
       " '294,211103172,B02,21047625,Structure Fire,04/20/2021,04/20/2021,04/20/2021 08:11:11 PM,04/20/2021 08:13:36 PM,04/20/2021 08:13:46 PM,04/20/2021 08:14:42 PM,04/20/2021 08:16:44 PM,,,Fire,04/20/2021 08:27:59 PM,1000 Block of MISSION ST,San Francisco,94103.0,B03,1.0,2251,3,3,3,False,Alarm,1,CHIEF,3.0,3,6,South of Market,211103172-B02,POINT (-122.40977382525976 37.78005250308135),34.0',\n",
       " '295,211103172,E08,21047625,Structure Fire,04/20/2021,04/20/2021,04/20/2021 08:11:11 PM,04/20/2021 08:13:36 PM,04/20/2021 08:13:46 PM,04/20/2021 08:14:50 PM,04/20/2021 08:18:25 PM,,,Fire,04/20/2021 08:23:00 PM,1000 Block of MISSION ST,San Francisco,94103.0,B03,1.0,2251,3,3,3,True,Alarm,1,ENGINE,6.0,3,6,South of Market,211103172-E08,POINT (-122.40977382525976 37.78005250308135),34.0',\n",
       " '296,211103172,B03,21047625,Structure Fire,04/20/2021,04/20/2021,04/20/2021 08:11:11 PM,04/20/2021 08:13:36 PM,04/20/2021 08:13:46 PM,04/20/2021 08:15:26 PM,04/20/2021 08:18:09 PM,,,Fire,04/20/2021 08:29:54 PM,1000 Block of MISSION ST,San Francisco,94103.0,B03,1.0,2251,3,3,3,False,Alarm,1,CHIEF,5.0,3,6,South of Market,211103172-B03,POINT (-122.40977382525976 37.78005250308135),34.0',\n",
       " '297,211103172,RS1,21047625,Structure Fire,04/20/2021,04/20/2021,04/20/2021 08:11:11 PM,04/20/2021 08:13:36 PM,04/20/2021 08:13:46 PM,04/20/2021 08:14:51 PM,04/20/2021 08:16:07 PM,,,Fire,04/20/2021 08:26:33 PM,1000 Block of MISSION ST,San Francisco,94103.0,B03,1.0,2251,3,3,3,False,Alarm,1,RESCUE SQUAD,2.0,3,6,South of Market,211103172-RS1,POINT (-122.40977382525976 37.78005250308135),34.0',\n",
       " '298,211103147,74,21047623,Medical Incident,04/20/2021,04/20/2021,04/20/2021 08:00:21 PM,04/20/2021 08:00:21 PM,04/20/2021 08:00:35 PM,04/20/2021 08:01:05 PM,04/20/2021 08:04:27 PM,,,Cancelled,04/20/2021 08:06:15 PM,900 Block of SUTTER ST,San Francisco,94109.0,B04,3.0,1557,A,3,3,True,Potentially Life-Threatening,1,MEDIC,2.0,4,3,Nob Hill,211103147-74,POINT (-122.41599519829164 37.788228686156415),21.0',\n",
       " '299,211103147,E03,21047623,Medical Incident,04/20/2021,04/20/2021,04/20/2021 08:00:21 PM,04/20/2021 08:00:21 PM,04/20/2021 08:00:35 PM,04/20/2021 08:02:16 PM,04/20/2021 08:03:50 PM,,,Cancelled,04/20/2021 08:06:15 PM,900 Block of SUTTER ST,San Francisco,94109.0,B04,3.0,1557,A,3,3,True,Potentially Life-Threatening,1,ENGINE,1.0,4,3,Nob Hill,211103147-E03,POINT (-122.41599519829164 37.788228686156415),21.0',\n",
       " '300,211103117,70,21047622,Medical Incident,04/20/2021,04/20/2021,04/20/2021 07:46:02 PM,04/20/2021 07:46:48 PM,04/20/2021 07:47:05 PM,04/20/2021 07:47:10 PM,04/20/2021 07:55:26 PM,,,Patient Declined Transport,04/20/2021 08:42:55 PM,700 Block of BURNETT AVE,San Francisco,94131.0,B06,24.0,5282,3,3,3,True,Potentially Life-Threatening,1,MEDIC,2.0,6,8,Twin Peaks,211103117-70,POINT (-122.44547048782839 37.7506825120197),38.0',\n",
       " '301,211103117,E24,21047622,Medical Incident,04/20/2021,04/20/2021,04/20/2021 07:46:02 PM,04/20/2021 07:46:48 PM,04/20/2021 07:47:05 PM,04/20/2021 07:48:16 PM,04/20/2021 07:51:40 PM,,,Patient Declined Transport,04/20/2021 08:00:53 PM,700 Block of BURNETT AVE,San Francisco,94131.0,B06,24.0,5282,3,3,3,False,Potentially Life-Threatening,1,ENGINE,1.0,6,8,Twin Peaks,211103117-E24,POINT (-122.44547048782839 37.7506825120197),38.0',\n",
       " '302,211103104,E03,21047621,Outside Fire,04/20/2021,04/20/2021,04/20/2021 07:40:46 PM,04/20/2021 07:42:39 PM,04/20/2021 07:43:06 PM,04/20/2021 07:44:18 PM,04/20/2021 07:45:45 PM,,,Fire,04/20/2021 07:50:50 PM,900 Block of LARKIN ST,San Francisco,94109.0,B04,3.0,1641,3,3,3,True,Fire,1,ENGINE,1.0,4,6,Tenderloin,211103104-E03,POINT (-122.41806508200602 37.78634191966699),36.0',\n",
       " '303,211103097,54,21047620,Medical Incident,04/20/2021,04/20/2021,04/20/2021 07:39:45 PM,04/20/2021 07:39:45 PM,04/20/2021 07:40:01 PM,04/20/2021 07:40:06 PM,04/20/2021 07:45:28 PM,,,Patient Declined Transport,04/20/2021 08:03:14 PM,STOCKTON ST/POST ST,San Francisco,94108.0,B01,2.0,1323,A,2,2,True,Non Life-threatening,1,MEDIC,1.0,1,3,Financial District/South Beach,211103097-54,POINT (-122.40677114521634 37.78849947980706),8.0',\n",
       " '304,211103096,E05,21047619,Outside Fire,04/20/2021,04/20/2021,04/20/2021 07:37:50 PM,04/20/2021 07:39:21 PM,04/20/2021 07:39:28 PM,04/20/2021 07:40:33 PM,04/20/2021 07:41:51 PM,,,Fire,04/20/2021 07:44:47 PM,FULTON ST/BUCHANAN ST,San Francisco,94102.0,B02,5.0,3412,3,3,3,True,Fire,1,ENGINE,1.0,2.0,5,Western Addition,211103096-E05,POINT (-122.42827156559656 37.77817622744772),39.0',\n",
       " '305,211103095,84,21047618,Medical Incident,04/20/2021,04/20/2021,04/20/2021 07:39:19 PM,04/20/2021 07:39:19 PM,04/20/2021 07:39:32 PM,04/20/2021 07:39:39 PM,04/20/2021 07:52:10 PM,,,Patient Declined Transport,04/20/2021 08:40:06 PM,2200 Block of MISSION ST,San Francisco,94110.0,B02,7.0,5423,A,2,2,True,Non Life-threatening,1,MEDIC,1.0,6,9,Mission,211103095-84,POINT (-122.41935164261461 37.76103144298335),20.0',\n",
       " '306,211103081,88,21047617,Medical Incident,04/20/2021,04/20/2021,04/20/2021 07:33:17 PM,04/20/2021 07:33:17 PM,04/20/2021 07:33:22 PM,04/20/2021 07:33:30 PM,04/20/2021 07:40:34 PM,,,No Merit,04/20/2021 07:41:15 PM,WILLOW ST/FRANKLIN ST,San Francisco,94109.0,B02,3.0,3163,A,2,2,True,Non Life-threatening,1,MEDIC,1.0,2.0,5,Western Addition,211103081-88,POINT (-122.42255798273702 37.783151426651344),39.0',\n",
       " '307,211103060,91,21047615,Medical Incident,04/20/2021,04/20/2021,04/20/2021 07:28:00 PM,04/20/2021 07:28:00 PM,04/20/2021 07:34:56 PM,04/20/2021 07:37:03 PM,04/20/2021 07:46:07 PM,04/20/2021 07:57:30 PM,04/20/2021 08:14:06 PM,Patient Declined Transport,04/20/2021 09:06:06 PM,200 Block of WHIPPLE AVE,San Francisco,94112.0,B09,33.0,8347,A,2,2,True,Non Life-threatening,1,MEDIC,2.0,9,11,Outer Mission,211103060-91,POINT (-122.44972904389785 37.712511324545595),28.0',\n",
       " '308,211103060,64,21047615,Medical Incident,04/20/2021,04/20/2021,04/20/2021 07:28:00 PM,04/20/2021 07:28:00 PM,04/20/2021 07:28:06 PM,04/20/2021 07:28:09 PM,04/20/2021 07:40:08 PM,,,Patient Declined Transport,04/20/2021 08:28:28 PM,200 Block of WHIPPLE AVE,San Francisco,94112.0,B09,33.0,8347,A,2,2,True,Non Life-threatening,1,MEDIC,1.0,9,11,Outer Mission,211103060-64,POINT (-122.44972904389785 37.712511324545595),28.0',\n",
       " '309,211103037,E18,21047614,Medical Incident,04/20/2021,04/20/2021,04/20/2021 07:20:10 PM,04/20/2021 07:21:14 PM,04/20/2021 07:21:25 PM,04/20/2021 07:22:53 PM,04/20/2021 07:24:35 PM,,,Code 3 Transport,04/20/2021 07:44:57 PM,2200 Block of 35TH AVE,San Francisco,94116.0,B08,18.0,7555,3,3,3,True,Potentially Life-Threatening,1,ENGINE,1.0,8,4,Sunset/Parkside,211103037-E18,POINT (-122.49310194952477 37.74508957529347),35.0',\n",
       " '310,211103037,53,21047614,Medical Incident,04/20/2021,04/20/2021,04/20/2021 07:20:10 PM,04/20/2021 07:21:14 PM,04/20/2021 07:21:25 PM,04/20/2021 07:21:36 PM,04/20/2021 07:28:22 PM,04/20/2021 07:52:56 PM,04/20/2021 08:02:37 PM,Code 3 Transport,04/20/2021 08:53:33 PM,2200 Block of 35TH AVE,San Francisco,94116.0,B08,18.0,7555,3,3,3,True,Potentially Life-Threatening,1,MEDIC,2.0,8,4,Sunset/Parkside,211103037-53,POINT (-122.49310194952477 37.74508957529347),35.0',\n",
       " '311,211103027,E03,21047613,Medical Incident,04/20/2021,04/20/2021,04/20/2021 07:16:06 PM,04/20/2021 07:19:38 PM,04/20/2021 07:19:57 PM,04/20/2021 07:20:29 PM,04/20/2021 07:22:45 PM,,,Code 2 Transport,04/20/2021 07:34:22 PM,1000 Block of SUTTER ST,San Francisco,94109.0,B04,3.0,1557,3,3,3,True,Potentially Life-Threatening,1,ENGINE,1.0,4,3,Nob Hill,211103027-E03,POINT (-122.41765721404046 37.78812630343959),21.0',\n",
       " '312,211103027,RC1,21047613,Medical Incident,04/20/2021,04/20/2021,04/20/2021 07:16:06 PM,04/20/2021 07:19:38 PM,04/20/2021 07:23:23 PM,04/20/2021 07:23:23 PM,,,,Code 2 Transport,04/20/2021 07:25:11 PM,1000 Block of SUTTER ST,San Francisco,94109.0,B04,3.0,1557,3,3,3,True,Potentially Life-Threatening,1,RESCUE CAPTAIN,4.0,4,3,Nob Hill,211103027-RC1,POINT (-122.41765721404046 37.78812630343959),21.0',\n",
       " '313,211103027,RC3,21047613,Medical Incident,04/20/2021,04/20/2021,04/20/2021 07:16:06 PM,04/20/2021 07:19:38 PM,04/20/2021 07:19:57 PM,04/20/2021 07:20:53 PM,,,,Code 2 Transport,04/20/2021 07:23:57 PM,1000 Block of SUTTER ST,San Francisco,94109.0,B04,3.0,1557,3,3,3,True,Potentially Life-Threatening,1,RESCUE CAPTAIN,3.0,4,3,Nob Hill,211103027-RC3,POINT (-122.41765721404046 37.78812630343959),21.0',\n",
       " '314,211103027,AM120,21047613,Medical Incident,04/20/2021,04/20/2021,04/20/2021 07:16:06 PM,04/20/2021 07:19:38 PM,04/20/2021 07:19:57 PM,04/20/2021 07:20:22 PM,04/20/2021 07:24:52 PM,04/20/2021 07:42:52 PM,04/20/2021 07:59:59 PM,Code 2 Transport,04/20/2021 08:27:22 PM,1000 Block of SUTTER ST,San Francisco,94109.0,B04,3.0,1557,3,3,3,False,Potentially Life-Threatening,1,PRIVATE,2.0,4,3,Nob Hill,211103027-AM120,POINT (-122.41765721404046 37.78812630343959),21.0',\n",
       " '315,211103024,KM10,21047612,Medical Incident,04/20/2021,04/20/2021,04/20/2021 07:15:33 PM,04/20/2021 07:18:55 PM,04/20/2021 07:19:22 PM,04/20/2021 07:19:39 PM,04/20/2021 07:30:03 PM,04/20/2021 08:07:59 PM,04/20/2021 08:17:26 PM,Code 2 Transport,04/20/2021 08:53:20 PM,200 Block of LIBERTY ST,San Francisco,94114.0,B06,11.0,5457,2,2,2,False,Non Life-threatening,1,PRIVATE,1.0,6,8,Castro/Upper Market,211103024-KM10,POINT (-122.42682429723818 37.7573061911728),5.0',\n",
       " '316,211103006,QRV1,21047610,Medical Incident,04/20/2021,04/20/2021,04/20/2021 07:13:41 PM,04/20/2021 07:14:36 PM,04/20/2021 07:16:21 PM,04/20/2021 07:16:21 PM,04/20/2021 07:17:23 PM,,,Code 2 Transport,04/20/2021 07:35:02 PM,0 Block of MCALLISTER ST,San Francisco,94102.0,B03,36.0,1455,E,3,3,True,Potentially Life-Threatening,1,SUPPORT,1.0,2,6,Tenderloin,211103006-QRV1,POINT (-122.41257515648606 37.78101073171298),36.0',\n",
       " '317,211103006,RC1,21047610,Medical Incident,04/20/2021,04/20/2021,04/20/2021 07:13:41 PM,04/20/2021 07:14:36 PM,04/20/2021 07:14:52 PM,04/20/2021 07:16:40 PM,04/20/2021 07:20:44 PM,,,Code 2 Transport,04/20/2021 07:22:56 PM,0 Block of MCALLISTER ST,San Francisco,94102.0,B03,36.0,1455,E,3,3,True,Potentially Life-Threatening,1,RESCUE CAPTAIN,2.0,2,6,Tenderloin,211103006-RC1,POINT (-122.41257515648606 37.78101073171298),36.0',\n",
       " '318,211103006,RS1,21047610,Medical Incident,04/20/2021,04/20/2021,04/20/2021 07:13:41 PM,04/20/2021 07:14:36 PM,04/20/2021 07:14:52 PM,04/20/2021 07:16:17 PM,,,,Code 2 Transport,04/20/2021 07:16:21 PM,0 Block of MCALLISTER ST,San Francisco,94102.0,B03,36.0,1455,E,3,3,False,Potentially Life-Threatening,1,RESCUE SQUAD,4.0,2,6,Tenderloin,211103006-RS1,POINT (-122.41257515648606 37.78101073171298),36.0',\n",
       " '319,211103006,63,21047610,Medical Incident,04/20/2021,04/20/2021,04/20/2021 07:13:41 PM,04/20/2021 07:14:36 PM,04/20/2021 07:14:52 PM,04/20/2021 07:14:56 PM,04/20/2021 07:20:45 PM,04/20/2021 07:41:00 PM,04/20/2021 07:48:17 PM,Code 2 Transport,04/20/2021 08:19:54 PM,0 Block of MCALLISTER ST,San Francisco,94102.0,B03,36.0,1455,E,3,3,True,Potentially Life-Threatening,1,MEDIC,3.0,2,6,Tenderloin,211103006-63,POINT (-122.41257515648606 37.78101073171298),36.0',\n",
       " '320,211102993,68,21047609,Medical Incident,04/20/2021,04/20/2021,04/20/2021 07:09:41 PM,04/20/2021 07:11:59 PM,04/20/2021 07:12:31 PM,04/20/2021 07:13:09 PM,04/20/2021 07:20:35 PM,04/20/2021 07:30:02 PM,04/20/2021 07:34:47 PM,Code 2 Transport,04/20/2021 08:09:09 PM,200 Block of EDDY ST,San Francisco,94102.0,B03,3.0,1453,3,3,3,True,Non Life-threatening,1,MEDIC,2.0,3,6,Tenderloin,211102993-68,POINT (-122.41178436945442 37.78409103617571),36.0',\n",
       " '321,211102993,E01,21047609,Medical Incident,04/20/2021,04/20/2021,04/20/2021 07:09:41 PM,04/20/2021 07:11:59 PM,04/20/2021 07:12:31 PM,04/20/2021 07:13:19 PM,04/20/2021 07:17:02 PM,,,Code 2 Transport,04/20/2021 07:26:53 PM,200 Block of EDDY ST,San Francisco,94102.0,B03,3.0,1453,3,3,3,True,Non Life-threatening,1,ENGINE,1.0,3,6,Tenderloin,211102993-E01,POINT (-122.41178436945442 37.78409103617571),36.0',\n",
       " '322,211102989,AM120,21047608,Medical Incident,04/20/2021,04/20/2021,04/20/2021 07:09:49 PM,04/20/2021 07:09:49 PM,04/20/2021 07:10:04 PM,04/20/2021 07:10:30 PM,04/20/2021 07:13:34 PM,,,No Merit,04/20/2021 07:16:16 PM,300 Block of SUTTER ST,San Francisco,94108.0,B01,13.0,1324,A,3,3,False,Potentially Life-Threatening,1,PRIVATE,1.0,1,3,Financial District/South Beach,211102989-AM120,POINT (-122.40616689405306 37.78947840486964),8.0',\n",
       " '323,211102989,E13,21047608,Medical Incident,04/20/2021,04/20/2021,04/20/2021 07:09:49 PM,04/20/2021 07:09:49 PM,04/20/2021 07:10:04 PM,04/20/2021 07:14:16 PM,,,,No Merit,04/20/2021 07:34:22 PM,300 Block of SUTTER ST,San Francisco,94108.0,B01,13.0,1324,A,3,3,True,Potentially Life-Threatening,1,ENGINE,2.0,1,3,Financial District/South Beach,211102989-E13,POINT (-122.40616689405306 37.78947840486964),8.0',\n",
       " '324,211102984,67,21047607,Medical Incident,04/20/2021,04/20/2021,04/20/2021 07:08:11 PM,04/20/2021 07:08:11 PM,04/20/2021 07:08:39 PM,04/20/2021 07:08:45 PM,04/20/2021 07:27:36 PM,,,Patient Declined Transport,04/20/2021 08:16:08 PM,0 Block of MARK LN,San Francisco,94108.0,B01,13.0,1315,B,2,2,True,Non Life-threatening,1,MEDIC,1.0,1,3,Financial District/South Beach,211102984-67,POINT (-122.40465073438807 37.7904416885171),8.0',\n",
       " '325,211102974,50,21047606,Medical Incident,04/20/2021,04/20/2021,04/20/2021 07:04:58 PM,04/20/2021 07:05:29 PM,04/20/2021 07:05:54 PM,04/20/2021 07:06:01 PM,04/20/2021 07:11:57 PM,04/20/2021 07:24:38 PM,04/20/2021 07:41:24 PM,Code 2 Transport,04/20/2021 08:30:31 PM,200 Block of VIDAL DR,San Francisco,94132.0,B08,19.0,8583,3,3,3,True,Potentially Life-Threatening,1,MEDIC,2.0,8,7,Lakeshore,211102974-50,POINT (-122.48466649975897 37.71920189657727),16.0',\n",
       " '326,211102974,E19,21047606,Medical Incident,04/20/2021,04/20/2021,04/20/2021 07:04:58 PM,04/20/2021 07:05:29 PM,04/20/2021 07:05:54 PM,04/20/2021 07:07:08 PM,04/20/2021 07:10:07 PM,,,Code 2 Transport,04/20/2021 07:23:34 PM,200 Block of VIDAL DR,San Francisco,94132.0,B08,19.0,8583,3,3,3,True,Potentially Life-Threatening,1,ENGINE,1.0,8,7,Lakeshore,211102974-E19,POINT (-122.48466649975897 37.71920189657727),16.0',\n",
       " '327,211102964,E10,21047605,Medical Incident,04/20/2021,04/20/2021,04/20/2021 06:59:25 PM,04/20/2021 07:00:54 PM,04/20/2021 07:01:16 PM,04/20/2021 07:02:12 PM,04/20/2021 07:04:12 PM,,,Code 2 Transport,04/20/2021 07:32:56 PM,2800 Block of PINE ST,San Francisco,94115.0,B05,10.0,4263,3,3,3,True,Potentially Life-Threatening,1,ENGINE,2.0,4.0,2,Pacific Heights,211102964-E10,POINT (-122.44273769953521 37.78679562698563),30.0',\n",
       " '328,211102964,RC2,21047605,Medical Incident,04/20/2021,04/20/2021,04/20/2021 06:59:25 PM,04/20/2021 07:00:54 PM,04/20/2021 07:01:16 PM,04/20/2021 07:03:18 PM,,,,Code 2 Transport,04/20/2021 07:06:52 PM,2800 Block of PINE ST,San Francisco,94115.0,B05,10.0,4263,3,3,3,True,Potentially Life-Threatening,1,RESCUE CAPTAIN,3.0,4.0,2,Pacific Heights,211102964-RC2,POINT (-122.44273769953521 37.78679562698563),30.0',\n",
       " '329,211102964,KM01,21047605,Medical Incident,04/20/2021,04/20/2021,04/20/2021 06:59:25 PM,04/20/2021 07:00:54 PM,04/20/2021 07:01:16 PM,04/20/2021 07:02:00 PM,04/20/2021 07:03:51 PM,04/20/2021 07:36:35 PM,04/20/2021 07:51:40 PM,Code 2 Transport,04/20/2021 08:26:56 PM,2800 Block of PINE ST,San Francisco,94115.0,B05,10.0,4263,3,3,3,False,Potentially Life-Threatening,1,PRIVATE,1.0,4.0,2,Pacific Heights,211102964-KM01,POINT (-122.44273769953521 37.78679562698563),30.0',\n",
       " '330,211102961,EMS6C,21047604,Medical Incident,04/20/2021,04/20/2021,04/20/2021 06:59:57 PM,04/20/2021 07:00:27 PM,04/20/2021 07:12:33 PM,04/20/2021 07:12:33 PM,04/20/2021 07:12:33 PM,,,Code 2 Transport,04/20/2021 08:25:47 PM,POLK ST/SUTTER ST,San Francisco,94109.0,B04,3.0,3121,3,3,3,False,Potentially Life-Threatening,1,CHIEF,3.0,4,3,Nob Hill,211102961-EMS6C,POINT (-122.42011607682784 37.78775665252858),21.0',\n",
       " '331,211102961,AM116,21047604,Medical Incident,04/20/2021,04/20/2021,04/20/2021 06:59:57 PM,04/20/2021 07:00:27 PM,04/20/2021 07:00:45 PM,04/20/2021 07:01:26 PM,04/20/2021 07:04:37 PM,04/20/2021 07:18:17 PM,04/20/2021 07:37:47 PM,Code 2 Transport,04/20/2021 08:10:25 PM,POLK ST/SUTTER ST,San Francisco,94109.0,B04,3.0,3121,3,3,3,False,Potentially Life-Threatening,1,PRIVATE,2.0,4,3,Nob Hill,211102961-AM116,POINT (-122.42011607682784 37.78775665252858),21.0',\n",
       " '332,211102961,E03,21047604,Medical Incident,04/20/2021,04/20/2021,04/20/2021 06:59:57 PM,04/20/2021 07:00:27 PM,04/20/2021 07:00:45 PM,04/20/2021 07:01:02 PM,04/20/2021 07:04:34 PM,,,Code 2 Transport,04/20/2021 07:04:38 PM,POLK ST/SUTTER ST,San Francisco,94109.0,B04,3.0,3121,3,3,3,True,Potentially Life-Threatening,1,ENGINE,1.0,4,3,Nob Hill,211102961-E03,POINT (-122.42011607682784 37.78775665252858),21.0',\n",
       " '333,211102947,E16,21047603,Medical Incident,04/20/2021,04/20/2021,04/20/2021 06:52:47 PM,04/20/2021 06:55:34 PM,04/20/2021 06:56:00 PM,04/20/2021 06:57:02 PM,04/20/2021 06:58:36 PM,,,Code 2 Transport,04/20/2021 07:09:32 PM,2100 Block of CHESTNUT ST,San Francisco,94123.0,B04,16.0,3661,3,3,3,True,Potentially Life-Threatening,1,ENGINE,1.0,4,2,Marina,211102947-E16,POINT (-122.43868586098603 37.800451855600286),13.0',\n",
       " '334,211102947,86,21047603,Medical Incident,04/20/2021,04/20/2021,04/20/2021 06:52:47 PM,04/20/2021 06:55:34 PM,04/20/2021 06:56:00 PM,04/20/2021 06:56:15 PM,04/20/2021 07:03:16 PM,04/20/2021 07:21:25 PM,04/20/2021 07:32:05 PM,Code 2 Transport,04/20/2021 08:06:07 PM,2100 Block of CHESTNUT ST,San Francisco,94123.0,B04,16.0,3661,3,3,3,True,Potentially Life-Threatening,1,MEDIC,2.0,4,2,Marina,211102947-86,POINT (-122.43868586098603 37.800451855600286),13.0',\n",
       " '335,211102944,77,21047602,Medical Incident,04/20/2021,04/20/2021,04/20/2021 06:54:28 PM,04/20/2021 06:54:28 PM,04/20/2021 07:11:48 PM,04/20/2021 07:11:52 PM,04/20/2021 07:17:13 PM,04/20/2021 07:34:38 PM,04/20/2021 07:44:33 PM,Code 2 Transport,04/20/2021 08:28:51 PM,800 Block of HOWARD ST,San Francisco,94103.0,B03,1.0,2245,A,3,3,True,Potentially Life-Threatening,1,MEDIC,3.0,3,6,South of Market,211102944-77,POINT (-122.40386961153436 37.78241828644218),34.0',\n",
       " '336,211102944,E08,21047602,Medical Incident,04/20/2021,04/20/2021,04/20/2021 06:54:28 PM,04/20/2021 06:54:28 PM,04/20/2021 06:57:07 PM,04/20/2021 06:58:09 PM,04/20/2021 07:02:15 PM,,,Code 2 Transport,04/20/2021 07:56:51 PM,800 Block of HOWARD ST,San Francisco,94103.0,B03,1.0,2245,A,3,3,True,Potentially Life-Threatening,1,ENGINE,1.0,3,6,South of Market,211102944-E08,POINT (-122.40386961153436 37.78241828644218),34.0',\n",
       " '337,211102944,75,21047602,Medical Incident,04/20/2021,04/20/2021,04/20/2021 06:54:28 PM,04/20/2021 06:54:28 PM,04/20/2021 06:54:41 PM,04/20/2021 06:54:48 PM,04/20/2021 07:03:30 PM,04/20/2021 07:34:17 PM,04/20/2021 07:44:58 PM,Code 2 Transport,04/20/2021 08:24:18 PM,800 Block of HOWARD ST,San Francisco,94103.0,B03,1.0,2245,A,3,3,False,Potentially Life-Threatening,1,MEDIC,2.0,3,6,South of Market,211102944-75,POINT (-122.40386961153436 37.78241828644218),34.0',\n",
       " '338,211102927,T03,21047601,Medical Incident,04/20/2021,04/20/2021,04/20/2021 06:45:10 PM,04/20/2021 06:47:06 PM,04/20/2021 06:48:10 PM,04/20/2021 06:48:10 PM,04/20/2021 06:49:50 PM,,,Fire,04/20/2021 06:56:21 PM,200 Block of GOLDEN GATE AVE,San Francisco,94102.0,B02,3.0,1546,2,2,2,False,Non Life-threatening,1,TRUCK,1.0,2,6,Tenderloin,211102927-T03,POINT (-122.41428534642033 37.78186544733056),36.0',\n",
       " '339,211102927,T01,21047601,Medical Incident,04/20/2021,04/20/2021,04/20/2021 06:45:10 PM,04/20/2021 06:47:06 PM,04/20/2021 06:47:19 PM,,,,,Fire,04/20/2021 06:48:37 PM,200 Block of GOLDEN GATE AVE,San Francisco,94102.0,B02,3.0,1546,2,2,2,False,Non Life-threatening,1,TRUCK,2.0,2,6,Tenderloin,211102927-T01,POINT (-122.41428534642033 37.78186544733056),36.0',\n",
       " '340,211102911,52,21047600,Medical Incident,04/20/2021,04/20/2021,04/20/2021 06:42:05 PM,04/20/2021 06:42:05 PM,04/20/2021 06:42:40 PM,04/20/2021 06:42:57 PM,04/20/2021 06:53:17 PM,04/20/2021 07:03:57 PM,04/20/2021 07:16:49 PM,Code 2 Transport,04/20/2021 07:54:34 PM,100 Block of STANYAN BL,San Francisco,94118.0,B07,21.0,4557,B,2,2,True,Non Life-threatening,1,MEDIC,1.0,5.0,1,Lone Mountain/USF,211102911-52,POINT (-122.4553172224757 37.77821406358799),18.0',\n",
       " '341,211102905,T03,21047599,Alarms,04/20/2021,04/20/2021,04/20/2021 06:38:50 PM,04/20/2021 06:40:36 PM,04/20/2021 06:40:39 PM,04/20/2021 06:41:24 PM,04/20/2021 06:43:40 PM,,,Fire,04/20/2021 06:48:04 PM,600 Block of EDDY ST,San Francisco,94109.0,B02,3.0,1643,3,3,3,False,Alarm,1,TRUCK,2.0,2,6,Tenderloin,211102905-T03,POINT (-122.4183661541799 37.78326038612978),36.0',\n",
       " '342,211102905,B02,21047599,Alarms,04/20/2021,04/20/2021,04/20/2021 06:38:50 PM,04/20/2021 06:40:36 PM,04/20/2021 06:40:39 PM,04/20/2021 06:41:34 PM,04/20/2021 06:43:57 PM,,,Fire,04/20/2021 06:48:37 PM,600 Block of EDDY ST,San Francisco,94109.0,B02,3.0,1643,3,3,3,False,Alarm,1,CHIEF,3.0,2,6,Tenderloin,211102905-B02,POINT (-122.4183661541799 37.78326038612978),36.0',\n",
       " '343,211102905,E03,21047599,Alarms,04/20/2021,04/20/2021,04/20/2021 06:38:50 PM,04/20/2021 06:40:36 PM,04/20/2021 06:40:39 PM,04/20/2021 06:41:41 PM,04/20/2021 06:42:49 PM,,,Fire,04/20/2021 06:50:02 PM,600 Block of EDDY ST,San Francisco,94109.0,B02,3.0,1643,3,3,3,True,Alarm,1,ENGINE,1.0,2,6,Tenderloin,211102905-E03,POINT (-122.4183661541799 37.78326038612978),36.0',\n",
       " '344,211102892,RS1,21047597,Medical Incident,04/20/2021,04/20/2021,04/20/2021 06:37:13 PM,04/20/2021 06:38:06 PM,04/20/2021 06:38:16 PM,04/20/2021 06:39:44 PM,04/20/2021 06:42:26 PM,,,Code 2 Transport,04/20/2021 06:48:26 PM,GOLDEN GATE AV/JONES ST,San Francisco,94102.0,B03,1.0,1454,3,2,2,False,Potentially Life-Threatening,1,RESCUE SQUAD,1.0,2,6,Tenderloin,211102892-RS1,POINT (-122.41222073685356 37.78207306686112),36.0',\n",
       " '345,211102892,73,21047597,Medical Incident,04/20/2021,04/20/2021,04/20/2021 06:37:13 PM,04/20/2021 06:38:06 PM,04/20/2021 06:38:16 PM,04/20/2021 06:38:39 PM,04/20/2021 06:44:24 PM,04/20/2021 07:14:32 PM,04/20/2021 07:25:03 PM,Code 2 Transport,04/20/2021 08:10:15 PM,GOLDEN GATE AV/JONES ST,San Francisco,94102.0,B03,1.0,1454,3,2,2,True,Potentially Life-Threatening,1,MEDIC,2.0,2,6,Tenderloin,211102892-73,POINT (-122.41222073685356 37.78207306686112),36.0',\n",
       " '346,211102877,74,21047596,Medical Incident,04/20/2021,04/20/2021,04/20/2021 06:32:50 PM,04/20/2021 06:34:13 PM,04/20/2021 06:34:35 PM,04/20/2021 06:35:13 PM,04/20/2021 06:39:56 PM,04/20/2021 06:49:27 PM,,Patient Declined Transport,04/20/2021 07:24:12 PM,700 Block of MARKET ST,San Francisco,94103.0,B03,1.0,2212,3,2,2,True,Non Life-threatening,1,MEDIC,2.0,3,6,Financial District/South Beach,211102877-74,POINT (-122.40535937175251 37.78597747616279),8.0',\n",
       " '347,211102877,E01,21047596,Medical Incident,04/20/2021,04/20/2021,04/20/2021 06:32:50 PM,04/20/2021 06:34:13 PM,04/20/2021 06:34:35 PM,04/20/2021 06:36:10 PM,04/20/2021 06:38:50 PM,,,Patient Declined Transport,04/20/2021 06:41:57 PM,700 Block of MARKET ST,San Francisco,94103.0,B03,1.0,2212,3,2,2,True,Non Life-threatening,1,ENGINE,1.0,3,6,Financial District/South Beach,211102877-E01,POINT (-122.40535937175251 37.78597747616279),8.0',\n",
       " '348,211102876,E43,21047595,Medical Incident,04/20/2021,04/20/2021,04/20/2021 06:33:40 PM,04/20/2021 06:33:40 PM,04/20/2021 06:33:51 PM,04/20/2021 06:34:37 PM,04/20/2021 06:37:21 PM,,,No Merit,04/20/2021 06:38:50 PM,300 Block of ATHENS ST,San Francisco,94112.0,B09,43.0,6155,A,E,3,True,Potentially Life-Threatening,1,ENGINE,1.0,9,11,Excelsior,211102876-E43,POINT (-122.42790052577672 37.722444865337934),7.0',\n",
       " '349,211102876,RC4,21047595,Medical Incident,04/20/2021,04/20/2021,04/20/2021 06:33:40 PM,04/20/2021 06:33:40 PM,04/20/2021 06:33:51 PM,04/20/2021 06:34:43 PM,04/20/2021 06:37:38 PM,,,No Merit,04/20/2021 06:38:19 PM,300 Block of ATHENS ST,San Francisco,94112.0,B09,43.0,6155,A,E,3,True,Potentially Life-Threatening,1,RESCUE CAPTAIN,3.0,9,11,Excelsior,211102876-RC4,POINT (-122.42790052577672 37.722444865337934),7.0',\n",
       " '350,211102876,KM10,21047595,Medical Incident,04/20/2021,04/20/2021,04/20/2021 06:33:40 PM,04/20/2021 06:33:40 PM,04/20/2021 06:33:51 PM,04/20/2021 06:34:31 PM,04/20/2021 06:37:33 PM,,,No Merit,04/20/2021 06:38:59 PM,300 Block of ATHENS ST,San Francisco,94112.0,B09,43.0,6155,A,E,3,False,Potentially Life-Threatening,1,PRIVATE,2.0,9,11,Excelsior,211102876-KM10,POINT (-122.42790052577672 37.722444865337934),7.0',\n",
       " '351,211102869,87,21047594,Medical Incident,04/20/2021,04/20/2021,04/20/2021 06:31:34 PM,04/20/2021 06:32:05 PM,04/20/2021 06:32:20 PM,04/20/2021 06:32:28 PM,04/20/2021 06:36:49 PM,04/20/2021 07:00:02 PM,04/20/2021 07:06:20 PM,Code 2 Transport,04/20/2021 07:47:02 PM,HYDE ST/TURK ST,San Francisco,94102.0,B02,3.0,1554,3,3,3,True,Potentially Life-Threatening,1,MEDIC,2.0,2,6,Tenderloin,211102869-87,POINT (-122.41569387210887 37.78258503328116),36.0',\n",
       " '352,211102869,QRV1,21047594,Medical Incident,04/20/2021,04/20/2021,04/20/2021 06:31:34 PM,04/20/2021 06:32:05 PM,04/20/2021 06:32:20 PM,04/20/2021 06:32:24 PM,04/20/2021 06:36:05 PM,,,Code 2 Transport,04/20/2021 07:12:47 PM,HYDE ST/TURK ST,San Francisco,94102.0,B02,3.0,1554,3,3,3,True,Potentially Life-Threatening,1,SUPPORT,1.0,2,6,Tenderloin,211102869-QRV1,POINT (-122.41569387210887 37.78258503328116),36.0',\n",
       " '353,211102865,54,21047593,Medical Incident,04/20/2021,04/20/2021,04/20/2021 06:26:51 PM,04/20/2021 06:29:59 PM,04/20/2021 06:30:23 PM,04/20/2021 06:30:36 PM,04/20/2021 06:33:00 PM,,,Patient Declined Transport,04/20/2021 07:33:56 PM,600 Block of OFARRELL ST,San Francisco,94109.0,B04,3.0,1544,2,2,2,True,Non Life-threatening,1,MEDIC,1.0,2,6,Tenderloin,211102865-54,POINT (-122.4153361290198 37.785436479869816),36.0',\n",
       " '354,211102862,EMS6C,21047592,Medical Incident,04/20/2021,04/20/2021,04/20/2021 06:27:24 PM,04/20/2021 06:28:43 PM,04/20/2021 06:29:25 PM,04/20/2021 06:29:25 PM,04/20/2021 06:29:25 PM,,,Code 2 Transport,04/20/2021 07:12:27 PM,1000 Block of SUTTER ST,San Francisco,94109.0,B04,3.0,1557,2,2,2,False,Non Life-threatening,1,CHIEF,1.0,4,3,Nob Hill,211102862-EMS6C,POINT (-122.41765721404046 37.78812630343959),21.0',\n",
       " '355,211102848,SCRT4,21047591,Medical Incident,04/20/2021,04/20/2021,04/20/2021 06:20:01 PM,04/20/2021 06:22:56 PM,04/20/2021 06:34:24 PM,04/20/2021 06:34:24 PM,04/20/2021 06:34:24 PM,,,Other,04/20/2021 06:35:13 PM,100 Block of STANYAN BLVD,San Francisco,94118.0,B07,21.0,4557,1,1,2,False,Non Life-threatening,1,SUPPORT,1.0,5,1,Lone Mountain/USF,211102848-SCRT4,POINT (-122.4552489061846 37.77822282304983),18.0',\n",
       " '356,211102831,E10,21047590,Alarms,04/20/2021,04/20/2021,04/20/2021 06:16:12 PM,04/20/2021 06:17:32 PM,04/20/2021 06:17:41 PM,04/20/2021 06:18:34 PM,,,,Fire,04/20/2021 06:30:05 PM,0 Block of HEATHER AVE,San Francisco,94118.0,B05,10.0,4374,3,3,3,True,Alarm,1,ENGINE,2.0,5,2,Presidio Heights,211102831-E10,POINT (-122.45293629297608 37.78490915911107),31.0',\n",
       " '357,211102831,B07,21047590,Alarms,04/20/2021,04/20/2021,04/20/2021 06:16:12 PM,04/20/2021 06:17:32 PM,04/20/2021 06:17:41 PM,04/20/2021 06:19:38 PM,04/20/2021 06:22:37 PM,,,Fire,04/20/2021 06:37:08 PM,0 Block of HEATHER AVE,San Francisco,94118.0,B05,10.0,4374,3,3,3,False,Alarm,1,CHIEF,1.0,5,2,Presidio Heights,211102831-B07,POINT (-122.45293629297608 37.78490915911107),31.0',\n",
       " '358,211102828,60,21047589,Medical Incident,04/20/2021,04/20/2021,04/20/2021 06:14:24 PM,04/20/2021 06:16:45 PM,04/20/2021 06:17:01 PM,04/20/2021 06:17:06 PM,04/20/2021 06:25:05 PM,04/20/2021 06:52:28 PM,04/20/2021 07:22:06 PM,Code 2 Transport,04/20/2021 07:52:25 PM,1600 Block of 19TH AVE,San Francisco,94122.0,B08,40.0,7422,2,2,2,True,Non Life-threatening,1,MEDIC,1.0,8,4,Sunset/Parkside,211102828-60,POINT (-122.47675843700894 37.7570337296556),35.0',\n",
       " '359,211102820,83,21047588,Medical Incident,04/20/2021,04/20/2021,04/20/2021 06:14:21 PM,04/20/2021 06:14:21 PM,04/20/2021 06:15:18 PM,04/20/2021 06:15:22 PM,04/20/2021 06:32:04 PM,04/20/2021 07:05:39 PM,04/20/2021 07:12:42 PM,Code 2 Transport,04/20/2021 07:49:35 PM,MARKET ST/5TH ST,San Francisco,94103.0,B03,1.0,1364,C,2,2,True,Non Life-threatening,1,MEDIC,1.0,3,6,South of Market,211102820-83,POINT (-122.40806654780383 37.78399148576162),34.0',\n",
       " '360,211102816,91,21047587,Medical Incident,04/20/2021,04/20/2021,04/20/2021 06:13:17 PM,04/20/2021 06:13:17 PM,04/20/2021 06:13:57 PM,04/20/2021 06:14:03 PM,04/20/2021 06:28:18 PM,04/20/2021 06:43:18 PM,04/20/2021 06:50:55 PM,Code 2 Transport,04/20/2021 07:30:06 PM,100 Block of RIPLEY ST,San Francisco,94110.0,B06,11.0,5663,A,2,2,True,Non Life-threatening,1,MEDIC,1.0,6.0,9,Bernal Heights,211102816-91,POINT (-122.41231899217746 37.74420815762602),2.0',\n",
       " '361,211102814,SCRT4,21047586,Medical Incident,04/20/2021,04/20/2021,04/20/2021 06:10:01 PM,04/20/2021 06:12:41 PM,04/20/2021 06:15:34 PM,04/20/2021 06:15:34 PM,04/20/2021 06:15:34 PM,,,Other,04/20/2021 06:16:08 PM,2700 Block of MISSION ST,San Francisco,94110.0,B06,11.0,5525,1,1,2,False,Non Life-threatening,1,SUPPORT,1.0,6,9,Mission,211102814-SCRT4,POINT (-122.41845061798192 37.75304207074991),20.0',\n",
       " '362,211102808,70,21047585,Medical Incident,04/20/2021,04/20/2021,04/20/2021 06:08:15 PM,04/20/2021 06:11:24 PM,04/20/2021 06:11:58 PM,04/20/2021 06:12:05 PM,04/20/2021 06:21:00 PM,04/20/2021 06:38:59 PM,04/20/2021 07:05:00 PM,Code 2 Transport,04/20/2021 07:40:52 PM,1200 Block of FITZGERALD AVE,San Francisco,94124.0,B10,17.0,6614,3,2,2,True,Potentially Life-Threatening,1,MEDIC,2.0,10,10,Bayview Hunters Point,211102808-70,POINT (-122.39227941761897 37.721460664701745),1.0',\n",
       " '363,211102802,E05,21047584,Medical Incident,04/20/2021,04/20/2021,04/20/2021 06:07:02 PM,04/20/2021 06:10:16 PM,04/20/2021 06:10:28 PM,04/20/2021 06:12:09 PM,04/20/2021 06:12:50 PM,,,Code 2 Transport,04/20/2021 06:32:09 PM,1400 Block of TURK ST,San Francisco,94115.0,B05,5.0,3535,3,3,3,True,Non Life-threatening,1,ENGINE,1.0,5,5,Western Addition,211102802-E05,POINT (-122.43297344289645 37.780445711698974),39.0',\n",
       " '364,211102802,88,21047584,Medical Incident,04/20/2021,04/20/2021,04/20/2021 06:07:02 PM,04/20/2021 06:10:16 PM,04/20/2021 06:10:28 PM,04/20/2021 06:10:47 PM,04/20/2021 06:15:44 PM,04/20/2021 06:47:22 PM,04/20/2021 06:57:09 PM,Code 2 Transport,04/20/2021 07:28:29 PM,1400 Block of TURK ST,San Francisco,94115.0,B05,5.0,3535,3,3,3,True,Non Life-threatening,1,MEDIC,2.0,5,5,Western Addition,211102802-88,POINT (-122.43297344289645 37.780445711698974),39.0',\n",
       " '365,211102797,E44,21047583,Electrical Hazard,04/20/2021,04/20/2021,04/20/2021 06:08:03 PM,04/20/2021 06:09:22 PM,04/20/2021 06:09:26 PM,04/20/2021 06:10:08 PM,04/20/2021 06:14:36 PM,,,Fire,04/20/2021 06:27:53 PM,INGERSON AV/3RD ST,San Francisco,94124.0,B10,17.0,6575,3,3,3,False,Alarm,1,ENGINE,1.0,10,10,Bayview Hunters Point,211102797-E44,POINT (-122.39627284207629 37.720981530278536),1.0',\n",
       " '366,211102789,E01,21047581,Medical Incident,04/20/2021,04/20/2021,04/20/2021 06:02:29 PM,04/20/2021 06:05:22 PM,04/20/2021 06:06:04 PM,04/20/2021 06:07:56 PM,,,,Cancelled,04/20/2021 06:09:00 PM,800 Block of MARKET ST,San Francisco,94103.0,B01,1.0,2247,3,3,3,True,Potentially Life-Threatening,1,ENGINE,3.0,3,6,South of Market,211102789-E01,POINT (-122.40761273180875 37.784205674934064),34.0',\n",
       " '367,211102789,QRV1,21047581,Medical Incident,04/20/2021,04/20/2021,04/20/2021 06:02:29 PM,04/20/2021 06:05:22 PM,04/20/2021 06:06:04 PM,04/20/2021 06:06:29 PM,04/20/2021 06:08:49 PM,,,Cancelled,04/20/2021 06:09:30 PM,800 Block of MARKET ST,San Francisco,94103.0,B01,1.0,2247,3,3,3,True,Potentially Life-Threatening,1,SUPPORT,1.0,3,6,South of Market,211102789-QRV1,POINT (-122.40761273180875 37.784205674934064),34.0',\n",
       " '368,211102789,74,21047581,Medical Incident,04/20/2021,04/20/2021,04/20/2021 06:02:29 PM,04/20/2021 06:05:22 PM,04/20/2021 06:06:04 PM,04/20/2021 06:06:37 PM,,,,Cancelled,04/20/2021 06:09:23 PM,800 Block of MARKET ST,San Francisco,94103.0,B01,1.0,2247,3,3,3,True,Potentially Life-Threatening,1,MEDIC,2.0,3,6,South of Market,211102789-74,POINT (-122.40761273180875 37.784205674934064),34.0',\n",
       " '369,211102782,E06,21047580,Structure Fire,04/20/2021,04/20/2021,04/20/2021 06:03:39 PM,04/20/2021 06:03:39 PM,04/20/2021 06:03:54 PM,04/20/2021 06:04:31 PM,04/20/2021 06:07:05 PM,,,Fire,04/20/2021 06:07:28 PM,DIVISADERO ST/PAGE ST,San Francisco,94117.0,B05,21.0,4144,3,3,3,True,Alarm,1,ENGINE,1.0,5,5,Haight Ashbury,211102782-E06,POINT (-122.43723492962336 37.77220371262952),3.0',\n",
       " '370,211102770,KM01,21047579,Traffic Collision,04/20/2021,04/20/2021,04/20/2021 06:00:49 PM,04/20/2021 06:00:49 PM,04/20/2021 06:01:12 PM,04/20/2021 06:02:35 PM,04/20/2021 06:06:57 PM,,,Patient Declined Transport,04/20/2021 07:00:25 PM,SUTTER ST/DIVISADERO ST,San Francisco,94115.0,B05,10.0,4155,A,3,3,False,Non Life-threatening,1,PRIVATE,1.0,5,5,Japantown,211102770-KM01,POINT (-122.43987261265872 37.78524752592648),15.0',\n",
       " '371,211102770,E21,21047579,Traffic Collision,04/20/2021,04/20/2021,04/20/2021 06:00:49 PM,04/20/2021 06:00:49 PM,04/20/2021 06:01:12 PM,04/20/2021 06:02:09 PM,04/20/2021 06:06:59 PM,,,Patient Declined Transport,04/20/2021 06:30:28 PM,SUTTER ST/DIVISADERO ST,San Francisco,94115.0,B05,10.0,4155,A,3,3,True,Non Life-threatening,1,ENGINE,2.0,5,5,Japantown,211102770-E21,POINT (-122.43987261265872 37.78524752592648),15.0',\n",
       " '372,211102765,AM126,21047577,Traffic Collision,04/20/2021,04/20/2021,04/20/2021 05:59:31 PM,04/20/2021 05:59:31 PM,04/20/2021 05:59:45 PM,04/20/2021 06:00:07 PM,04/20/2021 06:02:52 PM,04/20/2021 06:10:22 PM,04/20/2021 06:17:39 PM,Code 3 Transport,04/20/2021 06:55:32 PM,BAYSHORE BL/INDUSTRIAL ST,San Francisco,94124.0,B10,42.0,6374,B,3,3,False,Potentially Life-Threatening,1,PRIVATE,1.0,10,10,Bayview Hunters Point,211102765-AM126,POINT (-122.40691050511438 37.73796586758126),1.0',\n",
       " '373,211102765,E09,21047577,Traffic Collision,04/20/2021,04/20/2021,04/20/2021 05:59:31 PM,04/20/2021 05:59:31 PM,04/20/2021 05:59:45 PM,04/20/2021 06:00:15 PM,04/20/2021 06:03:49 PM,,,Code 3 Transport,04/20/2021 06:13:42 PM,BAYSHORE BL/INDUSTRIAL ST,San Francisco,94124.0,B10,42.0,6374,B,3,3,True,Potentially Life-Threatening,1,ENGINE,2.0,10,10,Bayview Hunters Point,211102765-E09,POINT (-122.40691050511438 37.73796586758126),1.0',\n",
       " '374,211102755,64,21047576,Medical Incident,04/20/2021,04/20/2021,04/20/2021 05:56:16 PM,04/20/2021 05:57:26 PM,04/20/2021 05:58:00 PM,04/20/2021 05:58:03 PM,,,,Unable to Locate,04/20/2021 06:06:20 PM,3300 Block of 17TH ST,San Francisco,94110.0,B02,7.0,5247,3,3,3,True,Potentially Life-Threatening,1,MEDIC,2.0,2,9,Mission,211102755-64,POINT (-122.41997785302082 37.763457193020855),20.0',\n",
       " '375,211102755,E07,21047576,Medical Incident,04/20/2021,04/20/2021,04/20/2021 05:56:16 PM,04/20/2021 05:57:26 PM,04/20/2021 05:58:00 PM,04/20/2021 05:59:03 PM,04/20/2021 06:01:24 PM,,,Unable to Locate,04/20/2021 06:06:49 PM,3300 Block of 17TH ST,San Francisco,94110.0,B02,7.0,5247,3,3,3,True,Potentially Life-Threatening,1,ENGINE,1.0,2,9,Mission,211102755-E07,POINT (-122.41997785302082 37.763457193020855),20.0',\n",
       " '376,211102744,E10,21047575,Traffic Collision,04/20/2021,04/20/2021,04/20/2021 05:53:08 PM,04/20/2021 05:53:08 PM,04/20/2021 05:53:18 PM,04/20/2021 05:54:03 PM,04/20/2021 05:57:00 PM,,,Code 2 Transport,04/20/2021 06:04:23 PM,3400 Block of GEARY BLVD,San Francisco,94118.0,B07,10.0,4452,B,3,3,True,Non Life-threatening,1,ENGINE,2.0,7,2,Presidio Heights,211102744-E10,POINT (-122.45592666471035 37.78152736466939),31.0',\n",
       " '377,211102744,KM12,21047575,Traffic Collision,04/20/2021,04/20/2021,04/20/2021 05:53:08 PM,04/20/2021 05:53:08 PM,04/20/2021 05:53:18 PM,04/20/2021 05:53:46 PM,04/20/2021 05:56:25 PM,04/20/2021 06:19:48 PM,04/20/2021 06:33:59 PM,Code 2 Transport,04/20/2021 07:06:42 PM,3400 Block of GEARY BLVD,San Francisco,94118.0,B07,10.0,4452,B,3,3,False,Non Life-threatening,1,PRIVATE,1.0,7,2,Presidio Heights,211102744-KM12,POINT (-122.45592666471035 37.78152736466939),31.0',\n",
       " '378,211102740,T06,21047574,Structure Fire,04/20/2021,04/20/2021,04/20/2021 05:52:41 PM,04/20/2021 05:52:41 PM,04/20/2021 05:52:48 PM,04/20/2021 05:54:13 PM,,,,Fire,04/20/2021 05:54:14 PM,LYON ST/OAK ST,San Francisco,94117.0,B05,21.0,4352,3,3,3,False,Alarm,1,TRUCK,2.0,5,5,Golden Gate Park,211102740-T06,POINT (-122.44237797627271 37.77250431516638),12.0',\n",
       " '379,211102740,E21,21047574,Structure Fire,04/20/2021,04/20/2021,04/20/2021 05:52:41 PM,04/20/2021 05:52:41 PM,04/20/2021 05:52:48 PM,04/20/2021 05:53:19 PM,04/20/2021 05:53:47 PM,,,Fire,04/20/2021 05:54:14 PM,LYON ST/OAK ST,San Francisco,94117.0,B05,21.0,4352,3,3,3,True,Alarm,1,ENGINE,1.0,5,5,Golden Gate Park,211102740-E21,POINT (-122.44237797627271 37.77250431516638),12.0',\n",
       " '380,211102720,E36,21047572,Medical Incident,04/20/2021,04/20/2021,04/20/2021 05:46:02 PM,04/20/2021 05:47:57 PM,04/20/2021 05:48:28 PM,04/20/2021 05:49:34 PM,04/20/2021 05:51:42 PM,,,Code 2 Transport,04/20/2021 06:11:52 PM,0 Block of GOUGH ST,San Francisco,94103.0,B02,36.0,5115,3,3,3,True,Potentially Life-Threatening,1,ENGINE,1.0,2,6,Mission,211102720-E36,POINT (-122.42075511577899 37.77201821868303),20.0',\n",
       " '381,211102720,93,21047572,Medical Incident,04/20/2021,04/20/2021,04/20/2021 05:46:02 PM,04/20/2021 05:47:57 PM,04/20/2021 05:48:28 PM,04/20/2021 05:48:40 PM,04/20/2021 05:54:51 PM,04/20/2021 06:01:10 PM,04/20/2021 06:11:11 PM,Code 2 Transport,04/20/2021 07:32:10 PM,0 Block of GOUGH ST,San Francisco,94103.0,B02,36.0,5115,3,3,3,True,Potentially Life-Threatening,1,MEDIC,2.0,2,6,Mission,211102720-93,POINT (-122.42075511577899 37.77201821868303),20.0',\n",
       " '382,211102719,T12,21047571,Structure Fire,04/20/2021,04/20/2021,04/20/2021 05:47:30 PM,04/20/2021 05:47:30 PM,04/20/2021 05:47:37 PM,04/20/2021 05:48:46 PM,04/20/2021 05:51:19 PM,,,Fire,04/20/2021 05:51:44 PM,CLAYTON ST/OAK ST,San Francisco,94117.0,B05,21.0,4524,3,3,3,False,Alarm,1,TRUCK,1.0,5,5,Haight Ashbury,211102719-T12,POINT (-122.4489579930158 37.77166873964636),3.0',\n",
       " '383,211102719,E21,21047571,Structure Fire,04/20/2021,04/20/2021,04/20/2021 05:47:30 PM,04/20/2021 05:47:30 PM,04/20/2021 05:47:37 PM,04/20/2021 05:49:29 PM,,,,Fire,04/20/2021 05:51:44 PM,CLAYTON ST/OAK ST,San Francisco,94117.0,B05,21.0,4524,3,3,3,True,Alarm,1,ENGINE,2.0,5,5,Haight Ashbury,211102719-E21,POINT (-122.4489579930158 37.77166873964636),3.0',\n",
       " '384,211102712,E35,21047570,Medical Incident,04/20/2021,04/20/2021,04/20/2021 05:44:51 PM,04/20/2021 05:44:51 PM,04/20/2021 05:50:19 PM,04/20/2021 05:52:12 PM,04/20/2021 05:54:18 PM,,,Against Medical Advice,04/20/2021 06:06:15 PM,300 Block of FREMONT ST,San Francisco,94105.0,B03,35.0,2137,B,3,3,True,Non Life-threatening,1,ENGINE,1.0,3,6,Financial District/South Beach,211102712-E35,POINT (-122.39287410311779 37.787342142688914),8.0',\n",
       " '385,211102712,67,21047570,Medical Incident,04/20/2021,04/20/2021,04/20/2021 05:44:51 PM,04/20/2021 05:44:51 PM,04/20/2021 05:45:15 PM,04/20/2021 05:45:24 PM,04/20/2021 05:55:45 PM,,,Against Medical Advice,04/20/2021 07:00:35 PM,300 Block of FREMONT ST,San Francisco,94105.0,B03,35.0,2137,B,3,3,True,Non Life-threatening,1,MEDIC,2.0,3,6,Financial District/South Beach,211102712-67,POINT (-122.39287410311779 37.787342142688914),8.0',\n",
       " '386,211102700,E29,21047569,Outside Fire,04/20/2021,04/20/2021,04/20/2021 05:39:53 PM,04/20/2021 05:41:24 PM,04/20/2021 05:41:52 PM,04/20/2021 05:43:33 PM,04/20/2021 05:45:27 PM,,,Fire,04/20/2021 05:47:55 PM,POTRERO AV/DIVISION ST,San Francisco,94103.0,B02,29.0,2346,3,3,3,True,Fire,1,ENGINE,1.0,2,6,Mission,211102700-E29,POINT (-122.40800720584883 37.7692440110758),20.0',\n",
       " '387,211102699,86,21047568,Medical Incident,04/20/2021,04/20/2021,04/20/2021 05:41:10 PM,04/20/2021 05:41:10 PM,04/20/2021 05:41:39 PM,04/20/2021 05:41:57 PM,04/20/2021 05:58:16 PM,04/20/2021 06:08:52 PM,04/20/2021 06:19:37 PM,Code 2 Transport,04/20/2021 06:51:25 PM,700 Block of GUERRERO ST,San Francisco,94110.0,B06,7.0,5445,B,2,2,True,Non Life-threatening,1,MEDIC,1.0,6,8,Mission,211102699-86,POINT (-122.42344733132714 37.75917374662769),20.0',\n",
       " '388,211102688,74,21047567,Medical Incident,04/20/2021,04/20/2021,04/20/2021 05:38:12 PM,04/20/2021 05:39:16 PM,04/20/2021 05:39:31 PM,04/20/2021 05:39:39 PM,,,,Medical Examiner,04/20/2021 05:59:38 PM,800 Block of SACRAMENTO ST,San Francisco,94108.0,B01,2.0,1326,E,E,3,True,Potentially Life-Threatening,1,MEDIC,3.0,1,3,Chinatown,211102688-74,POINT (-122.40734135417097 37.793282423188145),6.0',\n",
       " '389,211102688,RC1,21047567,Medical Incident,04/20/2021,04/20/2021,04/20/2021 05:38:12 PM,04/20/2021 05:39:16 PM,04/20/2021 05:39:31 PM,04/20/2021 05:41:18 PM,04/20/2021 05:45:14 PM,,,Medical Examiner,04/20/2021 06:27:32 PM,800 Block of SACRAMENTO ST,San Francisco,94108.0,B01,2.0,1326,E,E,3,True,Potentially Life-Threatening,1,RESCUE CAPTAIN,2.0,1,3,Chinatown,211102688-RC1,POINT (-122.40734135417097 37.793282423188145),6.0',\n",
       " '390,211102688,E41,21047567,Medical Incident,04/20/2021,04/20/2021,04/20/2021 05:38:12 PM,04/20/2021 05:39:16 PM,04/20/2021 05:39:31 PM,04/20/2021 05:40:40 PM,04/20/2021 05:43:34 PM,,,Medical Examiner,04/20/2021 05:50:22 PM,800 Block of SACRAMENTO ST,San Francisco,94108.0,B01,2.0,1326,E,E,3,False,Potentially Life-Threatening,1,ENGINE,1.0,1,3,Chinatown,211102688-E41,POINT (-122.40734135417097 37.793282423188145),6.0',\n",
       " '391,211102688,E03,21047567,Medical Incident,04/20/2021,04/20/2021,04/20/2021 05:38:12 PM,04/20/2021 05:39:16 PM,04/20/2021 05:39:31 PM,04/20/2021 05:41:00 PM,,,,Medical Examiner,04/20/2021 05:46:26 PM,800 Block of SACRAMENTO ST,San Francisco,94108.0,B01,2.0,1326,E,E,3,True,Potentially Life-Threatening,1,ENGINE,4.0,1,3,Chinatown,211102688-E03,POINT (-122.40734135417097 37.793282423188145),6.0',\n",
       " '392,211102670,AM120,21047566,Medical Incident,04/20/2021,04/20/2021,04/20/2021 05:32:47 PM,04/20/2021 05:34:13 PM,04/20/2021 05:35:02 PM,04/20/2021 05:35:42 PM,04/20/2021 05:44:03 PM,04/20/2021 06:11:55 PM,04/20/2021 06:26:20 PM,Code 2 Transport,04/20/2021 06:53:06 PM,5600 Block of 3RD ST,San Francisco,94124.0,B10,17.0,6537,3,3,3,False,Potentially Life-Threatening,1,PRIVATE,2.0,10,10,Bayview Hunters Point,211102670-AM120,POINT (-122.39386696204919 37.72664747873989),1.0',\n",
       " '393,211102670,E17,21047566,Medical Incident,04/20/2021,04/20/2021,04/20/2021 05:32:47 PM,04/20/2021 05:34:13 PM,04/20/2021 05:35:02 PM,04/20/2021 05:35:18 PM,04/20/2021 05:37:17 PM,,,Code 2 Transport,04/20/2021 05:53:32 PM,5600 Block of 3RD ST,San Francisco,94124.0,B10,17.0,6537,3,3,3,True,Potentially Life-Threatening,1,ENGINE,1.0,10,10,Bayview Hunters Point,211102670-E17,POINT (-122.39386696204919 37.72664747873989),1.0',\n",
       " '394,211102651,RC4,21047565,Medical Incident,04/20/2021,04/20/2021,04/20/2021 05:26:58 PM,04/20/2021 05:28:28 PM,04/20/2021 05:29:33 PM,04/20/2021 05:30:38 PM,,,,Against Medical Advice,04/20/2021 05:35:23 PM,1300 Block of GILMAN AVE,San Francisco,94124.0,B10,17.0,6614,3,3,3,True,Potentially Life-Threatening,1,RESCUE CAPTAIN,3.0,10,10,Bayview Hunters Point,211102651-RC4,POINT (-122.39462837751798 37.7219818774113),1.0',\n",
       " '395,211102651,E17,21047565,Medical Incident,04/20/2021,04/20/2021,04/20/2021 05:26:58 PM,04/20/2021 05:28:28 PM,04/20/2021 05:29:33 PM,04/20/2021 05:30:44 PM,04/20/2021 05:33:00 PM,,,Against Medical Advice,04/20/2021 05:34:13 PM,1300 Block of GILMAN AVE,San Francisco,94124.0,B10,17.0,6614,3,3,3,True,Potentially Life-Threatening,1,ENGINE,1.0,10,10,Bayview Hunters Point,211102651-E17,POINT (-122.39462837751798 37.7219818774113),1.0',\n",
       " '396,211102651,63,21047565,Medical Incident,04/20/2021,04/20/2021,04/20/2021 05:26:58 PM,04/20/2021 05:28:28 PM,04/20/2021 05:29:33 PM,04/20/2021 05:29:38 PM,04/20/2021 05:33:34 PM,,,Against Medical Advice,04/20/2021 06:27:00 PM,1300 Block of GILMAN AVE,San Francisco,94124.0,B10,17.0,6614,3,3,3,True,Potentially Life-Threatening,1,MEDIC,2.0,10,10,Bayview Hunters Point,211102651-63,POINT (-122.39462837751798 37.7219818774113),1.0',\n",
       " '397,211102650,E39,21047564,Medical Incident,04/20/2021,04/20/2021,04/20/2021 05:26:27 PM,04/20/2021 05:28:21 PM,04/20/2021 05:30:42 PM,,,,,Fire,04/20/2021 05:31:51 PM,2600 Block of OCEAN AVE,San Francisco,94132.0,B08,19.0,8452,3,3,3,True,Alarm,1,ENGINE,2.0,8,7,West of Twin Peaks,211102650-E39,POINT (-122.47373873085589 37.73184682984372),41.0',\n",
       " '398,211102650,E19,21047564,Medical Incident,04/20/2021,04/20/2021,04/20/2021 05:26:27 PM,04/20/2021 05:28:21 PM,04/20/2021 05:31:46 PM,04/20/2021 05:31:46 PM,04/20/2021 05:35:47 PM,,,Fire,04/20/2021 05:37:23 PM,2600 Block of OCEAN AVE,San Francisco,94132.0,B08,19.0,8452,3,3,3,True,Alarm,1,ENGINE,1.0,8,7,West of Twin Peaks,211102650-E19,POINT (-122.47373873085589 37.73184682984372),41.0',\n",
       " '399,211102647,AM116,21047563,Medical Incident,04/20/2021,04/20/2021,04/20/2021 05:25:45 PM,04/20/2021 05:27:46 PM,04/20/2021 05:28:38 PM,04/20/2021 05:30:34 PM,04/20/2021 05:35:18 PM,04/20/2021 05:46:12 PM,04/20/2021 06:00:18 PM,Code 2 Transport,04/20/2021 06:51:21 PM,1500 Block of CALIFORNIA ST,San Francisco,94109.0,B04,41.0,1635,3,3,3,False,Non Life-threatening,1,PRIVATE,2.0,4,3,Nob Hill,211102647-AM116,POINT (-122.41987274042728 37.7907373942467),21.0',\n",
       " '400,211102647,54,21047563,Medical Incident,04/20/2021,04/20/2021,04/20/2021 05:25:45 PM,04/20/2021 05:27:46 PM,04/20/2021 05:28:04 PM,,,,,Code 2 Transport,04/20/2021 05:28:30 PM,1500 Block of CALIFORNIA ST,San Francisco,94109.0,B04,41.0,1635,3,3,3,True,Non Life-threatening,1,MEDIC,3.0,4,3,Nob Hill,211102647-54,POINT (-122.41987274042728 37.7907373942467),21.0',\n",
       " '401,211102647,QRV1,21047563,Medical Incident,04/20/2021,04/20/2021,04/20/2021 05:25:45 PM,04/20/2021 05:27:46 PM,04/20/2021 05:28:04 PM,04/20/2021 05:28:11 PM,04/20/2021 05:31:34 PM,,,Code 2 Transport,04/20/2021 05:47:45 PM,1500 Block of CALIFORNIA ST,San Francisco,94109.0,B04,41.0,1635,3,3,3,True,Non Life-threatening,1,SUPPORT,1.0,4,3,Nob Hill,211102647-QRV1,POINT (-122.41987274042728 37.7907373942467),21.0',\n",
       " '402,211102642,E09,21047562,Outside Fire,04/20/2021,04/20/2021,04/20/2021 05:25:13 PM,04/20/2021 05:25:45 PM,04/20/2021 05:26:18 PM,04/20/2021 05:27:33 PM,04/20/2021 05:30:52 PM,,,Fire,04/20/2021 05:41:38 PM,1900 Block of NEWCOMB AVE,San Francisco,94124.0,B10,42.0,6444,3,3,3,True,Fire,1,ENGINE,1.0,10,10,Bayview Hunters Point,211102642-E09,POINT (-122.39627758622211 37.738978612507),1.0',\n",
       " '403,211102641,E06,21047561,Electrical Hazard,04/20/2021,04/20/2021,04/20/2021 05:25:31 PM,04/20/2021 05:25:31 PM,04/20/2021 05:25:58 PM,04/20/2021 05:26:33 PM,04/20/2021 05:29:47 PM,,,Fire,04/20/2021 05:57:50 PM,100 Block of COLLINGWOOD ST,San Francisco,94114.0,B05,6.0,5415,C,3,3,True,Alarm,1,ENGINE,1.0,6,8,Castro/Upper Market,211102641-E06,POINT (-122.4359664273456 37.76002760297228),5.0',\n",
       " '404,211102635,KM04,21047560,Medical Incident,04/20/2021,04/20/2021,04/20/2021 05:20:58 PM,04/20/2021 05:23:11 PM,04/20/2021 05:23:28 PM,04/20/2021 05:23:56 PM,04/20/2021 05:45:05 PM,04/20/2021 06:06:07 PM,04/20/2021 06:26:32 PM,Code 2 Transport,04/20/2021 06:53:00 PM,200 Block of GOLDEN GATE AVE,San Francisco,94102.0,B02,3.0,1546,2,2,2,False,Non Life-threatening,1,PRIVATE,1.0,2,6,Tenderloin,211102635-KM04,POINT (-122.41428534642033 37.78186544733056),36.0',\n",
       " '405,211102605,91,21047558,Medical Incident,04/20/2021,04/20/2021,04/20/2021 05:14:00 PM,04/20/2021 05:15:20 PM,04/20/2021 05:15:35 PM,04/20/2021 05:15:39 PM,04/20/2021 05:17:45 PM,,,Patient Declined Transport,04/20/2021 06:05:43 PM,1600 Block of FOLSOM ST,San Francisco,94103.0,B02,36.0,5121,3,3,3,True,Potentially Life-Threatening,1,MEDIC,1.0,2,6,Mission,211102605-91,POINT (-122.41540968440194 37.77027467437042),20.0',\n",
       " '406,211102605,E36,21047558,Medical Incident,04/20/2021,04/20/2021,04/20/2021 05:14:00 PM,04/20/2021 05:15:20 PM,04/20/2021 05:15:35 PM,04/20/2021 05:16:43 PM,04/20/2021 05:19:51 PM,,,Patient Declined Transport,04/20/2021 05:23:06 PM,1600 Block of FOLSOM ST,San Francisco,94103.0,B02,36.0,5121,3,3,3,True,Potentially Life-Threatening,1,ENGINE,2.0,2,6,Mission,211102605-E36,POINT (-122.41540968440194 37.77027467437042),20.0',\n",
       " '407,211102597,E19,21047557,Medical Incident,04/20/2021,04/20/2021,04/20/2021 05:12:52 PM,04/20/2021 05:12:52 PM,04/20/2021 05:13:10 PM,04/20/2021 05:13:58 PM,04/20/2021 05:16:39 PM,,,Code 2 Transport,04/20/2021 05:31:41 PM,0 Block of ACEVEDO AVE,San Francisco,94132.0,B08,19.0,8582,B,3,3,True,Potentially Life-Threatening,1,ENGINE,1.0,8,7,Lakeshore,211102597-E19,POINT (-122.48385230275726 37.71976286098834),16.0',\n",
       " '408,211102597,AM108,21047557,Medical Incident,04/20/2021,04/20/2021,04/20/2021 05:12:52 PM,04/20/2021 05:12:52 PM,04/20/2021 05:13:10 PM,04/20/2021 05:14:03 PM,04/20/2021 05:26:50 PM,04/20/2021 05:38:06 PM,04/20/2021 06:00:52 PM,Code 2 Transport,04/20/2021 06:34:32 PM,0 Block of ACEVEDO AVE,San Francisco,94132.0,B08,19.0,8582,B,3,3,False,Potentially Life-Threatening,1,PRIVATE,2.0,8,7,Lakeshore,211102597-AM108,POINT (-122.48385230275726 37.71976286098834),16.0',\n",
       " '409,211102582,B04,21047556,Structure Fire,04/20/2021,04/20/2021,04/20/2021 05:10:13 PM,04/20/2021 05:10:29 PM,04/20/2021 05:10:44 PM,04/20/2021 05:11:30 PM,04/20/2021 05:47:48 PM,,,Fire,04/20/2021 05:50:59 PM,0 Block of VIA BUFANO,San Francisco,94133.0,B01,28.0,1351,3,3,3,False,Fire,1,CHIEF,9.0,1,3,North Beach,211102582-B04,POINT (-122.41143687254309 37.80159311813766),23.0',\n",
       " '410,211102582,E02,21047556,Structure Fire,04/20/2021,04/20/2021,04/20/2021 05:10:13 PM,04/20/2021 05:10:29 PM,04/20/2021 05:10:44 PM,04/20/2021 05:11:17 PM,,,,Fire,04/20/2021 05:43:03 PM,0 Block of VIA BUFANO,San Francisco,94133.0,B01,28.0,1351,3,3,3,True,Fire,1,ENGINE,12.0,1,3,North Beach,211102582-E02,POINT (-122.41143687254309 37.80159311813766),23.0',\n",
       " '411,211102582,B01,21047556,Structure Fire,04/20/2021,04/20/2021,04/20/2021 05:10:13 PM,04/20/2021 05:10:29 PM,04/20/2021 05:10:44 PM,04/20/2021 05:12:02 PM,04/20/2021 05:12:57 PM,,,Fire,04/20/2021 06:10:31 PM,0 Block of VIA BUFANO,San Francisco,94133.0,B01,28.0,1351,3,3,3,False,Fire,1,CHIEF,1.0,1,3,North Beach,211102582-B01,POINT (-122.41143687254309 37.80159311813766),23.0',\n",
       " '412,211102582,89,21047556,Structure Fire,04/20/2021,04/20/2021,04/20/2021 05:10:13 PM,04/20/2021 05:10:29 PM,04/20/2021 05:10:44 PM,04/20/2021 05:10:48 PM,04/20/2021 05:16:39 PM,,,Fire,04/20/2021 05:59:02 PM,0 Block of VIA BUFANO,San Francisco,94133.0,B01,28.0,1351,3,3,3,True,Fire,1,MEDIC,4.0,1,3,North Beach,211102582-89,POINT (-122.41143687254309 37.80159311813766),23.0',\n",
       " '413,211102582,E28,21047556,Structure Fire,04/20/2021,04/20/2021,04/20/2021 05:10:13 PM,04/20/2021 05:10:29 PM,04/20/2021 05:10:44 PM,04/20/2021 05:11:35 PM,,,,Fire,04/20/2021 06:14:06 PM,0 Block of VIA BUFANO,San Francisco,94133.0,B01,28.0,1351,3,3,3,False,Fire,1,ENGINE,11.0,1,3,North Beach,211102582-E28,POINT (-122.41143687254309 37.80159311813766),23.0',\n",
       " '414,211102582,RC1,21047556,Structure Fire,04/20/2021,04/20/2021,04/20/2021 05:10:13 PM,04/20/2021 05:10:29 PM,04/20/2021 05:15:57 PM,04/20/2021 05:17:31 PM,04/20/2021 05:22:56 PM,,,Fire,04/20/2021 05:32:08 PM,0 Block of VIA BUFANO,San Francisco,94133.0,B01,28.0,1351,3,3,3,True,Fire,1,RESCUE CAPTAIN,8.0,1,3,North Beach,211102582-RC1,POINT (-122.41143687254309 37.80159311813766),23.0',\n",
       " '415,211102582,RS1,21047556,Structure Fire,04/20/2021,04/20/2021,04/20/2021 05:10:13 PM,04/20/2021 05:10:29 PM,04/20/2021 05:10:44 PM,04/20/2021 05:11:55 PM,04/20/2021 05:20:26 PM,,,Fire,04/20/2021 05:35:08 PM,0 Block of VIA BUFANO,San Francisco,94133.0,B01,28.0,1351,3,3,3,False,Fire,1,RESCUE SQUAD,7.0,1,3,North Beach,211102582-RS1,POINT (-122.41143687254309 37.80159311813766),23.0',\n",
       " '416,211102582,T02,21047556,Structure Fire,04/20/2021,04/20/2021,04/20/2021 05:10:13 PM,04/20/2021 05:10:29 PM,04/20/2021 05:10:44 PM,04/20/2021 05:11:22 PM,04/20/2021 05:13:48 PM,,,Fire,04/20/2021 06:10:23 PM,0 Block of VIA BUFANO,San Francisco,94133.0,B01,28.0,1351,3,3,3,False,Fire,1,TRUCK,2.0,1,3,North Beach,211102582-T02,POINT (-122.41143687254309 37.80159311813766),23.0',\n",
       " '417,211102582,T13,21047556,Structure Fire,04/20/2021,04/20/2021,04/20/2021 05:10:13 PM,04/20/2021 05:10:29 PM,04/20/2021 05:10:44 PM,04/20/2021 05:12:14 PM,04/20/2021 05:15:50 PM,,,Fire,04/20/2021 06:09:34 PM,0 Block of VIA BUFANO,San Francisco,94133.0,B01,28.0,1351,3,3,3,False,Fire,1,TRUCK,3.0,1,3,North Beach,211102582-T13,POINT (-122.41143687254309 37.80159311813766),23.0',\n",
       " '418,211102582,BE1,21047556,Structure Fire,04/20/2021,04/20/2021,04/20/2021 05:10:13 PM,04/20/2021 05:10:29 PM,04/20/2021 06:06:33 PM,04/20/2021 06:06:33 PM,,,,Fire,04/20/2021 06:11:12 PM,0 Block of VIA BUFANO,San Francisco,94133.0,B01,28.0,1351,3,3,3,False,Fire,1,SUPPORT,13.0,1,3,North Beach,211102582-BE1,POINT (-122.41143687254309 37.80159311813766),23.0',\n",
       " '419,211102582,E13,21047556,Structure Fire,04/20/2021,04/20/2021,04/20/2021 05:10:13 PM,04/20/2021 05:10:29 PM,04/20/2021 05:10:44 PM,04/20/2021 05:11:58 PM,,,,Fire,04/20/2021 06:25:42 PM,0 Block of VIA BUFANO,San Francisco,94133.0,B01,28.0,1351,3,3,3,True,Fire,1,ENGINE,10.0,1,3,North Beach,211102582-E13,POINT (-122.41143687254309 37.80159311813766),23.0',\n",
       " '420,211102559,E31,21047555,Structure Fire,04/20/2021,04/20/2021,04/20/2021 05:05:30 PM,04/20/2021 05:05:30 PM,04/20/2021 05:07:10 PM,04/20/2021 05:08:41 PM,04/20/2021 05:11:48 PM,,,Fire,04/20/2021 05:14:39 PM,ARGUELLO BL/BALBOA ST,San Francisco,94118.0,B07,31.0,7112,3,3,3,True,Alarm,1,ENGINE,1.0,7,1,Lone Mountain/USF,211102559-E31,POINT (-122.45858063004545 37.77725391796223),18.0',\n",
       " '421,211102559,B07,21047555,Structure Fire,04/20/2021,04/20/2021,04/20/2021 05:05:30 PM,04/20/2021 05:05:30 PM,04/20/2021 05:07:10 PM,04/20/2021 05:08:03 PM,04/20/2021 05:12:44 PM,,,Fire,04/20/2021 05:14:32 PM,ARGUELLO BL/BALBOA ST,San Francisco,94118.0,B07,31.0,7112,3,3,3,False,Alarm,1,CHIEF,2.0,7,1,Lone Mountain/USF,211102559-B07,POINT (-122.45858063004545 37.77725391796223),18.0',\n",
       " '422,211102559,T10,21047555,Structure Fire,04/20/2021,04/20/2021,04/20/2021 05:05:30 PM,04/20/2021 05:05:30 PM,04/20/2021 05:07:10 PM,04/20/2021 05:08:19 PM,,,,Fire,04/20/2021 05:14:05 PM,ARGUELLO BL/BALBOA ST,San Francisco,94118.0,B07,31.0,7112,3,3,3,False,Alarm,1,TRUCK,3.0,7,1,Lone Mountain/USF,211102559-T10,POINT (-122.45858063004545 37.77725391796223),18.0',\n",
       " '423,211102556,70,21047554,Traffic Collision,04/20/2021,04/20/2021,04/20/2021 05:05:23 PM,04/20/2021 05:05:23 PM,04/20/2021 05:06:04 PM,,,,,Code 2 Transport,04/20/2021 05:06:49 PM,INGALLS ST/MIDDLE POINT RD,San Francisco,94124.0,B10,17.0,6626,A,3,3,True,Non Life-threatening,1,MEDIC,7.0,10.0,10,Bayview Hunters Point,211102556-70,POINT (-122.37943074575804 37.73408161835746),1.0',\n",
       " '424,211102556,RS2,21047554,Traffic Collision,04/20/2021,04/20/2021,04/20/2021 05:05:23 PM,04/20/2021 05:05:23 PM,04/20/2021 05:06:04 PM,04/20/2021 05:07:54 PM,,,,Code 2 Transport,04/20/2021 05:10:02 PM,INGALLS ST/MIDDLE POINT RD,San Francisco,94124.0,B10,17.0,6626,A,3,3,False,Non Life-threatening,1,RESCUE SQUAD,6.0,10.0,10,Bayview Hunters Point,211102556-RS2,POINT (-122.37943074575804 37.73408161835746),1.0',\n",
       " '425,211102556,T17,21047554,Traffic Collision,04/20/2021,04/20/2021,04/20/2021 05:05:23 PM,04/20/2021 05:05:23 PM,04/20/2021 05:06:04 PM,04/20/2021 05:07:42 PM,04/20/2021 05:11:07 PM,,,Code 2 Transport,04/20/2021 05:14:17 PM,INGALLS ST/MIDDLE POINT RD,San Francisco,94124.0,B10,17.0,6626,A,3,3,False,Non Life-threatening,1,TRUCK,1.0,10.0,10,Bayview Hunters Point,211102556-T17,POINT (-122.37943074575804 37.73408161835746),1.0',\n",
       " '426,211102556,RC4,21047554,Traffic Collision,04/20/2021,04/20/2021,04/20/2021 05:05:23 PM,04/20/2021 05:05:23 PM,04/20/2021 05:06:04 PM,04/20/2021 05:07:15 PM,,,,Code 2 Transport,04/20/2021 05:10:06 PM,INGALLS ST/MIDDLE POINT RD,San Francisco,94124.0,B10,17.0,6626,A,3,3,True,Non Life-threatening,1,RESCUE CAPTAIN,5.0,10.0,10,Bayview Hunters Point,211102556-RC4,POINT (-122.37943074575804 37.73408161835746),1.0',\n",
       " '427,211102556,E17,21047554,Traffic Collision,04/20/2021,04/20/2021,04/20/2021 05:05:23 PM,04/20/2021 05:05:23 PM,04/20/2021 05:06:04 PM,04/20/2021 05:07:24 PM,,,,Code 2 Transport,04/20/2021 05:17:03 PM,INGALLS ST/MIDDLE POINT RD,San Francisco,94124.0,B10,17.0,6626,A,3,3,True,Non Life-threatening,1,ENGINE,3.0,10.0,10,Bayview Hunters Point,211102556-E17,POINT (-122.37943074575804 37.73408161835746),1.0',\n",
       " '428,211102556,68,21047554,Traffic Collision,04/20/2021,04/20/2021,04/20/2021 05:05:23 PM,04/20/2021 05:05:23 PM,04/20/2021 05:06:46 PM,04/20/2021 05:06:46 PM,04/20/2021 05:11:52 PM,04/20/2021 05:27:52 PM,04/20/2021 05:38:59 PM,Code 2 Transport,04/20/2021 06:24:38 PM,INGALLS ST/MIDDLE POINT RD,San Francisco,94124.0,B10,17.0,6626,A,3,3,True,Non Life-threatening,1,MEDIC,2.0,10.0,10,Bayview Hunters Point,211102556-68,POINT (-122.37943074575804 37.73408161835746),1.0',\n",
       " '429,211102556,B10,21047554,Traffic Collision,04/20/2021,04/20/2021,04/20/2021 05:05:23 PM,04/20/2021 05:05:23 PM,04/20/2021 05:06:04 PM,04/20/2021 05:07:22 PM,,,,Code 2 Transport,04/20/2021 05:11:30 PM,INGALLS ST/MIDDLE POINT RD,San Francisco,94124.0,B10,17.0,6626,A,3,3,False,Non Life-threatening,1,CHIEF,4.0,10.0,10,Bayview Hunters Point,211102556-B10,POINT (-122.37943074575804 37.73408161835746),1.0',\n",
       " '430,211102549,RC3,21047553,Medical Incident,04/20/2021,04/20/2021,04/20/2021 05:02:43 PM,04/20/2021 05:03:49 PM,04/20/2021 05:03:58 PM,04/20/2021 05:05:07 PM,,,,No Merit,04/20/2021 05:09:12 PM,18TH ST/NOE ST,San Francisco,94114.0,B05,6.0,5417,E,E,3,True,Potentially Life-Threatening,1,RESCUE CAPTAIN,4.0,5,8,Castro/Upper Market,211102549-RC3,POINT (-122.43279350600169 37.76102131186791),5.0',\n",
       " '431,211102549,AM108,21047553,Medical Incident,04/20/2021,04/20/2021,04/20/2021 05:02:43 PM,04/20/2021 05:03:49 PM,04/20/2021 05:03:58 PM,04/20/2021 05:05:22 PM,,,,No Merit,04/20/2021 05:09:25 PM,18TH ST/NOE ST,San Francisco,94114.0,B05,6.0,5417,E,E,3,False,Potentially Life-Threatening,1,PRIVATE,3.0,5,8,Castro/Upper Market,211102549-AM108,POINT (-122.43279350600169 37.76102131186791),5.0',\n",
       " '432,211102549,E07,21047553,Medical Incident,04/20/2021,04/20/2021,04/20/2021 05:02:43 PM,04/20/2021 05:03:49 PM,04/20/2021 05:03:58 PM,04/20/2021 05:04:50 PM,04/20/2021 05:08:45 PM,,,No Merit,04/20/2021 05:09:03 PM,18TH ST/NOE ST,San Francisco,94114.0,B05,6.0,5417,E,E,3,True,Potentially Life-Threatening,1,ENGINE,2.0,5,8,Castro/Upper Market,211102549-E07,POINT (-122.43279350600169 37.76102131186791),5.0',\n",
       " '433,211102549,T06,21047553,Medical Incident,04/20/2021,04/20/2021,04/20/2021 05:02:43 PM,04/20/2021 05:03:49 PM,04/20/2021 05:03:58 PM,04/20/2021 05:05:07 PM,04/20/2021 05:07:21 PM,,,No Merit,04/20/2021 05:11:52 PM,18TH ST/NOE ST,San Francisco,94114.0,B05,6.0,5417,E,E,3,False,Potentially Life-Threatening,1,TRUCK,1.0,5,8,Castro/Upper Market,211102549-T06,POINT (-122.43279350600169 37.76102131186791),5.0',\n",
       " '434,211102526,E43,21047552,Electrical Hazard,04/20/2021,04/20/2021,04/20/2021 04:58:06 PM,04/20/2021 04:59:02 PM,04/20/2021 04:59:10 PM,04/20/2021 05:00:21 PM,04/20/2021 05:03:03 PM,,,Fire,04/20/2021 05:04:59 PM,MOSCOW ST/AVALON AV,San Francisco,94112.0,B09,43.0,6164,3,3,3,True,Alarm,1,ENGINE,1.0,9,11,Excelsior,211102526-E43,POINT (-122.42530158638468 37.724382363417604),7.0',\n",
       " '435,211102525,E06,21047551,Outside Fire,04/20/2021,04/20/2021,04/20/2021 04:56:19 PM,04/20/2021 04:57:36 PM,04/20/2021 04:57:43 PM,04/20/2021 04:58:33 PM,04/20/2021 05:01:04 PM,,,Fire,04/20/2021 05:24:52 PM,500 Block of WALLER ST,San Francisco,94117.0,B05,6.0,3635,3,3,3,True,Fire,1,ENGINE,1.0,5.0,5,Haight Ashbury,211102525-E06,POINT (-122.43313221236585 37.77080807137904),3.0',\n",
       " '436,211102502,83,21047550,Medical Incident,04/20/2021,04/20/2021,04/20/2021 04:51:53 PM,04/20/2021 04:53:42 PM,04/20/2021 04:55:12 PM,04/20/2021 04:55:16 PM,04/20/2021 04:58:21 PM,04/20/2021 05:18:44 PM,04/20/2021 05:27:55 PM,Code 2 Transport,04/20/2021 05:57:23 PM,900 Block of FAIRFAX AV,San Francisco,94124.0,B10,25.0,6556,2,2,2,True,Potentially Life-Threatening,1,MEDIC,1.0,10.0,10,Bayview Hunters Point,211102502-83,POINT (-122.38066256215548 37.735650032886575),1.0',\n",
       " '437,211102498,66,21047549,Medical Incident,04/20/2021,04/20/2021,04/20/2021 04:51:23 PM,04/20/2021 04:53:14 PM,04/20/2021 04:54:32 PM,04/20/2021 04:54:42 PM,04/20/2021 04:59:16 PM,,,Patient Declined Transport,04/20/2021 05:29:00 PM,CESAR CHAVEZ ST/FOLSOM ST,San Francisco,94110.0,B06,9.0,5622,3,3,3,True,Potentially Life-Threatening,1,MEDIC,1.0,6,9,Mission,211102498-66,POINT (-122.41366884565412 37.74825532926351),20.0',\n",
       " '438,211102498,E09,21047549,Medical Incident,04/20/2021,04/20/2021,04/20/2021 04:51:23 PM,04/20/2021 04:53:14 PM,04/20/2021 04:54:32 PM,04/20/2021 04:55:25 PM,04/20/2021 04:59:58 PM,,,Patient Declined Transport,04/20/2021 05:03:50 PM,CESAR CHAVEZ ST/FOLSOM ST,San Francisco,94110.0,B06,9.0,5622,3,3,3,True,Potentially Life-Threatening,1,ENGINE,2.0,6,9,Mission,211102498-E09,POINT (-122.41366884565412 37.74825532926351),20.0',\n",
       " '439,211102492,SCRT5,21047548,Medical Incident,04/20/2021,04/20/2021,04/20/2021 04:51:51 PM,04/20/2021 04:51:51 PM,04/20/2021 04:51:51 PM,04/20/2021 04:51:51 PM,04/20/2021 04:51:51 PM,,,Patient Declined Transport,04/20/2021 05:48:54 PM,17TH ST/HARRISON ST,San Francisco,94110.0,B02,7.0,5245,2,2,2,False,Non Life-threatening,1,SUPPORT,1.0,2,9,Mission,211102492-SCRT5,POINT (-122.41300268491727 37.7640908631506),20.0',\n",
       " '440,211102437,50,21047547,Medical Incident,04/20/2021,04/20/2021,04/20/2021 04:37:30 PM,04/20/2021 04:37:30 PM,04/20/2021 04:37:44 PM,04/20/2021 04:38:23 PM,04/20/2021 04:50:01 PM,,,Against Medical Advice,04/20/2021 06:26:38 PM,1500 Block of SLOAT BLVD,San Francisco,94132.0,B08,19.0,7552,A,2,2,True,Non Life-threatening,1,MEDIC,2.0,8,7,Sunset/Parkside,211102437-50,POINT (-122.48969917267519 37.73395044515263),35.0',\n",
       " '441,211102437,E19,21047547,Medical Incident,04/20/2021,04/20/2021,04/20/2021 04:37:30 PM,04/20/2021 04:37:30 PM,04/20/2021 04:37:44 PM,04/20/2021 04:39:00 PM,04/20/2021 04:42:34 PM,,,Against Medical Advice,04/20/2021 05:09:52 PM,1500 Block of SLOAT BLVD,San Francisco,94132.0,B08,19.0,7552,A,2,2,True,Non Life-threatening,1,ENGINE,1.0,8,7,Sunset/Parkside,211102437-E19,POINT (-122.48969917267519 37.73395044515263),35.0',\n",
       " '442,211102426,88,21047546,Medical Incident,04/20/2021,04/20/2021,04/20/2021 04:34:58 PM,04/20/2021 04:34:58 PM,04/20/2021 04:35:19 PM,04/20/2021 04:36:29 PM,04/20/2021 05:00:29 PM,04/20/2021 05:14:22 PM,04/20/2021 05:18:55 PM,Code 2 Transport,04/20/2021 06:08:34 PM,POST ST/TRADER VIC AL,San Francisco,94109.0,B01,3.0,1451,A,2,2,True,Non Life-threatening,1,MEDIC,1.0,1,3,Nob Hill,211102426-88,POINT (-122.4123436128665 37.78779033751301),21.0',\n",
       " '443,211102404,KM04,21047545,Medical Incident,04/20/2021,04/20/2021,04/20/2021 04:29:38 PM,04/20/2021 04:29:38 PM,04/20/2021 04:29:59 PM,04/20/2021 04:30:23 PM,,,,Cancelled,04/20/2021 04:35:09 PM,1000 Block of MARKET ST,San Francisco,94102.0,B03,1.0,1454,B,2,2,False,Non Life-threatening,1,PRIVATE,1.0,3,6,Tenderloin,211102404-KM04,POINT (-122.41105817541383 37.781761594074766),36.0',\n",
       " '444,211102387,86,21047544,Medical Incident,04/20/2021,04/20/2021,04/20/2021 04:25:09 PM,04/20/2021 04:25:09 PM,04/20/2021 04:25:22 PM,04/20/2021 04:25:37 PM,,,,SFPD,04/20/2021 04:27:48 PM,GEARY ST/LARKIN ST,San Francisco,94109.0,B04,3.0,1556,B,3,3,True,Potentially Life-Threatening,1,MEDIC,1.0,4,6,Tenderloin,211102387-86,POINT (-122.4180880988242 37.78610103882057),36.0',\n",
       " '445,211102387,QRV1,21047544,Medical Incident,04/20/2021,04/20/2021,04/20/2021 04:25:09 PM,04/20/2021 04:25:09 PM,04/20/2021 04:25:22 PM,04/20/2021 04:25:28 PM,,,,SFPD,04/20/2021 04:27:24 PM,GEARY ST/LARKIN ST,San Francisco,94109.0,B04,3.0,1556,B,3,3,True,Potentially Life-Threatening,1,SUPPORT,2.0,4,6,Tenderloin,211102387-QRV1,POINT (-122.4180880988242 37.78610103882057),36.0',\n",
       " '446,211102366,70,21047543,Medical Incident,04/20/2021,04/20/2021,04/20/2021 04:17:01 PM,04/20/2021 04:20:09 PM,04/20/2021 04:21:23 PM,04/20/2021 04:21:34 PM,04/20/2021 04:33:18 PM,,,Patient Declined Transport,04/20/2021 05:05:07 PM,3800 Block of 3RD ST,San Francisco,94124.0,B10,25.0,6457,2,2,2,True,Non Life-threatening,1,MEDIC,1.0,10,10,Bayview Hunters Point,211102366-70,POINT (-122.38793672864323 37.742268143453344),1.0',\n",
       " '447,211102366,55,21047543,Medical Incident,04/20/2021,04/20/2021,04/20/2021 04:17:01 PM,04/20/2021 04:20:09 PM,04/20/2021 04:20:27 PM,,,,,Patient Declined Transport,04/20/2021 04:21:03 PM,3800 Block of 3RD ST,San Francisco,94124.0,B10,25.0,6457,2,2,2,True,Non Life-threatening,1,MEDIC,2.0,10,10,Bayview Hunters Point,211102366-55,POINT (-122.38793672864323 37.742268143453344),1.0',\n",
       " '448,211102357,AM126,21047542,Medical Incident,04/20/2021,04/20/2021,04/20/2021 04:17:07 PM,04/20/2021 04:17:07 PM,04/20/2021 04:17:19 PM,04/20/2021 04:17:34 PM,04/20/2021 04:28:32 PM,04/20/2021 04:39:09 PM,04/20/2021 05:07:27 PM,Code 2 Transport,04/20/2021 05:35:52 PM,0 Block of JULIAN AVE,San Francisco,94103.0,B02,6.0,5215,A,2,2,False,Non Life-threatening,1,PRIVATE,1.0,2,9,Mission,211102357-AM126,POINT (-122.42120224952278 37.767395172273446),20.0',\n",
       " '449,211102347,KM08,21047541,Medical Incident,04/20/2021,04/20/2021,04/20/2021 04:14:11 PM,04/20/2021 04:14:42 PM,04/20/2021 04:14:56 PM,04/20/2021 04:15:22 PM,04/20/2021 04:21:59 PM,04/20/2021 04:39:24 PM,04/20/2021 04:52:54 PM,Code 3 Transport,04/20/2021 05:39:23 PM,0 Block of BELLA VISTA WAY,San Francisco,94127.0,B09,39.0,8254,3,3,3,False,Potentially Life-Threatening,1,PRIVATE,2.0,9,7,West of Twin Peaks,211102347-KM08,POINT (-122.44701389608275 37.73771229323737),41.0',\n",
       " '450,211102347,E39,21047541,Medical Incident,04/20/2021,04/20/2021,04/20/2021 04:14:11 PM,04/20/2021 04:14:42 PM,04/20/2021 04:14:56 PM,04/20/2021 04:16:25 PM,04/20/2021 04:19:39 PM,,,Code 3 Transport,04/20/2021 05:13:26 PM,0 Block of BELLA VISTA WAY,San Francisco,94127.0,B09,39.0,8254,3,3,3,True,Potentially Life-Threatening,1,ENGINE,1.0,9,7,West of Twin Peaks,211102347-E39,POINT (-122.44701389608275 37.73771229323737),41.0',\n",
       " '451,211102298,77,21047540,Medical Incident,04/20/2021,04/20/2021,04/20/2021 03:58:45 PM,04/20/2021 04:03:52 PM,04/20/2021 04:04:05 PM,04/20/2021 04:04:21 PM,04/20/2021 04:34:18 PM,,,Patient Declined Transport,04/20/2021 05:54:37 PM,2700 Block of ARELIOUS WALKER DR,San Francisco,94124.0,B10,17.0,6611,2,2,2,True,Non Life-threatening,1,MEDIC,1.0,10.0,10,Bayview Hunters Point,211102298-77,POINT (-122.38542680526976 37.718102224279804),1.0',\n",
       " '452,211102296,T18,21047539,Medical Incident,04/20/2021,04/20/2021,04/20/2021 04:01:35 PM,04/20/2021 04:03:09 PM,04/20/2021 04:03:21 PM,04/20/2021 04:04:11 PM,04/20/2021 04:09:17 PM,,,Code 2 Transport,04/20/2021 04:15:33 PM,2600 Block of YORBA ST,San Francisco,94116.0,B08,18.0,7614,3,3,3,False,Potentially Life-Threatening,1,TRUCK,1.0,8,4,Sunset/Parkside,211102296-T18,POINT (-122.49498231358422 37.73467525623697),35.0',\n",
       " '453,211102296,KM12,21047539,Medical Incident,04/20/2021,04/20/2021,04/20/2021 04:01:35 PM,04/20/2021 04:03:09 PM,04/20/2021 04:03:21 PM,04/20/2021 04:04:03 PM,04/20/2021 04:10:30 PM,04/20/2021 04:36:59 PM,04/20/2021 04:59:11 PM,Code 2 Transport,04/20/2021 05:29:33 PM,2600 Block of YORBA ST,San Francisco,94116.0,B08,18.0,7614,3,3,3,False,Potentially Life-Threatening,1,PRIVATE,2.0,8,4,Sunset/Parkside,211102296-KM12,POINT (-122.49498231358422 37.73467525623697),35.0',\n",
       " '454,211102280,T02,21047538,Citizen Assist / Service Call,04/20/2021,04/20/2021,04/20/2021 03:54:36 PM,04/20/2021 03:56:56 PM,04/20/2021 03:57:02 PM,04/20/2021 03:59:02 PM,04/20/2021 04:01:10 PM,,,Fire,04/20/2021 04:06:50 PM,900 Block of PACIFIC AVE,San Francisco,94133.0,B01,2.0,1416,2,2,2,False,Alarm,1,TRUCK,1.0,1,3,Chinatown,211102280-T02,POINT (-122.41131646679798 37.79639700083029),6.0',\n",
       " '455,211102270,SCRT4,21047537,Medical Incident,04/20/2021,04/20/2021,04/20/2021 03:54:07 PM,04/20/2021 03:54:45 PM,04/20/2021 04:08:20 PM,04/20/2021 04:11:00 PM,04/20/2021 04:11:00 PM,,,Patient Declined Transport,04/20/2021 05:34:25 PM,HYDE ST/OFARRELL ST,San Francisco,94109.0,B02,3.0,1555,1,1,2,False,Non Life-threatening,1,SUPPORT,1.0,2,6,Tenderloin,211102270-SCRT4,POINT (-122.41625970576308 37.785375973050506),36.0',\n",
       " '456,211102264,E20,21047536,Gas Leak (Natural and LP Gases),04/20/2021,04/20/2021,04/20/2021 03:51:34 PM,04/20/2021 03:53:01 PM,04/20/2021 03:53:06 PM,04/20/2021 03:54:49 PM,04/20/2021 03:58:10 PM,,,Fire,04/20/2021 04:05:25 PM,400 Block of WARREN DR,San Francisco,94131.0,B08,20.0,5377,3,3,3,True,Alarm,1,ENGINE,1.0,8,7,Inner Sunset,211102264-E20,POINT (-122.46201174701561 37.757976388159435),14.0',\n",
       " '457,211102258,71,21047535,Other,04/20/2021,04/20/2021,04/20/2021 03:52:16 PM,04/20/2021 03:52:16 PM,04/20/2021 03:52:53 PM,04/20/2021 03:52:59 PM,04/20/2021 04:05:18 PM,,,Cancelled,04/20/2021 04:11:10 PM,0 Block of JULIAN AVE,San Francisco,94103.0,B02,6.0,5215,A,2,2,True,Non Life-threatening,1,MEDIC,1.0,2,9,Mission,211102258-71,POINT (-122.42120224952278 37.767395172273446),20.0',\n",
       " '458,211102256,E01,21047534,Medical Incident,04/20/2021,04/20/2021,04/20/2021 03:49:43 PM,04/20/2021 03:51:45 PM,04/20/2021 03:52:09 PM,04/20/2021 03:53:37 PM,04/20/2021 03:56:11 PM,,,Patient Declined Transport,04/20/2021 04:04:38 PM,700 Block of MARKET ST,San Francisco,94103.0,B03,1.0,2212,2,2,2,True,Potentially Life-Threatening,1,ENGINE,1.0,3,6,Financial District/South Beach,211102256-E01,POINT (-122.40535937175251 37.78597747616279),8.0',\n",
       " '459,211102256,KM10,21047534,Medical Incident,04/20/2021,04/20/2021,04/20/2021 03:49:43 PM,04/20/2021 03:51:45 PM,04/20/2021 03:52:09 PM,04/20/2021 03:52:57 PM,,,,Patient Declined Transport,04/20/2021 04:04:38 PM,700 Block of MARKET ST,San Francisco,94103.0,B03,1.0,2212,2,2,2,False,Potentially Life-Threatening,1,PRIVATE,2.0,3,6,Financial District/South Beach,211102256-KM10,POINT (-122.40535937175251 37.78597747616279),8.0',\n",
       " '460,211102249,52,21047533,Medical Incident,04/20/2021,04/20/2021,04/20/2021 03:46:08 PM,04/20/2021 03:49:49 PM,04/20/2021 03:50:10 PM,04/20/2021 03:50:19 PM,04/20/2021 03:56:52 PM,04/20/2021 04:15:23 PM,04/20/2021 04:41:27 PM,Code 2 Transport,04/20/2021 05:18:47 PM,100 Block of BAY SHORE BLVD,San Francisco,94124.0,B10,9.0,6375,2,2,2,True,Non Life-threatening,1,MEDIC,1.0,10,10,Bayview Hunters Point,211102249-52,POINT (-122.40350728492407 37.74748113732681),1.0',\n",
       " '461,211102237,E18,21047532,Medical Incident,04/20/2021,04/20/2021,04/20/2021 03:43:28 PM,04/20/2021 03:45:26 PM,04/20/2021 03:46:05 PM,04/20/2021 03:47:16 PM,04/20/2021 03:49:29 PM,,,Code 2 Transport,04/20/2021 04:12:11 PM,1400 Block of 35TH AVE,San Francisco,94122.0,B08,18.0,7563,3,3,3,True,Non Life-threatening,1,ENGINE,1.0,8,4,Sunset/Parkside,211102237-E18,POINT (-122.49414394325416 37.76000725141032),35.0',\n",
       " '462,211102216,B02,21047530,Alarms,04/20/2021,04/20/2021,04/20/2021 03:37:07 PM,04/20/2021 03:37:07 PM,04/20/2021 03:37:12 PM,04/20/2021 03:38:21 PM,04/20/2021 03:42:28 PM,,,Fire,04/20/2021 03:48:30 PM,200 Block of GOLDEN GATE AVE,San Francisco,94102.0,B02,3.0,1546,I,3,3,False,Alarm,1,CHIEF,3.0,2,6,Tenderloin,211102216-B02,POINT (-122.41428534642033 37.78186544733056),36.0',\n",
       " '463,211102216,E36,21047530,Alarms,04/20/2021,04/20/2021,04/20/2021 03:37:07 PM,04/20/2021 03:37:07 PM,04/20/2021 03:37:12 PM,04/20/2021 03:38:49 PM,04/20/2021 03:42:10 PM,,,Fire,04/20/2021 03:52:25 PM,200 Block of GOLDEN GATE AVE,San Francisco,94102.0,B02,3.0,1546,I,3,3,True,Alarm,1,ENGINE,1.0,2,6,Tenderloin,211102216-E36,POINT (-122.41428534642033 37.78186544733056),36.0',\n",
       " '464,211102207,SCRT5,21047529,Medical Incident,04/20/2021,04/20/2021,04/20/2021 03:32:50 PM,04/20/2021 03:35:08 PM,04/20/2021 03:40:14 PM,04/20/2021 03:40:24 PM,04/20/2021 03:52:58 PM,,,Patient Declined Transport,04/20/2021 04:51:42 PM,18TH ST/SHOTWELL ST,San Francisco,94110.0,B02,7.0,5424,1,1,2,False,Non Life-threatening,1,SUPPORT,1.0,6,9,Mission,211102207-SCRT5,POINT (-122.41607798751025 37.762034002653124),20.0',\n",
       " '465,211102204,KM01,21047528,Medical Incident,04/20/2021,04/20/2021,04/20/2021 03:34:49 PM,04/20/2021 03:34:49 PM,04/20/2021 03:35:19 PM,04/20/2021 03:36:03 PM,,,,Cancelled,04/20/2021 03:43:26 PM,2300 Block of VAN NESS AVE,San Francisco,94109.0,B04,41.0,3151,A,2,2,False,Potentially Life-Threatening,1,PRIVATE,1.0,4,3,Russian Hill,211102204-KM01,POINT (-122.42352863641517 37.797175954324764),32.0',\n",
       " '466,211102200,B01,21047527,Alarms,04/20/2021,04/20/2021,04/20/2021 03:32:27 PM,04/20/2021 03:34:00 PM,04/20/2021 03:34:44 PM,04/20/2021 03:35:41 PM,,,,Fire,04/20/2021 03:38:24 PM,300 Block of POST ST,San Francisco,94108.0,B01,2.0,1362,3,3,3,False,Alarm,1,CHIEF,2.0,1,3,Financial District/South Beach,211102200-B01,POINT (-122.40757545256476 37.788342097542746),8.0',\n",
       " '467,211102200,T03,21047527,Alarms,04/20/2021,04/20/2021,04/20/2021 03:32:27 PM,04/20/2021 03:34:00 PM,04/20/2021 03:34:44 PM,04/20/2021 03:35:50 PM,,,,Fire,04/20/2021 03:37:56 PM,300 Block of POST ST,San Francisco,94108.0,B01,2.0,1362,3,3,3,False,Alarm,1,TRUCK,3.0,1,3,Financial District/South Beach,211102200-T03,POINT (-122.40757545256476 37.788342097542746),8.0',\n",
       " '468,211102199,76,21047526,Medical Incident,04/20/2021,04/20/2021,04/20/2021 03:30:53 PM,04/20/2021 03:33:45 PM,04/20/2021 03:34:27 PM,04/20/2021 03:34:33 PM,04/20/2021 03:53:09 PM,04/20/2021 04:15:36 PM,04/20/2021 04:33:52 PM,Code 2 Transport,04/20/2021 04:53:47 PM,400 Block of GEARY ST,San Francisco,94102.0,B01,3.0,1411,2,2,2,True,Non Life-threatening,1,MEDIC,1.0,1,3,Tenderloin,211102199-76,POINT (-122.41070587829695 37.78709865762398),36.0',\n",
       " '469,211102192,B03,21047525,Alarms,04/20/2021,04/20/2021,04/20/2021 03:29:52 PM,04/20/2021 03:31:31 PM,04/20/2021 03:31:58 PM,04/20/2021 03:32:37 PM,04/20/2021 03:35:39 PM,,,Fire,04/20/2021 03:53:30 PM,300 Block of BERRY ST,San Francisco,94158.0,B03,8.0,2235,3,3,3,False,Alarm,1,CHIEF,2.0,3,6,Mission Bay,211102192-B03,POINT (-122.39664007903995 37.773112483536515),4.0',\n",
       " '470,211102192,T08,21047525,Alarms,04/20/2021,04/20/2021,04/20/2021 03:29:52 PM,04/20/2021 03:31:31 PM,04/20/2021 03:31:58 PM,04/20/2021 03:34:05 PM,,,,Fire,04/20/2021 03:53:19 PM,300 Block of BERRY ST,San Francisco,94158.0,B03,8.0,2235,3,3,3,False,Alarm,1,TRUCK,3.0,3,6,Mission Bay,211102192-T08,POINT (-122.39664007903995 37.773112483536515),4.0',\n",
       " '471,211102192,E08,21047525,Alarms,04/20/2021,04/20/2021,04/20/2021 03:29:52 PM,04/20/2021 03:31:31 PM,04/20/2021 03:31:58 PM,04/20/2021 03:32:47 PM,04/20/2021 03:35:16 PM,,,Fire,04/20/2021 03:57:04 PM,300 Block of BERRY ST,San Francisco,94158.0,B03,8.0,2235,3,3,3,True,Alarm,1,ENGINE,1.0,3,6,Mission Bay,211102192-E08,POINT (-122.39664007903995 37.773112483536515),4.0',\n",
       " '472,211102190,E01,21047524,Medical Incident,04/20/2021,04/20/2021,04/20/2021 03:29:52 PM,04/20/2021 03:31:20 PM,04/20/2021 03:31:39 PM,04/20/2021 03:33:31 PM,04/20/2021 03:36:40 PM,,,Code 2 Transport,04/20/2021 03:45:09 PM,1100 Block of MISSION ST,San Francisco,94103.0,B02,1.0,2318,3,3,3,True,Potentially Life-Threatening,1,ENGINE,1.0,2,6,South of Market,211102190-E01,POINT (-122.41273670742464 37.77771244043184),34.0',\n",
       " '473,211102190,74,21047524,Medical Incident,04/20/2021,04/20/2021,04/20/2021 03:29:52 PM,04/20/2021 03:31:20 PM,04/20/2021 03:33:51 PM,04/20/2021 03:33:55 PM,04/20/2021 03:42:09 PM,04/20/2021 04:08:12 PM,04/20/2021 04:12:35 PM,Code 2 Transport,04/20/2021 04:32:56 PM,1100 Block of MISSION ST,San Francisco,94103.0,B02,1.0,2318,3,3,3,True,Potentially Life-Threatening,1,MEDIC,2.0,2,6,South of Market,211102190-74,POINT (-122.41273670742464 37.77771244043184),34.0',\n",
       " '474,211102190,68,21047524,Medical Incident,04/20/2021,04/20/2021,04/20/2021 03:29:52 PM,04/20/2021 03:31:20 PM,04/20/2021 03:31:39 PM,04/20/2021 03:31:52 PM,,,,Code 2 Transport,04/20/2021 03:34:27 PM,1100 Block of MISSION ST,San Francisco,94103.0,B02,1.0,2318,3,3,3,True,Potentially Life-Threatening,1,MEDIC,3.0,2,6,South of Market,211102190-68,POINT (-122.41273670742464 37.77771244043184),34.0',\n",
       " '475,211102181,56,21047523,Medical Incident,04/20/2021,04/20/2021,04/20/2021 03:27:34 PM,04/20/2021 03:28:06 PM,04/20/2021 03:28:35 PM,04/20/2021 03:28:38 PM,04/20/2021 03:36:05 PM,04/20/2021 03:58:50 PM,04/20/2021 04:22:46 PM,Code 2 Transport,04/20/2021 04:57:16 PM,200 Block of TURK ST,San Francisco,94102.0,B03,3.0,1456,3,3,3,True,Potentially Life-Threatening,1,MEDIC,2.0,2,6,Tenderloin,211102181-56,POINT (-122.4132217667375 37.782845034474235),36.0',\n",
       " '476,211102181,E03,21047523,Medical Incident,04/20/2021,04/20/2021,04/20/2021 03:27:34 PM,04/20/2021 03:28:06 PM,04/20/2021 03:28:35 PM,04/20/2021 03:29:42 PM,04/20/2021 03:32:43 PM,,,Code 2 Transport,04/20/2021 03:51:16 PM,200 Block of TURK ST,San Francisco,94102.0,B03,3.0,1456,3,3,3,True,Potentially Life-Threatening,1,ENGINE,1.0,2,6,Tenderloin,211102181-E03,POINT (-122.4132217667375 37.782845034474235),36.0',\n",
       " '477,211102179,53,21047522,Medical Incident,04/20/2021,04/20/2021,04/20/2021 03:25:25 PM,04/20/2021 03:27:09 PM,04/20/2021 03:27:18 PM,04/20/2021 03:27:23 PM,04/20/2021 03:41:21 PM,04/20/2021 03:58:23 PM,04/20/2021 04:17:15 PM,Code 2 Transport,04/20/2021 05:03:39 PM,200 Block of EDDY ST,San Francisco,94102.0,B03,3.0,1453,2,2,2,True,Potentially Life-Threatening,1,MEDIC,1.0,3,6,Tenderloin,211102179-53,POINT (-122.41178436945442 37.78409103617571),36.0',\n",
       " '478,211102146,E31,21047521,Medical Incident,04/20/2021,04/20/2021,04/20/2021 03:08:11 PM,04/20/2021 03:15:00 PM,04/20/2021 03:15:53 PM,04/20/2021 03:17:06 PM,04/20/2021 03:19:56 PM,,,Code 2 Transport,04/20/2021 03:26:24 PM,100 Block of 9TH AVE,San Francisco,94118.0,B07,31.0,7136,3,3,3,True,Potentially Life-Threatening,1,ENGINE,1.0,7,1,Inner Richmond,211102146-E31,POINT (-122.46790045660795 37.78559790879826),11.0',\n",
       " '479,211102146,67,21047521,Medical Incident,04/20/2021,04/20/2021,04/20/2021 03:08:11 PM,04/20/2021 03:15:00 PM,04/20/2021 03:15:53 PM,04/20/2021 03:15:58 PM,04/20/2021 03:23:22 PM,04/20/2021 03:40:22 PM,04/20/2021 04:00:55 PM,Code 2 Transport,04/20/2021 04:26:56 PM,100 Block of 9TH AVE,San Francisco,94118.0,B07,31.0,7136,3,3,3,True,Potentially Life-Threatening,1,MEDIC,2.0,7,1,Inner Richmond,211102146-67,POINT (-122.46790045660795 37.78559790879826),11.0',\n",
       " '480,211102144,91,21047520,Medical Incident,04/20/2021,04/20/2021,04/20/2021 03:13:56 PM,04/20/2021 03:14:28 PM,04/20/2021 03:15:20 PM,04/20/2021 03:15:35 PM,04/20/2021 03:20:36 PM,04/20/2021 03:30:02 PM,04/20/2021 03:40:36 PM,Code 2 Transport,04/20/2021 03:59:52 PM,600 Block of SUTTER ST,San Francisco,94102.0,B01,41.0,1412,3,3,3,True,Potentially Life-Threatening,1,MEDIC,2.0,1,3,Nob Hill,211102144-91,POINT (-122.41105310798282 37.78885770628797),21.0',\n",
       " '481,211102144,E41,21047520,Medical Incident,04/20/2021,04/20/2021,04/20/2021 03:13:56 PM,04/20/2021 03:14:28 PM,04/20/2021 03:15:20 PM,04/20/2021 03:15:27 PM,04/20/2021 03:18:29 PM,,,Code 2 Transport,04/20/2021 03:25:12 PM,600 Block of SUTTER ST,San Francisco,94102.0,B01,41.0,1412,3,3,3,False,Potentially Life-Threatening,1,ENGINE,1.0,1,3,Nob Hill,211102144-E41,POINT (-122.41105310798282 37.78885770628797),21.0',\n",
       " '482,211102130,E13,21047519,Alarms,04/20/2021,04/20/2021,04/20/2021 03:07:31 PM,04/20/2021 03:10:25 PM,04/20/2021 03:10:37 PM,04/20/2021 03:10:50 PM,04/20/2021 03:13:21 PM,,,Fire,04/20/2021 04:02:15 PM,300 Block of STOCKTON ST,San Francisco,94108.0,B01,13.0,1324,3,3,3,True,Alarm,1,ENGINE,1.0,1,3,Financial District/South Beach,211102130-E13,POINT (-122.40688650360572 37.788734576352866),8.0',\n",
       " '483,211102130,T13,21047519,Alarms,04/20/2021,04/20/2021,04/20/2021 03:07:31 PM,04/20/2021 03:10:25 PM,04/20/2021 03:12:02 PM,04/20/2021 03:12:02 PM,04/20/2021 03:14:44 PM,,,Fire,04/20/2021 03:14:58 PM,300 Block of STOCKTON ST,San Francisco,94108.0,B01,13.0,1324,3,3,3,False,Alarm,1,TRUCK,2.0,1,3,Financial District/South Beach,211102130-T13,POINT (-122.40688650360572 37.788734576352866),8.0',\n",
       " '484,211102130,T02,21047519,Alarms,04/20/2021,04/20/2021,04/20/2021 03:07:31 PM,04/20/2021 03:10:25 PM,04/20/2021 03:10:37 PM,,,,,Fire,04/20/2021 03:12:17 PM,300 Block of STOCKTON ST,San Francisco,94108.0,B01,13.0,1324,3,3,3,False,Alarm,1,TRUCK,4.0,1,3,Financial District/South Beach,211102130-T02,POINT (-122.40688650360572 37.788734576352866),8.0',\n",
       " '485,211102118,89,21047517,Medical Incident,04/20/2021,04/20/2021,04/20/2021 03:04:24 PM,04/20/2021 03:07:55 PM,04/20/2021 03:08:29 PM,04/20/2021 03:08:33 PM,04/20/2021 03:14:48 PM,04/20/2021 03:37:21 PM,04/20/2021 04:08:48 PM,Code 2 Transport,04/20/2021 04:40:32 PM,0 Block of SOMERSET ST,San Francisco,94134.0,B10,42.0,6356,3,3,3,True,Potentially Life-Threatening,1,MEDIC,2.0,9,9,Portola,211102118-89,POINT (-122.4093266844769 37.7307118079318),25.0',\n",
       " '486,211102118,E42,21047517,Medical Incident,04/20/2021,04/20/2021,04/20/2021 03:04:24 PM,04/20/2021 03:07:55 PM,04/20/2021 03:08:29 PM,04/20/2021 03:09:19 PM,04/20/2021 03:10:56 PM,,,Code 2 Transport,04/20/2021 03:32:10 PM,0 Block of SOMERSET ST,San Francisco,94134.0,B10,42.0,6356,3,3,3,True,Potentially Life-Threatening,1,ENGINE,1.0,9,9,Portola,211102118-E42,POINT (-122.4093266844769 37.7307118079318),25.0',\n",
       " '487,211102117,E23,21047516,Medical Incident,04/20/2021,04/20/2021,04/20/2021 03:07:32 PM,04/20/2021 03:07:32 PM,04/20/2021 03:07:58 PM,04/20/2021 03:10:05 PM,04/20/2021 03:12:11 PM,,,Code 2 Transport,04/20/2021 03:20:41 PM,1100 Block of GREAT HWY,San Francisco,94122.0,B08,23.0,7722,A,3,3,True,Potentially Life-Threatening,1,ENGINE,1.0,7,1,Golden Gate Park,211102117-E23,POINT (-122.51049736128813 37.767223944809125),12.0',\n",
       " '488,211102117,81,21047516,Medical Incident,04/20/2021,04/20/2021,04/20/2021 03:07:32 PM,04/20/2021 03:07:32 PM,04/20/2021 03:07:58 PM,04/20/2021 03:08:03 PM,04/20/2021 03:14:53 PM,04/20/2021 03:39:28 PM,04/20/2021 03:48:02 PM,Code 2 Transport,04/20/2021 04:29:06 PM,1100 Block of GREAT HWY,San Francisco,94122.0,B08,23.0,7722,A,3,3,True,Potentially Life-Threatening,1,MEDIC,2.0,7,1,Golden Gate Park,211102117-81,POINT (-122.51049736128813 37.767223944809125),12.0',\n",
       " '489,211102110,88,21047515,Medical Incident,04/20/2021,04/20/2021,04/20/2021 03:06:15 PM,04/20/2021 03:06:15 PM,04/20/2021 03:06:33 PM,04/20/2021 03:06:43 PM,04/20/2021 03:21:16 PM,,,Patient Declined Transport,04/20/2021 03:51:07 PM,GOLDEN GATE AV/LEAVENWORTH ST,San Francisco,94102.0,B02,3.0,1546,B,2,2,True,Non Life-threatening,1,MEDIC,1.0,2,6,Tenderloin,211102110-88,POINT (-122.41386560301717 37.78186333899816),36.0',\n",
       " '490,211102102,E21,21047514,Alarms,04/20/2021,04/20/2021,04/20/2021 03:01:28 PM,04/20/2021 03:04:04 PM,04/20/2021 03:04:09 PM,04/20/2021 03:05:40 PM,04/20/2021 03:08:30 PM,,,Fire,04/20/2021 03:41:26 PM,962-964 PAGE ST,San Francisco,94117.0,B05,21.0,4144,3,3,3,True,Alarm,1,ENGINE,2.0,5.0,5,Haight Ashbury,211102102-E21,POINT (-122.43642618897736 37.77236299385925),3.0',\n",
       " '491,211102102,B05,21047514,Alarms,04/20/2021,04/20/2021,04/20/2021 03:01:28 PM,04/20/2021 03:04:04 PM,04/20/2021 03:04:09 PM,04/20/2021 03:05:20 PM,04/20/2021 03:07:30 PM,,,Fire,04/20/2021 03:15:42 PM,962-964 PAGE ST,San Francisco,94117.0,B05,21.0,4144,3,3,3,False,Alarm,1,CHIEF,1.0,5.0,5,Haight Ashbury,211102102-B05,POINT (-122.43642618897736 37.77236299385925),3.0',\n",
       " '492,211102082,54,21047513,Medical Incident,04/20/2021,04/20/2021,04/20/2021 02:58:49 PM,04/20/2021 03:00:04 PM,04/20/2021 03:00:15 PM,04/20/2021 03:00:17 PM,04/20/2021 03:08:44 PM,04/20/2021 03:31:43 PM,04/20/2021 04:05:18 PM,Code 2 Transport,04/20/2021 05:08:48 PM,400 Block of VERNON ST,San Francisco,94132.0,B09,33.0,8432,3,3,3,True,Potentially Life-Threatening,1,MEDIC,2.0,9,11,Oceanview/Merced/Ingleside,211102082-54,POINT (-122.46813298688437 37.720660030731324),24.0',\n",
       " '493,211102082,E15,21047513,Medical Incident,04/20/2021,04/20/2021,04/20/2021 02:58:49 PM,04/20/2021 03:00:04 PM,04/20/2021 03:03:56 PM,04/20/2021 03:05:39 PM,04/20/2021 03:09:36 PM,,,Code 2 Transport,04/20/2021 03:32:08 PM,400 Block of VERNON ST,San Francisco,94132.0,B09,33.0,8432,3,3,3,True,Potentially Life-Threatening,1,ENGINE,3.0,9,11,Oceanview/Merced/Ingleside,211102082-E15,POINT (-122.46813298688437 37.720660030731324),24.0',\n",
       " '494,211102082,E33,21047513,Medical Incident,04/20/2021,04/20/2021,04/20/2021 02:58:49 PM,04/20/2021 03:00:04 PM,04/20/2021 03:00:15 PM,04/20/2021 03:01:48 PM,04/20/2021 03:04:52 PM,,,Code 2 Transport,04/20/2021 03:30:51 PM,400 Block of VERNON ST,San Francisco,94132.0,B09,33.0,8432,3,3,3,False,Potentially Life-Threatening,1,ENGINE,1.0,9,11,Oceanview/Merced/Ingleside,211102082-E33,POINT (-122.46813298688437 37.720660030731324),24.0',\n",
       " '495,211102068,T17,21047511,Citizen Assist / Service Call,04/20/2021,04/20/2021,04/20/2021 02:52:16 PM,04/20/2021 02:54:35 PM,04/20/2021 02:54:50 PM,04/20/2021 02:56:20 PM,04/20/2021 03:13:43 PM,,,Fire,04/20/2021 04:39:02 PM,EXECUTIVE PARK BL/ALANA WY,San Francisco,94134.0,B10,44.0,6274,3,3,3,False,Alarm,1,TRUCK,1.0,10,10,Bayview Hunters Point,211102068-T17,POINT (-122.39440306592087 37.70890382677276),1.0',\n",
       " '496,211102064,KM12,21047510,Medical Incident,04/20/2021,04/20/2021,04/20/2021 02:53:36 PM,04/20/2021 02:53:57 PM,04/20/2021 02:54:22 PM,04/20/2021 02:54:55 PM,04/20/2021 03:04:58 PM,,,Against Medical Advice,04/20/2021 03:53:07 PM,3200 Block of 20TH AVE,San Francisco,94132.0,B08,19.0,8861,2,2,2,False,Non Life-threatening,1,PRIVATE,1.0,8,7,Lakeshore,211102064-KM12,POINT (-122.47564682932648 37.72854447492464),16.0',\n",
       " '497,211102059,E13,21047508,Alarms,04/20/2021,04/20/2021,04/20/2021 02:50:27 PM,04/20/2021 02:52:30 PM,04/20/2021 02:52:39 PM,04/20/2021 02:54:27 PM,04/20/2021 02:57:42 PM,,,Fire,04/20/2021 03:06:39 PM,400 Block of STOCKTON ST,San Francisco,94108.0,B01,13.0,1324,3,3,3,True,Alarm,1,ENGINE,3.0,1,3,Financial District/South Beach,211102059-E13,POINT (-122.40711281520876 37.789893016158494),8.0',\n",
       " '498,211102059,B01,21047508,Alarms,04/20/2021,04/20/2021,04/20/2021 02:50:27 PM,04/20/2021 02:52:30 PM,04/20/2021 02:52:39 PM,04/20/2021 02:53:35 PM,04/20/2021 02:57:31 PM,,,Fire,04/20/2021 03:05:10 PM,400 Block of STOCKTON ST,San Francisco,94108.0,B01,13.0,1324,3,3,3,False,Alarm,1,CHIEF,1.0,1,3,Financial District/South Beach,211102059-B01,POINT (-122.40711281520876 37.789893016158494),8.0',\n",
       " '499,211102059,T13,21047508,Alarms,04/20/2021,04/20/2021,04/20/2021 02:50:27 PM,04/20/2021 02:52:30 PM,04/20/2021 02:52:39 PM,04/20/2021 02:54:00 PM,04/20/2021 02:57:37 PM,,,Fire,04/20/2021 03:11:00 PM,400 Block of STOCKTON ST,San Francisco,94108.0,B01,13.0,1324,3,3,3,False,Alarm,1,TRUCK,2.0,1,3,Financial District/South Beach,211102059-T13,POINT (-122.40711281520876 37.789893016158494),8.0',\n",
       " '500,211102053,E43,21047507,Medical Incident,04/20/2021,04/20/2021,04/20/2021 02:48:05 PM,04/20/2021 02:50:43 PM,04/20/2021 02:50:58 PM,04/20/2021 02:51:45 PM,04/20/2021 02:54:53 PM,,,Code 2 Transport,04/20/2021 03:13:12 PM,0 Block of CHICAGO WAY,San Francisco,94112.0,B09,43.0,6234,3,3,3,True,Non Life-threatening,1,ENGINE,1.0,9,11,Excelsior,211102053-E43,POINT (-122.42911283679433 37.710451307508336),7.0',\n",
       " '501,211102053,50,21047507,Medical Incident,04/20/2021,04/20/2021,04/20/2021 02:48:05 PM,04/20/2021 02:50:43 PM,04/20/2021 02:50:58 PM,04/20/2021 02:51:06 PM,04/20/2021 03:03:36 PM,04/20/2021 03:12:24 PM,04/20/2021 03:36:06 PM,Code 2 Transport,04/20/2021 04:19:57 PM,0 Block of CHICAGO WAY,San Francisco,94112.0,B09,43.0,6234,3,3,3,True,Non Life-threatening,1,MEDIC,2.0,9,11,Excelsior,211102053-50,POINT (-122.42911283679433 37.710451307508336),7.0',\n",
       " '502,211102041,E16,21047506,Odor (Strange / Unknown),04/20/2021,04/20/2021,04/20/2021 02:46:10 PM,04/20/2021 02:47:44 PM,04/20/2021 02:48:06 PM,04/20/2021 02:49:41 PM,04/20/2021 02:52:11 PM,,,Fire,04/20/2021 02:53:59 PM,OCTAVIA ST/LOMBARD ST,San Francisco,94123.0,B04,16.0,3336,3,3,3,True,Alarm,1,ENGINE,1.0,4,2,Marina,211102041-E16,POINT (-122.42947088543485 37.80067840572802),13.0',\n",
       " '503,211102006,KM01,21047505,Medical Incident,04/20/2021,04/20/2021,04/20/2021 02:35:07 PM,04/20/2021 02:35:07 PM,04/20/2021 02:35:07 PM,04/20/2021 02:35:07 PM,04/20/2021 02:35:07 PM,04/20/2021 02:41:00 PM,04/20/2021 03:07:00 PM,Patient Declined Transport,04/20/2021 03:28:44 PM,24TH ST/BARTLETT ST,San Francisco,94110.0,B06,11.0,5525,2,2,2,False,Non Life-threatening,1,PRIVATE,1.0,6,9,Mission,211102006-KM01,POINT (-122.41955736682156 37.752171412223),20.0',\n",
       " '504,211101971,70,21047503,Medical Incident,04/20/2021,04/20/2021,04/20/2021 02:20:07 PM,04/20/2021 02:23:46 PM,04/20/2021 02:24:53 PM,04/20/2021 02:25:02 PM,04/20/2021 02:48:28 PM,04/20/2021 03:07:49 PM,04/20/2021 03:20:38 PM,Code 2 Transport,04/20/2021 03:50:24 PM,400 Block of RHODE ISLAND ST,San Francisco,94107.0,B02,29.0,2422,2,2,2,True,Non Life-threatening,1,MEDIC,1.0,2,10,Potrero Hill,211101971-70,POINT (-122.40257236861216 37.76413816168662),26.0',\n",
       " '505,211101969,KM04,21047502,Medical Incident,04/20/2021,04/20/2021,04/20/2021 02:19:57 PM,04/20/2021 02:22:10 PM,04/20/2021 02:22:31 PM,04/20/2021 02:23:13 PM,04/20/2021 02:24:25 PM,04/20/2021 03:02:34 PM,04/20/2021 03:25:17 PM,Code 2 Transport,04/20/2021 03:46:11 PM,100 Block of 7TH AVE,San Francisco,94118.0,B07,31.0,7126,3,3,3,False,Potentially Life-Threatening,1,PRIVATE,1.0,7,1,Inner Richmond,211101969-KM04,POINT (-122.46576541992124 37.78573679125227),11.0',\n",
       " '506,211101969,E31,21047502,Medical Incident,04/20/2021,04/20/2021,04/20/2021 02:19:57 PM,04/20/2021 02:22:10 PM,04/20/2021 02:22:31 PM,04/20/2021 02:23:24 PM,04/20/2021 02:26:16 PM,,,Code 2 Transport,04/20/2021 02:46:26 PM,100 Block of 7TH AVE,San Francisco,94118.0,B07,31.0,7126,3,3,3,True,Potentially Life-Threatening,1,ENGINE,2.0,7,1,Inner Richmond,211101969-E31,POINT (-122.46576541992124 37.78573679125227),11.0',\n",
       " '507,211101959,70,21047501,Medical Incident,04/20/2021,04/20/2021,04/20/2021 02:18:55 PM,04/20/2021 02:18:55 PM,04/20/2021 02:19:24 PM,04/20/2021 02:19:34 PM,,,,Cancelled,04/20/2021 02:24:40 PM,GOLDEN GATE AV/LEAVENWORTH ST,San Francisco,94102.0,B02,3.0,1546,B,2,2,True,Non Life-threatening,1,MEDIC,1.0,2,6,Tenderloin,211101959-70,POINT (-122.41386560301717 37.78186333899816),36.0',\n",
       " '508,211101940,E32,21047500,Medical Incident,04/20/2021,04/20/2021,04/20/2021 02:14:39 PM,04/20/2021 02:15:17 PM,04/20/2021 02:15:25 PM,04/20/2021 02:16:37 PM,04/20/2021 02:17:57 PM,,,Code 2 Transport,04/20/2021 02:34:41 PM,3800 Block of MISSION ST,San Francisco,94110.0,B06,32.0,5632,3,3,3,True,Non Life-threatening,1,ENGINE,1.0,6,8,Bernal Heights,211101940-E32,POINT (-122.42465116069702 37.73572991222739),2.0',\n",
       " '509,211101940,55,21047500,Medical Incident,04/20/2021,04/20/2021,04/20/2021 02:14:39 PM,04/20/2021 02:15:17 PM,04/20/2021 02:15:25 PM,04/20/2021 02:15:38 PM,04/20/2021 02:29:04 PM,04/20/2021 02:38:36 PM,04/20/2021 02:59:04 PM,Code 2 Transport,04/20/2021 03:36:27 PM,3800 Block of MISSION ST,San Francisco,94110.0,B06,32.0,5632,3,3,3,True,Non Life-threatening,1,MEDIC,2.0,6,8,Bernal Heights,211101940-55,POINT (-122.42465116069702 37.73572991222739),2.0',\n",
       " '510,211101936,KM12,21047499,Medical Incident,04/20/2021,04/20/2021,04/20/2021 02:11:57 PM,04/20/2021 02:13:27 PM,04/20/2021 02:17:12 PM,04/20/2021 02:17:29 PM,04/20/2021 02:24:52 PM,,,Patient Declined Transport,04/20/2021 02:49:50 PM,1300 Block of IRVING ST,San Francisco,94122.0,B08,22.0,7366,2,2,2,False,Non Life-threatening,1,PRIVATE,1.0,7,5,Inner Sunset,211101936-KM12,POINT (-122.47223257343207 37.763831833826714),14.0',\n",
       " '511,211101924,RC4,21047497,Medical Incident,04/20/2021,04/20/2021,04/20/2021 02:10:13 PM,04/20/2021 02:10:13 PM,04/20/2021 02:10:25 PM,04/20/2021 02:10:31 PM,04/20/2021 02:18:12 PM,,,Fire,04/20/2021 02:24:05 PM,BAYSHORE BL/LELAND AV,San Francisco,94134.0,B10,44.0,6255,3,3,3,True,Potentially Life-Threatening,1,RESCUE CAPTAIN,2.0,10,10,Bayview Hunters Point,211101924-RC4,POINT (-122.4036501087348 37.71118857304606),1.0',\n",
       " '512,211101924,77,21047497,Medical Incident,04/20/2021,04/20/2021,04/20/2021 02:10:13 PM,04/20/2021 02:10:13 PM,04/20/2021 02:10:13 PM,04/20/2021 02:10:13 PM,04/20/2021 02:10:13 PM,,,Fire,04/20/2021 02:24:05 PM,BAYSHORE BL/LELAND AV,San Francisco,94134.0,B10,44.0,6255,3,3,3,True,Potentially Life-Threatening,1,MEDIC,1.0,10,10,Bayview Hunters Point,211101924-77,POINT (-122.4036501087348 37.71118857304606),1.0',\n",
       " '513,211101924,B10,21047497,Medical Incident,04/20/2021,04/20/2021,04/20/2021 02:10:13 PM,04/20/2021 02:10:13 PM,04/20/2021 02:10:25 PM,04/20/2021 02:10:31 PM,04/20/2021 02:18:40 PM,,,Fire,04/20/2021 02:24:05 PM,BAYSHORE BL/LELAND AV,San Francisco,94134.0,B10,44.0,6255,3,3,3,False,Potentially Life-Threatening,1,CHIEF,3.0,10,10,Bayview Hunters Point,211101924-B10,POINT (-122.4036501087348 37.71118857304606),1.0',\n",
       " '514,211101922,E48,21047496,Medical Incident,04/20/2021,04/20/2021,04/20/2021 02:09:50 PM,04/20/2021 02:09:50 PM,04/20/2021 02:10:35 PM,04/20/2021 02:12:12 PM,04/20/2021 02:13:48 PM,,,Patient Declined Transport,04/20/2021 02:22:53 PM,1200 Block of NORTHPOINT DR,Treasure Isla,94130.0,B03,48.0,2931,A,2,2,True,Non Life-threatening,1,ENGINE,2.0,None,6,Treasure Island,211101922-E48,POINT (-122.37328613620075 37.83166623059645),37.0',\n",
       " '515,211101922,RA48,21047496,Medical Incident,04/20/2021,04/20/2021,04/20/2021 02:09:50 PM,04/20/2021 02:09:50 PM,04/20/2021 02:10:35 PM,04/20/2021 02:13:02 PM,04/20/2021 02:13:02 PM,,,Patient Declined Transport,04/20/2021 02:23:40 PM,1200 Block of NORTHPOINT DR,Treasure Isla,94130.0,B03,48.0,2931,A,2,2,False,Non Life-threatening,1,MEDIC,1.0,None,6,Treasure Island,211101922-RA48,POINT (-122.37328613620075 37.83166623059645),37.0',\n",
       " '516,211101918,67,21047495,Medical Incident,04/20/2021,04/20/2021,04/20/2021 02:06:53 PM,04/20/2021 02:07:49 PM,04/20/2021 02:10:03 PM,04/20/2021 02:10:09 PM,04/20/2021 02:12:23 PM,,,Against Medical Advice,04/20/2021 03:04:59 PM,700 Block of 2ND AVE,San Francisco,94118.0,B07,31.0,7121,3,3,3,True,Potentially Life-Threatening,1,MEDIC,1.0,7,1,Inner Richmond,211101918-67,POINT (-122.45960638996013 37.7748635124055),11.0',\n",
       " '517,211101918,E31,21047495,Medical Incident,04/20/2021,04/20/2021,04/20/2021 02:06:53 PM,04/20/2021 02:07:49 PM,04/20/2021 02:10:03 PM,04/20/2021 02:10:33 PM,,,,Against Medical Advice,04/20/2021 02:15:19 PM,700 Block of 2ND AVE,San Francisco,94118.0,B07,31.0,7121,3,3,3,True,Potentially Life-Threatening,1,ENGINE,2.0,7,1,Inner Richmond,211101918-E31,POINT (-122.45960638996013 37.7748635124055),11.0',\n",
       " '518,211101915,KM01,21047494,Medical Incident,04/20/2021,04/20/2021,04/20/2021 02:05:09 PM,04/20/2021 02:07:47 PM,04/20/2021 02:09:06 PM,04/20/2021 02:09:35 PM,04/20/2021 02:13:46 PM,,,No Merit,04/20/2021 02:32:44 PM,400 Block of BARTLETT ST,San Francisco,94110.0,B06,11.0,5535,3,3,3,False,Potentially Life-Threatening,1,PRIVATE,2.0,6.0,9,Mission,211101915-KM01,POINT (-122.41932316094652 37.74977319597128),20.0',\n",
       " '519,211101915,E11,21047494,Medical Incident,04/20/2021,04/20/2021,04/20/2021 02:05:09 PM,04/20/2021 02:07:47 PM,04/20/2021 02:09:06 PM,04/20/2021 02:09:58 PM,04/20/2021 02:11:40 PM,,,No Merit,04/20/2021 02:20:20 PM,400 Block of BARTLETT ST,San Francisco,94110.0,B06,11.0,5535,3,3,3,True,Potentially Life-Threatening,1,ENGINE,1.0,6.0,9,Mission,211101915-E11,POINT (-122.41932316094652 37.74977319597128),20.0',\n",
       " '520,211101907,E11,21047493,Medical Incident,04/20/2021,04/20/2021,04/20/2021 02:01:41 PM,04/20/2021 02:04:36 PM,04/20/2021 02:04:55 PM,,,,,Other,04/20/2021 02:05:21 PM,2965-A HARRISON ST,San Francisco,94110.0,B06,7.0,5533,2,2,2,True,Potentially Life-Threatening,1,ENGINE,1.0,6.0,9,Mission,211101907-E11,POINT (-122.41159908852235 37.750223914033135),20.0',\n",
       " '521,211101896,KM10,21047492,Medical Incident,04/20/2021,04/20/2021,04/20/2021 01:59:04 PM,04/20/2021 02:02:16 PM,04/20/2021 02:02:27 PM,04/20/2021 02:02:44 PM,04/20/2021 02:18:22 PM,04/20/2021 02:47:55 PM,04/20/2021 03:23:39 PM,Code 2 Transport,04/20/2021 03:41:24 PM,500 Block of ELLIS ST,San Francisco,94109.0,B02,3.0,1555,2,2,2,False,Non Life-threatening,1,PRIVATE,1.0,2,6,Tenderloin,211101896-KM10,POINT (-122.41541417863013 37.7844766590222),36.0',\n",
       " '522,211101888,E07,21047491,Medical Incident,04/20/2021,04/20/2021,04/20/2021 01:59:20 PM,04/20/2021 02:00:06 PM,04/20/2021 02:00:21 PM,04/20/2021 02:01:32 PM,04/20/2021 02:04:22 PM,,,Code 2 Transport,04/20/2021 02:26:27 PM,HARRISON ST/26TH ST,San Francisco,94110.0,B06,7.0,5533,3,3,3,True,Non Life-threatening,1,ENGINE,1.0,6,9,Mission,211101888-E07,POINT (-122.41159284547146 37.7494362303277),20.0',\n",
       " '523,211101888,KM08,21047491,Medical Incident,04/20/2021,04/20/2021,04/20/2021 01:59:20 PM,04/20/2021 02:00:06 PM,04/20/2021 02:00:21 PM,04/20/2021 02:00:48 PM,04/20/2021 02:15:42 PM,04/20/2021 02:29:27 PM,04/20/2021 02:37:43 PM,Code 2 Transport,04/20/2021 03:09:13 PM,HARRISON ST/26TH ST,San Francisco,94110.0,B06,7.0,5533,3,3,3,False,Non Life-threatening,1,PRIVATE,2.0,6,9,Mission,211101888-KM08,POINT (-122.41159284547146 37.7494362303277),20.0',\n",
       " '524,211101865,66,21047489,Medical Incident,04/20/2021,04/20/2021,04/20/2021 01:52:27 PM,04/20/2021 01:52:27 PM,04/20/2021 02:16:43 PM,04/20/2021 02:16:49 PM,04/20/2021 02:43:22 PM,04/20/2021 03:09:10 PM,04/20/2021 03:21:23 PM,Code 2 Transport,04/20/2021 04:03:25 PM,100 Block of FARRAGUT AVE,San Francisco,94112.0,B09,33.0,8353,A,2,2,True,Non Life-threatening,1,MEDIC,2.0,9,11,Outer Mission,211101865-66,POINT (-122.45120509497907 37.71138421850277),28.0',\n",
       " '525,211101865,KM01,21047489,Medical Incident,04/20/2021,04/20/2021,04/20/2021 01:52:27 PM,04/20/2021 01:52:27 PM,04/20/2021 01:56:44 PM,04/20/2021 01:57:12 PM,,,,Code 2 Transport,04/20/2021 02:08:40 PM,100 Block of FARRAGUT AVE,San Francisco,94112.0,B09,33.0,8353,A,2,2,False,Non Life-threatening,1,PRIVATE,3.0,9,11,Outer Mission,211101865-KM01,POINT (-122.45120509497907 37.71138421850277),28.0',\n",
       " '526,211101865,E15,21047489,Medical Incident,04/20/2021,04/20/2021,04/20/2021 01:52:27 PM,04/20/2021 01:52:27 PM,04/20/2021 01:53:40 PM,04/20/2021 01:54:59 PM,04/20/2021 02:23:26 PM,,,Code 2 Transport,04/20/2021 03:03:29 PM,100 Block of FARRAGUT AVE,San Francisco,94112.0,B09,33.0,8353,A,2,2,True,Non Life-threatening,1,ENGINE,1.0,9,11,Outer Mission,211101865-E15,POINT (-122.45120509497907 37.71138421850277),28.0',\n",
       " '527,211101846,71,21047488,Medical Incident,04/20/2021,04/20/2021,04/20/2021 01:48:02 PM,04/20/2021 01:49:36 PM,04/20/2021 01:49:49 PM,04/20/2021 01:49:57 PM,04/20/2021 02:11:25 PM,04/20/2021 02:11:29 PM,04/20/2021 02:40:04 PM,Code 2 Transport,04/20/2021 03:46:41 PM,600 Block of EARL GAGE JR ST,San Francisco,94115.0,B02,5.0,3431,3,3,3,True,Non Life-threatening,1,MEDIC,2.0,2.0,5,Western Addition,211101846-71,POINT (-122.42831052168967 37.78236290693316),39.0',\n",
       " '528,211101846,E05,21047488,Medical Incident,04/20/2021,04/20/2021,04/20/2021 01:48:02 PM,04/20/2021 01:49:36 PM,04/20/2021 01:49:49 PM,04/20/2021 01:51:19 PM,04/20/2021 01:53:07 PM,,,Code 2 Transport,04/20/2021 02:08:15 PM,600 Block of EARL GAGE JR ST,San Francisco,94115.0,B02,5.0,3431,3,3,3,True,Non Life-threatening,1,ENGINE,1.0,2.0,5,Western Addition,211101846-E05,POINT (-122.42831052168967 37.78236290693316),39.0',\n",
       " '529,211101837,QRV2,21047487,Medical Incident,04/20/2021,04/20/2021,04/20/2021 01:43:38 PM,04/20/2021 01:46:22 PM,04/20/2021 01:48:30 PM,04/20/2021 01:48:45 PM,04/20/2021 01:54:59 PM,,,Code 2 Transport,04/20/2021 02:32:03 PM,100 Block of 4TH ST,San Francisco,94103.0,B03,1.0,2214,2,3,3,True,Potentially Life-Threatening,1,SUPPORT,1.0,3,6,Financial District/South Beach,211101837-QRV2,POINT (-122.4031613658901 37.78369095337772),8.0',\n",
       " '530,211101837,83,21047487,Medical Incident,04/20/2021,04/20/2021,04/20/2021 01:43:38 PM,04/20/2021 01:46:22 PM,04/20/2021 01:48:30 PM,04/20/2021 01:48:34 PM,,,,Code 2 Transport,04/20/2021 01:49:23 PM,100 Block of 4TH ST,San Francisco,94103.0,B03,1.0,2214,2,3,3,True,Potentially Life-Threatening,1,MEDIC,3.0,3,6,Financial District/South Beach,211101837-83,POINT (-122.4031613658901 37.78369095337772),8.0',\n",
       " '531,211101837,76,21047487,Medical Incident,04/20/2021,04/20/2021,04/20/2021 01:43:38 PM,04/20/2021 01:46:22 PM,04/20/2021 01:49:23 PM,04/20/2021 01:49:23 PM,04/20/2021 01:56:53 PM,04/20/2021 02:20:05 PM,04/20/2021 02:50:00 PM,Code 2 Transport,04/20/2021 03:29:17 PM,100 Block of 4TH ST,San Francisco,94103.0,B03,1.0,2214,2,3,3,True,Potentially Life-Threatening,1,MEDIC,2.0,3,6,Financial District/South Beach,211101837-76,POINT (-122.4031613658901 37.78369095337772),8.0',\n",
       " '532,211101836,T10,21047486,Medical Incident,04/20/2021,04/20/2021,04/20/2021 01:45:34 PM,04/20/2021 01:46:22 PM,04/20/2021 01:46:28 PM,04/20/2021 01:47:54 PM,04/20/2021 01:51:04 PM,,,Code 2 Transport,04/20/2021 01:53:48 PM,300 Block of ARBALLO DR,San Francisco,94132.0,B08,19.0,8582,3,2,2,False,Potentially Life-Threatening,1,TRUCK,1.0,8,7,Lakeshore,211101836-T10,POINT (-122.48306644123332 37.720831841020775),16.0',\n",
       " '533,211101836,E31,21047486,Medical Incident,04/20/2021,04/20/2021,04/20/2021 01:45:34 PM,04/20/2021 01:46:22 PM,04/20/2021 01:47:57 PM,04/20/2021 01:49:03 PM,04/20/2021 01:52:23 PM,,,Code 2 Transport,04/20/2021 01:57:44 PM,300 Block of ARBALLO DR,San Francisco,94132.0,B08,19.0,8582,3,2,2,True,Potentially Life-Threatening,1,ENGINE,2.0,8,7,Lakeshore,211101836-E31,POINT (-122.48306644123332 37.720831841020775),16.0',\n",
       " '534,211101836,83,21047486,Medical Incident,04/20/2021,04/20/2021,04/20/2021 01:45:34 PM,04/20/2021 01:46:22 PM,04/20/2021 01:49:23 PM,04/20/2021 01:49:23 PM,04/20/2021 02:12:47 PM,04/20/2021 02:38:39 PM,04/20/2021 02:49:18 PM,Code 2 Transport,04/20/2021 03:27:25 PM,300 Block of ARBALLO DR,San Francisco,94132.0,B08,19.0,8582,3,2,2,True,Potentially Life-Threatening,1,MEDIC,3.0,8,7,Lakeshore,211101836-83,POINT (-122.48306644123332 37.720831841020775),16.0',\n",
       " '535,211101836,76,21047486,Medical Incident,04/20/2021,04/20/2021,04/20/2021 01:45:34 PM,04/20/2021 01:46:22 PM,04/20/2021 01:46:28 PM,04/20/2021 01:48:07 PM,,,,Code 2 Transport,04/20/2021 01:49:23 PM,300 Block of ARBALLO DR,San Francisco,94132.0,B08,19.0,8582,3,2,2,True,Potentially Life-Threatening,1,MEDIC,4.0,8,7,Lakeshore,211101836-76,POINT (-122.48306644123332 37.720831841020775),16.0',\n",
       " '536,211101825,KM01,21047485,Medical Incident,04/20/2021,04/20/2021,04/20/2021 01:39:53 PM,04/20/2021 01:41:19 PM,04/20/2021 01:41:25 PM,04/20/2021 01:41:51 PM,04/20/2021 01:54:22 PM,,,Cancelled,04/20/2021 01:54:35 PM,0 Block of 6TH ST,San Francisco,94103.0,B02,1.0,2248,2,2,2,False,Non Life-threatening,1,PRIVATE,1.0,3,6,South of Market,211101825-KM01,POINT (-122.40951834141595 37.78153743312193),34.0',\n",
       " '537,211101813,E18,21047484,Medical Incident,04/20/2021,04/20/2021,04/20/2021 01:36:11 PM,04/20/2021 01:37:56 PM,04/20/2021 01:38:09 PM,04/20/2021 01:39:24 PM,04/20/2021 01:41:49 PM,,,Code 2 Transport,04/20/2021 01:56:37 PM,2200 Block of JUDAH ST,San Francisco,94122.0,B08,18.0,7513,3,2,2,True,Potentially Life-Threatening,1,ENGINE,1.0,8,4,Sunset/Parkside,211101813-E18,POINT (-122.4861079728901 37.76135407036064),35.0',\n",
       " '538,211101813,74,21047484,Medical Incident,04/20/2021,04/20/2021,04/20/2021 01:36:11 PM,04/20/2021 01:37:56 PM,04/20/2021 01:38:09 PM,04/20/2021 01:38:13 PM,04/20/2021 01:49:44 PM,04/20/2021 02:11:41 PM,04/20/2021 02:22:57 PM,Code 2 Transport,04/20/2021 03:19:08 PM,2200 Block of JUDAH ST,San Francisco,94122.0,B08,18.0,7513,3,2,2,True,Potentially Life-Threatening,1,MEDIC,2.0,8,4,Sunset/Parkside,211101813-74,POINT (-122.4861079728901 37.76135407036064),35.0',\n",
       " '539,211101810,89,21047483,Medical Incident,04/20/2021,04/20/2021,04/20/2021 01:33:33 PM,04/20/2021 01:37:19 PM,04/20/2021 01:37:30 PM,04/20/2021 01:37:33 PM,04/20/2021 01:54:36 PM,04/20/2021 02:15:11 PM,04/20/2021 02:31:26 PM,Code 2 Transport,04/20/2021 03:06:06 PM,3300 Block of 17TH ST,San Francisco,94110.0,B02,7.0,5247,2,2,2,True,Non Life-threatening,1,MEDIC,1.0,2,9,Mission,211101810-89,POINT (-122.41997785302082 37.763457193020855),20.0',\n",
       " '540,211101802,77,21047481,Medical Incident,04/20/2021,04/20/2021,04/20/2021 01:32:46 PM,04/20/2021 01:33:19 PM,04/20/2021 01:33:54 PM,04/20/2021 01:34:30 PM,04/20/2021 02:00:20 PM,,,Code 2 Transport,04/20/2021 02:09:50 PM,2400 Block of BAY SHORE BLVD,San Francisco,94134.0,B10,44.0,6255,3,2,2,True,Non Life-threatening,1,MEDIC,1.0,9,10,Visitacion Valley,211101802-77,POINT (-122.40407377861138 37.71086343235005),40.0',\n",
       " '541,211101802,E42,21047481,Medical Incident,04/20/2021,04/20/2021,04/20/2021 01:32:46 PM,04/20/2021 01:33:19 PM,04/20/2021 01:33:54 PM,04/20/2021 01:35:11 PM,,,,Code 2 Transport,04/20/2021 02:15:56 PM,2400 Block of BAY SHORE BLVD,San Francisco,94134.0,B10,44.0,6255,3,2,2,True,Non Life-threatening,1,ENGINE,3.0,9,10,Visitacion Valley,211101802-E42,POINT (-122.40407377861138 37.71086343235005),40.0',\n",
       " '542,211101802,E44,21047481,Medical Incident,04/20/2021,04/20/2021,04/20/2021 01:32:46 PM,04/20/2021 01:33:19 PM,04/20/2021 01:33:54 PM,04/20/2021 01:34:29 PM,,,,Code 2 Transport,04/20/2021 01:35:31 PM,2400 Block of BAY SHORE BLVD,San Francisco,94134.0,B10,44.0,6255,3,2,2,False,Non Life-threatening,1,ENGINE,4.0,9,10,Visitacion Valley,211101802-E44,POINT (-122.40407377861138 37.71086343235005),40.0',\n",
       " '543,211101802,RC4,21047481,Medical Incident,04/20/2021,04/20/2021,04/20/2021 01:32:46 PM,04/20/2021 01:33:19 PM,04/20/2021 02:08:27 PM,04/20/2021 02:09:27 PM,,,,Code 2 Transport,04/20/2021 02:09:50 PM,2400 Block of BAY SHORE BLVD,San Francisco,94134.0,B10,44.0,6255,3,2,2,True,Non Life-threatening,1,RESCUE CAPTAIN,6.0,9,10,Visitacion Valley,211101802-RC4,POINT (-122.40407377861138 37.71086343235005),40.0',\n",
       " '544,211101802,AM110,21047481,Medical Incident,04/20/2021,04/20/2021,04/20/2021 01:32:46 PM,04/20/2021 01:33:19 PM,04/20/2021 02:16:06 PM,04/20/2021 02:16:33 PM,04/20/2021 02:19:00 PM,04/20/2021 02:32:45 PM,04/20/2021 03:14:37 PM,Code 2 Transport,04/20/2021 04:16:14 PM,2400 Block of BAY SHORE BLVD,San Francisco,94134.0,B10,44.0,6255,3,2,2,False,Non Life-threatening,1,PRIVATE,2.0,9,10,Visitacion Valley,211101802-AM110,POINT (-122.40407377861138 37.71086343235005),40.0',\n",
       " '545,211101802,B10,21047481,Medical Incident,04/20/2021,04/20/2021,04/20/2021 01:32:46 PM,04/20/2021 01:33:19 PM,04/20/2021 02:07:06 PM,04/20/2021 02:09:41 PM,,,,Code 2 Transport,04/20/2021 02:09:50 PM,2400 Block of BAY SHORE BLVD,San Francisco,94134.0,B10,44.0,6255,3,2,2,False,Non Life-threatening,1,CHIEF,5.0,9,10,Visitacion Valley,211101802-B10,POINT (-122.40407377861138 37.71086343235005),40.0',\n",
       " '546,211101801,91,21047480,Medical Incident,04/20/2021,04/20/2021,04/20/2021 01:32:22 PM,04/20/2021 01:32:58 PM,04/20/2021 01:33:15 PM,04/20/2021 01:34:31 PM,04/20/2021 01:59:23 PM,04/20/2021 02:10:41 PM,04/20/2021 02:23:42 PM,Code 2 Transport,04/20/2021 02:42:32 PM,0 Block of HAGIWARA TEA GARDEN DR,San Francisco,94118.0,B07,22.0,7742,2,2,2,True,Non Life-threatening,1,MEDIC,1.0,7,1,Golden Gate Park,211101801-91,POINT (-122.46951263145826 37.76997349866473),12.0',\n",
       " '547,211101787,SCRT2,21047479,Medical Incident,04/20/2021,04/20/2021,04/20/2021 01:26:56 PM,04/20/2021 01:29:59 PM,04/20/2021 03:24:02 PM,04/20/2021 03:24:08 PM,04/20/2021 03:53:14 PM,,,Patient Declined Transport,04/20/2021 05:15:55 PM,3900 Block of 18TH ST,San Francisco,94114.0,B05,6.0,5417,1,1,2,False,Non Life-threatening,1,SUPPORT,1.0,5,8,Castro/Upper Market,211101787-SCRT2,POINT (-122.43168878938225 37.7611431684859),5.0',\n",
       " '548,211101787,RC7,21047479,Medical Incident,04/20/2021,04/20/2021,04/20/2021 01:26:56 PM,04/20/2021 01:29:59 PM,04/20/2021 04:28:10 PM,04/20/2021 04:28:10 PM,,,,Patient Declined Transport,04/20/2021 04:30:42 PM,3900 Block of 18TH ST,San Francisco,94114.0,B05,6.0,5417,1,1,2,False,Non Life-threatening,1,RESCUE CAPTAIN,2.0,5,8,Castro/Upper Market,211101787-RC7,POINT (-122.43168878938225 37.7611431684859),5.0',\n",
       " '549,211101777,SCRT5,21047478,Medical Incident,04/20/2021,04/20/2021,04/20/2021 01:27:11 PM,04/20/2021 01:27:11 PM,04/20/2021 01:27:32 PM,04/20/2021 01:27:32 PM,04/20/2021 01:27:32 PM,,,Patient Declined Transport,04/20/2021 01:41:18 PM,4700 Block of MISSION ST,San Francisco,94112.0,B09,43.0,6121,2,1,2,False,Non Life-threatening,1,SUPPORT,1.0,9,11,Outer Mission,211101777-SCRT5,POINT (-122.43686793261669 37.722048645531984),28.0',\n",
       " '550,211101770,68,21047477,Medical Incident,04/20/2021,04/20/2021,04/20/2021 01:24:11 PM,04/20/2021 01:25:33 PM,04/20/2021 01:25:43 PM,04/20/2021 01:25:52 PM,04/20/2021 01:33:50 PM,04/20/2021 01:49:19 PM,04/20/2021 02:04:10 PM,Code 2 Transport,04/20/2021 02:45:10 PM,2200 Block of 19TH AVE,San Francisco,94116.0,B08,40.0,7416,3,3,3,True,Potentially Life-Threatening,1,MEDIC,3.0,8,4,Sunset/Parkside,211101770-68,POINT (-122.47596577911227 37.74584494030983),35.0',\n",
       " '551,211101770,E40,21047477,Medical Incident,04/20/2021,04/20/2021,04/20/2021 01:24:11 PM,04/20/2021 01:25:33 PM,04/20/2021 01:25:43 PM,04/20/2021 01:27:17 PM,04/20/2021 01:28:24 PM,,,Code 2 Transport,04/20/2021 01:36:45 PM,2200 Block of 19TH AVE,San Francisco,94116.0,B08,40.0,7416,3,3,3,False,Potentially Life-Threatening,1,ENGINE,2.0,8,4,Sunset/Parkside,211101770-E40,POINT (-122.47596577911227 37.74584494030983),35.0',\n",
       " '552,211101770,SCRT5,21047477,Medical Incident,04/20/2021,04/20/2021,04/20/2021 01:24:11 PM,04/20/2021 01:25:33 PM,04/20/2021 01:27:19 PM,04/20/2021 01:27:19 PM,04/20/2021 01:27:19 PM,,,Code 2 Transport,04/20/2021 01:27:25 PM,2200 Block of 19TH AVE,San Francisco,94116.0,B08,40.0,7416,3,3,3,False,Potentially Life-Threatening,1,SUPPORT,1.0,8,4,Sunset/Parkside,211101770-SCRT5,POINT (-122.47596577911227 37.74584494030983),35.0',\n",
       " '553,211101766,55,21047476,Medical Incident,04/20/2021,04/20/2021,04/20/2021 01:22:57 PM,04/20/2021 01:24:10 PM,04/20/2021 01:24:21 PM,04/20/2021 01:24:30 PM,04/20/2021 01:26:47 PM,04/20/2021 01:39:13 PM,04/20/2021 01:42:05 PM,Code 2 Transport,04/20/2021 02:14:39 PM,0 Block of CEDAR ST,San Francisco,94109.0,B04,3.0,1641,3,3,3,True,Potentially Life-Threatening,1,MEDIC,1.0,4,6,Tenderloin,211101766-55,POINT (-122.41901675525378 37.78651672652258),36.0',\n",
       " '554,211101766,E03,21047476,Medical Incident,04/20/2021,04/20/2021,04/20/2021 01:22:57 PM,04/20/2021 01:24:10 PM,04/20/2021 01:24:21 PM,04/20/2021 01:26:00 PM,04/20/2021 01:27:07 PM,,,Code 2 Transport,04/20/2021 01:29:07 PM,0 Block of CEDAR ST,San Francisco,94109.0,B04,3.0,1641,3,3,3,True,Potentially Life-Threatening,1,ENGINE,2.0,4,6,Tenderloin,211101766-E03,POINT (-122.41901675525378 37.78651672652258),36.0',\n",
       " '555,211101756,T10,21047475,Alarms,04/20/2021,04/20/2021,04/20/2021 01:19:07 PM,04/20/2021 01:20:27 PM,04/20/2021 01:20:32 PM,04/20/2021 01:22:02 PM,04/20/2021 01:25:06 PM,,,Fire,04/20/2021 01:35:52 PM,2100 Block of OFARRELL ST,San Francisco,94115.0,B05,21.0,4236,3,3,3,False,Alarm,1,TRUCK,3.0,5,5,Western Addition,211101756-T10,POINT (-122.44014129974717 37.782399096060956),39.0',\n",
       " '556,211101756,B05,21047475,Alarms,04/20/2021,04/20/2021,04/20/2021 01:19:07 PM,04/20/2021 01:20:27 PM,04/20/2021 01:20:32 PM,04/20/2021 01:22:12 PM,04/20/2021 01:24:27 PM,,,Fire,04/20/2021 01:34:42 PM,2100 Block of OFARRELL ST,San Francisco,94115.0,B05,21.0,4236,3,3,3,False,Alarm,1,CHIEF,1.0,5,5,Western Addition,211101756-B05,POINT (-122.44014129974717 37.782399096060956),39.0',\n",
       " '557,211101750,AM110,21047474,Medical Incident,04/20/2021,04/20/2021,04/20/2021 01:19:19 PM,04/20/2021 01:19:29 PM,04/20/2021 01:19:41 PM,04/20/2021 01:19:55 PM,04/20/2021 01:49:28 PM,,,Patient Declined Transport,04/20/2021 02:15:30 PM,TEDDY AV/SAN BRUNO AV,San Francisco,94134.0,B10,44.0,6265,2,2,2,False,Non Life-threatening,1,PRIVATE,1.0,10,10,Visitacion Valley,211101750-AM110,POINT (-122.4020979095908 37.71299484311701),40.0',\n",
       " '558,211101745,54,21047473,Medical Incident,04/20/2021,04/20/2021,04/20/2021 01:17:57 PM,04/20/2021 01:18:14 PM,04/20/2021 01:18:46 PM,04/20/2021 01:18:52 PM,04/20/2021 01:38:24 PM,,,Patient Declined Transport,04/20/2021 02:53:40 PM,0 Block of BROOKDALE AVE,San Francisco,94134.0,B09,43.0,6243,2,2,2,True,Non Life-threatening,1,MEDIC,1.0,9,10,Visitacion Valley,211101745-54,POINT (-122.420838850109 37.71219584233141),40.0',\n",
       " '559,211101741,T18,21047472,Citizen Assist / Service Call,04/20/2021,04/20/2021,04/20/2021 01:14:26 PM,04/20/2021 01:15:52 PM,04/20/2021 01:15:58 PM,04/20/2021 01:17:20 PM,04/20/2021 01:21:16 PM,,,Fire,04/20/2021 01:35:29 PM,2200 Block of 26TH AV,San Francisco,94116.0,B08,40.0,7457,2,2,2,False,Alarm,1,TRUCK,1.0,8.0,4,Sunset/Parkside,211101741-T18,POINT (-122.48338711839834 37.745517943433164),35.0',\n",
       " '560,211101718,54,21047471,Traffic Collision,04/20/2021,04/20/2021,04/20/2021 01:08:28 PM,04/20/2021 01:10:25 PM,04/20/2021 01:10:38 PM,04/20/2021 01:10:41 PM,,,,No Merit,04/20/2021 01:16:14 PM,MISSION ST/24TH ST,San Francisco,94110.0,B06,11.0,5525,3,3,3,True,Potentially Life-Threatening,1,MEDIC,2.0,6,9,Mission,211101718-54,POINT (-122.4184452728508 37.75223945497939),20.0',\n",
       " '561,211101718,E11,21047471,Traffic Collision,04/20/2021,04/20/2021,04/20/2021 01:08:28 PM,04/20/2021 01:10:25 PM,04/20/2021 01:10:38 PM,04/20/2021 01:11:24 PM,04/20/2021 01:13:23 PM,,,No Merit,04/20/2021 01:16:23 PM,MISSION ST/24TH ST,San Francisco,94110.0,B06,11.0,5525,3,3,3,True,Potentially Life-Threatening,1,ENGINE,1.0,6,9,Mission,211101718-E11,POINT (-122.4184452728508 37.75223945497939),20.0',\n",
       " '562,211101718,RC3,21047471,Traffic Collision,04/20/2021,04/20/2021,04/20/2021 01:08:28 PM,04/20/2021 01:10:25 PM,04/20/2021 01:13:15 PM,04/20/2021 01:14:06 PM,,,,No Merit,04/20/2021 01:16:21 PM,MISSION ST/24TH ST,San Francisco,94110.0,B06,11.0,5525,3,3,3,True,Potentially Life-Threatening,1,RESCUE CAPTAIN,3.0,6,9,Mission,211101718-RC3,POINT (-122.4184452728508 37.75223945497939),20.0',\n",
       " '563,211101713,E36,21047470,Alarms,04/20/2021,04/20/2021,04/20/2021 01:08:01 PM,04/20/2021 01:09:15 PM,04/20/2021 01:09:29 PM,04/20/2021 01:11:07 PM,04/20/2021 01:12:54 PM,,,Fire,04/20/2021 01:18:40 PM,100 Block of OCTAVIA ST,San Francisco,94102.0,B02,36.0,3313,3,3,3,True,Alarm,1,ENGINE,1.0,2.0,5,Hayes Valley,211101713-E36,POINT (-122.4237517402301 37.77370689554451),9.0',\n",
       " '564,211101713,T06,21047470,Alarms,04/20/2021,04/20/2021,04/20/2021 01:08:01 PM,04/20/2021 01:09:15 PM,04/20/2021 01:09:29 PM,04/20/2021 01:09:48 PM,04/20/2021 01:14:50 PM,,,Fire,04/20/2021 01:21:14 PM,100 Block of OCTAVIA ST,San Francisco,94102.0,B02,36.0,3313,3,3,3,False,Alarm,1,TRUCK,3.0,2.0,5,Hayes Valley,211101713-T06,POINT (-122.4237517402301 37.77370689554451),9.0',\n",
       " '565,211101713,B02,21047470,Alarms,04/20/2021,04/20/2021,04/20/2021 01:08:01 PM,04/20/2021 01:09:15 PM,04/20/2021 01:09:29 PM,04/20/2021 01:10:49 PM,04/20/2021 01:12:57 PM,,,Fire,04/20/2021 01:17:23 PM,100 Block of OCTAVIA ST,San Francisco,94102.0,B02,36.0,3313,3,3,3,False,Alarm,1,CHIEF,2.0,2.0,5,Hayes Valley,211101713-B02,POINT (-122.4237517402301 37.77370689554451),9.0',\n",
       " '566,211101692,KM10,21047469,Medical Incident,04/20/2021,04/20/2021,04/20/2021 01:04:18 PM,04/20/2021 01:04:18 PM,04/20/2021 01:05:54 PM,04/20/2021 01:06:26 PM,04/20/2021 01:10:08 PM,04/20/2021 01:27:47 PM,04/20/2021 01:33:32 PM,Code 3 Transport,04/20/2021 02:02:13 PM,1200 Block of WEBSTER ST,San Francisco,94115.0,B05,5.0,3515,3,3,3,False,Potentially Life-Threatening,1,PRIVATE,2.0,5,5,Western Addition,211101692-KM10,POINT (-122.43085560892555 37.78208745297238),39.0',\n",
       " '567,211101692,E05,21047469,Medical Incident,04/20/2021,04/20/2021,04/20/2021 01:04:18 PM,04/20/2021 01:04:18 PM,04/20/2021 01:04:18 PM,04/20/2021 01:04:18 PM,04/20/2021 01:04:18 PM,,,Code 3 Transport,04/20/2021 01:24:48 PM,1200 Block of WEBSTER ST,San Francisco,94115.0,B05,5.0,3515,3,3,3,True,Potentially Life-Threatening,1,ENGINE,1.0,5,5,Western Addition,211101692-E05,POINT (-122.43085560892555 37.78208745297238),39.0',\n",
       " '568,211101691,67,21047468,Medical Incident,04/20/2021,04/20/2021,04/20/2021 01:01:14 PM,04/20/2021 01:04:03 PM,04/20/2021 01:05:37 PM,04/20/2021 01:05:39 PM,04/20/2021 01:10:22 PM,04/20/2021 01:36:17 PM,04/20/2021 01:37:19 PM,Code 2 Transport,04/20/2021 02:06:40 PM,1800 Block of HAIGHT ST,San Francisco,94117.0,B05,12.0,4545,2,2,2,True,Non Life-threatening,1,MEDIC,1.0,5,5,Haight Ashbury,211101691-67,POINT (-122.45271229373967 37.769326176588216),3.0',\n",
       " '569,211101685,53,21047467,Citizen Assist / Service Call,04/20/2021,04/20/2021,04/20/2021 01:01:42 PM,04/20/2021 01:03:22 PM,04/20/2021 01:04:46 PM,04/20/2021 01:08:54 PM,04/20/2021 01:10:59 PM,04/20/2021 01:36:23 PM,04/20/2021 01:47:45 PM,Code 2 Transport,04/20/2021 02:49:04 PM,427 1/2 UNION ST,San Francisco,94133.0,B01,28.0,1252,2,3,3,True,Alarm,1,MEDIC,2.0,1.0,3,North Beach,211101685-53,POINT (-122.40661416530563 37.800704790978614),23.0',\n",
       " '570,211101685,T02,21047467,Citizen Assist / Service Call,04/20/2021,04/20/2021,04/20/2021 01:01:42 PM,04/20/2021 01:03:22 PM,04/20/2021 01:03:47 PM,,,,,Code 2 Transport,04/20/2021 01:06:56 PM,427 1/2 UNION ST,San Francisco,94133.0,B01,28.0,1252,2,3,3,False,Alarm,1,TRUCK,3.0,1.0,3,North Beach,211101685-T02,POINT (-122.40661416530563 37.800704790978614),23.0',\n",
       " '571,211101685,E02,21047467,Citizen Assist / Service Call,04/20/2021,04/20/2021,04/20/2021 01:01:42 PM,04/20/2021 01:03:22 PM,04/20/2021 01:04:46 PM,04/20/2021 01:05:19 PM,04/20/2021 01:08:04 PM,,,Code 2 Transport,04/20/2021 01:20:28 PM,427 1/2 UNION ST,San Francisco,94133.0,B01,28.0,1252,2,3,3,True,Alarm,1,ENGINE,1.0,1.0,3,North Beach,211101685-E02,POINT (-122.40661416530563 37.800704790978614),23.0',\n",
       " '572,211101678,56,21047466,Medical Incident,04/20/2021,04/20/2021,04/20/2021 12:59:51 PM,04/20/2021 01:01:13 PM,04/20/2021 01:01:56 PM,04/20/2021 01:02:03 PM,04/20/2021 01:23:32 PM,04/20/2021 01:46:31 PM,,Code 2 Transport,04/20/2021 02:56:07 PM,100 Block of GILLETTE AVE,San Francisco,94134.0,B10,44.0,6273,2,2,2,True,Non Life-threatening,1,MEDIC,1.0,10,10,Bayview Hunters Point,211101678-56,POINT (-122.3966619145677 37.71070685251613),1.0',\n",
       " '573,211101676,E39,21047465,Medical Incident,04/20/2021,04/20/2021,04/20/2021 12:59:29 PM,04/20/2021 01:00:44 PM,04/20/2021 01:01:12 PM,04/20/2021 01:02:11 PM,04/20/2021 01:05:58 PM,,,Code 2 Transport,04/20/2021 01:14:04 PM,700 Block of BURNETT AVE,San Francisco,94131.0,B06,24.0,5282,3,3,3,True,,1,ENGINE,2.0,6,8,Twin Peaks,211101676-E39,POINT (-122.44535716215951 37.75009322160534),38.0',\n",
       " '574,211101676,66,21047465,Medical Incident,04/20/2021,04/20/2021,04/20/2021 12:59:29 PM,04/20/2021 01:00:44 PM,04/20/2021 01:01:12 PM,04/20/2021 01:01:16 PM,04/20/2021 01:07:13 PM,04/20/2021 01:23:51 PM,04/20/2021 01:32:50 PM,Code 2 Transport,04/20/2021 02:15:56 PM,700 Block of BURNETT AVE,San Francisco,94131.0,B06,24.0,5282,3,3,3,True,,1,MEDIC,3.0,6,8,Twin Peaks,211101676-66,POINT (-122.44535716215951 37.75009322160534),38.0',\n",
       " '575,211101676,E24,21047465,Medical Incident,04/20/2021,04/20/2021,04/20/2021 12:59:29 PM,04/20/2021 01:00:44 PM,04/20/2021 01:01:12 PM,04/20/2021 01:02:07 PM,04/20/2021 01:05:22 PM,,,Code 2 Transport,04/20/2021 01:07:45 PM,700 Block of BURNETT AVE,San Francisco,94131.0,B06,24.0,5282,3,3,3,False,,1,ENGINE,1.0,6,8,Twin Peaks,211101676-E24,POINT (-122.44535716215951 37.75009322160534),38.0',\n",
       " '576,211101663,93,21047462,Medical Incident,04/20/2021,04/20/2021,04/20/2021 12:55:03 PM,04/20/2021 12:57:44 PM,04/20/2021 12:59:22 PM,04/20/2021 12:59:29 PM,04/20/2021 02:17:13 PM,04/20/2021 02:30:50 PM,04/20/2021 02:37:03 PM,Code 2 Transport,04/20/2021 03:31:52 PM,700 Block of ASHBURY ST,San Francisco,94117.0,B05,12.0,5143,2,2,2,True,Non Life-threatening,1,MEDIC,1.0,5.0,5,Haight Ashbury,211101663-93,POINT (-122.4465570730154 37.76814730711646),3.0',\n",
       " '577,211101660,AM110,21047461,Medical Incident,04/20/2021,04/20/2021,04/20/2021 12:55:07 PM,04/20/2021 12:57:26 PM,04/20/2021 12:57:53 PM,04/20/2021 12:58:14 PM,04/20/2021 12:58:37 PM,,,Cancelled,04/20/2021 01:08:31 PM,100 Block of GOLDEN GATE AVE,San Francisco,94102.0,B02,3.0,1546,2,2,2,False,Non Life-threatening,1,PRIVATE,1.0,2,6,Tenderloin,211101660-AM110,POINT (-122.41305414825304 37.78202243717785),36.0',\n",
       " '578,211101658,81,21047460,Medical Incident,04/20/2021,04/20/2021,04/20/2021 12:56:09 PM,04/20/2021 12:56:43 PM,04/20/2021 12:56:52 PM,04/20/2021 12:56:57 PM,04/20/2021 01:03:10 PM,04/20/2021 01:36:06 PM,04/20/2021 01:55:45 PM,Code 2 Transport,04/20/2021 02:31:10 PM,500 Block of NATOMA ST,San Francisco,94103.0,B03,1.0,2314,3,3,3,True,Non Life-threatening,1,MEDIC,2.0,3,6,South of Market,211101658-81,POINT (-122.40942203168542 37.77889424205315),34.0',\n",
       " '579,211101658,E01,21047460,Medical Incident,04/20/2021,04/20/2021,04/20/2021 12:56:09 PM,04/20/2021 12:56:43 PM,04/20/2021 12:56:52 PM,04/20/2021 12:57:56 PM,04/20/2021 01:02:10 PM,,,Code 2 Transport,04/20/2021 01:08:04 PM,500 Block of NATOMA ST,San Francisco,94103.0,B03,1.0,2314,3,3,3,True,Non Life-threatening,1,ENGINE,1.0,3,6,South of Market,211101658-E01,POINT (-122.40942203168542 37.77889424205315),34.0',\n",
       " '580,211101645,KM04,21047458,Medical Incident,04/20/2021,04/20/2021,04/20/2021 12:51:50 PM,04/20/2021 12:52:10 PM,04/20/2021 12:52:32 PM,04/20/2021 12:52:58 PM,04/20/2021 01:02:32 PM,04/20/2021 01:18:47 PM,04/20/2021 01:25:51 PM,Code 2 Transport,04/20/2021 02:16:50 PM,BRYANT ST/26TH ST,San Francisco,94110.0,B06,9.0,5532,3,3,3,False,Potentially Life-Threatening,1,PRIVATE,3.0,6,9,Mission,211101645-KM04,POINT (-122.40882528001156 37.749600641539935),20.0',\n",
       " '581,211101645,E07,21047458,Medical Incident,04/20/2021,04/20/2021,04/20/2021 12:51:50 PM,04/20/2021 12:52:10 PM,04/20/2021 12:52:32 PM,04/20/2021 12:53:13 PM,04/20/2021 12:56:25 PM,,,Code 2 Transport,04/20/2021 01:08:17 PM,BRYANT ST/26TH ST,San Francisco,94110.0,B06,9.0,5532,3,3,3,True,Potentially Life-Threatening,1,ENGINE,2.0,6,9,Mission,211101645-E07,POINT (-122.40882528001156 37.749600641539935),20.0',\n",
       " '582,211101616,KM08,21047457,Medical Incident,04/20/2021,04/20/2021,04/20/2021 12:46:29 PM,04/20/2021 12:47:01 PM,04/20/2021 12:47:16 PM,04/20/2021 12:47:41 PM,04/20/2021 12:53:47 PM,04/20/2021 01:22:47 PM,04/20/2021 01:34:03 PM,Code 2 Transport,04/20/2021 02:00:10 PM,100 Block of GUERRERO ST,San Francisco,94103.0,B02,6.0,5214,3,3,3,False,Potentially Life-Threatening,1,PRIVATE,2.0,2,8,Mission,211101616-KM08,POINT (-122.42438060558968 37.76889300955463),20.0',\n",
       " '583,211101616,E06,21047457,Medical Incident,04/20/2021,04/20/2021,04/20/2021 12:46:29 PM,04/20/2021 12:47:01 PM,04/20/2021 12:47:16 PM,04/20/2021 12:48:24 PM,04/20/2021 12:50:31 PM,,,Code 2 Transport,04/20/2021 01:07:35 PM,100 Block of GUERRERO ST,San Francisco,94103.0,B02,6.0,5214,3,3,3,True,Potentially Life-Threatening,1,ENGINE,1.0,2,8,Mission,211101616-E06,POINT (-122.42438060558968 37.76889300955463),20.0',\n",
       " '584,211101615,56,21047456,Medical Incident,04/20/2021,04/20/2021,04/20/2021 12:44:07 PM,04/20/2021 12:47:00 PM,04/20/2021 12:48:01 PM,04/20/2021 12:48:08 PM,,,,Cancelled,04/20/2021 12:57:46 PM,OFARRELL ST/MARKET ST,San Francisco,94103.0,B03,1.0,2212,2,2,2,True,Potentially Life-Threatening,1,MEDIC,1.0,1,6,Financial District/South Beach,211101615-56,POINT (-122.40458331819956 37.78673056554578),8.0',\n",
       " '585,211101608,KM12,21047455,Traffic Collision,04/20/2021,04/20/2021,04/20/2021 12:44:29 PM,04/20/2021 12:46:14 PM,04/20/2021 12:46:21 PM,04/20/2021 12:46:50 PM,04/20/2021 12:51:16 PM,04/20/2021 01:12:31 PM,04/20/2021 01:34:37 PM,Code 2 Transport,04/20/2021 02:17:08 PM,200 Block of MONTICELLO ST,San Francisco,94132.0,B09,33.0,8431,3,3,3,False,Potentially Life-Threatening,1,PRIVATE,2.0,9,11,Oceanview/Merced/Ingleside,211101608-KM12,POINT (-122.47081162684555 37.71876372716598),24.0',\n",
       " '586,211101608,E15,21047455,Traffic Collision,04/20/2021,04/20/2021,04/20/2021 12:44:29 PM,04/20/2021 12:46:14 PM,04/20/2021 12:46:21 PM,04/20/2021 12:47:13 PM,,,,Code 2 Transport,04/20/2021 12:51:07 PM,200 Block of MONTICELLO ST,San Francisco,94132.0,B09,33.0,8431,3,3,3,True,Potentially Life-Threatening,1,ENGINE,3.0,9,11,Oceanview/Merced/Ingleside,211101608-E15,POINT (-122.47081162684555 37.71876372716598),24.0',\n",
       " '587,211101608,E33,21047455,Traffic Collision,04/20/2021,04/20/2021,04/20/2021 12:44:29 PM,04/20/2021 12:46:14 PM,04/20/2021 12:46:21 PM,04/20/2021 12:47:35 PM,04/20/2021 12:50:02 PM,,,Code 2 Transport,04/20/2021 01:09:33 PM,200 Block of MONTICELLO ST,San Francisco,94132.0,B09,33.0,8431,3,3,3,False,Potentially Life-Threatening,1,ENGINE,1.0,9,11,Oceanview/Merced/Ingleside,211101608-E33,POINT (-122.47081162684555 37.71876372716598),24.0',\n",
       " '588,211101600,T17,21047454,Citizen Assist / Service Call,04/20/2021,04/20/2021,04/20/2021 12:42:40 PM,04/20/2021 12:43:56 PM,04/20/2021 12:44:20 PM,04/20/2021 12:45:47 PM,04/20/2021 12:49:39 PM,,,Fire,04/20/2021 01:01:46 PM,1700 Block of NEWCOMB AVE,San Francisco,94124.0,B10,17.0,6515,2,2,2,False,Alarm,1,TRUCK,1.0,10,10,Bayview Hunters Point,211101600-T17,POINT (-122.39254543260644 37.73686412091329),1.0',\n",
       " '589,211101599,AM108,21047453,Medical Incident,04/20/2021,04/20/2021,04/20/2021 12:42:11 PM,04/20/2021 12:43:46 PM,04/20/2021 12:44:04 PM,04/20/2021 12:44:28 PM,04/20/2021 12:55:35 PM,04/20/2021 01:22:52 PM,04/20/2021 01:32:37 PM,Code 2 Transport,04/20/2021 01:54:42 PM,0 Block of 6TH ST,San Francisco,94103.0,B02,1.0,2248,2,2,2,False,Potentially Life-Threatening,1,PRIVATE,1.0,3,6,South of Market,211101599-AM108,POINT (-122.40951834141595 37.78153743312193),34.0',\n",
       " '590,211101593,SCRT2,21047452,Medical Incident,04/20/2021,04/20/2021,04/20/2021 12:42:26 PM,04/20/2021 12:42:26 PM,04/20/2021 12:42:43 PM,04/20/2021 12:42:43 PM,04/20/2021 12:42:43 PM,,,Patient Declined Transport,04/20/2021 01:47:07 PM,18TH ST/HARTFORD ST,San Francisco,94114.0,B05,6.0,5417,2,1,2,False,Non Life-threatening,1,SUPPORT,1.0,5,8,Castro/Upper Market,211101593-SCRT2,POINT (-122.43390357941541 37.76095474066157),5.0',\n",
       " '591,211101586,76,21047451,Medical Incident,04/20/2021,04/20/2021,04/20/2021 12:38:47 PM,04/20/2021 12:40:53 PM,04/20/2021 12:41:21 PM,04/20/2021 12:41:29 PM,04/20/2021 12:53:13 PM,04/20/2021 01:00:59 PM,04/20/2021 01:12:56 PM,Code 2 Transport,04/20/2021 01:45:46 PM,200 Block of FREMONT ST,San Francisco,94105.0,B03,35.0,2137,2,2,2,True,Potentially Life-Threatening,1,MEDIC,1.0,3,6,Financial District/South Beach,211101586-76,POINT (-122.39391134614449 37.78832456870025),8.0',\n",
       " '592,211101568,53,21047450,Medical Incident,04/20/2021,04/20/2021,04/20/2021 12:32:46 PM,04/20/2021 12:34:04 PM,04/20/2021 12:35:00 PM,04/20/2021 12:35:07 PM,04/20/2021 12:48:02 PM,,,No Merit,04/20/2021 12:58:09 PM,1100 Block of MARKET ST,San Francisco,94102.0,B03,36.0,1455,2,2,2,True,Potentially Life-Threatening,1,MEDIC,1.0,2,6,Tenderloin,211101568-53,POINT (-122.41232090743603 37.78076422544007),36.0',\n",
       " '593,211101566,KM01,21047449,Medical Incident,04/20/2021,04/20/2021,04/20/2021 12:32:03 PM,04/20/2021 12:33:32 PM,04/20/2021 12:34:08 PM,04/20/2021 12:34:27 PM,04/20/2021 12:37:42 PM,04/20/2021 12:57:33 PM,,Code 2 Transport,04/20/2021 01:37:27 PM,400 Block of POWELL ST,San Francisco,94102.0,B01,2.0,1362,3,2,2,False,Potentially Life-Threatening,1,PRIVATE,2.0,1,3,Nob Hill,211101566-KM01,POINT (-122.40856658916951 37.78875047723598),21.0',\n",
       " '594,211101566,E03,21047449,Medical Incident,04/20/2021,04/20/2021,04/20/2021 12:32:03 PM,04/20/2021 12:33:32 PM,04/20/2021 12:34:08 PM,04/20/2021 12:35:14 PM,04/20/2021 12:37:18 PM,,,Code 2 Transport,04/20/2021 12:54:54 PM,400 Block of POWELL ST,San Francisco,94102.0,B01,2.0,1362,3,2,2,True,Potentially Life-Threatening,1,ENGINE,1.0,1,3,Nob Hill,211101566-E03,POINT (-122.40856658916951 37.78875047723598),21.0',\n",
       " '595,211101556,RC1,21047448,Medical Incident,04/20/2021,04/20/2021,04/20/2021 12:29:22 PM,04/20/2021 12:31:07 PM,04/20/2021 12:31:39 PM,04/20/2021 12:32:53 PM,,,,Medical Examiner,04/20/2021 12:41:46 PM,0 Block of GOLDEN GATE AVE,San Francisco,94102.0,B03,1.0,1454,E,E,3,True,Potentially Life-Threatening,1,RESCUE CAPTAIN,4.0,3,6,Tenderloin,211101556-RC1,POINT (-122.41126861336814 37.782250087316974),36.0',\n",
       " '596,211101556,QRV2,21047448,Medical Incident,04/20/2021,04/20/2021,04/20/2021 12:29:22 PM,04/20/2021 12:31:07 PM,04/20/2021 12:31:39 PM,04/20/2021 12:31:45 PM,04/20/2021 12:36:40 PM,,,Medical Examiner,04/20/2021 01:41:48 PM,0 Block of GOLDEN GATE AVE,San Francisco,94102.0,B03,1.0,1454,E,E,3,True,Potentially Life-Threatening,1,SUPPORT,2.0,3,6,Tenderloin,211101556-QRV2,POINT (-122.41126861336814 37.782250087316974),36.0',\n",
       " '597,211101556,E01,21047448,Medical Incident,04/20/2021,04/20/2021,04/20/2021 12:29:22 PM,04/20/2021 12:31:07 PM,04/20/2021 12:31:39 PM,04/20/2021 12:32:56 PM,04/20/2021 12:36:29 PM,,,Medical Examiner,04/20/2021 12:46:02 PM,0 Block of GOLDEN GATE AVE,San Francisco,94102.0,B03,1.0,1454,E,E,3,True,Potentially Life-Threatening,1,ENGINE,1.0,3,6,Tenderloin,211101556-E01,POINT (-122.41126861336814 37.782250087316974),36.0',\n",
       " '598,211101556,71,21047448,Medical Incident,04/20/2021,04/20/2021,04/20/2021 12:29:22 PM,04/20/2021 12:31:07 PM,04/20/2021 12:31:39 PM,04/20/2021 12:31:45 PM,04/20/2021 12:37:29 PM,,,Medical Examiner,04/20/2021 01:49:13 PM,0 Block of GOLDEN GATE AVE,San Francisco,94102.0,B03,1.0,1454,E,E,3,True,Potentially Life-Threatening,1,MEDIC,3.0,3,6,Tenderloin,211101556-71,POINT (-122.41126861336814 37.782250087316974),36.0',\n",
       " '599,211101551,89,21047447,Medical Incident,04/20/2021,04/20/2021,04/20/2021 12:29:47 PM,04/20/2021 12:29:47 PM,04/20/2021 12:29:58 PM,04/20/2021 12:30:01 PM,04/20/2021 12:37:03 PM,04/20/2021 12:53:25 PM,04/20/2021 01:03:11 PM,Code 2 Transport,04/20/2021 01:33:55 PM,900 Block of KEARNY ST,San Francisco,94133.0,B01,13.0,1246,A,2,2,True,Potentially Life-Threatening,1,MEDIC,2.0,1,3,Chinatown,211101551-89,POINT (-122.40528398051833 37.79655104807914),6.0',\n",
       " '600,211101551,E13,21047447,Medical Incident,04/20/2021,04/20/2021,04/20/2021 12:29:47 PM,04/20/2021 12:29:47 PM,04/20/2021 12:29:58 PM,04/20/2021 12:30:55 PM,04/20/2021 12:33:25 PM,,,Code 2 Transport,04/20/2021 01:11:07 PM,900 Block of KEARNY ST,San Francisco,94133.0,B01,13.0,1246,A,2,2,True,Potentially Life-Threatening,1,ENGINE,1.0,1,3,Chinatown,211101551-E13,POINT (-122.40528398051833 37.79655104807914),6.0',\n",
       " '601,211101545,74,21047446,Medical Incident,04/20/2021,04/20/2021,04/20/2021 12:26:09 PM,04/20/2021 12:26:09 PM,04/20/2021 12:26:20 PM,04/20/2021 12:26:31 PM,04/20/2021 12:36:32 PM,04/20/2021 12:52:11 PM,04/20/2021 01:04:45 PM,Code 2 Transport,04/20/2021 01:34:54 PM,AMAZON AV/MISSION ST,San Francisco,94112.0,B09,43.0,6175,A,2,2,True,Non Life-threatening,1,MEDIC,1.0,9,11,Excelsior,211101545-74,POINT (-122.4404177366666 37.71724462006491),7.0',\n",
       " '602,211101539,E18,21047445,Medical Incident,04/20/2021,04/20/2021,04/20/2021 12:24:13 PM,04/20/2021 12:25:13 PM,04/20/2021 12:25:41 PM,04/20/2021 12:26:52 PM,04/20/2021 12:27:57 PM,,,No Merit,04/20/2021 12:30:51 PM,2100 Block of 30TH AV,San Francisco,94116.0,B08,18.0,7532,3,3,3,True,Non Life-threatening,1,ENGINE,1.0,8.0,4,Sunset/Parkside,211101539-E18,POINT (-122.48780116393414 37.747192454875425),35.0',\n",
       " '603,211101539,E23,21047445,Medical Incident,04/20/2021,04/20/2021,04/20/2021 12:24:13 PM,04/20/2021 12:25:13 PM,04/20/2021 12:25:41 PM,,,,,No Merit,04/20/2021 12:26:59 PM,2100 Block of 30TH AV,San Francisco,94116.0,B08,18.0,7532,3,3,3,True,Non Life-threatening,1,ENGINE,3.0,8.0,4,Sunset/Parkside,211101539-E23,POINT (-122.48780116393414 37.747192454875425),35.0',\n",
       " '604,211101539,KM12,21047445,Medical Incident,04/20/2021,04/20/2021,04/20/2021 12:24:13 PM,04/20/2021 12:25:13 PM,04/20/2021 12:25:41 PM,04/20/2021 12:26:09 PM,,,,No Merit,04/20/2021 12:30:51 PM,2100 Block of 30TH AV,San Francisco,94116.0,B08,18.0,7532,3,3,3,False,Non Life-threatening,1,PRIVATE,2.0,8.0,4,Sunset/Parkside,211101539-KM12,POINT (-122.48780116393414 37.747192454875425),35.0',\n",
       " '605,211101495,50,21047444,Medical Incident,04/20/2021,04/20/2021,04/20/2021 12:12:25 PM,04/20/2021 12:12:53 PM,04/20/2021 12:13:28 PM,04/20/2021 12:13:48 PM,04/20/2021 12:14:25 PM,04/20/2021 12:37:10 PM,04/20/2021 01:01:39 PM,Code 2 Transport,04/20/2021 02:27:29 PM,2200 Block of GEARY BLVD,San Francisco,94115.0,B05,10.0,4154,E,E,3,True,Potentially Life-Threatening,1,MEDIC,1.0,5,5,Japantown,211101495-50,POINT (-122.44032487615931 37.78332632884761),15.0',\n",
       " '606,211101495,E21,21047444,Medical Incident,04/20/2021,04/20/2021,04/20/2021 12:12:25 PM,04/20/2021 12:12:53 PM,04/20/2021 12:15:58 PM,04/20/2021 12:15:58 PM,,,,Code 2 Transport,04/20/2021 12:18:59 PM,2200 Block of GEARY BLVD,San Francisco,94115.0,B05,10.0,4154,E,E,3,True,Potentially Life-Threatening,1,ENGINE,5.0,5,5,Japantown,211101495-E21,POINT (-122.44032487615931 37.78332632884761),15.0',\n",
       " '607,211101495,T10,21047444,Medical Incident,04/20/2021,04/20/2021,04/20/2021 12:12:25 PM,04/20/2021 12:12:53 PM,04/20/2021 12:13:28 PM,04/20/2021 12:14:17 PM,04/20/2021 12:17:19 PM,,,Code 2 Transport,04/20/2021 12:18:31 PM,2200 Block of GEARY BLVD,San Francisco,94115.0,B05,10.0,4154,E,E,3,False,Potentially Life-Threatening,1,TRUCK,2.0,5,5,Japantown,211101495-T10,POINT (-122.44032487615931 37.78332632884761),15.0',\n",
       " '608,211101495,RC2,21047444,Medical Incident,04/20/2021,04/20/2021,04/20/2021 12:12:25 PM,04/20/2021 12:12:53 PM,04/20/2021 12:13:28 PM,04/20/2021 12:14:33 PM,,,,Code 2 Transport,04/20/2021 12:17:01 PM,2200 Block of GEARY BLVD,San Francisco,94115.0,B05,10.0,4154,E,E,3,True,Potentially Life-Threatening,1,RESCUE CAPTAIN,4.0,5,5,Japantown,211101495-RC2,POINT (-122.44032487615931 37.78332632884761),15.0',\n",
       " '609,211101495,E05,21047444,Medical Incident,04/20/2021,04/20/2021,04/20/2021 12:12:25 PM,04/20/2021 12:12:53 PM,04/20/2021 12:13:28 PM,04/20/2021 12:14:31 PM,04/20/2021 12:18:49 PM,,,Code 2 Transport,04/20/2021 12:29:12 PM,2200 Block of GEARY BLVD,San Francisco,94115.0,B05,10.0,4154,E,E,3,True,Potentially Life-Threatening,1,ENGINE,3.0,5,5,Japantown,211101495-E05,POINT (-122.44032487615931 37.78332632884761),15.0',\n",
       " '610,211101489,E14,21047443,Other,04/20/2021,04/20/2021,04/20/2021 12:12:10 PM,04/20/2021 12:12:10 PM,04/20/2021 12:12:32 PM,04/20/2021 12:13:21 PM,,,,Cancelled,04/20/2021 12:14:41 PM,3100 Block of CABRILLO ST,San Francisco,94121.0,B07,14.0,7242,A,3,3,True,Alarm,1,ENGINE,1.0,7,1,Outer Richmond,211101489-E14,POINT (-122.49236726248938 37.77412411040332),29.0',\n",
       " '611,211101486,89,21047442,Medical Incident,04/20/2021,04/20/2021,04/20/2021 12:11:16 PM,04/20/2021 12:11:16 PM,04/20/2021 12:14:30 PM,04/20/2021 12:14:35 PM,04/20/2021 12:22:34 PM,,,Cancelled,04/20/2021 12:24:12 PM,700 Block of MARKET ST,San Francisco,94108.0,B01,13.0,1241,B,2,2,True,Non Life-threatening,1,MEDIC,1.0,1,3,Financial District/South Beach,211101486-89,POINT (-122.40409466244976 37.78725609279959),8.0',\n",
       " '612,211101476,E41,21047441,Medical Incident,04/20/2021,04/20/2021,04/20/2021 12:00:18 PM,04/20/2021 12:06:02 PM,04/20/2021 12:06:46 PM,04/20/2021 12:07:51 PM,04/20/2021 12:22:33 PM,,,Code 2 Transport,04/20/2021 12:23:37 PM,1700 Block of CLAY ST,San Francisco,94109.0,B04,41.0,3124,3,2,2,False,Non Life-threatening,1,ENGINE,3.0,4,3,Russian Hill,211101476-E41,POINT (-122.42188446704073 37.792333186496144),32.0',\n",
       " '613,211101476,E02,21047441,Medical Incident,04/20/2021,04/20/2021,04/20/2021 12:00:18 PM,04/20/2021 12:06:02 PM,04/20/2021 12:06:46 PM,04/20/2021 12:08:31 PM,04/20/2021 12:12:32 PM,,,Code 2 Transport,04/20/2021 12:13:20 PM,1700 Block of CLAY ST,San Francisco,94109.0,B04,41.0,3124,3,2,2,True,Non Life-threatening,1,ENGINE,1.0,4,3,Russian Hill,211101476-E02,POINT (-122.42188446704073 37.792333186496144),32.0',\n",
       " '614,211101476,91,21047441,Medical Incident,04/20/2021,04/20/2021,04/20/2021 12:00:18 PM,04/20/2021 12:06:02 PM,04/20/2021 12:06:46 PM,04/20/2021 12:06:54 PM,04/20/2021 12:14:11 PM,04/20/2021 12:49:52 PM,04/20/2021 12:49:53 PM,Code 2 Transport,04/20/2021 01:15:26 PM,1700 Block of CLAY ST,San Francisco,94109.0,B04,41.0,3124,3,2,2,True,Non Life-threatening,1,MEDIC,2.0,4,3,Russian Hill,211101476-91,POINT (-122.42188446704073 37.792333186496144),32.0',\n",
       " '615,211101441,KM10,21047440,Medical Incident,04/20/2021,04/20/2021,04/20/2021 11:59:21 AM,04/20/2021 11:59:47 AM,04/20/2021 11:59:59 AM,04/20/2021 12:00:22 PM,04/20/2021 12:03:21 PM,04/20/2021 12:31:29 PM,04/20/2021 12:31:34 PM,Code 2 Transport,04/20/2021 01:04:46 PM,800 Block of HYDE ST,San Francisco,94109.0,B04,3.0,1557,3,3,3,False,Potentially Life-Threatening,1,PRIVATE,2.0,4,3,Nob Hill,211101441-KM10,POINT (-122.41699034280349 37.78863527512413),21.0',\n",
       " '616,211101441,E03,21047440,Medical Incident,04/20/2021,04/20/2021,04/20/2021 11:59:21 AM,04/20/2021 11:59:47 AM,04/20/2021 11:59:59 AM,04/20/2021 12:01:14 PM,04/20/2021 12:02:42 PM,,,Code 2 Transport,04/20/2021 12:16:31 PM,800 Block of HYDE ST,San Francisco,94109.0,B04,3.0,1557,3,3,3,True,Potentially Life-Threatening,1,ENGINE,1.0,4,3,Nob Hill,211101441-E03,POINT (-122.41699034280349 37.78863527512413),21.0',\n",
       " '617,211101420,93,21047439,Medical Incident,04/20/2021,04/20/2021,04/20/2021 11:53:34 AM,04/20/2021 11:53:34 AM,04/20/2021 11:53:45 AM,04/20/2021 11:53:51 AM,04/20/2021 12:01:01 PM,04/20/2021 12:09:34 PM,04/20/2021 12:16:19 PM,Code 2 Transport,04/20/2021 12:53:23 PM,HAIGHT ST/ASHBURY ST,San Francisco,94117.0,B05,21.0,4466,B,3,3,True,Potentially Life-Threatening,1,MEDIC,2.0,5,5,Haight Ashbury,211101420-93,POINT (-122.44693381828772 37.77000760572384),3.0',\n",
       " '618,211101420,E21,21047439,Medical Incident,04/20/2021,04/20/2021,04/20/2021 11:53:34 AM,04/20/2021 11:53:34 AM,04/20/2021 11:53:45 AM,04/20/2021 11:56:02 AM,04/20/2021 11:59:41 AM,,,Code 2 Transport,04/20/2021 12:15:53 PM,HAIGHT ST/ASHBURY ST,San Francisco,94117.0,B05,21.0,4466,B,3,3,True,Potentially Life-Threatening,1,ENGINE,1.0,5,5,Haight Ashbury,211101420-E21,POINT (-122.44693381828772 37.77000760572384),3.0',\n",
       " '619,211101412,89,21047438,Medical Incident,04/20/2021,04/20/2021,04/20/2021 11:51:47 AM,04/20/2021 11:51:47 AM,04/20/2021 11:51:58 AM,04/20/2021 11:52:01 AM,04/20/2021 12:03:48 PM,,,No Merit,04/20/2021 12:13:19 PM,1000 Block of MARKET ST,San Francisco,94102.0,B03,1.0,1454,C,2,2,True,Non Life-threatening,1,MEDIC,1.0,3,6,Tenderloin,211101412-89,POINT (-122.41105817541383 37.781761594074766),36.0',\n",
       " '620,211101398,83,21047437,Medical Incident,04/20/2021,04/20/2021,04/20/2021 11:48:51 AM,04/20/2021 11:48:51 AM,04/20/2021 11:49:41 AM,04/20/2021 11:49:46 AM,04/20/2021 12:12:51 PM,04/20/2021 12:42:57 PM,04/20/2021 12:59:49 PM,Code 2 Transport,04/20/2021 01:48:13 PM,7TH ST/MISSION ST,San Francisco,94103.0,B02,1.0,2315,A,2,2,True,Non Life-threatening,1,MEDIC,1.0,2,6,South of Market,211101398-83,POINT (-122.41093657380003 37.779211684542325),34.0',\n",
       " '621,211101376,KM01,21047435,Medical Incident,04/20/2021,04/20/2021,04/20/2021 11:40:44 AM,04/20/2021 11:43:38 AM,04/20/2021 11:44:29 AM,04/20/2021 11:45:54 AM,,,,Patient Declined Transport,04/20/2021 12:34:05 PM,500 Block of LEAVENWORTH ST,San Francisco,94102.0,B04,3.0,1544,2,2,2,False,Non Life-threatening,1,PRIVATE,1.0,1,6,Tenderloin,211101376-KM01,POINT (-122.41464359285672 37.78605984571391),36.0',\n",
       " '622,211101357,77,21047433,Medical Incident,04/20/2021,04/20/2021,04/20/2021 11:36:45 AM,04/20/2021 11:40:05 AM,04/20/2021 11:40:33 AM,04/20/2021 11:42:52 AM,04/20/2021 01:15:04 PM,04/20/2021 01:15:05 PM,04/20/2021 01:15:07 PM,Code 2 Transport,04/20/2021 01:31:20 PM,1000 Block of FRANKLIN ST,San Francisco,94109.0,B02,3.0,3221,2,2,2,True,Potentially Life-Threatening,1,MEDIC,1.0,2,5,Western Addition,211101357-77,POINT (-122.42276736384343 37.78384277392586),39.0',\n",
       " '623,211101342,E03,21047431,Medical Incident,04/20/2021,04/20/2021,04/20/2021 11:35:35 AM,04/20/2021 11:36:19 AM,04/20/2021 11:36:36 AM,04/20/2021 11:38:24 AM,04/20/2021 11:42:21 AM,,,Code 2 Transport,04/20/2021 11:50:05 AM,100 Block of LEAVENWORTH ST,San Francisco,94102.0,B02,3.0,1546,3,3,3,True,Potentially Life-Threatening,1,ENGINE,1.0,2,6,Tenderloin,211101342-E03,POINT (-122.41389135199456 37.78233759007798),36.0',\n",
       " '624,211101342,AM108,21047431,Medical Incident,04/20/2021,04/20/2021,04/20/2021 11:35:35 AM,04/20/2021 11:36:19 AM,04/20/2021 11:36:36 AM,04/20/2021 11:37:04 AM,04/20/2021 11:44:43 AM,04/20/2021 11:59:26 AM,04/20/2021 12:07:41 PM,Code 2 Transport,04/20/2021 12:39:50 PM,100 Block of LEAVENWORTH ST,San Francisco,94102.0,B02,3.0,1546,3,3,3,False,Potentially Life-Threatening,1,PRIVATE,2.0,2,6,Tenderloin,211101342-AM108,POINT (-122.41389135199456 37.78233759007798),36.0',\n",
       " '625,211101331,AM110,21047430,Medical Incident,04/20/2021,04/20/2021,04/20/2021 11:33:01 AM,04/20/2021 11:33:01 AM,04/20/2021 11:34:10 AM,04/20/2021 11:34:29 AM,04/20/2021 11:38:17 AM,,,Patient Declined Transport,04/20/2021 12:42:45 PM,1000 Block of TURK ST,San Francisco,94102.0,B02,5.0,3426,A,2,2,False,Non Life-threatening,1,PRIVATE,1.0,2,5,Western Addition,211101331-AM110,POINT (-122.42554932846163 37.781272147129),39.0',\n",
       " '626,211101330,55,21047429,Medical Incident,04/20/2021,04/20/2021,04/20/2021 11:30:51 AM,04/20/2021 11:32:55 AM,04/20/2021 11:33:07 AM,04/20/2021 11:33:17 AM,04/20/2021 11:42:50 AM,04/20/2021 11:55:52 AM,04/20/2021 12:07:05 PM,Code 3 Transport,04/20/2021 01:04:20 PM,\"OREILLY AV/EDIE RD, PR\",Presidio,94129.0,B99,51.0,4612,E,3,3,True,Potentially Life-Threatening,1,MEDIC,2.0,7.0,2,Presidio,211101330-55,POINT (-122.45018293177382 37.80096387732082),27.0',\n",
       " '627,211101330,E51,21047429,Medical Incident,04/20/2021,04/20/2021,04/20/2021 11:30:51 AM,04/20/2021 11:32:55 AM,04/20/2021 11:33:07 AM,04/20/2021 11:33:27 AM,04/20/2021 11:39:40 AM,,,Code 3 Transport,04/20/2021 11:56:59 AM,\"OREILLY AV/EDIE RD, PR\",Presidio,94129.0,B99,51.0,4612,E,3,3,True,Potentially Life-Threatening,1,ENGINE,1.0,7.0,2,Presidio,211101330-E51,POINT (-122.45018293177382 37.80096387732082),27.0',\n",
       " '628,211101330,RC2,21047429,Medical Incident,04/20/2021,04/20/2021,04/20/2021 11:30:51 AM,04/20/2021 11:32:55 AM,04/20/2021 11:33:07 AM,04/20/2021 11:34:19 AM,,,,Code 3 Transport,04/20/2021 11:34:54 AM,\"OREILLY AV/EDIE RD, PR\",Presidio,94129.0,B99,51.0,4612,E,3,3,True,Potentially Life-Threatening,1,RESCUE CAPTAIN,3.0,7.0,2,Presidio,211101330-RC2,POINT (-122.45018293177382 37.80096387732082),27.0',\n",
       " '629,211101321,67,21047428,Medical Incident,04/20/2021,04/20/2021,04/20/2021 11:28:49 AM,04/20/2021 11:30:49 AM,04/20/2021 11:32:04 AM,04/20/2021 11:32:30 AM,04/20/2021 11:48:16 AM,04/20/2021 12:01:29 PM,04/20/2021 12:27:47 PM,Code 2 Transport,04/20/2021 01:03:54 PM,1100 Block of RIVERA ST,San Francisco,94116.0,B08,40.0,7433,3,2,2,True,Non Life-threatening,1,MEDIC,1.0,8.0,4,Sunset/Parkside,211101321-67,POINT (-122.47863028186431 37.74666159206226),35.0',\n",
       " '630,211101291,T03,21047427,Alarms,04/20/2021,04/20/2021,04/20/2021 11:21:01 AM,04/20/2021 11:23:09 AM,04/20/2021 11:23:18 AM,04/20/2021 11:23:29 AM,04/20/2021 11:26:36 AM,,,Fire,04/20/2021 11:33:37 AM,1400 Block of CALIFORNIA ST,San Francisco,94109.0,B04,41.0,1635,3,3,3,False,Alarm,1,TRUCK,1.0,4,3,Nob Hill,211101291-T03,POINT (-122.41820405585563 37.790826242502725),21.0',\n",
       " '631,211101290,93,21047426,Medical Incident,04/20/2021,04/20/2021,04/20/2021 11:20:02 AM,04/20/2021 11:22:49 AM,04/20/2021 11:24:03 AM,04/20/2021 11:24:10 AM,04/20/2021 11:35:04 AM,,,No Merit,04/20/2021 11:43:23 AM,26TH ST/MISSION ST,San Francisco,94110.0,B06,11.0,5613,2,2,2,True,Potentially Life-Threatening,1,MEDIC,1.0,6,9,Mission,211101290-93,POINT (-122.4181352517022 37.74904128843695),20.0',\n",
       " '632,211101285,76,21047425,Medical Incident,04/20/2021,04/20/2021,04/20/2021 11:19:51 AM,04/20/2021 11:21:52 AM,04/20/2021 11:22:16 AM,04/20/2021 11:22:20 AM,04/20/2021 11:36:16 AM,04/20/2021 11:58:18 AM,04/20/2021 12:02:39 PM,Code 2 Transport,04/20/2021 12:34:49 PM,300 Block of CLEMENTINA ST,San Francisco,94103.0,B03,1.0,2215,2,2,2,True,Non Life-threatening,1,MEDIC,1.0,3,6,South of Market,211101285-76,POINT (-122.40232147637953 37.782038714617414),34.0',\n",
       " '633,211101279,B05,21047424,Alarms,04/20/2021,04/20/2021,04/20/2021 11:19:05 AM,04/20/2021 11:20:21 AM,04/20/2021 11:20:52 AM,04/20/2021 11:21:27 AM,04/20/2021 11:25:00 AM,,,Fire,04/20/2021 11:27:22 AM,0 Block of MOUNTAIN SPRING AVE,San Francisco,94114.0,B05,24.0,5262,3,3,3,False,Alarm,1,CHIEF,3.0,5,7,Twin Peaks,211101279-B05,POINT (-122.44880729835542 37.7581366017206),38.0',\n",
       " '634,211101279,E12,21047424,Alarms,04/20/2021,04/20/2021,04/20/2021 11:19:05 AM,04/20/2021 11:20:21 AM,04/20/2021 11:20:52 AM,04/20/2021 11:21:34 AM,04/20/2021 11:24:12 AM,,,Fire,04/20/2021 11:31:22 AM,0 Block of MOUNTAIN SPRING AVE,San Francisco,94114.0,B05,24.0,5262,3,3,3,True,Alarm,1,ENGINE,1.0,5,7,Twin Peaks,211101279-E12,POINT (-122.44880729835542 37.7581366017206),38.0',\n",
       " '635,211101279,T12,21047424,Alarms,04/20/2021,04/20/2021,04/20/2021 11:19:05 AM,04/20/2021 11:20:21 AM,04/20/2021 11:20:52 AM,04/20/2021 11:21:39 AM,04/20/2021 11:25:00 AM,,,Fire,04/20/2021 11:33:34 AM,0 Block of MOUNTAIN SPRING AVE,San Francisco,94114.0,B05,24.0,5262,3,3,3,False,Alarm,1,TRUCK,2.0,5,7,Twin Peaks,211101279-T12,POINT (-122.44880729835542 37.7581366017206),38.0',\n",
       " '636,211101268,AM110,21047423,Medical Incident,04/20/2021,04/20/2021,04/20/2021 11:14:26 AM,04/20/2021 11:16:20 AM,04/20/2021 11:17:24 AM,04/20/2021 11:17:40 AM,04/20/2021 11:25:04 AM,,,Unable to Locate,04/20/2021 11:27:16 AM,3000 Block of 16TH ST,San Francisco,94103.0,B02,7.0,5236,2,2,2,False,Potentially Life-Threatening,1,PRIVATE,1.0,2,9,Mission,211101268-AM110,POINT (-122.42008098350512 37.765081537668465),20.0',\n",
       " '637,211101265,56,21047422,Medical Incident,04/20/2021,04/20/2021,04/20/2021 11:13:30 AM,04/20/2021 11:15:53 AM,04/20/2021 11:16:17 AM,04/20/2021 11:18:12 AM,04/20/2021 11:25:37 AM,04/20/2021 11:47:12 AM,04/20/2021 12:04:22 PM,Code 2 Transport,04/20/2021 12:36:42 PM,500 Block of ALVARADO ST,San Francisco,94114.0,B06,24.0,5466,3,3,3,True,Potentially Life-Threatening,1,MEDIC,2.0,6,8,Noe Valley,211101265-56,POINT (-122.43320320961169 37.753701722820175),22.0',\n",
       " '638,211101265,E24,21047422,Medical Incident,04/20/2021,04/20/2021,04/20/2021 11:13:30 AM,04/20/2021 11:15:53 AM,04/20/2021 11:16:17 AM,04/20/2021 11:16:47 AM,04/20/2021 11:18:10 AM,,,Code 2 Transport,04/20/2021 11:28:04 AM,500 Block of ALVARADO ST,San Francisco,94114.0,B06,24.0,5466,3,3,3,False,Potentially Life-Threatening,1,ENGINE,1.0,6,8,Noe Valley,211101265-E24,POINT (-122.43320320961169 37.753701722820175),22.0',\n",
       " '639,211101265,E11,21047422,Medical Incident,04/20/2021,04/20/2021,04/20/2021 11:13:30 AM,04/20/2021 11:15:53 AM,04/20/2021 11:16:17 AM,04/20/2021 11:17:11 AM,,,,Code 2 Transport,04/20/2021 12:02:02 PM,500 Block of ALVARADO ST,San Francisco,94114.0,B06,24.0,5466,3,3,3,True,Potentially Life-Threatening,1,ENGINE,3.0,6,8,Noe Valley,211101265-E11,POINT (-122.43320320961169 37.753701722820175),22.0',\n",
       " '640,211101260,70,21047421,Medical Incident,04/20/2021,04/20/2021,04/20/2021 11:14:27 AM,04/20/2021 11:14:56 AM,04/20/2021 11:15:05 AM,04/20/2021 11:15:35 AM,04/20/2021 11:19:03 AM,04/20/2021 11:35:50 AM,04/20/2021 11:43:08 AM,Code 2 Transport,04/20/2021 12:38:41 PM,700 Block of LAGUNA HONDA BLVD,San Francisco,94127.0,B08,39.0,8644,3,3,3,True,Non Life-threatening,1,MEDIC,2.0,8,7,West of Twin Peaks,211101260-70,POINT (-122.45675195211217 37.74441481882683),41.0',\n",
       " '641,211101260,E39,21047421,Medical Incident,04/20/2021,04/20/2021,04/20/2021 11:14:27 AM,04/20/2021 11:14:56 AM,04/20/2021 11:15:05 AM,04/20/2021 11:16:06 AM,04/20/2021 11:17:51 AM,,,Code 2 Transport,04/20/2021 11:26:12 AM,700 Block of LAGUNA HONDA BLVD,San Francisco,94127.0,B08,39.0,8644,3,3,3,True,Non Life-threatening,1,ENGINE,1.0,8,7,West of Twin Peaks,211101260-E39,POINT (-122.45675195211217 37.74441481882683),41.0',\n",
       " '642,211101255,T05,21047420,Vehicle Fire,04/20/2021,04/20/2021,04/20/2021 11:07:58 AM,04/20/2021 11:13:07 AM,04/20/2021 11:13:28 AM,04/20/2021 11:13:35 AM,04/20/2021 11:16:23 AM,,,No Merit,04/20/2021 11:17:05 AM,TURK ST/FILLMORE ST,San Francisco,94115.0,B05,5.0,3535,3,3,3,False,Fire,1,TRUCK,1.0,5,5,Western Addition,211101255-T05,POINT (-122.43214039082407 37.78049625961475),39.0',\n",
       " '643,211101255,E05,21047420,Vehicle Fire,04/20/2021,04/20/2021,04/20/2021 11:07:58 AM,04/20/2021 11:13:07 AM,04/20/2021 11:13:28 AM,04/20/2021 11:13:44 AM,04/20/2021 11:17:52 AM,,,No Merit,04/20/2021 11:17:58 AM,TURK ST/FILLMORE ST,San Francisco,94115.0,B05,5.0,3535,3,3,3,True,Fire,1,ENGINE,2.0,5,5,Western Addition,211101255-E05,POINT (-122.43214039082407 37.78049625961475),39.0',\n",
       " '644,211101245,54,21047417,Medical Incident,04/20/2021,04/20/2021,04/20/2021 11:09:56 AM,04/20/2021 11:09:56 AM,04/20/2021 11:21:32 AM,04/20/2021 11:21:36 AM,04/20/2021 11:31:29 AM,04/20/2021 12:00:32 PM,04/20/2021 12:24:21 PM,Code 2 Transport,04/20/2021 01:03:30 PM,100 Block of JONES ST,San Francisco,94102.0,B03,3.0,1456,1,1,2,True,Non Life-threatening,1,MEDIC,2.0,3,6,Tenderloin,211101245-54,POINT (-122.41224793549443 37.78254740004233),36.0',\n",
       " '645,211101245,SCRT4,21047417,Medical Incident,04/20/2021,04/20/2021,04/20/2021 11:09:56 AM,04/20/2021 11:09:56 AM,04/20/2021 11:10:07 AM,04/20/2021 11:10:07 AM,04/20/2021 11:10:07 AM,,,Code 2 Transport,04/20/2021 02:10:31 PM,100 Block of JONES ST,San Francisco,94102.0,B03,3.0,1456,1,1,2,False,Non Life-threatening,1,SUPPORT,1.0,3,6,Tenderloin,211101245-SCRT4,POINT (-122.41224793549443 37.78254740004233),36.0',\n",
       " '646,211101241,KM04,21047416,Medical Incident,04/20/2021,04/20/2021,04/20/2021 11:07:16 AM,04/20/2021 11:08:14 AM,04/20/2021 11:08:33 AM,04/20/2021 11:09:09 AM,04/20/2021 11:16:22 AM,04/20/2021 11:41:56 AM,04/20/2021 11:47:04 AM,Code 3 Transport,04/20/2021 12:27:44 PM,200 Block of BANKS ST,San Francisco,94110.0,B10,32.0,5727,3,3,3,False,Potentially Life-Threatening,1,PRIVATE,2.0,10,9,Bernal Heights,211101241-KM04,POINT (-122.41278935810855 37.73976647706859),2.0',\n",
       " '647,211101241,E32,21047416,Medical Incident,04/20/2021,04/20/2021,04/20/2021 11:07:16 AM,04/20/2021 11:08:14 AM,04/20/2021 11:08:33 AM,04/20/2021 11:09:46 AM,04/20/2021 11:12:41 AM,,,Code 3 Transport,04/20/2021 11:35:32 AM,200 Block of BANKS ST,San Francisco,94110.0,B10,32.0,5727,3,3,3,True,Potentially Life-Threatening,1,ENGINE,1.0,10,9,Bernal Heights,211101241-E32,POINT (-122.41278935810855 37.73976647706859),2.0',\n",
       " '648,211101232,68,21047415,Medical Incident,04/20/2021,04/20/2021,04/20/2021 11:01:22 AM,04/20/2021 11:05:31 AM,04/20/2021 11:06:13 AM,04/20/2021 11:06:25 AM,04/20/2021 11:23:19 AM,,,SFPD,04/20/2021 12:38:57 PM,3100 Block of CABRILLO ST,San Francisco,94121.0,B07,14.0,7242,2,2,2,True,Non Life-threatening,1,MEDIC,1.0,7,1,Outer Richmond,211101232-68,POINT (-122.49236726248938 37.77412411040332),29.0',\n",
       " '649,211101227,BLS841,21047414,Medical Incident,04/20/2021,04/20/2021,04/20/2021 11:04:48 AM,04/20/2021 11:04:48 AM,04/20/2021 11:04:48 AM,04/20/2021 11:04:48 AM,04/20/2021 11:33:57 AM,,,Other,04/20/2021 12:13:51 PM,1000 Block of BAY ST,San Francisco,94109.0,B01,28.0,3134,2,2,2,False,,1,CHIEF,1.0,1.0,2,Russian Hill,211101227-BLS841,POINT (-122.42428778896335 37.804250387407315),32.0',\n",
       " '650,211101220,AM108,21047413,Medical Incident,04/20/2021,04/20/2021,04/20/2021 10:57:42 AM,04/20/2021 11:00:32 AM,04/20/2021 11:01:01 AM,04/20/2021 11:01:31 AM,04/20/2021 11:25:46 AM,,,No Merit,04/20/2021 11:28:44 AM,0 Block of COLIN P KELLY JR ST,San Francisco,94107.0,B03,8.0,2153,2,2,2,False,Non Life-threatening,1,PRIVATE,1.0,3,6,Financial District/South Beach,211101220-AM108,POINT (-122.3905798509475 37.78179848827307),8.0',\n",
       " '651,211101206,55,21047411,Medical Incident,04/20/2021,04/20/2021,04/20/2021 10:56:15 AM,04/20/2021 10:56:53 AM,04/20/2021 10:58:15 AM,04/20/2021 10:58:24 AM,04/20/2021 11:10:37 AM,,,Unable to Locate,04/20/2021 11:16:04 AM,1100 Block of MARKET ST,San Francisco,94103.0,B02,36.0,2316,2,2,2,True,Non Life-threatening,1,MEDIC,1.0,2,6,South of Market,211101206-55,POINT (-122.4135425486807 37.77953108466294),34.0',\n",
       " '652,211101199,66,21047410,Medical Incident,04/20/2021,04/20/2021,04/20/2021 10:54:09 AM,04/20/2021 10:54:54 AM,04/20/2021 10:55:25 AM,04/20/2021 10:55:31 AM,04/20/2021 11:00:02 AM,04/20/2021 11:16:06 AM,04/20/2021 11:34:47 AM,Code 2 Transport,04/20/2021 12:25:25 PM,1200 Block of MISSION ST,San Francisco,94103.0,B02,36.0,2336,3,3,3,True,Potentially Life-Threatening,1,MEDIC,1.0,2,6,South of Market,211101199-66,POINT (-122.41436013877838 37.776430169375395),34.0',\n",
       " '653,211101199,E36,21047410,Medical Incident,04/20/2021,04/20/2021,04/20/2021 10:54:09 AM,04/20/2021 10:54:54 AM,04/20/2021 10:55:25 AM,,,,,Code 2 Transport,04/20/2021 11:02:34 AM,1200 Block of MISSION ST,San Francisco,94103.0,B02,36.0,2336,3,3,3,True,Potentially Life-Threatening,1,ENGINE,2.0,2,6,South of Market,211101199-E36,POINT (-122.41436013877838 37.776430169375395),34.0',\n",
       " '654,211101197,E01,21047409,Medical Incident,04/20/2021,04/20/2021,04/20/2021 10:51:17 AM,04/20/2021 10:54:23 AM,04/20/2021 10:54:38 AM,04/20/2021 10:54:46 AM,04/20/2021 10:57:28 AM,,,Code 2 Transport,04/20/2021 11:01:00 AM,MARKET ST/5TH ST,San Francisco,94103.0,B03,1.0,1364,3,3,3,True,Non Life-threatening,1,ENGINE,1.0,3,6,South of Market,211101197-E01,POINT (-122.40806654780383 37.78399148576162),34.0',\n",
       " '655,211101197,KM10,21047409,Medical Incident,04/20/2021,04/20/2021,04/20/2021 10:51:17 AM,04/20/2021 10:54:23 AM,04/20/2021 10:54:38 AM,04/20/2021 10:55:01 AM,04/20/2021 11:18:34 AM,04/20/2021 11:18:39 AM,04/20/2021 11:27:56 AM,Code 2 Transport,04/20/2021 11:56:35 AM,MARKET ST/5TH ST,San Francisco,94103.0,B03,1.0,1364,3,3,3,False,Non Life-threatening,1,PRIVATE,2.0,3,6,South of Market,211101197-KM10,POINT (-122.40806654780383 37.78399148576162),34.0',\n",
       " '656,211101183,53,21047408,Medical Incident,04/20/2021,04/20/2021,04/20/2021 10:50:29 AM,04/20/2021 10:50:29 AM,04/20/2021 10:51:10 AM,04/20/2021 10:52:53 AM,04/20/2021 10:58:32 AM,04/20/2021 11:13:23 AM,04/20/2021 11:17:34 AM,Code 2 Transport,04/20/2021 12:19:04 PM,24TH ST/SAN BRUNO AV,San Francisco,94110.0,B10,9.0,2562,A,2,2,True,Non Life-threatening,1,MEDIC,1.0,10,10,Mission,211101183-53,POINT (-122.40436317687384 37.75312141316776),20.0',\n",
       " '657,211101182,AM126,21047407,Medical Incident,04/20/2021,04/20/2021,04/20/2021 10:48:36 AM,04/20/2021 10:50:09 AM,04/20/2021 10:50:46 AM,04/20/2021 10:51:06 AM,04/20/2021 10:53:20 AM,04/20/2021 11:04:05 AM,04/20/2021 11:17:46 AM,Code 2 Transport,04/20/2021 12:00:55 PM,1100 Block of MARKET ST,San Francisco,94103.0,B02,36.0,2316,2,2,2,False,Potentially Life-Threatening,1,PRIVATE,1.0,2,6,South of Market,211101182-AM126,POINT (-122.4135425486807 37.77953108466294),34.0',\n",
       " '658,211101181,QRV2,21047406,Medical Incident,04/20/2021,04/20/2021,04/20/2021 10:50:08 AM,04/20/2021 10:50:08 AM,04/20/2021 10:50:19 AM,04/20/2021 10:50:24 AM,04/20/2021 11:20:12 AM,,,Patient Declined Transport,04/20/2021 11:48:34 AM,TEHAMA ST/6TH ST,San Francisco,94103.0,B03,1.0,2245,B,3,3,True,Potentially Life-Threatening,1,SUPPORT,2.0,3,6,South of Market,211101181-QRV2,POINT (-122.40662820077436 37.779314673821176),34.0',\n",
       " '659,211101181,54,21047406,Medical Incident,04/20/2021,04/20/2021,04/20/2021 10:50:08 AM,04/20/2021 10:50:08 AM,04/20/2021 10:50:19 AM,04/20/2021 10:50:22 AM,04/20/2021 10:55:37 AM,,,Patient Declined Transport,04/20/2021 10:59:37 AM,TEHAMA ST/6TH ST,San Francisco,94103.0,B03,1.0,2245,B,3,3,True,Potentially Life-Threatening,1,MEDIC,1.0,3,6,South of Market,211101181-54,POINT (-122.40662820077436 37.779314673821176),34.0',\n",
       " '660,211101170,E08,21047405,Medical Incident,04/20/2021,04/20/2021,04/20/2021 10:45:02 AM,04/20/2021 10:45:02 AM,04/20/2021 10:45:29 AM,04/20/2021 10:46:07 AM,04/20/2021 10:52:04 AM,,,Code 2 Transport,04/20/2021 11:14:04 AM,800 Block of BRYANT ST,San Francisco,94103.0,B03,8.0,2255,C,3,3,True,Potentially Life-Threatening,1,ENGINE,1.0,3,6,South of Market,211101170-E08,POINT (-122.40340479147868 37.775420706711266),34.0',\n",
       " '661,211101170,50,21047405,Medical Incident,04/20/2021,04/20/2021,04/20/2021 10:45:02 AM,04/20/2021 10:45:02 AM,04/20/2021 10:45:29 AM,04/20/2021 10:45:34 AM,04/20/2021 10:52:54 AM,04/20/2021 11:13:34 AM,04/20/2021 11:31:13 AM,Code 2 Transport,04/20/2021 12:10:12 PM,800 Block of BRYANT ST,San Francisco,94103.0,B03,8.0,2255,C,3,3,True,Potentially Life-Threatening,1,MEDIC,2.0,3,6,South of Market,211101170-50,POINT (-122.40340479147868 37.775420706711266),34.0',\n",
       " '662,211101152,B01,21047404,Alarms,04/20/2021,04/20/2021,04/20/2021 10:37:58 AM,04/20/2021 10:39:29 AM,04/20/2021 10:39:59 AM,04/20/2021 10:40:10 AM,,,,Other,04/20/2021 10:40:52 AM,900 Block of HYDE ST,San Francisco,94109.0,B04,3.0,1561,3,3,3,False,Alarm,1,CHIEF,1.0,4,3,Nob Hill,211101152-B01,POINT (-122.41704249053124 37.78958630900658),21.0',\n",
       " '663,211101151,T14,21047403,Medical Incident,04/20/2021,04/20/2021,04/20/2021 10:36:55 AM,04/20/2021 10:39:17 AM,04/20/2021 10:39:27 AM,04/20/2021 10:40:15 AM,04/20/2021 10:47:28 AM,,,Code 2 Transport,04/20/2021 10:57:45 AM,500 Block of 28TH AVE,San Francisco,94121.0,B07,14.0,7226,3,3,3,False,Non Life-threatening,1,TRUCK,1.0,7,1,Outer Richmond,211101151-T14,POINT (-122.48780634459638 37.778986925620735),29.0',\n",
       " '664,211101151,KM12,21047403,Medical Incident,04/20/2021,04/20/2021,04/20/2021 10:36:55 AM,04/20/2021 10:39:17 AM,04/20/2021 10:39:27 AM,04/20/2021 10:39:55 AM,04/20/2021 10:47:54 AM,04/20/2021 11:10:57 AM,04/20/2021 11:36:19 AM,Code 2 Transport,04/20/2021 12:19:02 PM,500 Block of 28TH AVE,San Francisco,94121.0,B07,14.0,7226,3,3,3,False,Non Life-threatening,1,PRIVATE,2.0,7,1,Outer Richmond,211101151-KM12,POINT (-122.48780634459638 37.778986925620735),29.0',\n",
       " '665,211101144,T03,21047402,Structure Fire,04/20/2021,04/20/2021,04/20/2021 10:37:27 AM,04/20/2021 10:37:27 AM,04/20/2021 10:37:48 AM,04/20/2021 10:38:37 AM,,,,Fire,04/20/2021 10:42:52 AM,HYDE ST/PINE ST,San Francisco,94109.0,B04,41.0,1562,3,3,3,False,Alarm,1,TRUCK,3.0,4,3,Nob Hill,211101144-T03,POINT (-122.41720480095898 37.790045140423985),21.0',\n",
       " '666,211101144,E41,21047402,Structure Fire,04/20/2021,04/20/2021,04/20/2021 10:37:27 AM,04/20/2021 10:37:27 AM,04/20/2021 10:37:48 AM,04/20/2021 10:37:55 AM,04/20/2021 10:41:27 AM,,,Fire,04/20/2021 10:43:50 AM,HYDE ST/PINE ST,San Francisco,94109.0,B04,41.0,1562,3,3,3,False,Alarm,1,ENGINE,1.0,4,3,Nob Hill,211101144-E41,POINT (-122.41720480095898 37.790045140423985),21.0',\n",
       " '667,211101144,B04,21047402,Structure Fire,04/20/2021,04/20/2021,04/20/2021 10:37:27 AM,04/20/2021 10:37:27 AM,04/20/2021 10:37:48 AM,04/20/2021 10:38:54 AM,,,,Fire,04/20/2021 10:43:45 AM,HYDE ST/PINE ST,San Francisco,94109.0,B04,41.0,1562,3,3,3,False,Alarm,1,CHIEF,2.0,4,3,Nob Hill,211101144-B04,POINT (-122.41720480095898 37.790045140423985),21.0',\n",
       " '668,211101130,KM10,21047401,Medical Incident,04/20/2021,04/20/2021,04/20/2021 10:31:18 AM,04/20/2021 10:33:06 AM,04/20/2021 10:33:24 AM,04/20/2021 10:33:48 AM,,,,Cancelled,04/20/2021 10:49:17 AM,1100 Block of MARKET ST,San Francisco,94103.0,B02,36.0,2316,2,2,2,False,Potentially Life-Threatening,1,PRIVATE,1.0,2,6,South of Market,211101130-KM10,POINT (-122.4135425486807 37.77953108466294),34.0',\n",
       " '669,211101113,KM08,21047399,Medical Incident,04/20/2021,04/20/2021,04/20/2021 10:28:43 AM,04/20/2021 10:29:18 AM,04/20/2021 10:29:35 AM,04/20/2021 10:30:14 AM,04/20/2021 10:38:31 AM,04/20/2021 11:00:40 AM,04/20/2021 11:21:45 AM,Code 2 Transport,04/20/2021 11:52:38 AM,2700 Block of ARELIOUS WALKER DR,San Francisco,94124.0,B10,17.0,6611,3,3,3,False,Potentially Life-Threatening,1,PRIVATE,2.0,10.0,10,Bayview Hunters Point,211101113-KM08,POINT (-122.38542680526976 37.718102224279804),1.0',\n",
       " '670,211101113,E17,21047399,Medical Incident,04/20/2021,04/20/2021,04/20/2021 10:28:43 AM,04/20/2021 10:29:18 AM,04/20/2021 10:29:35 AM,04/20/2021 10:30:27 AM,04/20/2021 10:33:15 AM,,,Code 2 Transport,04/20/2021 10:54:31 AM,2700 Block of ARELIOUS WALKER DR,San Francisco,94124.0,B10,17.0,6611,3,3,3,True,Potentially Life-Threatening,1,ENGINE,1.0,10.0,10,Bayview Hunters Point,211101113-E17,POINT (-122.38542680526976 37.718102224279804),1.0',\n",
       " '671,211101103,91,21047397,Medical Incident,04/20/2021,04/20/2021,04/20/2021 10:24:41 AM,04/20/2021 10:27:34 AM,04/20/2021 10:30:56 AM,04/20/2021 10:31:09 AM,04/20/2021 10:43:12 AM,04/20/2021 11:16:37 AM,04/20/2021 11:16:38 AM,Code 2 Transport,04/20/2021 11:54:24 AM,200 Block of BRADFORD ST,San Francisco,94110.0,B10,32.0,5735,2,2,2,True,Non Life-threatening,1,MEDIC,1.0,10.0,9,Bernal Heights,211101103-91,POINT (-122.40960795709861 37.73849744412998),2.0',\n",
       " '672,211101102,77,21047396,Medical Incident,04/20/2021,04/20/2021,04/20/2021 10:26:32 AM,04/20/2021 10:27:34 AM,04/20/2021 10:30:11 AM,04/20/2021 10:30:52 AM,,,,Code 2 Transport,04/20/2021 10:33:30 AM,1400 Block of GATEVIEW CT,Treasure Isla,94130.0,B03,48.0,2931,3,3,3,True,Potentially Life-Threatening,1,MEDIC,4.0,None,6,Treasure Island,211101102-77,POINT (-122.37238922571034 37.828669053932025),37.0',\n",
       " '673,211101102,71,21047396,Medical Incident,04/20/2021,04/20/2021,04/20/2021 10:26:32 AM,04/20/2021 10:27:34 AM,04/20/2021 10:33:03 AM,04/20/2021 10:33:09 AM,04/20/2021 10:44:44 AM,04/20/2021 10:58:27 AM,04/20/2021 11:17:01 AM,Code 2 Transport,04/20/2021 12:10:27 PM,1400 Block of GATEVIEW CT,Treasure Isla,94130.0,B03,48.0,2931,3,3,3,True,Potentially Life-Threatening,1,MEDIC,2.0,None,6,Treasure Island,211101102-71,POINT (-122.37238922571034 37.828669053932025),37.0',\n",
       " '674,211101102,E48,21047396,Medical Incident,04/20/2021,04/20/2021,04/20/2021 10:26:32 AM,04/20/2021 10:27:34 AM,04/20/2021 10:30:11 AM,04/20/2021 10:30:49 AM,04/20/2021 10:32:22 AM,,,Code 2 Transport,04/20/2021 11:02:55 AM,1400 Block of GATEVIEW CT,Treasure Isla,94130.0,B03,48.0,2931,3,3,3,True,Potentially Life-Threatening,1,ENGINE,1.0,None,6,Treasure Island,211101102-E48,POINT (-122.37238922571034 37.828669053932025),37.0',\n",
       " '675,211101102,RA48,21047396,Medical Incident,04/20/2021,04/20/2021,04/20/2021 10:26:32 AM,04/20/2021 10:27:34 AM,04/20/2021 10:30:11 AM,04/20/2021 10:31:50 AM,,,,Code 2 Transport,04/20/2021 11:05:45 AM,1400 Block of GATEVIEW CT,Treasure Isla,94130.0,B03,48.0,2931,3,3,3,False,Potentially Life-Threatening,1,MEDIC,3.0,None,6,Treasure Island,211101102-RA48,POINT (-122.37238922571034 37.828669053932025),37.0',\n",
       " '676,211101099,T06,21047395,Structure Fire,04/20/2021,04/20/2021,04/20/2021 10:26:23 AM,04/20/2021 10:27:20 AM,04/20/2021 10:27:29 AM,04/20/2021 10:28:27 AM,04/20/2021 10:31:05 AM,,,Fire,04/20/2021 10:35:59 AM,1700 Block of MISSION ST,San Francisco,94103.0,B02,36.0,5124,3,3,3,False,Alarm,1,TRUCK,3.0,2,9,Mission,211101099-T06,POINT (-122.42022456088755 37.76957499750096),20.0',\n",
       " '677,211101099,E06,21047395,Structure Fire,04/20/2021,04/20/2021,04/20/2021 10:26:23 AM,04/20/2021 10:27:20 AM,04/20/2021 10:27:29 AM,04/20/2021 10:28:39 AM,04/20/2021 10:32:37 AM,,,Fire,04/20/2021 10:32:38 AM,1700 Block of MISSION ST,San Francisco,94103.0,B02,36.0,5124,3,3,3,True,Alarm,1,ENGINE,4.0,2,9,Mission,211101099-E06,POINT (-122.42022456088755 37.76957499750096),20.0',\n",
       " '678,211101099,E07,21047395,Structure Fire,04/20/2021,04/20/2021,04/20/2021 10:26:23 AM,04/20/2021 10:27:20 AM,04/20/2021 10:27:29 AM,04/20/2021 10:27:33 AM,,,,Fire,04/20/2021 10:33:08 AM,1700 Block of MISSION ST,San Francisco,94103.0,B02,36.0,5124,3,3,3,True,Alarm,1,ENGINE,7.0,2,9,Mission,211101099-E07,POINT (-122.42022456088755 37.76957499750096),20.0',\n",
       " '679,211101099,E36,21047395,Structure Fire,04/20/2021,04/20/2021,04/20/2021 10:26:23 AM,04/20/2021 10:27:20 AM,04/20/2021 10:27:29 AM,04/20/2021 10:29:53 AM,04/20/2021 10:29:53 AM,,,Fire,04/20/2021 10:42:27 AM,1700 Block of MISSION ST,San Francisco,94103.0,B02,36.0,5124,3,3,3,True,Alarm,1,ENGINE,1.0,2,9,Mission,211101099-E36,POINT (-122.42022456088755 37.76957499750096),20.0',\n",
       " '680,211101099,T01,21047395,Structure Fire,04/20/2021,04/20/2021,04/20/2021 10:26:23 AM,04/20/2021 10:27:20 AM,04/20/2021 10:27:29 AM,04/20/2021 10:27:38 AM,,,,Fire,04/20/2021 10:32:11 AM,1700 Block of MISSION ST,San Francisco,94103.0,B02,36.0,5124,3,3,3,False,Alarm,1,TRUCK,8.0,2,9,Mission,211101099-T01,POINT (-122.42022456088755 37.76957499750096),20.0',\n",
       " '681,211101099,B05,21047395,Structure Fire,04/20/2021,04/20/2021,04/20/2021 10:26:23 AM,04/20/2021 10:27:20 AM,04/20/2021 10:27:29 AM,04/20/2021 10:28:32 AM,,,,Fire,04/20/2021 10:33:33 AM,1700 Block of MISSION ST,San Francisco,94103.0,B02,36.0,5124,3,3,3,False,Alarm,1,CHIEF,5.0,2,9,Mission,211101099-B05,POINT (-122.42022456088755 37.76957499750096),20.0',\n",
       " '682,211101099,RS1,21047395,Structure Fire,04/20/2021,04/20/2021,04/20/2021 10:26:23 AM,04/20/2021 10:27:20 AM,04/20/2021 10:27:29 AM,04/20/2021 10:28:50 AM,,,,Fire,04/20/2021 10:31:41 AM,1700 Block of MISSION ST,San Francisco,94103.0,B02,36.0,5124,3,3,3,False,Alarm,1,RESCUE SQUAD,9.0,2,9,Mission,211101099-RS1,POINT (-122.42022456088755 37.76957499750096),20.0',\n",
       " '683,211101099,B02,21047395,Structure Fire,04/20/2021,04/20/2021,04/20/2021 10:26:23 AM,04/20/2021 10:27:20 AM,04/20/2021 10:27:29 AM,04/20/2021 10:27:41 AM,04/20/2021 10:30:20 AM,,,Fire,04/20/2021 10:41:22 AM,1700 Block of MISSION ST,San Francisco,94103.0,B02,36.0,5124,3,3,3,False,Alarm,1,CHIEF,2.0,2,9,Mission,211101099-B02,POINT (-122.42022456088755 37.76957499750096),20.0',\n",
       " '684,211101099,AM110,21047395,Structure Fire,04/20/2021,04/20/2021,04/20/2021 10:26:23 AM,04/20/2021 10:27:20 AM,04/20/2021 10:27:29 AM,,,,,Fire,04/20/2021 10:29:28 AM,1700 Block of MISSION ST,San Francisco,94103.0,B02,36.0,5124,3,3,3,False,Alarm,1,PRIVATE,10.0,2,9,Mission,211101099-AM110,POINT (-122.42022456088755 37.76957499750096),20.0',\n",
       " '685,211101099,70,21047395,Structure Fire,04/20/2021,04/20/2021,04/20/2021 10:26:23 AM,04/20/2021 10:27:20 AM,04/20/2021 10:29:01 AM,04/20/2021 10:29:08 AM,,,,Fire,04/20/2021 10:33:44 AM,1700 Block of MISSION ST,San Francisco,94103.0,B02,36.0,5124,3,3,3,True,Alarm,1,MEDIC,11.0,2,9,Mission,211101099-70,POINT (-122.42022456088755 37.76957499750096),20.0',\n",
       " '686,211101099,D3,21047395,Structure Fire,04/20/2021,04/20/2021,04/20/2021 10:26:23 AM,04/20/2021 10:27:20 AM,04/20/2021 10:27:29 AM,,,,,Fire,04/20/2021 10:33:08 AM,1700 Block of MISSION ST,San Francisco,94103.0,B02,36.0,5124,3,3,3,False,Alarm,1,CHIEF,6.0,2,9,Mission,211101099-D3,POINT (-122.42022456088755 37.76957499750096),20.0',\n",
       " '687,211101081,SCRT2,21047393,Medical Incident,04/20/2021,04/20/2021,04/20/2021 10:22:45 AM,04/20/2021 10:22:45 AM,04/20/2021 10:22:45 AM,04/20/2021 10:22:45 AM,04/20/2021 10:22:45 AM,,,Patient Declined Transport,04/20/2021 11:51:13 AM,3900 Block of 18TH ST,San Francisco,94114.0,B05,6.0,5417,1,1,2,False,Non Life-threatening,1,SUPPORT,1.0,5,8,Castro/Upper Market,211101081-SCRT2,POINT (-122.43168878938225 37.7611431684859),5.0',\n",
       " '688,211101038,91,21047389,Medical Incident,04/20/2021,04/20/2021,04/20/2021 10:11:48 AM,04/20/2021 10:11:48 AM,04/20/2021 10:12:09 AM,04/20/2021 10:12:18 AM,04/20/2021 10:21:51 AM,,,No Merit,04/20/2021 10:26:57 AM,1100 Block of WEBSTER ST,San Francisco,94115.0,B05,5.0,3515,A,2,2,True,Non Life-threatening,1,MEDIC,1.0,5,5,Western Addition,211101038-91,POINT (-122.4306683227811 37.78116283104439),39.0',\n",
       " '689,211101011,T01,21047388,Medical Incident,04/20/2021,04/20/2021,04/20/2021 10:01:39 AM,04/20/2021 10:03:25 AM,04/20/2021 10:04:20 AM,04/20/2021 10:04:48 AM,04/20/2021 10:11:32 AM,,,Fire,04/20/2021 10:16:05 AM,100 Block of SHIPLEY ST,San Francisco,94107.0,B03,1.0,2215,2,2,2,False,Non Life-threatening,1,TRUCK,1.0,3,6,South of Market,211101011-T01,POINT (-122.40167804559756 37.78066916324997),34.0',\n",
       " '690,211100952,81,21047386,Medical Incident,04/20/2021,04/20/2021,04/20/2021 09:49:28 AM,04/20/2021 09:49:28 AM,04/20/2021 09:49:54 AM,04/20/2021 09:50:07 AM,04/20/2021 09:56:14 AM,04/20/2021 10:13:28 AM,04/20/2021 10:34:15 AM,Code 2 Transport,04/20/2021 11:17:50 AM,BUSH ST/PRESIDIO AV,San Francisco,94115.0,B05,10.0,4341,3,3,3,True,Potentially Life-Threatening,1,MEDIC,2.0,5,2,Presidio Heights,211100952-81,POINT (-122.44642170738112 37.78537026372468),31.0',\n",
       " '691,211100952,T10,21047386,Medical Incident,04/20/2021,04/20/2021,04/20/2021 09:49:28 AM,04/20/2021 09:49:28 AM,04/20/2021 09:49:28 AM,04/20/2021 09:49:28 AM,04/20/2021 09:49:28 AM,,,Code 2 Transport,04/20/2021 10:29:53 AM,BUSH ST/PRESIDIO AV,San Francisco,94115.0,B05,10.0,4341,3,3,3,False,Potentially Life-Threatening,1,TRUCK,1.0,5,2,Presidio Heights,211100952-T10,POINT (-122.44642170738112 37.78537026372468),31.0',\n",
       " '692,211100952,E21,21047386,Medical Incident,04/20/2021,04/20/2021,04/20/2021 09:49:28 AM,04/20/2021 09:49:28 AM,04/20/2021 09:49:54 AM,04/20/2021 09:51:44 AM,04/20/2021 09:57:02 AM,,,Code 2 Transport,04/20/2021 10:58:11 AM,BUSH ST/PRESIDIO AV,San Francisco,94115.0,B05,10.0,4341,3,3,3,True,Potentially Life-Threatening,1,ENGINE,3.0,5,2,Presidio Heights,211100952-E21,POINT (-122.44642170738112 37.78537026372468),31.0',\n",
       " '693,211100930,E20,21047385,Electrical Hazard,04/20/2021,04/20/2021,04/20/2021 09:35:29 AM,04/20/2021 09:42:03 AM,04/20/2021 09:42:46 AM,04/20/2021 09:44:35 AM,04/20/2021 09:49:53 AM,,,Fire,04/20/2021 10:14:17 AM,100 Block of IDORA AVE,San Francisco,94127.0,B08,39.0,8644,3,3,3,True,Alarm,1,ENGINE,1.0,8,7,West of Twin Peaks,211100930-E20,POINT (-122.4589908264973 37.7442592527872),41.0',\n",
       " '694,211100923,E03,21047384,Traffic Collision,04/20/2021,04/20/2021,04/20/2021 09:40:12 AM,04/20/2021 09:40:12 AM,04/20/2021 09:40:37 AM,04/20/2021 09:42:37 AM,,,,Cancelled,04/20/2021 09:43:35 AM,SOUTH VAN NESS AV/MARKET ST,San Francisco,94103.0,B02,36.0,3211,3,3,3,True,Potentially Life-Threatening,1,ENGINE,4.0,2,6,Mission,211100923-E03,POINT (-122.41925560721326 37.77514707416244),20.0',\n",
       " '695,211100923,E36,21047384,Traffic Collision,04/20/2021,04/20/2021,04/20/2021 09:40:12 AM,04/20/2021 09:40:12 AM,04/20/2021 09:42:44 AM,04/20/2021 09:42:44 AM,04/20/2021 09:42:44 AM,,,Cancelled,04/20/2021 09:43:18 AM,SOUTH VAN NESS AV/MARKET ST,San Francisco,94103.0,B02,36.0,3211,3,3,3,True,Potentially Life-Threatening,1,ENGINE,2.0,2,6,Mission,211100923-E36,POINT (-122.41925560721326 37.77514707416244),20.0',\n",
       " '696,211100923,BLS841,21047384,Traffic Collision,04/20/2021,04/20/2021,04/20/2021 09:40:12 AM,04/20/2021 09:40:12 AM,04/20/2021 09:41:08 AM,04/20/2021 09:41:08 AM,04/20/2021 09:41:08 AM,,,Cancelled,04/20/2021 09:41:21 AM,SOUTH VAN NESS AV/MARKET ST,San Francisco,94103.0,B02,36.0,3211,3,3,3,False,Potentially Life-Threatening,1,CHIEF,1.0,2,6,Mission,211100923-BLS841,POINT (-122.41925560721326 37.77514707416244),20.0',\n",
       " '697,211100923,81,21047384,Traffic Collision,04/20/2021,04/20/2021,04/20/2021 09:40:12 AM,04/20/2021 09:40:12 AM,04/20/2021 09:40:37 AM,04/20/2021 09:40:40 AM,,,,Cancelled,04/20/2021 09:43:46 AM,SOUTH VAN NESS AV/MARKET ST,San Francisco,94103.0,B02,36.0,3211,3,3,3,True,Potentially Life-Threatening,1,MEDIC,3.0,2,6,Mission,211100923-81,POINT (-122.41925560721326 37.77514707416244),20.0',\n",
       " '698,211100913,T15,21047383,Alarms,04/20/2021,04/20/2021,04/20/2021 09:36:08 AM,04/20/2021 09:37:37 AM,04/20/2021 09:37:44 AM,04/20/2021 09:41:32 AM,,,,Fire,04/20/2021 09:42:42 AM,3900 Block of ALEMANY BLVD,San Francisco,94132.0,B09,33.0,8412,3,3,3,False,Alarm,1,TRUCK,3.0,9,7,Oceanview/Merced/Ingleside,211100913-T15,POINT (-122.46810530461312 37.71096391463969),24.0',\n",
       " '699,211100913,E33,21047383,Alarms,04/20/2021,04/20/2021,04/20/2021 09:36:08 AM,04/20/2021 09:37:37 AM,04/20/2021 09:37:44 AM,04/20/2021 09:39:20 AM,04/20/2021 09:41:44 AM,,,Fire,04/20/2021 09:44:53 AM,3900 Block of ALEMANY BLVD,San Francisco,94132.0,B09,33.0,8412,3,3,3,False,Alarm,1,ENGINE,1.0,9,7,Oceanview/Merced/Ingleside,211100913-E33,POINT (-122.46810530461312 37.71096391463969),24.0',\n",
       " '700,211100913,B09,21047383,Alarms,04/20/2021,04/20/2021,04/20/2021 09:36:08 AM,04/20/2021 09:37:37 AM,04/20/2021 09:37:44 AM,04/20/2021 09:38:57 AM,,,,Fire,04/20/2021 09:42:55 AM,3900 Block of ALEMANY BLVD,San Francisco,94132.0,B09,33.0,8412,3,3,3,False,Alarm,1,CHIEF,2.0,9,7,Oceanview/Merced/Ingleside,211100913-B09,POINT (-122.46810530461312 37.71096391463969),24.0',\n",
       " '701,211100912,T17,21047382,Citizen Assist / Service Call,04/20/2021,04/20/2021,04/20/2021 09:36:21 AM,04/20/2021 09:37:26 AM,04/20/2021 09:38:23 AM,04/20/2021 09:41:06 AM,04/20/2021 09:49:57 AM,,,Fire,04/20/2021 10:22:13 AM,1700 Block of NEWCOMB AVE,San Francisco,94124.0,B10,17.0,6515,2,2,2,False,Alarm,1,TRUCK,1.0,10,10,Bayview Hunters Point,211100912-T17,POINT (-122.39254543260644 37.73686412091329),1.0',\n",
       " '702,211100907,E36,21047381,Medical Incident,04/20/2021,04/20/2021,04/20/2021 09:36:25 AM,04/20/2021 09:36:25 AM,04/20/2021 09:36:43 AM,04/20/2021 09:38:18 AM,,,,No Merit,04/20/2021 09:41:29 AM,700 Block of NATOMA ST,San Francisco,94103.0,B02,1.0,2318,B,3,3,True,Non Life-threatening,1,ENGINE,3.0,2,6,South of Market,211100907-E36,POINT (-122.4128894154611 37.77600992107871),34.0',\n",
       " '703,211100907,E01,21047381,Medical Incident,04/20/2021,04/20/2021,04/20/2021 09:36:25 AM,04/20/2021 09:36:25 AM,04/20/2021 09:36:43 AM,04/20/2021 09:37:08 AM,04/20/2021 09:41:22 AM,,,No Merit,04/20/2021 09:42:54 AM,700 Block of NATOMA ST,San Francisco,94103.0,B02,1.0,2318,B,3,3,True,Non Life-threatening,1,ENGINE,1.0,2,6,South of Market,211100907-E01,POINT (-122.4128894154611 37.77600992107871),34.0',\n",
       " '704,211100907,71,21047381,Medical Incident,04/20/2021,04/20/2021,04/20/2021 09:36:25 AM,04/20/2021 09:36:25 AM,04/20/2021 09:36:43 AM,04/20/2021 09:36:49 AM,04/20/2021 09:41:52 AM,,,No Merit,04/20/2021 09:44:13 AM,700 Block of NATOMA ST,San Francisco,94103.0,B02,1.0,2318,B,3,3,True,Non Life-threatening,1,MEDIC,2.0,2,6,South of Market,211100907-71,POINT (-122.4128894154611 37.77600992107871),34.0',\n",
       " '705,211100874,QRV2,21047380,Medical Incident,04/20/2021,04/20/2021,04/20/2021 09:28:22 AM,04/20/2021 09:28:22 AM,04/20/2021 09:28:47 AM,04/20/2021 09:28:54 AM,04/20/2021 09:34:48 AM,,,Code 2 Transport,04/20/2021 10:06:32 AM,0 Block of 9TH ST,San Francisco,94103.0,B02,36.0,2337,B,3,3,True,Potentially Life-Threatening,1,SUPPORT,1.0,2,6,South of Market,211100874-QRV2,POINT (-122.41496668570053 37.77651281546094),34.0',\n",
       " '706,211100874,54,21047380,Medical Incident,04/20/2021,04/20/2021,04/20/2021 09:28:22 AM,04/20/2021 09:28:22 AM,04/20/2021 09:28:47 AM,04/20/2021 09:28:51 AM,04/20/2021 09:42:28 AM,04/20/2021 09:56:09 AM,04/20/2021 10:04:49 AM,Code 2 Transport,04/20/2021 10:46:22 AM,0 Block of 9TH ST,San Francisco,94103.0,B02,36.0,2337,B,3,3,True,Potentially Life-Threatening,1,MEDIC,2.0,2,6,South of Market,211100874-54,POINT (-122.41496668570053 37.77651281546094),34.0',\n",
       " '707,211100850,RC3,21047379,Medical Incident,04/20/2021,04/20/2021,04/20/2021 09:19:11 AM,04/20/2021 09:19:43 AM,04/20/2021 09:20:10 AM,,,,,Medical Examiner,04/20/2021 09:21:07 AM,500 Block of BAY ST,San Francisco,94133.0,B01,28.0,1425,3,E,3,True,Potentially Life-Threatening,1,RESCUE CAPTAIN,5.0,1,3,North Beach,211100850-RC3,POINT (-122.4160538318584 37.80526026245022),23.0',\n",
       " '708,211100850,RC1,21047379,Medical Incident,04/20/2021,04/20/2021,04/20/2021 09:19:11 AM,04/20/2021 09:19:43 AM,04/20/2021 09:20:56 AM,04/20/2021 09:20:56 AM,04/20/2021 09:29:29 AM,,,Medical Examiner,04/20/2021 09:40:36 AM,500 Block of BAY ST,San Francisco,94133.0,B01,28.0,1425,3,E,3,True,Potentially Life-Threatening,1,RESCUE CAPTAIN,3.0,1,3,North Beach,211100850-RC1,POINT (-122.4160538318584 37.80526026245022),23.0',\n",
       " '709,211100850,E28,21047379,Medical Incident,04/20/2021,04/20/2021,04/20/2021 09:19:11 AM,04/20/2021 09:19:43 AM,04/20/2021 09:20:10 AM,04/20/2021 09:21:36 AM,04/20/2021 09:23:47 AM,,,Medical Examiner,04/20/2021 09:43:44 AM,500 Block of BAY ST,San Francisco,94133.0,B01,28.0,1425,3,E,3,False,Potentially Life-Threatening,1,ENGINE,1.0,1,3,North Beach,211100850-E28,POINT (-122.4160538318584 37.80526026245022),23.0',\n",
       " '710,211100850,E13,21047379,Medical Incident,04/20/2021,04/20/2021,04/20/2021 09:19:11 AM,04/20/2021 09:19:43 AM,04/20/2021 09:20:10 AM,04/20/2021 09:21:32 AM,,,,Medical Examiner,04/20/2021 09:36:31 AM,500 Block of BAY ST,San Francisco,94133.0,B01,28.0,1425,3,E,3,True,Potentially Life-Threatening,1,ENGINE,4.0,1,3,North Beach,211100850-E13,POINT (-122.4160538318584 37.80526026245022),23.0',\n",
       " '711,211100850,AM108,21047379,Medical Incident,04/20/2021,04/20/2021,04/20/2021 09:19:11 AM,04/20/2021 09:19:43 AM,04/20/2021 09:20:10 AM,04/20/2021 09:20:57 AM,04/20/2021 09:25:54 AM,,,Medical Examiner,04/20/2021 10:23:14 AM,500 Block of BAY ST,San Francisco,94133.0,B01,28.0,1425,3,E,3,False,Potentially Life-Threatening,1,PRIVATE,2.0,1,3,North Beach,211100850-AM108,POINT (-122.4160538318584 37.80526026245022),23.0',\n",
       " '712,211100845,77,21047378,Medical Incident,04/20/2021,04/20/2021,04/20/2021 09:17:56 AM,04/20/2021 09:17:56 AM,04/20/2021 09:18:40 AM,04/20/2021 09:19:01 AM,04/20/2021 09:38:35 AM,,,Patient Declined Transport,04/20/2021 10:29:46 AM,0 Block of NORTHRIDGE RD,San Francisco,94124.0,B10,17.0,6633,A,2,2,True,Non Life-threatening,1,MEDIC,1.0,10,10,Bayview Hunters Point,211100845-77,POINT (-122.37551296863445 37.730806609582274),1.0',\n",
       " '713,211100843,E32,21047377,Electrical Hazard,04/20/2021,04/20/2021,04/20/2021 09:16:25 AM,04/20/2021 09:17:29 AM,04/20/2021 09:17:49 AM,04/20/2021 09:19:43 AM,04/20/2021 09:21:06 AM,,,Fire,04/20/2021 09:28:46 AM,300 Block of BLK PROSPECT AV,San Francisco,94110.0,B06,32.0,5653,3,3,3,True,Alarm,1,ENGINE,1.0,6.0,9,Bernal Heights,211100843-E32,POINT (-122.42021694198019 37.74121046701073),2.0',\n",
       " '714,211100828,67,21047376,Medical Incident,04/20/2021,04/20/2021,04/20/2021 09:12:11 AM,04/20/2021 09:12:34 AM,04/20/2021 09:13:10 AM,04/20/2021 09:13:47 AM,04/20/2021 09:14:03 AM,04/20/2021 09:48:43 AM,04/20/2021 10:02:26 AM,Code 2 Transport,04/20/2021 10:53:07 AM,1100 Block of MCALLISTER ST,San Francisco,94117.0,B02,5.0,3425,3,3,3,True,Potentially Life-Threatening,1,MEDIC,1.0,5,5,Western Addition,211100828-67,POINT (-122.43046347021439 37.77874220737089),39.0',\n",
       " '715,211100828,E05,21047376,Medical Incident,04/20/2021,04/20/2021,04/20/2021 09:12:11 AM,04/20/2021 09:12:34 AM,04/20/2021 09:13:10 AM,04/20/2021 09:14:02 AM,04/20/2021 09:17:03 AM,,,Code 2 Transport,04/20/2021 09:31:12 AM,1100 Block of MCALLISTER ST,San Francisco,94117.0,B02,5.0,3425,3,3,3,True,Potentially Life-Threatening,1,ENGINE,2.0,5,5,Western Addition,211100828-E05,POINT (-122.43046347021439 37.77874220737089),39.0',\n",
       " '716,211100828,EMS6D,21047376,Medical Incident,04/20/2021,04/20/2021,04/20/2021 09:12:11 AM,04/20/2021 09:12:34 AM,04/20/2021 09:17:37 AM,04/20/2021 09:17:37 AM,04/20/2021 09:41:57 AM,,,Code 2 Transport,04/20/2021 10:44:51 AM,1100 Block of MCALLISTER ST,San Francisco,94117.0,B02,5.0,3425,3,3,3,False,Potentially Life-Threatening,1,CHIEF,3.0,5,5,Western Addition,211100828-EMS6D,POINT (-122.43046347021439 37.77874220737089),39.0',\n",
       " '717,211100824,B02,21047375,Alarms,04/20/2021,04/20/2021,04/20/2021 09:09:30 AM,04/20/2021 09:11:27 AM,04/20/2021 09:11:59 AM,04/20/2021 09:13:04 AM,04/20/2021 09:15:38 AM,,,Fire,04/20/2021 09:17:47 AM,1500 Block of MISSION ST,San Francisco,94103.0,B02,36.0,5116,3,3,3,False,Alarm,1,CHIEF,2.0,2.0,6,Mission,211100824-B02,POINT (-122.41791119185521 37.773724352913874),20.0',\n",
       " '718,211100824,E36,21047375,Alarms,04/20/2021,04/20/2021,04/20/2021 09:09:30 AM,04/20/2021 09:11:27 AM,04/20/2021 09:11:59 AM,04/20/2021 09:13:21 AM,04/20/2021 09:15:30 AM,,,Fire,04/20/2021 09:20:31 AM,1500 Block of MISSION ST,San Francisco,94103.0,B02,36.0,5116,3,3,3,True,Alarm,1,ENGINE,1.0,2.0,6,Mission,211100824-E36,POINT (-122.41791119185521 37.773724352913874),20.0',\n",
       " '719,211100824,T06,21047375,Alarms,04/20/2021,04/20/2021,04/20/2021 09:09:30 AM,04/20/2021 09:11:27 AM,04/20/2021 09:11:59 AM,04/20/2021 09:12:49 AM,,,,Fire,04/20/2021 09:17:44 AM,1500 Block of MISSION ST,San Francisco,94103.0,B02,36.0,5116,3,3,3,False,Alarm,1,TRUCK,3.0,2.0,6,Mission,211100824-T06,POINT (-122.41791119185521 37.773724352913874),20.0',\n",
       " '720,211100805,93,21047374,Medical Incident,04/20/2021,04/20/2021,04/20/2021 09:05:10 AM,04/20/2021 09:05:32 AM,04/20/2021 09:05:42 AM,04/20/2021 09:07:11 AM,04/20/2021 09:16:26 AM,04/20/2021 09:38:31 AM,04/20/2021 09:44:22 AM,Code 3 Transport,04/20/2021 10:45:35 AM,800 Block of FAIRFAX AV,San Francisco,94124.0,B10,25.0,6556,3,3,3,True,Non Life-threatening,1,MEDIC,2.0,10.0,10,Bayview Hunters Point,211100805-93,POINT (-122.37976730136938 37.73528079529286),1.0',\n",
       " '721,211100805,E25,21047374,Medical Incident,04/20/2021,04/20/2021,04/20/2021 09:05:10 AM,04/20/2021 09:05:32 AM,04/20/2021 09:05:42 AM,04/20/2021 09:06:25 AM,04/20/2021 09:10:19 AM,,,Code 3 Transport,04/20/2021 10:00:33 AM,800 Block of FAIRFAX AV,San Francisco,94124.0,B10,25.0,6556,3,3,3,False,Non Life-threatening,1,ENGINE,1.0,10.0,10,Bayview Hunters Point,211100805-E25,POINT (-122.37976730136938 37.73528079529286),1.0',\n",
       " '722,211100802,83,21047373,Medical Incident,04/20/2021,04/20/2021,04/20/2021 09:03:00 AM,04/20/2021 09:04:54 AM,04/20/2021 09:06:31 AM,04/20/2021 09:06:37 AM,04/20/2021 09:16:38 AM,04/20/2021 09:46:07 AM,04/20/2021 09:48:24 AM,Code 2 Transport,04/20/2021 11:00:55 AM,900 Block of POTRERO AVE,San Francisco,94110.0,B10,7.0,2553,3,3,3,True,Potentially Life-Threatening,1,MEDIC,1.0,10,10,Potrero Hill,211100802-83,POINT (-122.40661980269374 37.7573076100178),20.0',\n",
       " '723,211100795,E17,21047371,Other,04/20/2021,04/20/2021,04/20/2021 09:00:50 AM,04/20/2021 09:03:02 AM,04/20/2021 09:04:18 AM,04/20/2021 09:06:10 AM,04/20/2021 09:27:43 AM,,,Fire,04/20/2021 09:59:16 AM,2000 Block of SILVER AVE,San Francisco,94124.0,B10,42.0,6454,3,3,3,True,Fire,1,ENGINE,1.0,10,10,Bayview Hunters Point,211100795-E17,POINT (-122.39949202132844 37.73605414129204),1.0',\n",
       " '724,211100786,KM12,21047370,Medical Incident,04/20/2021,04/20/2021,04/20/2021 08:58:07 AM,04/20/2021 09:00:56 AM,04/20/2021 09:01:43 AM,04/20/2021 09:02:07 AM,04/20/2021 09:09:29 AM,04/20/2021 09:35:20 AM,04/20/2021 10:00:00 AM,Code 2 Transport,04/20/2021 10:34:36 AM,400 Block of 29TH ST,San Francisco,94131.0,B06,11.0,5564,2,2,2,False,Non Life-threatening,1,PRIVATE,1.0,6.0,8,Noe Valley,211100786-KM12,POINT (-122.42999151378609 37.74349804607527),22.0',\n",
       " '725,211100783,54,21047369,Medical Incident,04/20/2021,04/20/2021,04/20/2021 09:00:00 AM,04/20/2021 09:00:00 AM,04/20/2021 09:00:19 AM,04/20/2021 09:00:23 AM,04/20/2021 09:19:56 AM,,,Cancelled,04/20/2021 09:20:05 AM,1000 Block of HARRISON ST,San Francisco,94103.0,B03,1.0,2254,B,2,2,True,Non Life-threatening,1,MEDIC,1.0,3,6,South of Market,211100783-54,POINT (-122.40438896459455 37.77709839625076),34.0',\n",
       " '726,211100770,74,21047368,Medical Incident,04/20/2021,04/20/2021,04/20/2021 08:55:41 AM,04/20/2021 08:56:56 AM,04/20/2021 08:57:12 AM,04/20/2021 08:57:22 AM,04/20/2021 09:06:29 AM,04/20/2021 09:36:55 AM,04/20/2021 10:07:51 AM,Code 2 Transport,04/20/2021 10:39:14 AM,2700 Block of 39TH AV,San Francisco,94116.0,B08,18.0,7616,3,3,3,True,Potentially Life-Threatening,1,MEDIC,2.0,8.0,4,Sunset/Parkside,211100770-74,POINT (-122.49666011086342 37.73558814165226),35.0',\n",
       " '727,211100770,T18,21047368,Medical Incident,04/20/2021,04/20/2021,04/20/2021 08:55:41 AM,04/20/2021 08:56:56 AM,04/20/2021 08:57:12 AM,04/20/2021 08:59:51 AM,04/20/2021 09:02:57 AM,,,Code 2 Transport,04/20/2021 09:19:46 AM,2700 Block of 39TH AV,San Francisco,94116.0,B08,18.0,7616,3,3,3,False,Potentially Life-Threatening,1,TRUCK,1.0,8.0,4,Sunset/Parkside,211100770-T18,POINT (-122.49666011086342 37.73558814165226),35.0',\n",
       " '728,211100746,91,21047365,Medical Incident,04/20/2021,04/20/2021,04/20/2021 08:52:10 AM,04/20/2021 08:52:10 AM,04/20/2021 08:52:40 AM,04/20/2021 08:52:45 AM,04/20/2021 09:00:29 AM,04/20/2021 09:09:17 AM,04/20/2021 09:20:46 AM,Code 2 Transport,04/20/2021 09:51:46 AM,GOUGH ST/FULTON ST,San Francisco,94102.0,B02,36.0,3264,A,3,3,True,Potentially Life-Threatening,1,MEDIC,2.0,2,5,Hayes Valley,211100746-91,POINT (-122.4233540246383 37.77874737025861),9.0',\n",
       " '729,211100746,E36,21047365,Medical Incident,04/20/2021,04/20/2021,04/20/2021 08:52:10 AM,04/20/2021 08:52:10 AM,04/20/2021 08:52:40 AM,04/20/2021 08:53:53 AM,04/20/2021 08:57:36 AM,,,Code 2 Transport,04/20/2021 09:04:44 AM,GOUGH ST/FULTON ST,San Francisco,94102.0,B02,36.0,3264,A,3,3,True,Potentially Life-Threatening,1,ENGINE,1.0,2,5,Hayes Valley,211100746-E36,POINT (-122.4233540246383 37.77874737025861),9.0',\n",
       " '730,211100738,E42,21047363,Outside Fire,04/20/2021,04/20/2021,04/20/2021 08:49:19 AM,04/20/2021 08:50:28 AM,04/20/2021 08:50:49 AM,04/20/2021 08:52:16 AM,04/20/2021 08:54:50 AM,,,Fire,04/20/2021 09:44:09 AM,0 Block of CONKLING ST,San Francisco,94124.0,B10,42.0,6363,3,3,3,True,Fire,1,ENGINE,1.0,10,10,Bayview Hunters Point,211100738-E42,POINT (-122.4019666400387 37.73559703343303),1.0',\n",
       " '731,211100735,T10,21047362,Citizen Assist / Service Call,04/20/2021,04/20/2021,04/20/2021 08:47:11 AM,04/20/2021 08:49:32 AM,04/20/2021 08:50:11 AM,04/20/2021 08:52:24 AM,04/20/2021 08:54:33 AM,,,Fire,04/20/2021 09:07:14 AM,2600 Block of GEARY BLVD,San Francisco,94115.0,B05,10.0,4365,2,3,3,False,Alarm,1,TRUCK,1.0,5,2,Lone Mountain/USF,211100735-T10,POINT (-122.44659248149773 37.782248367916),18.0',\n",
       " '732,211100734,56,21047361,Medical Incident,04/20/2021,04/20/2021,04/20/2021 08:45:19 AM,04/20/2021 08:49:19 AM,04/20/2021 08:49:29 AM,04/20/2021 08:49:34 AM,04/20/2021 08:55:50 AM,04/20/2021 09:14:34 AM,04/20/2021 09:46:49 AM,Code 2 Transport,04/20/2021 10:11:17 AM,0 Block of FARRAGUT AVE,San Francisco,94112.0,B09,33.0,6212,3,2,2,True,Non Life-threatening,1,MEDIC,2.0,9,11,Outer Mission,211100734-56,POINT (-122.45050509890825 37.71082467863592),28.0',\n",
       " '733,211100734,E33,21047361,Medical Incident,04/20/2021,04/20/2021,04/20/2021 08:45:19 AM,04/20/2021 08:49:19 AM,04/20/2021 08:49:29 AM,04/20/2021 08:51:36 AM,04/20/2021 08:53:34 AM,,,Code 2 Transport,04/20/2021 09:05:34 AM,0 Block of FARRAGUT AVE,San Francisco,94112.0,B09,33.0,6212,3,2,2,False,Non Life-threatening,1,ENGINE,1.0,9,11,Outer Mission,211100734-E33,POINT (-122.45050509890825 37.71082467863592),28.0',\n",
       " '734,211100730,68,21047360,Medical Incident,04/20/2021,04/20/2021,04/20/2021 08:43:08 AM,04/20/2021 08:48:14 AM,04/20/2021 08:48:41 AM,04/20/2021 08:48:50 AM,04/20/2021 09:08:43 AM,04/20/2021 09:16:43 AM,04/20/2021 09:33:13 AM,Code 2 Transport,04/20/2021 10:03:16 AM,1000 Block of GIRARD RD,Presidio,94129.0,B99,51.0,4612,2,2,2,True,Non Life-threatening,1,MEDIC,1.0,7,2,Presidio,211100730-68,POINT (-122.4534982443579 37.80132512945461),27.0',\n",
       " '735,211100715,E25,21047359,Outside Fire,04/20/2021,04/20/2021,04/20/2021 08:41:41 AM,04/20/2021 08:42:52 AM,04/20/2021 08:42:58 AM,04/20/2021 08:44:19 AM,04/20/2021 08:47:08 AM,,,Fire,04/20/2021 08:51:59 AM,1100 Block of ILLINOIS ST,San Francisco,94107.0,B10,25.0,2533,3,3,3,False,Fire,1,ENGINE,1.0,10.0,10,Potrero Hill,211100715-E25,POINT (-122.3871301999171 37.756111955910754),26.0',\n",
       " '736,211100697,T15,21047357,Citizen Assist / Service Call,04/20/2021,04/20/2021,04/20/2021 08:35:33 AM,04/20/2021 08:38:44 AM,04/20/2021 08:38:52 AM,04/20/2021 08:40:42 AM,04/20/2021 08:46:59 AM,,,Fire,04/20/2021 09:17:47 AM,100 Block of JOSIAH AVE,San Francisco,94112.0,B09,15.0,8323,2,2,2,False,Alarm,1,TRUCK,1.0,9,11,Oceanview/Merced/Ingleside,211100697-T15,POINT (-122.45382323876251 37.717352744607986),24.0',\n",
       " '737,211100689,E12,21047355,Structure Fire,04/20/2021,04/20/2021,04/20/2021 08:35:37 AM,04/20/2021 08:35:37 AM,04/20/2021 08:35:44 AM,04/20/2021 08:37:22 AM,04/20/2021 08:39:36 AM,,,Fire,04/20/2021 08:40:34 AM,5TH AV/LINCOLN WY,San Francisco,94122.0,B08,12.0,7325,3,3,3,True,Alarm,1,ENGINE,1.0,7,5,Inner Sunset,211100689-E12,POINT (-122.46216211962505 37.766109923188345),14.0',\n",
       " '738,211100689,T12,21047355,Structure Fire,04/20/2021,04/20/2021,04/20/2021 08:35:37 AM,04/20/2021 08:35:37 AM,04/20/2021 08:35:44 AM,04/20/2021 08:37:05 AM,,,,Fire,04/20/2021 08:40:28 AM,5TH AV/LINCOLN WY,San Francisco,94122.0,B08,12.0,7325,3,3,3,False,Alarm,1,TRUCK,2.0,7,5,Inner Sunset,211100689-T12,POINT (-122.46216211962505 37.766109923188345),14.0',\n",
       " '739,211100676,BLS841,21047354,Medical Incident,04/20/2021,04/20/2021,04/20/2021 08:32:10 AM,04/20/2021 08:32:10 AM,04/20/2021 08:32:10 AM,04/20/2021 08:32:10 AM,04/20/2021 09:16:04 AM,,,Other,04/20/2021 10:20:43 AM,0 Block of GROVE ST,San Francisco,94102.0,B02,36.0,1552,2,2,2,False,,1,CHIEF,1.0,2,6,Tenderloin,211100676-BLS841,POINT (-122.4173930413141 37.77853962309828),36.0',\n",
       " '740,211100669,B01,21047353,Alarms,04/20/2021,04/20/2021,04/20/2021 08:28:08 AM,04/20/2021 08:30:20 AM,04/20/2021 08:30:27 AM,04/20/2021 08:30:58 AM,04/20/2021 08:35:38 AM,,,Fire,04/20/2021 08:38:19 AM,100 Block of MASON ST,San Francisco,94102.0,B03,1.0,1364,3,3,3,False,Alarm,1,CHIEF,3.0,3,3,Tenderloin,211100669-B01,POINT (-122.40933501548189 37.78482477660548),36.0',\n",
       " '741,211100669,E01,21047353,Alarms,04/20/2021,04/20/2021,04/20/2021 08:28:08 AM,04/20/2021 08:30:20 AM,04/20/2021 08:30:27 AM,04/20/2021 08:32:06 AM,04/20/2021 08:34:46 AM,,,Fire,04/20/2021 08:41:36 AM,100 Block of MASON ST,San Francisco,94102.0,B03,1.0,1364,3,3,3,True,Alarm,1,ENGINE,1.0,3,3,Tenderloin,211100669-E01,POINT (-122.40933501548189 37.78482477660548),36.0',\n",
       " '742,211100669,T01,21047353,Alarms,04/20/2021,04/20/2021,04/20/2021 08:28:08 AM,04/20/2021 08:30:20 AM,04/20/2021 08:30:27 AM,04/20/2021 08:32:01 AM,04/20/2021 08:35:22 AM,,,Fire,04/20/2021 08:43:38 AM,100 Block of MASON ST,San Francisco,94102.0,B03,1.0,1364,3,3,3,False,Alarm,1,TRUCK,2.0,3,3,Tenderloin,211100669-T01,POINT (-122.40933501548189 37.78482477660548),36.0',\n",
       " '743,211100655,70,21047352,Medical Incident,04/20/2021,04/20/2021,04/20/2021 08:25:50 AM,04/20/2021 08:26:55 AM,04/20/2021 08:27:00 AM,04/20/2021 08:27:07 AM,04/20/2021 08:33:52 AM,,,Patient Declined Transport,04/20/2021 09:29:42 AM,200 Block of SAN ANSELMO AV,San Francisco,94127.0,B09,39.0,8551,3,3,3,True,Potentially Life-Threatening,1,MEDIC,2.0,9.0,7,West of Twin Peaks,211100655-70,POINT (-122.46526119305743 37.73335945859143),41.0',\n",
       " '744,211100655,E39,21047352,Medical Incident,04/20/2021,04/20/2021,04/20/2021 08:25:50 AM,04/20/2021 08:26:55 AM,04/20/2021 08:27:00 AM,04/20/2021 08:27:58 AM,04/20/2021 08:33:05 AM,,,Patient Declined Transport,04/20/2021 08:40:06 AM,200 Block of SAN ANSELMO AV,San Francisco,94127.0,B09,39.0,8551,3,3,3,True,Potentially Life-Threatening,1,ENGINE,1.0,9.0,7,West of Twin Peaks,211100655-E39,POINT (-122.46526119305743 37.73335945859143),41.0',\n",
       " '745,211100650,QRV2,21047351,Medical Incident,04/20/2021,04/20/2021,04/20/2021 08:25:07 AM,04/20/2021 08:26:29 AM,04/20/2021 08:26:38 AM,04/20/2021 08:26:42 AM,04/20/2021 08:31:40 AM,,,Code 2 Transport,04/20/2021 09:00:25 AM,0 Block of 6TH ST,San Francisco,94103.0,B02,1.0,2248,3,3,3,True,Potentially Life-Threatening,1,SUPPORT,1.0,3,6,South of Market,211100650-QRV2,POINT (-122.40942036455965 37.78161502657878),34.0',\n",
       " '746,211100650,71,21047351,Medical Incident,04/20/2021,04/20/2021,04/20/2021 08:25:07 AM,04/20/2021 08:26:29 AM,04/20/2021 08:26:38 AM,04/20/2021 08:28:04 AM,04/20/2021 08:32:32 AM,04/20/2021 08:44:59 AM,04/20/2021 08:55:58 AM,Code 2 Transport,04/20/2021 09:34:53 AM,0 Block of 6TH ST,San Francisco,94103.0,B02,1.0,2248,3,3,3,True,Potentially Life-Threatening,1,MEDIC,2.0,3,6,South of Market,211100650-71,POINT (-122.40942036455965 37.78161502657878),34.0',\n",
       " '747,211100618,B01,21047350,Alarms,04/20/2021,04/20/2021,04/20/2021 08:14:15 AM,04/20/2021 08:17:13 AM,04/20/2021 08:17:20 AM,04/20/2021 08:18:56 AM,04/20/2021 08:21:41 AM,,,Fire,04/20/2021 08:29:26 AM,400 Block of BAY ST,San Francisco,94133.0,B01,28.0,1425,3,3,3,False,Alarm,1,CHIEF,2.0,1,3,North Beach,211100618-B01,POINT (-122.41441222700931 37.80546354926818),23.0',\n",
       " '748,211100613,E15,21047349,Medical Incident,04/20/2021,04/20/2021,04/20/2021 08:14:21 AM,04/20/2021 08:16:17 AM,04/20/2021 08:16:25 AM,04/20/2021 08:18:33 AM,04/20/2021 08:21:02 AM,,,Code 2 Transport,04/20/2021 08:31:17 AM,300 Block of FLOOD AVE,San Francisco,94112.0,B09,15.0,8231,3,3,3,True,Potentially Life-Threatening,1,ENGINE,1.0,9,7,West of Twin Peaks,211100613-E15,POINT (-122.44771148781096 37.729832478726486),41.0',\n",
       " '749,211100613,53,21047349,Medical Incident,04/20/2021,04/20/2021,04/20/2021 08:14:21 AM,04/20/2021 08:16:17 AM,04/20/2021 08:16:25 AM,04/20/2021 08:16:31 AM,04/20/2021 08:25:32 AM,04/20/2021 09:00:50 AM,04/20/2021 09:22:29 AM,Code 2 Transport,04/20/2021 10:15:02 AM,300 Block of FLOOD AVE,San Francisco,94112.0,B09,15.0,8231,3,3,3,True,Potentially Life-Threatening,1,MEDIC,2.0,9,7,West of Twin Peaks,211100613-53,POINT (-122.44771148781096 37.729832478726486),41.0',\n",
       " '750,211100588,E16,21047348,Medical Incident,04/20/2021,04/20/2021,04/20/2021 08:05:33 AM,04/20/2021 08:06:30 AM,04/20/2021 08:06:44 AM,04/20/2021 08:09:31 AM,04/20/2021 08:11:37 AM,,,Code 3 Transport,04/20/2021 09:25:35 AM,2100 Block of BEACH ST,San Francisco,94123.0,B04,16.0,4213,3,3,3,True,Potentially Life-Threatening,1,ENGINE,1.0,4.0,2,Marina,211100588-E16,POINT (-122.44443644895817 37.80359881557487),13.0',\n",
       " '751,211100588,RC1,21047348,Medical Incident,04/20/2021,04/20/2021,04/20/2021 08:05:33 AM,04/20/2021 08:06:30 AM,04/20/2021 08:10:40 AM,04/20/2021 08:12:01 AM,04/20/2021 08:19:52 AM,,,Code 3 Transport,04/20/2021 09:20:54 AM,2100 Block of BEACH ST,San Francisco,94123.0,B04,16.0,4213,3,3,3,True,Potentially Life-Threatening,1,RESCUE CAPTAIN,3.0,4.0,2,Marina,211100588-RC1,POINT (-122.44443644895817 37.80359881557487),13.0',\n",
       " '752,211100588,KM04,21047348,Medical Incident,04/20/2021,04/20/2021,04/20/2021 08:05:33 AM,04/20/2021 08:06:30 AM,04/20/2021 08:06:44 AM,04/20/2021 08:07:17 AM,04/20/2021 08:15:30 AM,04/20/2021 08:37:57 AM,04/20/2021 08:47:35 AM,Code 3 Transport,04/20/2021 09:21:28 AM,2100 Block of BEACH ST,San Francisco,94123.0,B04,16.0,4213,3,3,3,False,Potentially Life-Threatening,1,PRIVATE,2.0,4.0,2,Marina,211100588-KM04,POINT (-122.44443644895817 37.80359881557487),13.0',\n",
       " '753,211100569,KM12,21047347,Medical Incident,04/20/2021,04/20/2021,04/20/2021 08:00:58 AM,04/20/2021 08:00:58 AM,04/20/2021 08:01:33 AM,04/20/2021 08:02:02 AM,04/20/2021 08:17:26 AM,,,No Merit,04/20/2021 08:26:07 AM,1000 Block of FULTON ST,San Francisco,94117.0,B05,5.0,3626,A,2,2,False,Non Life-threatening,1,PRIVATE,1.0,5,5,Hayes Valley,211100569-KM12,POINT (-122.43403028372896 37.777331285855624),9.0',\n",
       " '754,211100560,RC2,21047346,Medical Incident,04/20/2021,04/19/2021,04/20/2021 07:56:24 AM,04/20/2021 07:57:42 AM,04/20/2021 07:57:50 AM,04/20/2021 07:59:14 AM,04/20/2021 08:06:59 AM,,,Medical Examiner,04/20/2021 08:09:52 AM,1900 Block of 29TH AVE,San Francisco,94116.0,B08,18.0,7516,E,E,3,True,Potentially Life-Threatening,1,RESCUE CAPTAIN,3.0,8,4,Sunset/Parkside,211100560-RC2,POINT (-122.48691900481352 37.750973409845436),35.0',\n",
       " '755,211100560,E18,21047346,Medical Incident,04/20/2021,04/19/2021,04/20/2021 07:56:24 AM,04/20/2021 07:57:42 AM,04/20/2021 07:57:50 AM,04/20/2021 07:59:15 AM,04/20/2021 08:00:43 AM,,,Medical Examiner,04/20/2021 08:09:02 AM,1900 Block of 29TH AVE,San Francisco,94116.0,B08,18.0,7516,E,E,3,True,Potentially Life-Threatening,1,ENGINE,1.0,8,4,Sunset/Parkside,211100560-E18,POINT (-122.48691900481352 37.750973409845436),35.0',\n",
       " '756,211100560,66,21047346,Medical Incident,04/20/2021,04/19/2021,04/20/2021 07:56:24 AM,04/20/2021 07:57:42 AM,04/20/2021 07:57:50 AM,04/20/2021 07:57:54 AM,04/20/2021 08:00:47 AM,,,Medical Examiner,04/20/2021 09:14:20 AM,1900 Block of 29TH AVE,San Francisco,94116.0,B08,18.0,7516,E,E,3,True,Potentially Life-Threatening,1,MEDIC,2.0,8,4,Sunset/Parkside,211100560-66,POINT (-122.48691900481352 37.750973409845436),35.0',\n",
       " '757,211100538,T19,21047345,Alarms,04/20/2021,04/19/2021,04/20/2021 07:46:15 AM,04/20/2021 07:46:38 AM,04/20/2021 07:46:45 AM,04/20/2021 07:49:03 AM,04/20/2021 07:54:12 AM,,,Fire,04/20/2021 08:08:05 AM,0 Block of LENOX WAY,San Francisco,94127.0,B08,39.0,8617,3,3,3,False,Alarm,1,TRUCK,3.0,8,7,West of Twin Peaks,211100538-T19,POINT (-122.46474195804363 37.743017293649665),41.0',\n",
       " '758,211100538,B08,21047345,Alarms,04/20/2021,04/19/2021,04/20/2021 07:46:15 AM,04/20/2021 07:46:38 AM,04/20/2021 07:46:45 AM,04/20/2021 07:47:40 AM,04/20/2021 07:52:29 AM,,,Fire,04/20/2021 08:04:21 AM,0 Block of LENOX WAY,San Francisco,94127.0,B08,39.0,8617,3,3,3,False,Alarm,1,CHIEF,2.0,8,7,West of Twin Peaks,211100538-B08,POINT (-122.46474195804363 37.743017293649665),41.0',\n",
       " '759,211100523,E44,21047344,Outside Fire,04/20/2021,04/19/2021,04/20/2021 07:42:07 AM,04/20/2021 07:42:07 AM,04/20/2021 07:42:15 AM,04/20/2021 07:44:22 AM,04/20/2021 07:49:36 AM,,,Fire,04/20/2021 07:55:17 AM,JAMESTOWN AV/HARNEY WY,San Francisco,94124.0,B10,44.0,6577,B,3,3,True,Fire,1,ENGINE,1.0,10,10,Bayview Hunters Point,211100523-E44,POINT (-122.38645191193528 37.71116107762001),1.0',\n",
       " '760,211100513,E02,21047343,Medical Incident,04/20/2021,04/19/2021,04/20/2021 07:35:58 AM,04/20/2021 07:39:17 AM,04/20/2021 07:39:34 AM,04/20/2021 07:41:41 AM,04/20/2021 07:44:21 AM,,,Code 2 Transport,04/20/2021 08:19:57 AM,900 Block of POWELL ST,San Francisco,94108.0,B01,2.0,1355,3,3,3,True,Non Life-threatening,1,ENGINE,1.0,1,3,Nob Hill,211100513-E02,POINT (-122.40952510355571 37.793401516877275),21.0',\n",
       " '761,211100513,81,21047343,Medical Incident,04/20/2021,04/19/2021,04/20/2021 07:35:58 AM,04/20/2021 07:39:17 AM,04/20/2021 07:39:34 AM,04/20/2021 07:39:39 AM,04/20/2021 07:49:06 AM,04/20/2021 08:24:39 AM,04/20/2021 08:44:16 AM,Code 2 Transport,04/20/2021 09:21:37 AM,900 Block of POWELL ST,San Francisco,94108.0,B01,2.0,1355,3,3,3,True,Non Life-threatening,1,MEDIC,2.0,1,3,Nob Hill,211100513-81,POINT (-122.40952510355571 37.793401516877275),21.0',\n",
       " '762,211100512,93,21047342,Medical Incident,04/20/2021,04/19/2021,04/20/2021 07:39:09 AM,04/20/2021 07:39:09 AM,04/20/2021 07:40:10 AM,04/20/2021 07:40:16 AM,04/20/2021 08:06:42 AM,04/20/2021 08:13:32 AM,04/20/2021 08:31:18 AM,Code 2 Transport,04/20/2021 09:05:20 AM,1000 Block of GEARY ST,San Francisco,94109.0,B04,3.0,3116,B,2,2,True,Non Life-threatening,1,MEDIC,1.0,4,6,Tenderloin,211100512-93,POINT (-122.42055524069097 37.78573509820442),36.0',\n",
       " '763,211100478,AM104,21047341,Medical Incident,04/20/2021,04/19/2021,04/20/2021 07:22:59 AM,04/20/2021 07:25:16 AM,04/20/2021 07:25:30 AM,04/20/2021 07:25:50 AM,04/20/2021 07:41:56 AM,,,No Merit,04/20/2021 07:48:27 AM,THE EMBARCADERO SOU/FOLSOM ST,San Francisco,94105.0,B03,35.0,2112,2,2,2,False,Non Life-threatening,1,PRIVATE,1.0,3.0,6,Financial District/South Beach,211100478-AM104,POINT (-122.39055604598981 37.79047503616466),8.0',\n",
       " '764,211100470,56,21047340,Medical Incident,04/20/2021,04/19/2021,04/20/2021 07:20:02 AM,04/20/2021 07:22:12 AM,04/20/2021 07:22:21 AM,04/20/2021 07:22:42 AM,04/20/2021 07:30:58 AM,04/20/2021 07:42:18 AM,04/20/2021 07:56:09 AM,Code 2 Transport,04/20/2021 08:32:18 AM,400 Block of TURK ST,San Francisco,94102.0,B02,3.0,1554,2,2,2,True,Potentially Life-Threatening,1,MEDIC,1.0,2,6,Tenderloin,211100470-56,POINT (-122.41632744176756 37.78244849821849),36.0',\n",
       " '765,211100458,E07,21047339,Medical Incident,04/20/2021,04/19/2021,04/20/2021 07:13:32 AM,04/20/2021 07:14:20 AM,04/20/2021 07:14:29 AM,04/20/2021 07:15:48 AM,,,,Code 2 Transport,04/20/2021 07:17:29 AM,500 Block of SOUTH VAN NESS AVE,San Francisco,94110.0,B02,7.0,5246,3,2,2,True,Potentially Life-Threatening,1,ENGINE,2.0,2,9,Mission,211100458-E07,POINT (-122.41747849146768 37.76437320966664),20.0',\n",
       " '766,211100458,77,21047339,Medical Incident,04/20/2021,04/19/2021,04/20/2021 07:13:32 AM,04/20/2021 07:14:20 AM,04/20/2021 07:14:29 AM,04/20/2021 07:16:10 AM,04/20/2021 07:26:00 AM,04/20/2021 07:53:08 AM,04/20/2021 08:00:24 AM,Code 2 Transport,04/20/2021 08:50:26 AM,500 Block of SOUTH VAN NESS AVE,San Francisco,94110.0,B02,7.0,5246,3,2,2,True,Potentially Life-Threatening,1,MEDIC,1.0,2,9,Mission,211100458-77,POINT (-122.41747849146768 37.76437320966664),20.0',\n",
       " '767,211100452,91,21047338,Medical Incident,04/20/2021,04/19/2021,04/20/2021 07:12:47 AM,04/20/2021 07:12:47 AM,04/20/2021 07:12:59 AM,04/20/2021 07:13:05 AM,04/20/2021 07:22:06 AM,04/20/2021 07:39:40 AM,04/20/2021 07:45:42 AM,Code 2 Transport,04/20/2021 08:16:12 AM,SACRAMENTO ST/DIVISADERO ST,San Francisco,94115.0,B04,10.0,4161,C,2,2,True,Non Life-threatening,1,MEDIC,1.0,4,2,Pacific Heights,211100452-91,POINT (-122.44062361764918 37.78899525780703),30.0',\n",
       " '768,211100439,E11,21047337,Other,04/20/2021,04/19/2021,04/20/2021 07:07:15 AM,04/20/2021 07:07:15 AM,04/20/2021 07:07:23 AM,04/20/2021 07:08:31 AM,04/20/2021 07:10:17 AM,,,Fire,04/20/2021 07:15:00 AM,300 Block of DUNCAN ST,San Francisco,94131.0,B06,11.0,5562,3,3,3,True,Alarm,1,ENGINE,1.0,6.0,8,Noe Valley,211100439-E11,POINT (-122.42800371785425 37.74602941064936),22.0',\n",
       " '769,211100437,HT48,21047336,Gas Leak (Natural and LP Gases),04/20/2021,04/19/2021,04/20/2021 07:01:47 AM,04/20/2021 07:03:58 AM,04/20/2021 07:04:17 AM,04/20/2021 07:05:43 AM,04/20/2021 07:08:46 AM,,,Fire,04/20/2021 07:16:50 AM,1400 Block of FLOUNDER CT,Treasure Isla,94130.0,B03,48.0,2931,3,3,3,False,Alarm,1,SUPPORT,3.0,None,6,Treasure Island,211100437-HT48,POINT (-122.37468542644062 37.82660420520883),37.0',\n",
       " '770,211100437,E48,21047336,Gas Leak (Natural and LP Gases),04/20/2021,04/19/2021,04/20/2021 07:01:47 AM,04/20/2021 07:03:58 AM,04/20/2021 07:04:17 AM,04/20/2021 07:05:21 AM,04/20/2021 07:07:37 AM,,,Fire,04/20/2021 07:25:38 AM,1400 Block of FLOUNDER CT,Treasure Isla,94130.0,B03,48.0,2931,3,3,3,True,Alarm,1,ENGINE,1.0,None,6,Treasure Island,211100437-E48,POINT (-122.37468542644062 37.82660420520883),37.0',\n",
       " '771,211100437,T48,21047336,Gas Leak (Natural and LP Gases),04/20/2021,04/19/2021,04/20/2021 07:01:47 AM,04/20/2021 07:03:58 AM,04/20/2021 07:04:17 AM,04/20/2021 07:06:22 AM,04/20/2021 07:08:33 AM,,,Fire,04/20/2021 07:17:52 AM,1400 Block of FLOUNDER CT,Treasure Isla,94130.0,B03,48.0,2931,3,3,3,False,Alarm,1,TRUCK,2.0,None,6,Treasure Island,211100437-T48,POINT (-122.37468542644062 37.82660420520883),37.0',\n",
       " '772,211100437,B03,21047336,Gas Leak (Natural and LP Gases),04/20/2021,04/19/2021,04/20/2021 07:01:47 AM,04/20/2021 07:03:58 AM,04/20/2021 07:04:17 AM,04/20/2021 07:06:54 AM,,,,Fire,04/20/2021 07:12:27 AM,1400 Block of FLOUNDER CT,Treasure Isla,94130.0,B03,48.0,2931,3,3,3,False,Alarm,1,CHIEF,4.0,None,6,Treasure Island,211100437-B03,POINT (-122.37468542644062 37.82660420520883),37.0',\n",
       " '773,211100435,83,21047335,Medical Incident,04/20/2021,04/19/2021,04/20/2021 07:00:57 AM,04/20/2021 07:03:04 AM,04/20/2021 07:03:27 AM,04/20/2021 07:03:43 AM,04/20/2021 07:25:01 AM,04/20/2021 07:51:30 AM,04/20/2021 08:02:32 AM,Code 2 Transport,04/20/2021 09:02:20 AM,900 Block of BRYANT ST,San Francisco,94103.0,B03,8.0,2311,2,2,2,True,Non Life-threatening,1,MEDIC,1.0,3.0,6,South of Market,211100435-83,POINT (-122.40501714859896 37.774068672740206),34.0',\n",
       " '774,211100429,83,21047334,Medical Incident,04/20/2021,04/19/2021,04/20/2021 07:01:41 AM,04/20/2021 07:01:41 AM,04/20/2021 07:02:14 AM,,,,,Cancelled,04/20/2021 07:02:39 AM,200 Block of LEAVENWORTH ST,San Francisco,94102.0,B02,3.0,1545,B,3,3,True,Potentially Life-Threatening,1,MEDIC,2.0,2,6,Tenderloin,211100429-83,POINT (-122.41407933670013 37.783267812193756),36.0',\n",
       " '775,211100429,QRV2,21047334,Medical Incident,04/20/2021,04/19/2021,04/20/2021 07:01:41 AM,04/20/2021 07:01:41 AM,04/20/2021 07:02:14 AM,04/20/2021 07:02:26 AM,,,,Cancelled,04/20/2021 07:02:52 AM,200 Block of LEAVENWORTH ST,San Francisco,94102.0,B02,3.0,1545,B,3,3,True,Potentially Life-Threatening,1,SUPPORT,1.0,2,6,Tenderloin,211100429-QRV2,POINT (-122.41407933670013 37.783267812193756),36.0',\n",
       " '776,211100412,74,21047333,Medical Incident,04/20/2021,04/19/2021,04/20/2021 06:54:19 AM,04/20/2021 06:54:48 AM,04/20/2021 06:55:02 AM,04/20/2021 06:55:11 AM,04/20/2021 07:14:28 AM,04/20/2021 07:40:08 AM,04/20/2021 08:09:53 AM,Code 2 Transport,04/20/2021 08:44:19 AM,300 Block of EDDY ST,San Francisco,94102.0,B02,3.0,1545,2,2,2,True,Non Life-threatening,1,MEDIC,1.0,2,6,Tenderloin,211100412-74,POINT (-122.41377551205939 37.783838518002824),36.0',\n",
       " '777,211100405,67,21047332,Medical Incident,04/20/2021,04/19/2021,04/20/2021 06:52:17 AM,04/20/2021 06:52:17 AM,04/20/2021 06:52:57 AM,04/20/2021 06:53:03 AM,04/20/2021 07:08:21 AM,04/20/2021 07:23:27 AM,04/20/2021 07:31:50 AM,Code 2 Transport,04/20/2021 08:13:42 AM,100 Block of DUNCAN ST,San Francisco,94110.0,B06,11.0,5577,B,2,2,True,Non Life-threatening,1,MEDIC,1.0,6.0,8,Noe Valley,211100405-67,POINT (-122.4234567256449 37.746308966987904),22.0',\n",
       " '778,211100404,E07,21047331,Medical Incident,04/20/2021,04/19/2021,04/20/2021 06:48:23 AM,04/20/2021 06:51:56 AM,04/20/2021 06:52:29 AM,04/20/2021 06:54:15 AM,04/20/2021 06:56:40 AM,,,Code 2 Transport,04/20/2021 07:06:11 AM,SOUTH VAN NESS AV/23RD ST,San Francisco,94110.0,B06,7.0,5511,3,2,2,True,Non Life-threatening,1,ENGINE,1.0,6,9,Mission,211100404-E07,POINT (-122.4164134902488 37.75396776970942),20.0',\n",
       " '779,211100404,55,21047331,Medical Incident,04/20/2021,04/19/2021,04/20/2021 06:48:23 AM,04/20/2021 06:51:56 AM,04/20/2021 06:52:29 AM,04/20/2021 06:52:45 AM,04/20/2021 06:58:31 AM,04/20/2021 07:09:17 AM,04/20/2021 07:13:44 AM,Code 2 Transport,04/20/2021 07:44:17 AM,SOUTH VAN NESS AV/23RD ST,San Francisco,94110.0,B06,7.0,5511,3,2,2,True,Non Life-threatening,1,MEDIC,2.0,6,9,Mission,211100404-55,POINT (-122.4164134902488 37.75396776970942),20.0',\n",
       " '780,211100399,70,21047330,Medical Incident,04/20/2021,04/19/2021,04/20/2021 06:47:18 AM,04/20/2021 06:48:20 AM,04/20/2021 06:48:34 AM,04/20/2021 06:48:41 AM,04/20/2021 06:57:02 AM,,,Against Medical Advice,04/20/2021 08:04:00 AM,0 Block of THOMAS MORE WAY,San Francisco,94132.0,B08,33.0,8773,3,3,3,True,Potentially Life-Threatening,1,MEDIC,2.0,8,7,Lakeshore,211100399-70,POINT (-122.47293243797117 37.71226466642372),16.0',\n",
       " '781,211100399,E33,21047330,Medical Incident,04/20/2021,04/19/2021,04/20/2021 06:47:18 AM,04/20/2021 06:48:20 AM,04/20/2021 06:48:34 AM,04/20/2021 06:49:55 AM,04/20/2021 06:52:11 AM,,,Against Medical Advice,04/20/2021 07:15:01 AM,0 Block of THOMAS MORE WAY,San Francisco,94132.0,B08,33.0,8773,3,3,3,False,Potentially Life-Threatening,1,ENGINE,1.0,8,7,Lakeshore,211100399-E33,POINT (-122.47293243797117 37.71226466642372),16.0',\n",
       " '782,211100390,E17,21047329,Outside Fire,04/20/2021,04/19/2021,04/20/2021 06:37:42 AM,04/20/2021 06:39:03 AM,04/20/2021 06:39:31 AM,04/20/2021 06:42:35 AM,,,,Fire,04/20/2021 06:56:25 AM,0 Block of BERTHA LN,San Francisco,94124.0,B10,17.0,6631,3,3,3,True,Fire,1,ENGINE,1.0,10,10,Bayview Hunters Point,211100390-E17,POINT (-122.38099035655091 37.73314350092139),1.0',\n",
       " '783,211100387,54,21047328,Medical Incident,04/20/2021,04/19/2021,04/20/2021 06:32:03 AM,04/20/2021 06:34:58 AM,04/20/2021 06:35:29 AM,04/20/2021 06:35:32 AM,04/20/2021 06:42:44 AM,04/20/2021 07:11:39 AM,04/20/2021 07:21:16 AM,Code 2 Transport,04/20/2021 08:10:18 AM,200 Block of NEY ST,San Francisco,94112.0,B09,32.0,5682,2,2,2,True,Non Life-threatening,1,MEDIC,1.0,9,11,Excelsior,211100387-54,POINT (-122.42443110644271 37.73016473062772),7.0',\n",
       " '784,211100371,E23,21047327,Electrical Hazard,04/20/2021,04/19/2021,04/20/2021 06:22:06 AM,04/20/2021 06:23:03 AM,04/20/2021 06:23:13 AM,04/20/2021 06:25:22 AM,04/20/2021 06:31:40 AM,,,Fire,04/20/2021 06:48:08 AM,2600 Block of 46TH AVE,San Francisco,94116.0,B08,23.0,7711,3,3,3,False,Alarm,1,ENGINE,1.0,8,4,Sunset/Parkside,211100371-E23,POINT (-122.50422441755003 37.73711956004297),35.0',\n",
       " '785,211100363,68,21047326,Medical Incident,04/20/2021,04/19/2021,04/20/2021 06:08:33 AM,04/20/2021 06:10:16 AM,04/20/2021 06:10:27 AM,04/20/2021 06:10:41 AM,04/20/2021 06:19:11 AM,04/20/2021 06:45:45 AM,04/20/2021 06:58:16 AM,Code 2 Transport,04/20/2021 07:45:05 AM,0 Block of NAPLES ST,San Francisco,94112.0,B09,32.0,6143,2,2,2,True,Non Life-threatening,1,MEDIC,1.0,9,11,Excelsior,211100363-68,POINT (-122.42595601627015 37.727905213155466),7.0',\n",
       " '786,211100359,91,21047325,Medical Incident,04/20/2021,04/19/2021,04/20/2021 06:06:59 AM,04/20/2021 06:07:26 AM,04/20/2021 06:07:41 AM,04/20/2021 06:07:51 AM,04/20/2021 06:11:12 AM,04/20/2021 06:22:08 AM,04/20/2021 06:26:26 AM,Code 2 Transport,04/20/2021 07:07:27 AM,300 Block of EDDY ST,San Francisco,94102.0,B02,3.0,1540,3,3,3,True,Potentially Life-Threatening,1,MEDIC,2.0,2,6,Tenderloin,211100359-91,POINT (-122.41293052205874 37.783834437414384),36.0',\n",
       " '787,211100359,QRV2,21047325,Medical Incident,04/20/2021,04/19/2021,04/20/2021 06:06:59 AM,04/20/2021 06:07:26 AM,04/20/2021 06:07:41 AM,04/20/2021 06:08:30 AM,04/20/2021 06:10:48 AM,,,Code 2 Transport,04/20/2021 06:31:34 AM,300 Block of EDDY ST,San Francisco,94102.0,B02,3.0,1540,3,3,3,True,Potentially Life-Threatening,1,SUPPORT,1.0,2,6,Tenderloin,211100359-QRV2,POINT (-122.41293052205874 37.783834437414384),36.0',\n",
       " '788,211100354,71,21047324,Other,04/20/2021,04/19/2021,04/20/2021 06:04:47 AM,04/20/2021 06:04:47 AM,04/20/2021 06:06:12 AM,04/20/2021 06:06:42 AM,04/20/2021 06:19:37 AM,04/20/2021 07:00:00 AM,04/20/2021 07:20:49 AM,Code 2 Transport,04/20/2021 07:53:36 AM,\"NORTHPOINT DR/GATEVIEW AV, TI\",Treasure Isla,94130.0,B03,48.0,2931,B,2,2,True,Non Life-threatening,1,MEDIC,1.0,None,6,Treasure Island,211100354-71,POINT (-122.37492623444506 37.829991574680534),37.0',\n",
       " '789,211100354,RA48,21047324,Other,04/20/2021,04/19/2021,04/20/2021 06:04:47 AM,04/20/2021 06:04:47 AM,04/20/2021 06:06:12 AM,04/20/2021 06:10:35 AM,04/20/2021 06:19:53 AM,,,Code 2 Transport,04/20/2021 06:57:28 AM,\"NORTHPOINT DR/GATEVIEW AV, TI\",Treasure Isla,94130.0,B03,48.0,2931,B,2,2,False,Non Life-threatening,1,MEDIC,2.0,None,6,Treasure Island,211100354-RA48,POINT (-122.37492623444506 37.829991574680534),37.0',\n",
       " '790,211100354,E48,21047324,Other,04/20/2021,04/19/2021,04/20/2021 06:04:47 AM,04/20/2021 06:04:47 AM,04/20/2021 06:06:12 AM,04/20/2021 06:08:06 AM,04/20/2021 06:19:53 AM,,,Code 2 Transport,04/20/2021 06:40:40 AM,\"NORTHPOINT DR/GATEVIEW AV, TI\",Treasure Isla,94130.0,B03,48.0,2931,B,2,2,True,Non Life-threatening,1,ENGINE,3.0,None,6,Treasure Island,211100354-E48,POINT (-122.37492623444506 37.829991574680534),37.0',\n",
       " '791,211100345,E20,21047323,Outside Fire,04/20/2021,04/19/2021,04/20/2021 05:54:10 AM,04/20/2021 05:57:37 AM,04/20/2021 05:58:32 AM,04/20/2021 06:01:25 AM,04/20/2021 06:04:06 AM,,,Fire,04/20/2021 06:18:15 AM,0 Block of LA AVANZADA,San Francisco,94131.0,B08,20.0,5365,3,3,3,True,Fire,1,ENGINE,1.0,8,7,Twin Peaks,211100345-E20,POINT (-122.45228823580078 37.75594932159843),38.0',\n",
       " '792,211100345,T12,21047323,Outside Fire,04/20/2021,04/19/2021,04/20/2021 05:54:10 AM,04/20/2021 05:57:37 AM,04/20/2021 05:58:32 AM,04/20/2021 06:00:47 AM,04/20/2021 06:06:17 AM,,,Fire,04/20/2021 06:18:48 AM,0 Block of LA AVANZADA,San Francisco,94131.0,B08,20.0,5365,3,3,3,False,Fire,1,TRUCK,2.0,8,7,Twin Peaks,211100345-T12,POINT (-122.45228823580078 37.75594932159843),38.0',\n",
       " '793,211100345,B08,21047323,Outside Fire,04/20/2021,04/19/2021,04/20/2021 05:54:10 AM,04/20/2021 05:57:37 AM,04/20/2021 05:58:32 AM,04/20/2021 06:00:04 AM,04/20/2021 06:08:05 AM,,,Fire,04/20/2021 06:18:55 AM,0 Block of LA AVANZADA,San Francisco,94131.0,B08,20.0,5365,3,3,3,False,Fire,1,CHIEF,3.0,8,7,Twin Peaks,211100345-B08,POINT (-122.45228823580078 37.75594932159843),38.0',\n",
       " '794,211100325,T19,21047322,Alarms,04/20/2021,04/19/2021,04/20/2021 05:33:34 AM,04/20/2021 05:35:38 AM,04/20/2021 05:35:51 AM,04/20/2021 05:37:51 AM,04/20/2021 05:41:21 AM,,,Fire,04/20/2021 05:46:24 AM,100 Block of FONT BLVD,San Francisco,94132.0,B08,33.0,8422,3,3,3,False,Alarm,1,TRUCK,2.0,8,7,Lakeshore,211100325-T19,POINT (-122.47362991973824 37.71554505283699),16.0',\n",
       " '795,211100325,B09,21047322,Alarms,04/20/2021,04/19/2021,04/20/2021 05:33:34 AM,04/20/2021 05:35:38 AM,04/20/2021 05:35:51 AM,04/20/2021 05:37:36 AM,04/20/2021 05:43:00 AM,,,Fire,04/20/2021 05:45:45 AM,100 Block of FONT BLVD,San Francisco,94132.0,B08,33.0,8422,3,3,3,False,Alarm,1,CHIEF,3.0,8,7,Lakeshore,211100325-B09,POINT (-122.47362991973824 37.71554505283699),16.0',\n",
       " '796,211100319,E43,21047321,Medical Incident,04/20/2021,04/19/2021,04/20/2021 05:27:02 AM,04/20/2021 05:27:30 AM,04/20/2021 05:28:00 AM,04/20/2021 05:31:00 AM,04/20/2021 05:34:57 AM,,,Code 2 Transport,04/20/2021 05:38:28 AM,SUNNYDALE AV/SAWYER ST,San Francisco,94134.0,B09,44.0,6241,3,3,3,True,,1,ENGINE,1.0,9,10,Visitacion Valley,211100319-E43,POINT (-122.41508054615225 37.7116550358204),40.0',\n",
       " '797,211100319,55,21047321,Medical Incident,04/20/2021,04/19/2021,04/20/2021 05:27:02 AM,04/20/2021 05:27:30 AM,04/20/2021 05:28:00 AM,04/20/2021 05:28:14 AM,04/20/2021 05:35:05 AM,04/20/2021 05:42:35 AM,04/20/2021 05:55:04 AM,Code 2 Transport,04/20/2021 06:30:44 AM,SUNNYDALE AV/SAWYER ST,San Francisco,94134.0,B09,44.0,6241,3,3,3,True,,1,MEDIC,2.0,9,10,Visitacion Valley,211100319-55,POINT (-122.41508054615225 37.7116550358204),40.0',\n",
       " '798,211100315,E38,21047320,Alarms,04/20/2021,04/19/2021,04/20/2021 05:22:18 AM,04/20/2021 05:24:27 AM,04/20/2021 05:24:35 AM,04/20/2021 05:26:16 AM,04/20/2021 05:28:11 AM,,,Fire,04/20/2021 05:46:50 AM,1600 Block of PINE ST,San Francisco,94109.0,B04,38.0,3224,3,3,3,False,Alarm,1,ENGINE,1.0,4,2,Western Addition,211100315-E38,POINT (-122.4229472154455 37.78925336579418),39.0',\n",
       " '799,211100315,B04,21047320,Alarms,04/20/2021,04/19/2021,04/20/2021 05:22:18 AM,04/20/2021 05:24:27 AM,04/20/2021 05:24:35 AM,04/20/2021 05:26:40 AM,04/20/2021 05:28:13 AM,,,Fire,04/20/2021 05:34:32 AM,1600 Block of PINE ST,San Francisco,94109.0,B04,38.0,3224,3,3,3,False,Alarm,1,CHIEF,2.0,4,2,Western Addition,211100315-B04,POINT (-122.4229472154455 37.78925336579418),39.0',\n",
       " '800,211100303,KM12,21047319,Medical Incident,04/20/2021,04/19/2021,04/20/2021 05:05:59 AM,04/20/2021 05:08:19 AM,04/20/2021 05:09:00 AM,04/20/2021 05:09:29 AM,04/20/2021 05:28:40 AM,04/20/2021 06:00:45 AM,04/20/2021 06:20:27 AM,Code 2 Transport,04/20/2021 06:35:13 AM,2000 Block of 17TH AVE,San Francisco,94116.0,B08,40.0,7374,2,2,2,False,Non Life-threatening,1,PRIVATE,1.0,8,7,Inner Sunset,211100303-KM12,POINT (-122.4740795488076 37.74966887502526),14.0',\n",
       " '801,211100302,83,21047318,Medical Incident,04/20/2021,04/19/2021,04/20/2021 05:05:09 AM,04/20/2021 05:08:06 AM,04/20/2021 05:08:21 AM,04/20/2021 05:08:29 AM,04/20/2021 05:34:03 AM,04/20/2021 05:44:45 AM,04/20/2021 05:54:45 AM,Code 2 Transport,04/20/2021 06:57:39 AM,0 Block of ESSEX ST,San Francisco,94105.0,B03,35.0,2136,2,2,2,True,Potentially Life-Threatening,1,MEDIC,1.0,3,6,Financial District/South Beach,211100302-83,POINT (-122.3950772588095 37.78600482662293),8.0',\n",
       " '802,211100294,56,21047317,Medical Incident,04/20/2021,04/19/2021,04/20/2021 04:55:48 AM,04/20/2021 04:57:10 AM,04/20/2021 04:59:04 AM,04/20/2021 04:59:15 AM,04/20/2021 05:04:05 AM,,,Against Medical Advice,04/20/2021 05:44:11 AM,200 Block of GIRARD ST,San Francisco,94134.0,B10,42.0,6341,2,2,2,True,Non Life-threatening,1,MEDIC,1.0,10.0,9,Portola,211100294-56,POINT (-122.4053401002526 37.72917548613278),25.0',\n",
       " '803,211100285,E17,21047316,Medical Incident,04/20/2021,04/19/2021,04/20/2021 04:49:30 AM,04/20/2021 04:50:39 AM,04/20/2021 04:51:28 AM,04/20/2021 04:54:23 AM,04/20/2021 04:59:18 AM,,,Code 2 Transport,04/20/2021 05:03:45 AM,1100 Block of PALOU AVE,San Francisco,94124.0,B10,17.0,6647,3,3,3,True,Non Life-threatening,1,ENGINE,2.0,10,10,Bayview Hunters Point,211100285-E17,POINT (-122.38245758485438 37.72925247653745),1.0',\n",
       " '804,211100285,85,21047316,Medical Incident,04/20/2021,04/19/2021,04/20/2021 04:49:30 AM,04/20/2021 04:50:39 AM,04/20/2021 04:51:28 AM,04/20/2021 04:51:42 AM,04/20/2021 04:56:17 AM,04/20/2021 05:04:01 AM,04/20/2021 05:17:30 AM,Code 2 Transport,04/20/2021 05:50:27 AM,1100 Block of PALOU AVE,San Francisco,94124.0,B10,17.0,6647,3,3,3,True,Non Life-threatening,1,MEDIC,1.0,10,10,Bayview Hunters Point,211100285-85,POINT (-122.38245758485438 37.72925247653745),1.0',\n",
       " '805,211100251,56,21047314,Traffic Collision,04/20/2021,04/19/2021,04/20/2021 04:14:34 AM,04/20/2021 04:14:34 AM,04/20/2021 04:14:51 AM,04/20/2021 04:14:58 AM,,,,Cancelled,04/20/2021 04:19:58 AM,900 Block of BAY SHORE BLVD,San Francisco,94124.0,B10,42.0,6361,A,3,3,True,Non Life-threatening,1,MEDIC,2.0,10,10,Bayview Hunters Point,211100251-56,POINT (-122.40399306664658 37.73181465318581),1.0',\n",
       " '806,211100251,E42,21047314,Traffic Collision,04/20/2021,04/19/2021,04/20/2021 04:14:34 AM,04/20/2021 04:14:34 AM,04/20/2021 04:14:51 AM,04/20/2021 04:17:22 AM,04/20/2021 04:18:18 AM,,,Cancelled,04/20/2021 04:19:58 AM,900 Block of BAY SHORE BLVD,San Francisco,94124.0,B10,42.0,6361,A,3,3,True,Non Life-threatening,1,ENGINE,1.0,10,10,Bayview Hunters Point,211100251-E42,POINT (-122.40399306664658 37.73181465318581),1.0',\n",
       " '807,211100246,61,21047313,Medical Incident,04/20/2021,04/19/2021,04/20/2021 04:06:30 AM,04/20/2021 04:10:46 AM,04/20/2021 04:11:09 AM,04/20/2021 04:11:34 AM,04/20/2021 04:17:33 AM,04/20/2021 04:30:50 AM,04/20/2021 04:38:30 AM,Code 2 Transport,04/20/2021 05:12:29 AM,300 Block of VALENCIA ST,San Francisco,94103.0,B02,6.0,5226,2,2,2,True,Non Life-threatening,1,MEDIC,1.0,2,9,Mission,211100246-61,POINT (-122.42209781733212 37.76781052481845),20.0',\n",
       " '808,211100244,B09,21047312,Alarms,04/20/2021,04/19/2021,04/20/2021 04:08:04 AM,04/20/2021 04:09:44 AM,04/20/2021 04:10:02 AM,04/20/2021 04:12:27 AM,04/20/2021 04:16:37 AM,,,Fire,04/20/2021 04:22:41 AM,100 Block of FONT BLVD,San Francisco,94132.0,B08,33.0,8422,3,3,3,False,Alarm,1,CHIEF,3.0,8,7,Lakeshore,211100244-B09,POINT (-122.47362991973824 37.71554505283699),16.0',\n",
       " '809,211100244,T19,21047312,Alarms,04/20/2021,04/19/2021,04/20/2021 04:08:04 AM,04/20/2021 04:09:44 AM,04/20/2021 04:10:02 AM,04/20/2021 04:12:42 AM,04/20/2021 04:15:42 AM,,,Fire,04/20/2021 04:30:41 AM,100 Block of FONT BLVD,San Francisco,94132.0,B08,33.0,8422,3,3,3,False,Alarm,1,TRUCK,2.0,8,7,Lakeshore,211100244-T19,POINT (-122.47362991973824 37.71554505283699),16.0',\n",
       " '810,211100244,E33,21047312,Alarms,04/20/2021,04/19/2021,04/20/2021 04:08:04 AM,04/20/2021 04:09:44 AM,04/20/2021 04:10:02 AM,04/20/2021 04:11:29 AM,04/20/2021 04:14:17 AM,,,Fire,04/20/2021 04:26:15 AM,100 Block of FONT BLVD,San Francisco,94132.0,B08,33.0,8422,3,3,3,False,Alarm,1,ENGINE,1.0,8,7,Lakeshore,211100244-E33,POINT (-122.47362991973824 37.71554505283699),16.0',\n",
       " '811,211100226,E03,21047311,Medical Incident,04/20/2021,04/19/2021,04/20/2021 03:37:23 AM,04/20/2021 03:39:46 AM,04/20/2021 03:40:02 AM,04/20/2021 03:40:14 AM,04/20/2021 03:42:19 AM,,,Code 2 Transport,04/20/2021 03:48:42 AM,200 Block of STOCKTON ST,San Francisco,94108.0,B01,2.0,1323,3,E,3,True,Potentially Life-Threatening,1,ENGINE,1.0,1,3,Financial District/South Beach,211100226-E03,POINT (-122.40656817786966 37.78780929595636),8.0',\n",
       " '812,211100226,RC1,21047311,Medical Incident,04/20/2021,04/19/2021,04/20/2021 03:37:23 AM,04/20/2021 03:39:46 AM,04/20/2021 03:41:33 AM,04/20/2021 03:44:33 AM,,,,Code 2 Transport,04/20/2021 03:44:40 AM,200 Block of STOCKTON ST,San Francisco,94108.0,B01,2.0,1323,3,E,3,True,Potentially Life-Threatening,1,RESCUE CAPTAIN,3.0,1,3,Financial District/South Beach,211100226-RC1,POINT (-122.40656817786966 37.78780929595636),8.0',\n",
       " '813,211100226,64,21047311,Medical Incident,04/20/2021,04/19/2021,04/20/2021 03:37:23 AM,04/20/2021 03:39:46 AM,04/20/2021 03:40:02 AM,04/20/2021 03:40:11 AM,04/20/2021 03:44:58 AM,04/20/2021 03:51:14 AM,04/20/2021 03:55:56 AM,Code 2 Transport,04/20/2021 04:05:16 AM,200 Block of STOCKTON ST,San Francisco,94108.0,B01,2.0,1323,3,E,3,True,Potentially Life-Threatening,1,MEDIC,2.0,1,3,Financial District/South Beach,211100226-64,POINT (-122.40656817786966 37.78780929595636),8.0',\n",
       " '814,211100222,E40,21047310,Medical Incident,04/20/2021,04/19/2021,04/20/2021 03:33:13 AM,04/20/2021 03:36:57 AM,04/20/2021 03:37:05 AM,04/20/2021 03:38:38 AM,,,,Unable to Locate,04/20/2021 03:42:51 AM,19TH AV/PACHECO ST,San Francisco,94116.0,B08,40.0,7421,3,3,3,False,Potentially Life-Threatening,1,ENGINE,2.0,8,4,Sunset/Parkside,211100222-E40,POINT (-122.47616321304531 37.75051227871236),35.0',\n",
       " '815,211100222,73,21047310,Medical Incident,04/20/2021,04/19/2021,04/20/2021 03:33:13 AM,04/20/2021 03:36:57 AM,04/20/2021 03:37:05 AM,04/20/2021 03:37:09 AM,,,,Unable to Locate,04/20/2021 03:43:03 AM,19TH AV/PACHECO ST,San Francisco,94116.0,B08,40.0,7421,3,3,3,True,Potentially Life-Threatening,1,MEDIC,1.0,8,4,Sunset/Parkside,211100222-73,POINT (-122.47616321304531 37.75051227871236),35.0',\n",
       " '816,211100220,66,21047309,Traffic Collision,04/20/2021,04/19/2021,04/20/2021 03:32:36 AM,04/20/2021 03:32:36 AM,04/20/2021 03:32:46 AM,04/20/2021 03:32:59 AM,04/20/2021 03:38:02 AM,,,Patient Declined Transport,04/20/2021 04:27:37 AM,VAN NESS AV/SUTTER ST,San Francisco,94109.0,B04,3.0,3161,A,3,3,True,Non Life-threatening,1,MEDIC,2.0,4,2,Nob Hill,211100220-66,POINT (-122.42175810446447 37.78754813881772),21.0',\n",
       " '817,211100220,E38,21047309,Traffic Collision,04/20/2021,04/19/2021,04/20/2021 03:32:36 AM,04/20/2021 03:32:36 AM,04/20/2021 03:32:46 AM,04/20/2021 03:34:24 AM,04/20/2021 03:36:47 AM,,,Patient Declined Transport,04/20/2021 03:44:04 AM,VAN NESS AV/SUTTER ST,San Francisco,94109.0,B04,3.0,3161,A,3,3,False,Non Life-threatening,1,ENGINE,1.0,4,2,Nob Hill,211100220-E38,POINT (-122.42175810446447 37.78754813881772),21.0',\n",
       " '818,211100218,B06,21047308,Alarms,04/20/2021,04/19/2021,04/20/2021 03:28:34 AM,04/20/2021 03:30:30 AM,04/20/2021 03:30:33 AM,04/20/2021 03:32:56 AM,04/20/2021 03:34:12 AM,,,Fire,04/20/2021 03:42:09 AM,1400 Block of DOLORES ST,San Francisco,94110.0,B06,11.0,5556,3,3,3,False,Alarm,1,CHIEF,1.0,6.0,8,Noe Valley,211100218-B06,POINT (-122.42465836117283 37.745835268920324),22.0',\n",
       " '819,211100218,E11,21047308,Alarms,04/20/2021,04/19/2021,04/20/2021 03:28:34 AM,04/20/2021 03:30:30 AM,04/20/2021 03:30:33 AM,04/20/2021 03:32:09 AM,04/20/2021 03:34:18 AM,,,Fire,04/20/2021 03:42:03 AM,1400 Block of DOLORES ST,San Francisco,94110.0,B06,11.0,5556,3,3,3,True,Alarm,1,ENGINE,2.0,6.0,8,Noe Valley,211100218-E11,POINT (-122.42465836117283 37.745835268920324),22.0',\n",
       " '820,211100208,74,21047307,Medical Incident,04/20/2021,04/19/2021,04/20/2021 03:18:39 AM,04/20/2021 03:20:43 AM,04/20/2021 03:20:51 AM,04/20/2021 03:21:14 AM,04/20/2021 03:33:07 AM,,,Other,04/20/2021 04:22:37 AM,900 Block of HOWARD ST,San Francisco,94103.0,B03,1.0,2252,2,2,2,True,Non Life-threatening,1,MEDIC,1.0,3,6,South of Market,211100208-74,POINT (-122.40648796780829 37.78034754923871),34.0',\n",
       " '821,211100203,E36,21047306,Medical Incident,04/20/2021,04/19/2021,04/20/2021 03:16:24 AM,04/20/2021 03:17:50 AM,04/20/2021 03:18:07 AM,04/20/2021 03:20:48 AM,04/20/2021 03:23:11 AM,,,Code 2 Transport,04/20/2021 03:29:27 AM,1200 Block of MARKET ST,San Francisco,94102.0,B02,36.0,1646,3,3,3,False,Potentially Life-Threatening,1,ENGINE,1.0,2,6,Tenderloin,211100203-E36,POINT (-122.41543683733691 37.77830293778176),36.0',\n",
       " '822,211100203,77,21047306,Medical Incident,04/20/2021,04/19/2021,04/20/2021 03:16:24 AM,04/20/2021 03:17:50 AM,04/20/2021 03:18:07 AM,04/20/2021 03:18:12 AM,04/20/2021 03:24:34 AM,04/20/2021 03:44:49 AM,04/20/2021 03:52:00 AM,Code 2 Transport,04/20/2021 04:43:13 AM,1200 Block of MARKET ST,San Francisco,94102.0,B02,36.0,1646,3,3,3,True,Potentially Life-Threatening,1,MEDIC,2.0,2,6,Tenderloin,211100203-77,POINT (-122.41543683733691 37.77830293778176),36.0',\n",
       " '823,211100199,87,21047305,Medical Incident,04/20/2021,04/19/2021,04/20/2021 03:11:34 AM,04/20/2021 03:12:29 AM,04/20/2021 03:12:37 AM,04/20/2021 03:12:45 AM,04/20/2021 03:21:59 AM,04/20/2021 03:35:06 AM,04/20/2021 03:49:35 AM,Code 3 Transport,04/20/2021 04:02:09 AM,100 Block of PERSIA AVE,San Francisco,94112.0,B09,43.0,6134,3,2,2,True,Potentially Life-Threatening,1,MEDIC,2.0,9,11,Excelsior,211100199-87,POINT (-122.43477197705357 37.72261980057391),7.0',\n",
       " '824,211100199,E43,21047305,Medical Incident,04/20/2021,04/19/2021,04/20/2021 03:11:34 AM,04/20/2021 03:12:29 AM,04/20/2021 03:12:37 AM,04/20/2021 03:14:58 AM,04/20/2021 03:17:28 AM,,,Code 3 Transport,04/20/2021 03:33:07 AM,100 Block of PERSIA AVE,San Francisco,94112.0,B09,43.0,6134,3,2,2,True,Potentially Life-Threatening,1,ENGINE,1.0,9,11,Excelsior,211100199-E43,POINT (-122.43477197705357 37.72261980057391),7.0',\n",
       " '825,211100177,E05,21047303,Medical Incident,04/20/2021,04/19/2021,04/20/2021 02:46:22 AM,04/20/2021 02:46:55 AM,04/20/2021 02:47:09 AM,04/20/2021 02:49:08 AM,04/20/2021 02:50:18 AM,,,Code 2 Transport,04/20/2021 03:07:01 AM,1200 Block of FILLMORE ST,San Francisco,94115.0,B05,5.0,3535,3,3,3,True,Potentially Life-Threatening,1,ENGINE,1.0,5,5,Western Addition,211100177-E05,POINT (-122.43216635688066 37.780971023358774),39.0',\n",
       " '826,211100173,KM12,21047302,Medical Incident,04/20/2021,04/19/2021,04/20/2021 02:39:44 AM,04/20/2021 02:43:12 AM,04/20/2021 02:43:30 AM,04/20/2021 02:43:56 AM,04/20/2021 02:52:53 AM,04/20/2021 03:22:29 AM,04/20/2021 03:29:40 AM,Code 2 Transport,04/20/2021 04:00:11 AM,700 Block of WEBSTER ST,San Francisco,94117.0,B05,5.0,3521,2,2,2,False,Potentially Life-Threatening,1,PRIVATE,1.0,2,5,Hayes Valley,211100173-KM12,POINT (-122.42991678585773 37.777433793184834),9.0',\n",
       " '827,211100170,T03,21047301,Structure Fire,04/20/2021,04/19/2021,04/20/2021 02:30:57 AM,04/20/2021 02:37:19 AM,04/20/2021 02:37:23 AM,04/20/2021 02:39:20 AM,04/20/2021 02:42:37 AM,,,Fire,04/20/2021 03:35:43 AM,200 Block of OFARRELL ST,San Francisco,94102.0,B03,3.0,1363,3,3,3,False,Alarm,1,TRUCK,1.0,1,3,Tenderloin,211100170-T03,POINT (-122.40914579173084 37.78632579383373),36.0',\n",
       " '828,211100170,B01,21047301,Structure Fire,04/20/2021,04/19/2021,04/20/2021 02:30:57 AM,04/20/2021 02:37:19 AM,04/20/2021 02:37:23 AM,04/20/2021 02:38:53 AM,04/20/2021 02:42:51 AM,,,Fire,04/20/2021 03:34:15 AM,200 Block of OFARRELL ST,San Francisco,94102.0,B03,3.0,1363,3,3,3,False,Alarm,1,CHIEF,2.0,1,3,Tenderloin,211100170-B01,POINT (-122.40914579173084 37.78632579383373),36.0',\n",
       " '829,211100170,E03,21047301,Structure Fire,04/20/2021,04/19/2021,04/20/2021 02:30:57 AM,04/20/2021 02:37:19 AM,04/20/2021 02:37:23 AM,04/20/2021 02:39:47 AM,04/20/2021 02:44:16 AM,,,Fire,04/20/2021 03:35:37 AM,200 Block of OFARRELL ST,San Francisco,94102.0,B03,3.0,1363,3,3,3,True,Alarm,1,ENGINE,3.0,1,3,Tenderloin,211100170-E03,POINT (-122.40914579173084 37.78632579383373),36.0',\n",
       " '830,211100168,73,21047300,Medical Incident,04/20/2021,04/19/2021,04/20/2021 02:32:49 AM,04/20/2021 02:34:59 AM,04/20/2021 02:36:42 AM,04/20/2021 02:36:49 AM,,,,Code 2 Transport,04/20/2021 02:50:43 AM,1700 Block of 34TH AVE,San Francisco,94122.0,B08,18.0,7562,2,2,2,True,Non Life-threatening,1,MEDIC,2.0,8,4,Sunset/Parkside,211100168-73,POINT (-122.49254254750664 37.75446822176076),35.0',\n",
       " '831,211100168,96,21047300,Medical Incident,04/20/2021,04/19/2021,04/20/2021 02:32:49 AM,04/20/2021 02:34:59 AM,04/20/2021 02:50:05 AM,04/20/2021 02:50:05 AM,04/20/2021 02:51:30 AM,04/20/2021 03:05:55 AM,04/20/2021 03:20:50 AM,Code 2 Transport,04/20/2021 03:56:17 AM,1700 Block of 34TH AVE,San Francisco,94122.0,B08,18.0,7562,2,2,2,True,Non Life-threatening,1,MEDIC,1.0,8,4,Sunset/Parkside,211100168-96,POINT (-122.49254254750664 37.75446822176076),35.0',\n",
       " '832,211100167,65,21047299,Medical Incident,04/20/2021,04/19/2021,04/20/2021 02:31:14 AM,04/20/2021 02:34:55 AM,04/20/2021 02:35:46 AM,04/20/2021 02:36:37 AM,04/20/2021 02:42:43 AM,04/20/2021 03:05:35 AM,04/20/2021 03:15:22 AM,Code 2 Transport,04/20/2021 03:45:48 AM,800 Block of HOWARD ST,San Francisco,94103.0,B03,1.0,2214,2,3,3,True,Non Life-threatening,1,MEDIC,2.0,3,6,South of Market,211100167-65,POINT (-122.40377191668972 37.782340468054),34.0',\n",
       " '833,211100167,E01,21047299,Medical Incident,04/20/2021,04/19/2021,04/20/2021 02:31:14 AM,04/20/2021 02:34:55 AM,04/20/2021 02:35:46 AM,04/20/2021 02:37:38 AM,04/20/2021 02:40:34 AM,,,Code 2 Transport,04/20/2021 02:48:30 AM,800 Block of HOWARD ST,San Francisco,94103.0,B03,1.0,2214,2,3,3,True,Non Life-threatening,1,ENGINE,1.0,3,6,South of Market,211100167-E01,POINT (-122.40377191668972 37.782340468054),34.0',\n",
       " '834,211100165,T10,21047298,Traffic Collision,04/20/2021,04/19/2021,04/20/2021 02:34:14 AM,04/20/2021 02:34:14 AM,04/20/2021 02:34:59 AM,04/20/2021 02:37:09 AM,04/20/2021 02:39:59 AM,,,Code 2 Transport,04/20/2021 03:47:58 AM,2200 Block of BAKER ST,San Francisco,94115.0,B04,10.0,4266,B,3,3,False,Potentially Life-Threatening,1,TRUCK,1.0,4.0,2,Pacific Heights,211100165-T10,POINT (-122.4445671534505 37.79164779111651),30.0',\n",
       " '835,211100165,70,21047298,Traffic Collision,04/20/2021,04/19/2021,04/20/2021 02:34:14 AM,04/20/2021 02:34:14 AM,04/20/2021 02:34:59 AM,04/20/2021 02:35:05 AM,04/20/2021 02:42:39 AM,04/20/2021 03:12:28 AM,04/20/2021 03:46:10 AM,Code 2 Transport,04/20/2021 04:41:43 AM,2200 Block of BAKER ST,San Francisco,94115.0,B04,10.0,4266,B,3,3,True,Potentially Life-Threatening,1,MEDIC,4.0,4.0,2,Pacific Heights,211100165-70,POINT (-122.4445671534505 37.79164779111651),30.0',\n",
       " '836,211100165,76,21047298,Traffic Collision,04/20/2021,04/19/2021,04/20/2021 02:34:14 AM,04/20/2021 02:34:14 AM,04/20/2021 02:52:22 AM,04/20/2021 02:52:29 AM,,,,Code 2 Transport,04/20/2021 02:57:10 AM,2200 Block of BAKER ST,San Francisco,94115.0,B04,10.0,4266,B,3,3,True,Potentially Life-Threatening,1,MEDIC,7.0,4.0,2,Pacific Heights,211100165-76,POINT (-122.4445671534505 37.79164779111651),30.0',\n",
       " '837,211100165,B04,21047298,Traffic Collision,04/20/2021,04/19/2021,04/20/2021 02:34:14 AM,04/20/2021 02:34:14 AM,04/20/2021 02:34:59 AM,04/20/2021 02:37:27 AM,04/20/2021 02:41:01 AM,,,Code 2 Transport,04/20/2021 03:25:10 AM,2200 Block of BAKER ST,San Francisco,94115.0,B04,10.0,4266,B,3,3,False,Potentially Life-Threatening,1,CHIEF,3.0,4.0,2,Pacific Heights,211100165-B04,POINT (-122.4445671534505 37.79164779111651),30.0',\n",
       " '838,211100165,RC2,21047298,Traffic Collision,04/20/2021,04/19/2021,04/20/2021 02:34:14 AM,04/20/2021 02:34:14 AM,04/20/2021 02:34:59 AM,04/20/2021 02:37:16 AM,04/20/2021 02:43:54 AM,,,Code 2 Transport,04/20/2021 03:08:59 AM,2200 Block of BAKER ST,San Francisco,94115.0,B04,10.0,4266,B,3,3,True,Potentially Life-Threatening,1,RESCUE CAPTAIN,5.0,4.0,2,Pacific Heights,211100165-RC2,POINT (-122.4445671534505 37.79164779111651),30.0',\n",
       " '839,211100165,RS1,21047298,Traffic Collision,04/20/2021,04/19/2021,04/20/2021 02:34:14 AM,04/20/2021 02:34:14 AM,04/20/2021 02:34:59 AM,04/20/2021 02:37:18 AM,04/20/2021 02:46:08 AM,,,Code 2 Transport,04/20/2021 02:51:54 AM,2200 Block of BAKER ST,San Francisco,94115.0,B04,10.0,4266,B,3,3,False,Potentially Life-Threatening,1,RESCUE SQUAD,6.0,4.0,2,Pacific Heights,211100165-RS1,POINT (-122.4445671534505 37.79164779111651),30.0',\n",
       " '840,211100165,E10,21047298,Traffic Collision,04/20/2021,04/19/2021,04/20/2021 02:34:14 AM,04/20/2021 02:34:14 AM,04/20/2021 02:34:59 AM,04/20/2021 02:37:26 AM,04/20/2021 02:40:01 AM,,,Code 2 Transport,04/20/2021 03:18:17 AM,2200 Block of BAKER ST,San Francisco,94115.0,B04,10.0,4266,B,3,3,True,Potentially Life-Threatening,1,ENGINE,2.0,4.0,2,Pacific Heights,211100165-E10,POINT (-122.4445671534505 37.79164779111651),30.0',\n",
       " '841,211100163,96,21047297,Medical Incident,04/20/2021,04/19/2021,04/20/2021 02:33:44 AM,04/20/2021 02:33:44 AM,04/20/2021 02:36:16 AM,04/20/2021 02:36:20 AM,04/20/2021 02:43:09 AM,,,No Merit,04/20/2021 02:48:21 AM,4300 Block of JUDAH ST,San Francisco,94122.0,B08,23.0,7723,A,2,2,True,Non Life-threatening,1,MEDIC,1.0,8,4,Sunset/Parkside,211100163-96,POINT (-122.50860824044058 37.76036091285805),35.0',\n",
       " '842,211100160,93,21047296,Medical Incident,04/20/2021,04/19/2021,04/20/2021 02:30:55 AM,04/20/2021 02:31:58 AM,04/20/2021 02:32:09 AM,04/20/2021 02:32:37 AM,04/20/2021 02:41:15 AM,,,Medical Examiner,04/20/2021 04:02:40 AM,2100 Block of QUESADA AV,San Francisco,94124.0,B10,42.0,6431,E,3,3,True,Potentially Life-Threatening,1,MEDIC,3.0,10.0,10,Bayview Hunters Point,211100160-93,POINT (-122.39987517985342 37.73811872634588),1.0',\n",
       " '843,211100160,E42,21047296,Medical Incident,04/20/2021,04/19/2021,04/20/2021 02:30:55 AM,04/20/2021 02:31:58 AM,04/20/2021 02:32:09 AM,04/20/2021 02:34:10 AM,04/20/2021 02:39:31 AM,,,Medical Examiner,04/20/2021 02:55:35 AM,2100 Block of QUESADA AV,San Francisco,94124.0,B10,42.0,6431,E,3,3,True,Potentially Life-Threatening,1,ENGINE,1.0,10.0,10,Bayview Hunters Point,211100160-E42,POINT (-122.39987517985342 37.73811872634588),1.0',\n",
       " '844,211100160,RC3,21047296,Medical Incident,04/20/2021,04/19/2021,04/20/2021 02:30:55 AM,04/20/2021 02:31:58 AM,04/20/2021 02:32:09 AM,04/20/2021 02:34:39 AM,04/20/2021 02:41:10 AM,,,Medical Examiner,04/20/2021 03:04:56 AM,2100 Block of QUESADA AV,San Francisco,94124.0,B10,42.0,6431,E,3,3,True,Potentially Life-Threatening,1,RESCUE CAPTAIN,2.0,10.0,10,Bayview Hunters Point,211100160-RC3,POINT (-122.39987517985342 37.73811872634588),1.0',\n",
       " '845,211100135,66,21047295,Medical Incident,04/20/2021,04/19/2021,04/20/2021 02:05:08 AM,04/20/2021 02:05:08 AM,04/20/2021 02:05:30 AM,04/20/2021 02:05:35 AM,04/20/2021 02:15:40 AM,04/20/2021 02:31:07 AM,04/20/2021 02:34:31 AM,Code 2 Transport,04/20/2021 03:23:59 AM,POST ST/KEARNY ST,San Francisco,94104.0,B01,13.0,1236,C,2,2,True,Non Life-threatening,1,MEDIC,1.0,1,3,Financial District/South Beach,211100135-66,POINT (-122.40366067696804 37.78889442871268),8.0',\n",
       " '846,211100126,85,21047294,Medical Incident,04/20/2021,04/19/2021,04/20/2021 01:56:19 AM,04/20/2021 01:59:33 AM,04/20/2021 01:59:41 AM,04/20/2021 02:00:23 AM,04/20/2021 02:15:09 AM,04/20/2021 03:12:43 AM,04/20/2021 03:19:17 AM,Code 2 Transport,04/20/2021 04:22:00 AM,2100 Block of QUESADA AVE,San Francisco,94124.0,B10,42.0,6431,2,2,2,True,Non Life-threatening,1,MEDIC,1.0,10,10,Bayview Hunters Point,211100126-85,POINT (-122.39983494064938 37.73816340104651),1.0',\n",
       " '847,211100120,KM04,21047293,Medical Incident,04/20/2021,04/19/2021,04/20/2021 01:48:59 AM,04/20/2021 01:53:46 AM,04/20/2021 01:54:07 AM,04/20/2021 01:54:41 AM,04/20/2021 02:02:08 AM,04/20/2021 02:09:31 AM,04/20/2021 02:22:36 AM,Code 2 Transport,04/20/2021 02:53:56 AM,1800 Block of MISSION ST,San Francisco,94103.0,B02,6.0,5215,2,2,2,False,Potentially Life-Threatening,1,PRIVATE,1.0,2,9,Mission,211100120-KM04,POINT (-122.41983438916901 37.767477873853096),20.0',\n",
       " '848,211100105,77,21047292,Medical Incident,04/20/2021,04/19/2021,04/20/2021 01:41:27 AM,04/20/2021 01:42:31 AM,04/20/2021 01:42:38 AM,04/20/2021 01:42:43 AM,04/20/2021 01:46:35 AM,04/20/2021 02:09:05 AM,04/20/2021 02:17:20 AM,Code 2 Transport,04/20/2021 02:55:18 AM,100 Block of BERRY ST,San Francisco,94107.0,B03,8.0,2171,3,3,3,True,Potentially Life-Threatening,1,MEDIC,1.0,3,6,Mission Bay,211100105-77,POINT (-122.39228712130654 37.77670921715015),4.0',\n",
       " '849,211100105,E08,21047292,Medical Incident,04/20/2021,04/19/2021,04/20/2021 01:41:27 AM,04/20/2021 01:42:31 AM,04/20/2021 01:42:38 AM,04/20/2021 01:44:48 AM,04/20/2021 01:47:13 AM,,,Code 2 Transport,04/20/2021 02:16:16 AM,100 Block of BERRY ST,San Francisco,94107.0,B03,8.0,2171,3,3,3,True,Potentially Life-Threatening,1,ENGINE,2.0,3,6,Mission Bay,211100105-E08,POINT (-122.39228712130654 37.77670921715015),4.0',\n",
       " '850,211100094,76,21047291,Medical Incident,04/20/2021,04/19/2021,04/20/2021 01:31:33 AM,04/20/2021 01:32:21 AM,04/20/2021 01:32:44 AM,04/20/2021 01:32:50 AM,04/20/2021 01:40:12 AM,04/20/2021 01:47:07 AM,04/20/2021 01:57:48 AM,Code 2 Transport,04/20/2021 02:33:38 AM,3100 Block of SCOTT ST,San Francisco,94123.0,B04,16.0,4115,3,2,2,True,Non Life-threatening,1,MEDIC,2.0,4,2,Marina,211100094-76,POINT (-122.44095620185747 37.79875969501717),13.0',\n",
       " '851,211100094,E16,21047291,Medical Incident,04/20/2021,04/19/2021,04/20/2021 01:31:33 AM,04/20/2021 01:32:21 AM,04/20/2021 01:32:44 AM,04/20/2021 01:35:22 AM,04/20/2021 01:37:31 AM,,,Code 2 Transport,04/20/2021 01:44:37 AM,3100 Block of SCOTT ST,San Francisco,94123.0,B04,16.0,4115,3,2,2,True,Non Life-threatening,1,ENGINE,1.0,4,2,Marina,211100094-E16,POINT (-122.44095620185747 37.79875969501717),13.0',\n",
       " '852,211100081,86,21047290,Medical Incident,04/20/2021,04/19/2021,04/20/2021 01:21:06 AM,04/20/2021 01:23:14 AM,04/20/2021 01:23:23 AM,04/20/2021 01:23:30 AM,04/20/2021 01:34:35 AM,04/20/2021 01:58:59 AM,04/20/2021 02:15:10 AM,Code 2 Transport,04/20/2021 02:40:24 AM,700 Block of BRUNSWICK ST,San Francisco,94112.0,B09,33.0,6214,2,2,2,True,Non Life-threatening,1,MEDIC,1.0,9,11,Excelsior,211100081-86,POINT (-122.44873291957565 37.70864917178592),7.0',\n",
       " '853,211100075,B01,21047289,Alarms,04/20/2021,04/19/2021,04/20/2021 01:11:52 AM,04/20/2021 01:13:34 AM,04/20/2021 01:13:37 AM,04/20/2021 01:14:56 AM,04/20/2021 01:19:46 AM,,,Fire,04/20/2021 01:38:24 AM,400 Block of BAY ST,San Francisco,94133.0,B01,28.0,1425,3,3,3,False,Alarm,1,CHIEF,3.0,1,3,North Beach,211100075-B01,POINT (-122.41441222700931 37.80546354926818),23.0',\n",
       " '854,211100075,E28,21047289,Alarms,04/20/2021,04/19/2021,04/20/2021 01:11:52 AM,04/20/2021 01:13:34 AM,04/20/2021 01:13:37 AM,04/20/2021 01:16:20 AM,04/20/2021 01:18:13 AM,,,Fire,04/20/2021 01:45:36 AM,400 Block of BAY ST,San Francisco,94133.0,B01,28.0,1425,3,3,3,False,Alarm,1,ENGINE,1.0,1,3,North Beach,211100075-E28,POINT (-122.41441222700931 37.80546354926818),23.0',\n",
       " '855,211100073,54,21047288,Medical Incident,04/20/2021,04/19/2021,04/20/2021 01:09:35 AM,04/20/2021 01:11:38 AM,04/20/2021 01:11:45 AM,04/20/2021 01:11:50 AM,04/20/2021 01:13:56 AM,,,Patient Declined Transport,04/20/2021 01:44:39 AM,1700 Block of 34TH AVE,San Francisco,94122.0,B08,18.0,7562,2,2,2,True,Non Life-threatening,1,MEDIC,1.0,8,4,Sunset/Parkside,211100073-54,POINT (-122.49254254750664 37.75446822176076),35.0',\n",
       " '856,211100067,87,21047287,Medical Incident,04/20/2021,04/19/2021,04/20/2021 01:03:05 AM,04/20/2021 01:04:41 AM,04/20/2021 01:05:10 AM,04/20/2021 01:05:15 AM,04/20/2021 01:15:53 AM,04/20/2021 01:25:49 AM,04/20/2021 01:36:04 AM,Code 2 Transport,04/20/2021 02:07:09 AM,500 Block of 5TH ST,San Francisco,94107.0,B03,8.0,2242,2,2,2,True,Non Life-threatening,1,MEDIC,1.0,3,6,South of Market,211100067-87,POINT (-122.39998111123967 37.777624238928986),34.0',\n",
       " '857,211100062,E01,21047286,Medical Incident,04/20/2021,04/19/2021,04/20/2021 01:01:09 AM,04/20/2021 01:01:09 AM,04/20/2021 01:01:46 AM,04/20/2021 01:03:59 AM,04/20/2021 01:06:25 AM,,,Medical Examiner,04/20/2021 01:14:17 AM,400 Block of NATOMA ST,San Francisco,94103.0,B03,1.0,2252,B,E,3,True,Potentially Life-Threatening,1,ENGINE,2.0,3.0,6,South of Market,211100062-E01,POINT (-122.40696960127235 37.78073393690794),34.0',\n",
       " '858,211100062,91,21047286,Medical Incident,04/20/2021,04/19/2021,04/20/2021 01:01:09 AM,04/20/2021 01:01:09 AM,04/20/2021 01:01:46 AM,04/20/2021 01:01:54 AM,04/20/2021 01:05:13 AM,,,Medical Examiner,04/20/2021 02:14:16 AM,400 Block of NATOMA ST,San Francisco,94103.0,B03,1.0,2252,B,E,3,True,Potentially Life-Threatening,1,MEDIC,1.0,3.0,6,South of Market,211100062-91,POINT (-122.40696960127235 37.78073393690794),34.0',\n",
       " '859,211100062,RC1,21047286,Medical Incident,04/20/2021,04/19/2021,04/20/2021 01:01:09 AM,04/20/2021 01:01:09 AM,04/20/2021 01:01:46 AM,04/20/2021 01:03:56 AM,,,,Medical Examiner,04/20/2021 01:08:02 AM,400 Block of NATOMA ST,San Francisco,94103.0,B03,1.0,2252,B,E,3,True,Potentially Life-Threatening,1,RESCUE CAPTAIN,3.0,3.0,6,South of Market,211100062-RC1,POINT (-122.40696960127235 37.78073393690794),34.0',\n",
       " '860,211100061,65,21047285,Medical Incident,04/20/2021,04/19/2021,04/20/2021 12:58:12 AM,04/20/2021 12:58:39 AM,04/20/2021 12:58:54 AM,04/20/2021 12:59:15 AM,04/20/2021 01:04:36 AM,04/20/2021 01:13:28 AM,04/20/2021 01:22:35 AM,Code 2 Transport,04/20/2021 01:52:15 AM,100 Block of HYDE ST,San Francisco,94102.0,B02,3.0,1554,3,3,3,True,Potentially Life-Threatening,1,MEDIC,2.0,2,6,Tenderloin,211100061-65,POINT (-122.41553119824533 37.782128372008614),36.0',\n",
       " '861,211100061,RC3,21047285,Medical Incident,04/20/2021,04/19/2021,04/20/2021 12:58:12 AM,04/20/2021 12:58:39 AM,04/20/2021 01:02:16 AM,04/20/2021 01:04:48 AM,,,,Code 2 Transport,04/20/2021 01:07:50 AM,100 Block of HYDE ST,San Francisco,94102.0,B02,3.0,1554,3,3,3,True,Potentially Life-Threatening,1,RESCUE CAPTAIN,3.0,2,6,Tenderloin,211100061-RC3,POINT (-122.41553119824533 37.782128372008614),36.0',\n",
       " '862,211100061,QRV1,21047285,Medical Incident,04/20/2021,04/19/2021,04/20/2021 12:58:12 AM,04/20/2021 12:58:39 AM,04/20/2021 12:58:54 AM,04/20/2021 12:59:02 AM,04/20/2021 01:01:36 AM,,,Code 2 Transport,04/20/2021 01:16:06 AM,100 Block of HYDE ST,San Francisco,94102.0,B02,3.0,1554,3,3,3,True,Potentially Life-Threatening,1,SUPPORT,1.0,2,6,Tenderloin,211100061-QRV1,POINT (-122.41553119824533 37.782128372008614),36.0',\n",
       " '863,211100056,83,21047284,Medical Incident,04/20/2021,04/19/2021,04/20/2021 12:50:24 AM,04/20/2021 12:53:18 AM,04/20/2021 12:53:40 AM,04/20/2021 12:53:54 AM,04/20/2021 01:01:44 AM,04/20/2021 01:27:10 AM,04/20/2021 01:38:23 AM,Code 2 Transport,04/20/2021 02:09:22 AM,0 Block of WEBSTER ST,San Francisco,94117.0,B02,6.0,3421,2,2,2,True,Non Life-threatening,1,MEDIC,1.0,2,5,Hayes Valley,211100056-83,POINT (-122.4286354349778 37.7711419084239),9.0',\n",
       " '864,211100055,E07,21047283,Alarms,04/20/2021,04/19/2021,04/20/2021 12:51:11 AM,04/20/2021 12:52:53 AM,04/20/2021 12:52:56 AM,04/20/2021 12:54:30 AM,04/20/2021 12:57:14 AM,,,Fire,04/20/2021 01:01:33 AM,1900 Block of MISSION ST,San Francisco,94103.0,B02,7.0,5279,3,3,3,True,Alarm,1,ENGINE,1.0,2,9,Mission,211100055-E07,POINT (-122.41967811493033 37.765866658111),20.0',\n",
       " '865,211100047,KM12,21047282,Medical Incident,04/20/2021,04/19/2021,04/20/2021 12:46:49 AM,04/20/2021 12:48:35 AM,04/20/2021 12:49:00 AM,04/20/2021 12:49:25 AM,04/20/2021 01:01:10 AM,04/20/2021 01:30:36 AM,04/20/2021 02:02:46 AM,Code 2 Transport,04/20/2021 02:05:11 AM,1500 Block of SUTTER ST,San Francisco,94109.0,B04,38.0,3324,2,2,2,False,Non Life-threatening,1,PRIVATE,1.0,4,5,Pacific Heights,211100047-KM12,POINT (-122.42586782014028 37.78708178866657),30.0',\n",
       " '866,211100045,E41,21047281,Medical Incident,04/20/2021,04/19/2021,04/20/2021 12:47:34 AM,04/20/2021 12:47:34 AM,04/20/2021 12:47:50 AM,04/20/2021 12:50:02 AM,,,,Code 2 Transport,04/20/2021 12:53:04 AM,AUSTIN ST/VAN NESS AV,San Francisco,94109.0,B04,41.0,3122,A,3,3,False,Potentially Life-Threatening,1,ENGINE,2.0,4,2,Western Addition,211100045-E41,POINT (-122.42214537963004 37.788942623366935),39.0',\n",
       " '867,211100045,AM120,21047281,Medical Incident,04/20/2021,04/19/2021,04/20/2021 12:47:34 AM,04/20/2021 12:47:34 AM,04/20/2021 12:47:50 AM,04/20/2021 12:48:20 AM,04/20/2021 12:52:41 AM,04/20/2021 01:01:29 AM,04/20/2021 01:09:18 AM,Code 2 Transport,04/20/2021 01:51:44 AM,AUSTIN ST/VAN NESS AV,San Francisco,94109.0,B04,41.0,3122,A,3,3,False,Potentially Life-Threatening,1,PRIVATE,1.0,4,2,Western Addition,211100045-AM120,POINT (-122.42214537963004 37.788942623366935),39.0',\n",
       " '868,211100033,T05,21047280,Citizen Assist / Service Call,04/20/2021,04/19/2021,04/20/2021 12:29:12 AM,04/20/2021 12:33:03 AM,04/20/2021 12:33:23 AM,04/20/2021 12:35:11 AM,04/20/2021 12:37:18 AM,,,Fire,04/20/2021 12:43:15 AM,1000 Block of FILLMORE ST,San Francisco,94115.0,B05,5.0,3534,2,2,2,False,Alarm,1,TRUCK,1.0,5,5,Western Addition,211100033-T05,POINT (-122.43192583901794 37.779089383221105),39.0',\n",
       " '869,211100029,64,21047279,Medical Incident,04/20/2021,04/19/2021,04/20/2021 12:29:16 AM,04/20/2021 12:29:16 AM,04/20/2021 12:29:27 AM,04/20/2021 12:29:31 AM,04/20/2021 12:48:04 AM,04/20/2021 01:00:14 AM,04/20/2021 01:23:27 AM,Code 2 Transport,04/20/2021 02:04:43 AM,48TH AV/POINT LOBOS AV,San Francisco,94121.0,B07,34.0,7313,C,2,2,True,Non Life-threatening,1,MEDIC,1.0,7,1,Outer Richmond,211100029-64,POINT (-122.50943293841364 37.779851069188275),29.0',\n",
       " '870,211100021,91,21047278,Medical Incident,04/20/2021,04/19/2021,04/20/2021 12:18:36 AM,04/20/2021 12:18:36 AM,04/20/2021 12:19:04 AM,04/20/2021 12:21:42 AM,04/20/2021 12:24:37 AM,,,No Merit,04/20/2021 12:46:18 AM,400 Block of 7TH ST,San Francisco,94103.0,B03,8.0,0231,A,2,2,True,Non Life-threatening,1,MEDIC,1.0,3,6,South of Market,211100021-91,POINT (-122.40511819724905 37.77465347670743),34.0',\n",
       " '871,211240086,94,21053083,Medical Incident,05/04/2021,05/03/2021,05/04/2021 01:09:15 AM,05/04/2021 01:09:15 AM,05/04/2021 01:10:28 AM,05/04/2021 01:10:50 AM,05/04/2021 01:25:49 AM,,,SFPD,05/04/2021 01:42:22 AM,1500 Block of EDDY ST,San Francisco,94115.0,B05,5.0,3624,A,2,2,True,Non Life-threatening,1,MEDIC,1.0,5,5,Western Addition,211240086-94,POINT (-122.43316204552124 37.7813778205989),39.0',\n",
       " '872,211233271,E07,21053032,Alarms,05/03/2021,05/03/2021,05/03/2021 09:28:12 PM,05/03/2021 09:28:12 PM,05/03/2021 09:28:17 PM,05/03/2021 09:29:07 PM,05/03/2021 09:31:14 PM,,,Fire,05/03/2021 09:38:09 PM,0 Block of HOFF ST,San Francisco,94110.0,B02,7.0,5236,A,3,3,True,Alarm,1,ENGINE,1.0,2,9,Mission,211233271-E07,POINT (-122.42057572093252 37.76418194637148),20.0',\n",
       " '873,211822029,B06,21078023,Structure Fire,07/01/2021,07/01/2021,07/01/2021 02:13:29 PM,07/01/2021 02:13:53 PM,07/01/2021 02:14:18 PM,07/01/2021 02:15:22 PM,07/01/2021 02:18:45 PM,,,Fire,07/01/2021 02:28:16 PM,1100 Block of ALEMANY BLVD,San Francisco,94112.0,B09,32.0,8263,3,3,3,False,Alarm,1,CHIEF,5.0,9,11,Outer Mission,211822029-B06,POINT (-122.43021554329492 37.730734073781754),28.0',\n",
       " '874,221990894,E14,22091687,Alarms,07/18/2022,07/18/2022,07/18/2022 10:16:57 AM,07/18/2022 10:18:37 AM,07/18/2022 10:19:20 AM,07/18/2022 10:20:14 AM,07/18/2022 10:26:12 AM,,,Fire,07/18/2022 10:35:15 AM,2900 Block of LAKE ST,San Francisco,94121.0,B07,14.0,7236,3,3,3,True,Alarm,1,ENGINE,2.0,7,2,Seacliff,221990894-E14,POINT (-122.49164178474295 37.78546660960218),33.0',\n",
       " '875,221082277,B04,22049396,Alarms,04/18/2022,04/18/2022,04/18/2022 05:03:06 PM,04/18/2022 05:04:30 PM,04/18/2022 05:04:34 PM,04/18/2022 05:06:12 PM,,,,Fire,04/18/2022 05:08:40 PM,900 Block of POST ST,San Francisco,94109.0,B04,3.0,1641,3,3,3,False,Alarm,1,CHIEF,3.0,4,3,Nob Hill,221082277-B04,POINT (-122.41682519978609 37.78727715461728),21.0',\n",
       " '876,211232243,E36,21052913,Alarms,05/03/2021,05/03/2021,05/03/2021 04:14:06 PM,05/03/2021 04:15:23 PM,05/03/2021 04:15:31 PM,05/03/2021 04:16:24 PM,05/03/2021 04:17:40 PM,,,Fire,05/03/2021 04:20:46 PM,200 Block of FELL ST,San Francisco,94102.0,B02,36.0,3213,3,3,3,True,Alarm,1,ENGINE,1.0,2,5,Hayes Valley,211232243-E36,POINT (-122.42197900044214 37.77610854879863),9.0',\n",
       " '877,211821315,B07,21077940,Alarms,07/01/2021,07/01/2021,07/01/2021 10:57:39 AM,07/01/2021 10:59:17 AM,07/01/2021 10:59:39 AM,07/01/2021 11:00:28 AM,07/01/2021 11:05:10 AM,,,Fire,07/01/2021 11:13:26 AM,400 Block of 3RD AVE,San Francisco,94118.0,B07,31.0,7117,3,3,3,False,Alarm,1,CHIEF,2.0,7,1,Inner Richmond,211821315-B07,POINT (-122.4609279453291 37.78020044427031),11.0',\n",
       " '878,221990113,E12,22091565,Outside Fire,07/18/2022,07/17/2022,07/18/2022 01:48:11 AM,07/18/2022 01:48:35 AM,07/18/2022 01:48:55 AM,07/18/2022 01:50:18 AM,,,,Fire,07/18/2022 01:50:32 AM,SHRADER ST/HAYES ST,San Francisco,94117.0,B05,21.0,4543,3,3,3,True,Fire,1,ENGINE,2.0,5,5,Lone Mountain/USF,221990113-E12,POINT (-122.45262384303805 37.77310613285577),18.0',\n",
       " '879,211240094,T01,21053085,Alarms,05/04/2021,05/03/2021,05/04/2021 01:15:13 AM,05/04/2021 01:16:59 AM,05/04/2021 01:17:06 AM,05/04/2021 01:19:38 AM,05/04/2021 01:22:50 AM,,,Fire,05/04/2021 01:38:38 AM,1200 Block of FOLSOM ST,San Francisco,94103.0,B02,1.0,2322,3,3,3,False,Alarm,1,TRUCK,2.0,2,6,South of Market,211240094-T01,POINT (-122.4108852662441 37.774419501592796),34.0',\n",
       " '880,211233586,T02,21053067,Alarms,05/03/2021,05/03/2021,05/03/2021 11:46:46 PM,05/03/2021 11:48:44 PM,05/03/2021 11:49:22 PM,05/03/2021 11:51:12 PM,05/03/2021 11:53:34 PM,,,Fire,05/03/2021 11:56:56 PM,1200 Block of GRANT AVE,San Francisco,94133.0,B01,2.0,1311,3,3,3,False,Alarm,1,TRUCK,3.0,1,3,North Beach,211233586-T02,POINT (-122.40704747714534 37.79832933388901),23.0',\n",
       " '881,221982703,E01,22091502,Alarms,07/17/2022,07/17/2022,07/17/2022 09:10:27 PM,07/17/2022 09:11:55 PM,07/17/2022 09:12:04 PM,07/17/2022 09:13:40 PM,07/17/2022 09:14:49 PM,,,Fire,07/17/2022 09:23:26 PM,200 Block of 6TH ST,San Francisco,94103.0,B03,1.0,2252,3,3,3,True,Alarm,1,ENGINE,1.0,3,6,South of Market,221982703-E01,POINT (-122.40634642563202 37.77916742189657),34.0',\n",
       " '882,221982586,T19,22091491,Alarms,07/17/2022,07/17/2022,07/17/2022 08:26:07 PM,07/17/2022 08:28:06 PM,07/17/2022 08:28:30 PM,07/17/2022 08:31:31 PM,07/17/2022 08:32:02 PM,,,Fire,07/17/2022 08:42:29 PM,0 Block of VARELA AVE,San Francisco,94132.0,B08,19.0,8426,3,3,3,False,Alarm,1,TRUCK,2.0,8,7,Lakeshore,221982586-T19,POINT (-122.47612449352401 37.72102352852536),16.0',\n",
       " '883,211813807,KM12,21077785,Medical Incident,06/30/2021,06/30/2021,06/30/2021 11:58:34 PM,07/01/2021 12:00:25 AM,07/01/2021 12:00:43 AM,07/01/2021 12:01:22 AM,07/01/2021 12:08:04 AM,,,Medical Examiner,07/01/2021 01:55:01 AM,500 Block of CAPP ST,San Francisco,94110.0,B06,7.0,5446,E,2,2,False,Potentially Life-Threatening,1,PRIVATE,3.0,6,9,Mission,211813807-KM12,POINT (-122.41795728658188 37.75789544357475),20.0',\n",
       " '884,211813807,E07,21077785,Medical Incident,06/30/2021,06/30/2021,06/30/2021 11:58:34 PM,07/01/2021 12:00:25 AM,07/01/2021 12:00:43 AM,07/01/2021 12:02:35 AM,07/01/2021 12:07:27 AM,,,Medical Examiner,07/01/2021 01:01:54 AM,500 Block of CAPP ST,San Francisco,94110.0,B06,7.0,5446,E,2,2,True,Potentially Life-Threatening,1,ENGINE,2.0,6,9,Mission,211813807-E07,POINT (-122.41795728658188 37.75789544357475),20.0',\n",
       " '885,211813807,RC3,21077785,Medical Incident,06/30/2021,06/30/2021,06/30/2021 11:58:34 PM,07/01/2021 12:00:25 AM,07/01/2021 12:00:43 AM,07/01/2021 12:02:38 AM,07/01/2021 12:05:35 AM,,,Medical Examiner,07/01/2021 12:35:16 AM,500 Block of CAPP ST,San Francisco,94110.0,B06,7.0,5446,E,2,2,True,Potentially Life-Threatening,1,RESCUE CAPTAIN,1.0,6,9,Mission,211813807-RC3,POINT (-122.41795728658188 37.75789544357475),20.0',\n",
       " '886,211813798,E32,21077784,Medical Incident,06/30/2021,06/30/2021,06/30/2021 11:53:36 PM,06/30/2021 11:54:54 PM,06/30/2021 11:55:18 PM,06/30/2021 11:56:13 PM,07/01/2021 12:00:33 AM,,,Patient Declined Transport,07/01/2021 12:27:04 AM,300 Block of SILVER AVE,San Francisco,94112.0,B09,32.0,6114,3,2,2,True,Potentially Life-Threatening,1,ENGINE,1.0,9,11,Excelsior,211813798-E32,POINT (-122.42999537572783 37.72848944263927),7.0',\n",
       " '887,211813798,89,21077784,Medical Incident,06/30/2021,06/30/2021,06/30/2021 11:53:36 PM,06/30/2021 11:54:54 PM,06/30/2021 11:55:18 PM,06/30/2021 11:55:21 PM,07/01/2021 12:08:35 AM,,,Patient Declined Transport,07/01/2021 12:56:31 AM,300 Block of SILVER AVE,San Francisco,94112.0,B09,32.0,6114,3,2,2,True,Potentially Life-Threatening,1,MEDIC,2.0,9,11,Excelsior,211813798-89,POINT (-122.42999537572783 37.72848944263927),7.0',\n",
       " '888,211813795,52,21077783,Medical Incident,06/30/2021,06/30/2021,06/30/2021 11:50:12 PM,06/30/2021 11:51:53 PM,06/30/2021 11:53:30 PM,06/30/2021 11:53:39 PM,06/30/2021 11:56:23 PM,07/01/2021 12:20:07 AM,07/01/2021 12:39:47 AM,Code 2 Transport,07/01/2021 01:34:09 AM,16TH ST/CAPP ST,San Francisco,94110.0,B02,7.0,5236,3,2,2,True,Potentially Life-Threatening,1,MEDIC,1.0,2,9,Mission,211813795-52,POINT (-122.41869842704591 37.765109955955985),20.0',\n",
       " '889,211813795,E07,21077783,Medical Incident,06/30/2021,06/30/2021,06/30/2021 11:50:12 PM,06/30/2021 11:51:53 PM,06/30/2021 11:53:30 PM,06/30/2021 11:55:36 PM,,,,Code 2 Transport,06/30/2021 11:56:26 PM,16TH ST/CAPP ST,San Francisco,94110.0,B02,7.0,5236,3,2,2,True,Potentially Life-Threatening,1,ENGINE,2.0,2,9,Mission,211813795-E07,POINT (-122.41869842704591 37.765109955955985),20.0',\n",
       " '890,211813793,B04,21077782,Alarms,06/30/2021,06/30/2021,06/30/2021 11:51:34 PM,06/30/2021 11:51:35 PM,06/30/2021 11:51:55 PM,06/30/2021 11:54:52 PM,06/30/2021 11:59:11 PM,,,Fire,07/01/2021 12:02:01 AM,1300 Block of BUCHANAN ST,San Francisco,94115.0,B02,5.0,3431,3,3,3,False,Alarm,1,CHIEF,3.0,2,5,Western Addition,211813793-B04,POINT (-122.42901779379834 37.78208118317017),39.0',\n",
       " '891,211813793,E05,21077782,Alarms,06/30/2021,06/30/2021,06/30/2021 11:51:34 PM,06/30/2021 11:51:35 PM,06/30/2021 11:51:55 PM,06/30/2021 11:54:42 PM,06/30/2021 11:54:42 PM,,,Fire,07/01/2021 12:06:13 AM,1300 Block of BUCHANAN ST,San Francisco,94115.0,B02,5.0,3431,3,3,3,True,Alarm,1,ENGINE,1.0,2,5,Western Addition,211813793-E05,POINT (-122.42901779379834 37.78208118317017),39.0',\n",
       " '892,211813793,T05,21077782,Alarms,06/30/2021,06/30/2021,06/30/2021 11:51:34 PM,06/30/2021 11:51:35 PM,06/30/2021 11:51:55 PM,06/30/2021 11:53:03 PM,06/30/2021 11:54:44 PM,,,Fire,07/01/2021 12:06:15 AM,1300 Block of BUCHANAN ST,San Francisco,94115.0,B02,5.0,3431,3,3,3,False,Alarm,1,TRUCK,2.0,2,5,Western Addition,211813793-T05,POINT (-122.42901779379834 37.78208118317017),39.0',\n",
       " '893,211813746,E08,21077781,Medical Incident,06/30/2021,06/30/2021,06/30/2021 11:27:34 PM,06/30/2021 11:29:28 PM,06/30/2021 11:31:48 PM,06/30/2021 11:33:25 PM,06/30/2021 11:35:54 PM,,,Code 2 Transport,06/30/2021 11:48:44 PM,300 Block of CLEMENTINA ST,San Francisco,94103.0,B03,1.0,2244,2,2,2,True,Potentially Life-Threatening,1,ENGINE,1.0,3,6,South of Market,211813746-E08,POINT (-122.40343397632198 37.78116173954293),34.0',\n",
       " '894,211813746,95,21077781,Medical Incident,06/30/2021,06/30/2021,06/30/2021 11:27:34 PM,06/30/2021 11:29:28 PM,06/30/2021 11:42:05 PM,06/30/2021 11:42:08 PM,06/30/2021 11:44:42 PM,06/30/2021 11:51:34 PM,07/01/2021 12:00:12 AM,Code 2 Transport,07/01/2021 12:40:26 AM,300 Block of CLEMENTINA ST,San Francisco,94103.0,B03,1.0,2244,2,2,2,True,Potentially Life-Threatening,1,MEDIC,2.0,3,6,South of Market,211813746-95,POINT (-122.40343397632198 37.78116173954293),34.0',\n",
       " '895,211813741,95,21077780,Medical Incident,06/30/2021,06/30/2021,06/30/2021 11:27:40 PM,06/30/2021 11:28:36 PM,06/30/2021 11:28:45 PM,06/30/2021 11:28:49 PM,,,,No Merit,06/30/2021 11:38:25 PM,0 Block of SAINT FRANCIS PL,San Francisco,94107.0,B03,1.0,2176,3,3,3,True,Potentially Life-Threatening,1,MEDIC,2.0,3,6,Financial District/South Beach,211813741-95,POINT (-122.39782549526785 37.7831676638718),8.0',\n",
       " '896,211813741,E01,21077780,Medical Incident,06/30/2021,06/30/2021,06/30/2021 11:27:40 PM,06/30/2021 11:28:36 PM,06/30/2021 11:28:45 PM,06/30/2021 11:31:00 PM,,,,No Merit,06/30/2021 11:38:35 PM,0 Block of SAINT FRANCIS PL,San Francisco,94107.0,B03,1.0,2176,3,3,3,True,Potentially Life-Threatening,1,ENGINE,1.0,3,6,Financial District/South Beach,211813741-E01,POINT (-122.39782549526785 37.7831676638718),8.0',\n",
       " '897,211813723,B10,21077779,Gas Leak (Natural and LP Gases),06/30/2021,06/30/2021,06/30/2021 11:18:24 PM,06/30/2021 11:20:06 PM,06/30/2021 11:20:27 PM,06/30/2021 11:22:45 PM,06/30/2021 11:28:00 PM,,,Fire,06/30/2021 11:35:00 PM,800 Block of DARTMOUTH ST,San Francisco,94134.0,B09,44.0,6322,3,3,3,False,Alarm,1,CHIEF,1.0,9,9,Portola,211813723-B10,POINT (-122.40919849018236 37.72019474536801),25.0',\n",
       " '898,211813723,E44,21077779,Gas Leak (Natural and LP Gases),06/30/2021,06/30/2021,06/30/2021 11:18:24 PM,06/30/2021 11:20:06 PM,06/30/2021 11:20:27 PM,06/30/2021 11:22:05 PM,,,,Fire,06/30/2021 11:34:53 PM,800 Block of DARTMOUTH ST,San Francisco,94134.0,B09,44.0,6322,3,3,3,False,Alarm,1,ENGINE,2.0,9,9,Portola,211813723-E44,POINT (-122.40919849018236 37.72019474536801),25.0',\n",
       " '899,211813718,85,21077778,Medical Incident,06/30/2021,06/30/2021,06/30/2021 11:14:25 PM,06/30/2021 11:18:47 PM,06/30/2021 11:19:57 PM,06/30/2021 11:20:13 PM,06/30/2021 11:28:57 PM,06/30/2021 11:43:14 PM,06/30/2021 11:59:37 PM,Code 2 Transport,07/01/2021 12:37:43 AM,1200 Block of LAGUNA ST,San Francisco,94109.0,B02,5.0,3366,3,2,2,True,Non Life-threatening,1,MEDIC,2.0,2,5,Western Addition,211813718-85,POINT (-122.42746916414147 37.78276322792265),39.0',\n",
       " '900,211813718,E05,21077778,Medical Incident,06/30/2021,06/30/2021,06/30/2021 11:14:25 PM,06/30/2021 11:18:47 PM,06/30/2021 11:19:57 PM,06/30/2021 11:20:34 PM,06/30/2021 11:22:58 PM,,,Code 2 Transport,06/30/2021 11:36:19 PM,1200 Block of LAGUNA ST,San Francisco,94109.0,B02,5.0,3366,3,2,2,True,Non Life-threatening,1,ENGINE,1.0,2,5,Western Addition,211813718-E05,POINT (-122.42746916414147 37.78276322792265),39.0',\n",
       " '901,211813711,E11,21077777,Medical Incident,06/30/2021,06/30/2021,06/30/2021 11:14:44 PM,06/30/2021 11:16:32 PM,06/30/2021 11:19:01 PM,06/30/2021 11:20:18 PM,06/30/2021 11:26:37 PM,,,Code 2 Transport,06/30/2021 11:57:43 PM,3300 Block of CESAR CHAVEZ ST,San Francisco,94110.0,B06,11.0,5623,2,2,2,True,Non Life-threatening,1,ENGINE,1.0,6,9,Mission,211813711-E11,POINT (-122.41704425832316 37.74828587669343),20.0',\n",
       " '902,211813711,75,21077777,Medical Incident,06/30/2021,06/30/2021,06/30/2021 11:14:44 PM,06/30/2021 11:16:32 PM,06/30/2021 11:43:47 PM,06/30/2021 11:44:26 PM,06/30/2021 11:54:28 PM,07/01/2021 12:02:37 AM,07/01/2021 12:14:50 AM,Code 2 Transport,07/01/2021 12:44:27 AM,3300 Block of CESAR CHAVEZ ST,San Francisco,94110.0,B06,11.0,5623,2,2,2,True,Non Life-threatening,1,MEDIC,2.0,6,9,Mission,211813711-75,POINT (-122.41704425832316 37.74828587669343),20.0',\n",
       " '903,211813701,E12,21077776,Medical Incident,06/30/2021,06/30/2021,06/30/2021 11:12:08 PM,06/30/2021 11:13:11 PM,06/30/2021 11:15:23 PM,06/30/2021 11:16:47 PM,06/30/2021 11:19:26 PM,,,Code 2 Transport,06/30/2021 11:24:02 PM,2100 Block of GROVE ST,San Francisco,94117.0,B05,21.0,4535,3,3,3,True,Potentially Life-Threatening,1,ENGINE,1.0,5.0,5,Lone Mountain/USF,211813701-E12,POINT (-122.45198805952201 37.77414471630381),18.0',\n",
       " '904,211813701,67,21077776,Medical Incident,06/30/2021,06/30/2021,06/30/2021 11:12:08 PM,06/30/2021 11:13:11 PM,06/30/2021 11:15:23 PM,06/30/2021 11:15:26 PM,06/30/2021 11:22:12 PM,06/30/2021 11:30:19 PM,06/30/2021 11:36:15 PM,Code 2 Transport,07/01/2021 12:18:03 AM,2100 Block of GROVE ST,San Francisco,94117.0,B05,21.0,4535,3,3,3,True,Potentially Life-Threatening,1,MEDIC,2.0,5.0,5,Lone Mountain/USF,211813701-67,POINT (-122.45198805952201 37.77414471630381),18.0',\n",
       " '905,211813701,E21,21077776,Medical Incident,06/30/2021,06/30/2021,06/30/2021 11:12:08 PM,06/30/2021 11:13:11 PM,06/30/2021 11:15:23 PM,06/30/2021 11:16:24 PM,,,,Code 2 Transport,06/30/2021 11:19:36 PM,2100 Block of GROVE ST,San Francisco,94117.0,B05,21.0,4535,3,3,3,False,Potentially Life-Threatening,1,ENGINE,3.0,5.0,5,Lone Mountain/USF,211813701-E21,POINT (-122.45198805952201 37.77414471630381),18.0',\n",
       " '906,211813700,AM120,21077775,Medical Incident,06/30/2021,06/30/2021,06/30/2021 11:12:21 PM,06/30/2021 11:13:06 PM,06/30/2021 11:14:27 PM,06/30/2021 11:15:12 PM,06/30/2021 11:31:00 PM,06/30/2021 11:31:13 PM,06/30/2021 11:35:03 PM,Code 2 Transport,07/01/2021 12:28:13 AM,200 Block of 7TH ST,San Francisco,94103.0,B03,1.0,2314,3,3,3,False,Potentially Life-Threatening,1,PRIVATE,2.0,3,6,South of Market,211813700-AM120,POINT (-122.40856550169784 37.77740036413814),34.0',\n",
       " '907,211813699,70,21077774,Medical Incident,06/30/2021,06/30/2021,06/30/2021 11:13:00 PM,06/30/2021 11:13:00 PM,06/30/2021 11:22:40 PM,06/30/2021 11:22:40 PM,06/30/2021 11:56:34 PM,07/01/2021 12:14:21 AM,07/01/2021 12:28:28 AM,Code 2 Transport,07/01/2021 01:35:18 AM,0 Block of DORE ST,San Francisco,94103.0,B02,36.0,2342,A,2,2,True,Non Life-threatening,1,MEDIC,2.0,2,6,South of Market,211813699-70,POINT (-122.41304597196519 37.773861777161386),34.0',\n",
       " '908,211813699,E36,21077774,Medical Incident,06/30/2021,06/30/2021,06/30/2021 11:13:00 PM,06/30/2021 11:13:00 PM,06/30/2021 11:17:25 PM,06/30/2021 11:19:13 PM,06/30/2021 11:23:20 PM,,,Code 2 Transport,07/01/2021 12:00:03 AM,0 Block of DORE ST,San Francisco,94103.0,B02,36.0,2342,A,2,2,True,Non Life-threatening,1,ENGINE,1.0,2,6,South of Market,211813699-E36,POINT (-122.41304597196519 37.773861777161386),34.0',\n",
       " '909,211813698,76,21077773,Medical Incident,06/30/2021,06/30/2021,06/30/2021 11:10:03 PM,06/30/2021 11:12:28 PM,06/30/2021 11:16:10 PM,06/30/2021 11:16:14 PM,06/30/2021 11:36:10 PM,07/01/2021 12:06:36 AM,07/01/2021 12:31:49 AM,Code 2 Transport,07/01/2021 01:09:37 AM,900 Block of HOWARD ST,San Francisco,94103.0,B03,1.0,2252,2,2,2,True,Non Life-threatening,1,MEDIC,1.0,3,6,South of Market,211813698-76,POINT (-122.40648796780829 37.78034754923871),34.0',\n",
       " '910,211813696,76,21077772,Medical Incident,06/30/2021,06/30/2021,06/30/2021 11:07:46 PM,06/30/2021 11:09:25 PM,06/30/2021 11:11:04 PM,06/30/2021 11:11:11 PM,,,,Code 2 Transport,06/30/2021 11:13:28 PM,300 Block of SOUTH VAN NESS AVE,San Francisco,94103.0,B02,7.0,5225,2,2,2,True,Non Life-threatening,1,MEDIC,2.0,2,9,Mission,211813696-76,POINT (-122.4176548199728 37.767609514566736),20.0',\n",
       " '911,211813696,68,21077772,Medical Incident,06/30/2021,06/30/2021,06/30/2021 11:07:46 PM,06/30/2021 11:09:25 PM,06/30/2021 11:12:57 PM,06/30/2021 11:12:57 PM,06/30/2021 11:22:30 PM,06/30/2021 11:42:46 PM,06/30/2021 11:50:04 PM,Code 2 Transport,07/01/2021 12:22:41 AM,300 Block of SOUTH VAN NESS AVE,San Francisco,94103.0,B02,7.0,5225,2,2,2,True,Non Life-threatening,1,MEDIC,1.0,2,9,Mission,211813696-68,POINT (-122.4176548199728 37.767609514566736),20.0',\n",
       " '912,211813692,73,21077771,Medical Incident,06/30/2021,06/30/2021,06/30/2021 11:06:16 PM,06/30/2021 11:07:46 PM,06/30/2021 11:09:05 PM,06/30/2021 11:09:08 PM,06/30/2021 11:14:35 PM,06/30/2021 11:24:56 PM,06/30/2021 11:35:21 PM,Code 2 Transport,07/01/2021 12:06:28 AM,2400 Block of SAN BRUNO AVE,San Francisco,94134.0,B10,42.0,6362,3,3,3,True,Potentially Life-Threatening,1,MEDIC,2.0,10,9,Portola,211813692-73,POINT (-122.4054120917333 37.73181988897203),25.0',\n",
       " '913,211813692,E42,21077771,Medical Incident,06/30/2021,06/30/2021,06/30/2021 11:06:16 PM,06/30/2021 11:07:46 PM,06/30/2021 11:09:05 PM,06/30/2021 11:10:17 PM,06/30/2021 11:11:27 PM,,,Code 2 Transport,06/30/2021 11:17:59 PM,2400 Block of SAN BRUNO AVE,San Francisco,94134.0,B10,42.0,6362,3,3,3,True,Potentially Life-Threatening,1,ENGINE,1.0,10,9,Portola,211813692-E42,POINT (-122.4054120917333 37.73181988897203),25.0',\n",
       " '914,211813684,85,21077770,Medical Incident,06/30/2021,06/30/2021,06/30/2021 11:05:08 PM,06/30/2021 11:05:08 PM,06/30/2021 11:09:53 PM,06/30/2021 11:09:57 PM,,,,Cancelled,06/30/2021 11:19:36 PM,500 Block of PERSIA AVE,San Francisco,94112.0,B09,43.0,6134,A,2,2,True,Non Life-threatening,1,MEDIC,2.0,9,11,Excelsior,211813684-85,POINT (-122.43156952336324 37.721093519262205),7.0',\n",
       " '915,211813684,73,21077770,Medical Incident,06/30/2021,06/30/2021,06/30/2021 11:05:08 PM,06/30/2021 11:05:08 PM,06/30/2021 11:05:32 PM,06/30/2021 11:05:37 PM,,,,Cancelled,06/30/2021 11:09:00 PM,500 Block of PERSIA AVE,San Francisco,94112.0,B09,43.0,6134,A,2,2,True,Non Life-threatening,1,MEDIC,1.0,9,11,Excelsior,211813684-73,POINT (-122.43156952336324 37.721093519262205),7.0',\n",
       " '916,211813660,73,21077769,Medical Incident,06/30/2021,06/30/2021,06/30/2021 10:54:55 PM,06/30/2021 10:57:11 PM,06/30/2021 10:58:54 PM,06/30/2021 10:59:00 PM,,,,No Merit,06/30/2021 11:04:44 PM,3RD ST/HOWARD ST,San Francisco,94105.0,B03,1.0,2177,3,3,3,True,Potentially Life-Threatening,1,MEDIC,3.0,3,6,Financial District/South Beach,211813660-73,POINT (-122.40046848441116 37.78503028488837),8.0',\n",
       " '917,211813660,E08,21077769,Medical Incident,06/30/2021,06/30/2021,06/30/2021 10:54:55 PM,06/30/2021 10:57:11 PM,06/30/2021 10:57:53 PM,06/30/2021 10:59:00 PM,06/30/2021 11:02:56 PM,,,No Merit,06/30/2021 11:05:29 PM,3RD ST/HOWARD ST,San Francisco,94105.0,B03,1.0,2177,3,3,3,True,Potentially Life-Threatening,1,ENGINE,1.0,3,6,Financial District/South Beach,211813660-E08,POINT (-122.40046848441116 37.78503028488837),8.0',\n",
       " '918,211813660,RS1,21077769,Medical Incident,06/30/2021,06/30/2021,06/30/2021 10:54:55 PM,06/30/2021 10:57:11 PM,06/30/2021 10:57:53 PM,,,,,No Merit,06/30/2021 11:00:00 PM,3RD ST/HOWARD ST,San Francisco,94105.0,B03,1.0,2177,3,3,3,False,Potentially Life-Threatening,1,RESCUE SQUAD,2.0,3,6,Financial District/South Beach,211813660-RS1,POINT (-122.40046848441116 37.78503028488837),8.0',\n",
       " '919,211813655,E36,21077768,Outside Fire,06/30/2021,06/30/2021,06/30/2021 10:54:45 PM,06/30/2021 10:56:13 PM,06/30/2021 10:56:24 PM,06/30/2021 10:56:33 PM,06/30/2021 10:59:50 PM,,,Fire,06/30/2021 11:02:51 PM,0 Block of DODGE ST,San Francisco,94102.0,B02,3.0,1554,3,3,3,True,Fire,1,ENGINE,1.0,2,6,Tenderloin,211813655-E36,POINT (-122.41686745099392 37.78219596871284),36.0',\n",
       " '920,211813652,E03,21077767,Medical Incident,06/30/2021,06/30/2021,06/30/2021 10:53:48 PM,06/30/2021 10:54:42 PM,06/30/2021 10:55:16 PM,06/30/2021 10:55:30 PM,06/30/2021 10:58:36 PM,,,Code 2 Transport,06/30/2021 11:13:27 PM,300 Block of TURK ST,San Francisco,94102.0,B02,3.0,1554,E,3,3,True,Potentially Life-Threatening,1,ENGINE,1.0,2,6,Tenderloin,211813652-E03,POINT (-122.41488481278054 37.782743970770234),36.0',\n",
       " '921,211813652,RC1,21077767,Medical Incident,06/30/2021,06/30/2021,06/30/2021 10:53:48 PM,06/30/2021 10:54:42 PM,06/30/2021 10:55:16 PM,06/30/2021 10:55:53 PM,06/30/2021 11:00:51 PM,,,Code 2 Transport,06/30/2021 11:02:42 PM,300 Block of TURK ST,San Francisco,94102.0,B02,3.0,1554,E,3,3,True,Potentially Life-Threatening,1,RESCUE CAPTAIN,3.0,2,6,Tenderloin,211813652-RC1,POINT (-122.41488481278054 37.782743970770234),36.0',\n",
       " '922,211813652,KM11,21077767,Medical Incident,06/30/2021,06/30/2021,06/30/2021 10:53:48 PM,06/30/2021 10:54:42 PM,06/30/2021 10:55:16 PM,06/30/2021 10:55:54 PM,06/30/2021 10:58:53 PM,06/30/2021 11:18:55 PM,06/30/2021 11:25:50 PM,Code 2 Transport,06/30/2021 11:57:45 PM,300 Block of TURK ST,San Francisco,94102.0,B02,3.0,1554,E,3,3,False,Potentially Life-Threatening,1,PRIVATE,2.0,2,6,Tenderloin,211813652-KM11,POINT (-122.41488481278054 37.782743970770234),36.0',\n",
       " '923,211813650,77,21077766,Medical Incident,06/30/2021,06/30/2021,06/30/2021 10:51:33 PM,06/30/2021 10:51:33 PM,06/30/2021 11:01:57 PM,06/30/2021 11:02:10 PM,06/30/2021 11:14:11 PM,06/30/2021 11:31:18 PM,06/30/2021 11:36:43 PM,Code 2 Transport,07/01/2021 12:23:14 AM,2500 Block of MISSION ST,San Francisco,94110.0,B06,7.0,5472,A,3,3,True,Non Life-threatening,1,MEDIC,2.0,6,9,Mission,211813650-77,POINT (-122.41889328307475 37.75623199464388),20.0',\n",
       " '924,211813650,E07,21077766,Medical Incident,06/30/2021,06/30/2021,06/30/2021 10:51:33 PM,06/30/2021 10:51:33 PM,06/30/2021 10:51:58 PM,06/30/2021 10:52:35 PM,06/30/2021 10:57:58 PM,,,Code 2 Transport,06/30/2021 11:22:01 PM,2500 Block of MISSION ST,San Francisco,94110.0,B06,7.0,5472,A,3,3,True,Non Life-threatening,1,ENGINE,1.0,6,9,Mission,211813650-E07,POINT (-122.41889328307475 37.75623199464388),20.0',\n",
       " '925,211813650,KM11,21077766,Medical Incident,06/30/2021,06/30/2021,06/30/2021 10:51:33 PM,06/30/2021 10:51:33 PM,06/30/2021 10:54:02 PM,06/30/2021 10:54:30 PM,,,,Code 2 Transport,06/30/2021 10:55:07 PM,2500 Block of MISSION ST,San Francisco,94110.0,B06,7.0,5472,A,3,3,False,Non Life-threatening,1,PRIVATE,3.0,6,9,Mission,211813650-KM11,POINT (-122.41889328307475 37.75623199464388),20.0',\n",
       " '926,211813636,E15,21077765,Medical Incident,06/30/2021,06/30/2021,06/30/2021 10:45:59 PM,06/30/2021 10:45:59 PM,06/30/2021 10:48:11 PM,,,,,SFPD,06/30/2021 10:50:37 PM,300 Block of GARFIELD ST,San Francisco,94132.0,B09,15.0,8433,B,2,2,True,Non Life-threatening,1,ENGINE,1.0,9,11,Oceanview/Merced/Ingleside,211813636-E15,POINT (-122.46580505599427 37.71962707697445),24.0',\n",
       " '927,211813621,E05,21077764,Medical Incident,06/30/2021,06/30/2021,06/30/2021 10:38:24 PM,06/30/2021 10:40:37 PM,06/30/2021 10:43:11 PM,06/30/2021 10:44:52 PM,06/30/2021 10:47:47 PM,,,Code 2 Transport,06/30/2021 11:12:38 PM,1400 Block of GEARY BLVD,San Francisco,94109.0,B04,38.0,3323,2,2,2,True,Non Life-threatening,1,ENGINE,1.0,4,5,Japantown,211813621-E05,POINT (-122.4263666364095 37.78531206735949),15.0',\n",
       " '928,211813621,62,21077764,Medical Incident,06/30/2021,06/30/2021,06/30/2021 10:38:24 PM,06/30/2021 10:40:37 PM,06/30/2021 10:53:00 PM,06/30/2021 10:53:18 PM,06/30/2021 11:04:30 PM,06/30/2021 11:23:57 PM,06/30/2021 11:39:08 PM,Code 2 Transport,07/01/2021 12:20:52 AM,1400 Block of GEARY BLVD,San Francisco,94109.0,B04,38.0,3323,2,2,2,True,Non Life-threatening,1,MEDIC,2.0,4,5,Japantown,211813621-62,POINT (-122.4263666364095 37.78531206735949),15.0',\n",
       " '929,211813615,AM118,21077763,Traffic Collision,06/30/2021,06/30/2021,06/30/2021 10:38:42 PM,06/30/2021 10:38:42 PM,06/30/2021 10:42:21 PM,06/30/2021 10:42:24 PM,,,,Other,06/30/2021 10:43:52 PM,HARRISON ST/4TH ST,San Francisco,94107.0,B03,1.0,2216,A,3,3,False,Potentially Life-Threatening,1,PRIVATE,2.0,3,6,South of Market,211813615-AM118,POINT (-122.39961623355396 37.78079148306535),34.0',\n",
       " '930,211813615,RS1,21077763,Traffic Collision,06/30/2021,06/30/2021,06/30/2021 10:38:42 PM,06/30/2021 10:38:42 PM,06/30/2021 10:39:21 PM,06/30/2021 10:41:10 PM,,,,Other,06/30/2021 10:43:48 PM,HARRISON ST/4TH ST,San Francisco,94107.0,B03,1.0,2216,A,3,3,False,Potentially Life-Threatening,1,RESCUE SQUAD,1.0,3,6,South of Market,211813615-RS1,POINT (-122.39961623355396 37.78079148306535),34.0',\n",
       " '931,211813612,64,21077762,Traffic Collision,06/30/2021,06/30/2021,06/30/2021 10:38:05 PM,06/30/2021 10:38:05 PM,06/30/2021 10:38:35 PM,06/30/2021 10:38:43 PM,06/30/2021 10:49:29 PM,06/30/2021 10:49:43 PM,06/30/2021 10:55:35 PM,Code 3 Transport,07/01/2021 12:16:20 AM,HARRISON ST/3RD ST,San Francisco,94107.0,B03,1.0,2175,A,3,3,True,Potentially Life-Threatening,1,MEDIC,2.0,3,6,South of Market,211813612-64,POINT (-122.39738553989454 37.782553592051045),34.0',\n",
       " '932,211231957,E10,21052884,Alarms,05/03/2021,05/03/2021,05/03/2021 03:02:55 PM,05/03/2021 03:04:24 PM,05/03/2021 03:04:37 PM,05/03/2021 03:05:15 PM,05/03/2021 03:10:35 PM,,,Fire,05/03/2021 03:10:36 PM,1400 Block of BRODERICK ST,San Francisco,94115.0,B05,10.0,4235,3,3,3,True,Alarm,1,ENGINE,2.0,5,2,Japantown,211231957-E10,POINT (-122.44137022688675 37.78386547963985),15.0',\n",
       " '933,211813612,RC1,21077762,Traffic Collision,06/30/2021,06/30/2021,06/30/2021 10:38:05 PM,06/30/2021 10:38:05 PM,06/30/2021 10:43:44 PM,06/30/2021 10:45:18 PM,06/30/2021 10:49:13 PM,,,Code 3 Transport,06/30/2021 10:52:04 PM,HARRISON ST/3RD ST,San Francisco,94107.0,B03,1.0,2175,A,3,3,True,Potentially Life-Threatening,1,RESCUE CAPTAIN,1.0,3,6,South of Market,211813612-RC1,POINT (-122.39738553989454 37.782553592051045),34.0',\n",
       " '934,211813612,E01,21077762,Traffic Collision,06/30/2021,06/30/2021,06/30/2021 10:38:05 PM,06/30/2021 10:38:05 PM,06/30/2021 10:38:35 PM,06/30/2021 10:40:42 PM,,,,Code 3 Transport,06/30/2021 11:08:39 PM,HARRISON ST/3RD ST,San Francisco,94107.0,B03,1.0,2175,A,3,3,True,Potentially Life-Threatening,1,ENGINE,3.0,3,6,South of Market,211813612-E01,POINT (-122.39738553989454 37.782553592051045),34.0',\n",
       " '935,211813604,E03,21077761,Medical Incident,06/30/2021,06/30/2021,06/30/2021 10:34:42 PM,06/30/2021 10:34:42 PM,06/30/2021 10:40:42 PM,06/30/2021 10:42:11 PM,06/30/2021 10:45:41 PM,,,Code 2 Transport,06/30/2021 10:48:10 PM,0 Block of POWELL ST,San Francisco,94102.0,B03,1.0,1364,B,2,2,True,Non Life-threatening,1,ENGINE,1.0,3,3,Tenderloin,211813604-E03,POINT (-122.40784389668706 37.78508671524501),36.0',\n",
       " '936,211813604,AM118,21077761,Medical Incident,06/30/2021,06/30/2021,06/30/2021 10:34:42 PM,06/30/2021 10:34:42 PM,06/30/2021 10:44:47 PM,06/30/2021 10:45:09 PM,06/30/2021 10:59:21 PM,06/30/2021 11:04:43 PM,06/30/2021 11:22:17 PM,Code 2 Transport,07/01/2021 12:04:27 AM,0 Block of POWELL ST,San Francisco,94102.0,B03,1.0,1364,B,2,2,False,Non Life-threatening,1,PRIVATE,2.0,3,3,Tenderloin,211813604-AM118,POINT (-122.40784389668706 37.78508671524501),36.0',\n",
       " '937,211813604,64,21077761,Medical Incident,06/30/2021,06/30/2021,06/30/2021 10:34:42 PM,06/30/2021 10:34:42 PM,06/30/2021 10:34:59 PM,06/30/2021 10:36:08 PM,,,,Code 2 Transport,06/30/2021 10:38:22 PM,0 Block of POWELL ST,San Francisco,94102.0,B03,1.0,1364,B,2,2,True,Non Life-threatening,1,MEDIC,3.0,3,3,Tenderloin,211813604-64,POINT (-122.40784389668706 37.78508671524501),36.0',\n",
       " '938,211813597,E21,21077760,Medical Incident,06/30/2021,06/30/2021,06/30/2021 10:32:26 PM,06/30/2021 10:32:26 PM,06/30/2021 10:32:33 PM,06/30/2021 10:33:30 PM,06/30/2021 10:36:09 PM,,,Code 2 Transport,06/30/2021 10:51:35 PM,OAK ST/CENTRAL AV,San Francisco,94117.0,B05,21.0,4352,A,3,3,False,Potentially Life-Threatening,1,ENGINE,1.0,5,5,Golden Gate Park,211813597-E21,POINT (-122.44402430615645 37.772295289897265),12.0',\n",
       " '939,211813597,KM12,21077760,Medical Incident,06/30/2021,06/30/2021,06/30/2021 10:32:26 PM,06/30/2021 10:32:26 PM,06/30/2021 10:32:33 PM,06/30/2021 10:34:00 PM,06/30/2021 10:38:10 PM,06/30/2021 10:59:08 PM,06/30/2021 11:05:09 PM,Code 2 Transport,06/30/2021 11:46:00 PM,OAK ST/CENTRAL AV,San Francisco,94117.0,B05,21.0,4352,A,3,3,False,Potentially Life-Threatening,1,PRIVATE,2.0,5,5,Golden Gate Park,211813597-KM12,POINT (-122.44402430615645 37.772295289897265),12.0',\n",
       " '940,211813594,AM120,21077759,Medical Incident,06/30/2021,06/30/2021,06/30/2021 10:30:50 PM,06/30/2021 10:30:50 PM,06/30/2021 10:31:00 PM,06/30/2021 10:31:34 PM,06/30/2021 10:35:38 PM,,,Patient Declined Transport,06/30/2021 11:11:59 PM,HAIGHT ST/LAGUNA ST,San Francisco,94102.0,B02,36.0,3415,A,E,3,False,Potentially Life-Threatening,1,PRIVATE,2.0,2,5,Hayes Valley,211813594-AM120,POINT (-122.42551205603512 37.772734311086644),9.0',\n",
       " '941,211813594,E36,21077759,Medical Incident,06/30/2021,06/30/2021,06/30/2021 10:30:50 PM,06/30/2021 10:30:50 PM,06/30/2021 10:31:00 PM,06/30/2021 10:31:39 PM,06/30/2021 10:34:36 PM,,,Patient Declined Transport,06/30/2021 10:37:31 PM,HAIGHT ST/LAGUNA ST,San Francisco,94102.0,B02,36.0,3415,A,E,3,True,Potentially Life-Threatening,1,ENGINE,1.0,2,5,Hayes Valley,211813594-E36,POINT (-122.42551205603512 37.772734311086644),9.0',\n",
       " '942,211813594,RC3,21077759,Medical Incident,06/30/2021,06/30/2021,06/30/2021 10:30:50 PM,06/30/2021 10:30:50 PM,06/30/2021 10:31:00 PM,06/30/2021 10:32:06 PM,06/30/2021 10:36:09 PM,,,Patient Declined Transport,06/30/2021 10:58:05 PM,HAIGHT ST/LAGUNA ST,San Francisco,94102.0,B02,36.0,3415,A,E,3,True,Potentially Life-Threatening,1,RESCUE CAPTAIN,3.0,2,5,Hayes Valley,211813594-RC3,POINT (-122.42551205603512 37.772734311086644),9.0',\n",
       " '943,211813589,AM122,21077758,Medical Incident,06/30/2021,06/30/2021,06/30/2021 10:29:37 PM,06/30/2021 10:29:37 PM,06/30/2021 10:30:01 PM,06/30/2021 10:30:32 PM,,,,Against Medical Advice,06/30/2021 11:22:51 PM,700 Block of NATOMA ST,San Francisco,94103.0,B02,1.0,2318,B,2,2,False,Non Life-threatening,1,PRIVATE,1.0,2,6,South of Market,211813589-AM122,POINT (-122.4128894154611 37.77600992107871),34.0',\n",
       " '944,211813576,95,21077757,Medical Incident,06/30/2021,06/30/2021,06/30/2021 10:22:55 PM,06/30/2021 10:24:45 PM,06/30/2021 10:24:57 PM,06/30/2021 10:25:00 PM,06/30/2021 10:33:15 PM,06/30/2021 10:38:23 PM,06/30/2021 10:55:33 PM,Code 2 Transport,06/30/2021 11:27:33 PM,600 Block of EDDY ST,San Francisco,94109.0,B02,3.0,1643,2,2,2,True,Potentially Life-Threatening,1,MEDIC,1.0,2,6,Tenderloin,211813576-95,POINT (-122.4183661541799 37.78326038612978),36.0',\n",
       " '945,211813561,E36,21077756,Medical Incident,06/30/2021,06/30/2021,06/30/2021 10:20:19 PM,06/30/2021 10:20:19 PM,06/30/2021 10:47:10 PM,06/30/2021 10:48:48 PM,06/30/2021 10:51:23 PM,,,Code 2 Transport,06/30/2021 10:55:28 PM,1100 Block of MARKET ST,San Francisco,94103.0,B02,36.0,2316,C,2,2,True,Non Life-threatening,1,ENGINE,2.0,2,6,South of Market,211813561-E36,POINT (-122.4135425486807 37.77953108466294),34.0',\n",
       " '946,211813561,75,21077756,Medical Incident,06/30/2021,06/30/2021,06/30/2021 10:20:19 PM,06/30/2021 10:20:19 PM,06/30/2021 10:20:34 PM,06/30/2021 10:20:38 PM,06/30/2021 10:32:39 PM,06/30/2021 10:55:23 PM,06/30/2021 11:02:37 PM,Code 2 Transport,06/30/2021 11:32:30 PM,1100 Block of MARKET ST,San Francisco,94103.0,B02,36.0,2316,C,2,2,True,Non Life-threatening,1,MEDIC,1.0,2,6,South of Market,211813561-75,POINT (-122.4135425486807 37.77953108466294),34.0',\n",
       " '947,211813551,89,21077755,Medical Incident,06/30/2021,06/30/2021,06/30/2021 10:15:05 PM,06/30/2021 10:18:09 PM,06/30/2021 10:18:35 PM,06/30/2021 10:18:38 PM,06/30/2021 10:37:19 PM,06/30/2021 10:52:52 PM,06/30/2021 11:09:45 PM,Code 2 Transport,06/30/2021 11:52:38 PM,200 Block of SOUTH VAN NESS AV,San Francisco,94103.0,B02,36.0,5123,2,2,2,True,Non Life-threatening,1,MEDIC,1.0,2.0,9,Mission,211813551-89,POINT (-122.41785731967296 37.76911326949871),20.0',\n",
       " '948,211813547,B10,21077754,Alarms,06/30/2021,06/30/2021,06/30/2021 10:15:39 PM,06/30/2021 10:17:09 PM,06/30/2021 10:17:26 PM,06/30/2021 10:18:55 PM,06/30/2021 10:21:45 PM,,,Fire,06/30/2021 10:35:11 PM,90-92 CHARTER OAK AV,San Francisco,94124.0,B10,42.0,6381,3,3,3,False,Alarm,1,CHIEF,2.0,10.0,10,Bayview Hunters Point,211813547-B10,POINT (-122.40492369205433 37.73762881793211),1.0',\n",
       " '949,211813547,T09,21077754,Alarms,06/30/2021,06/30/2021,06/30/2021 10:15:39 PM,06/30/2021 10:17:09 PM,06/30/2021 10:17:26 PM,06/30/2021 10:19:23 PM,06/30/2021 10:22:09 PM,,,Fire,06/30/2021 10:41:42 PM,90-92 CHARTER OAK AV,San Francisco,94124.0,B10,42.0,6381,3,3,3,True,Alarm,1,TRUCK,3.0,10.0,10,Bayview Hunters Point,211813547-T09,POINT (-122.40492369205433 37.73762881793211),1.0',\n",
       " '950,211813547,E09,21077754,Alarms,06/30/2021,06/30/2021,06/30/2021 10:15:39 PM,06/30/2021 10:17:09 PM,06/30/2021 10:17:26 PM,06/30/2021 10:18:56 PM,06/30/2021 10:21:35 PM,,,Fire,06/30/2021 10:40:14 PM,90-92 CHARTER OAK AV,San Francisco,94124.0,B10,42.0,6381,3,3,3,True,Alarm,1,ENGINE,1.0,10.0,10,Bayview Hunters Point,211813547-E09,POINT (-122.40492369205433 37.73762881793211),1.0',\n",
       " '951,211813540,67,21077753,Medical Incident,06/30/2021,06/30/2021,06/30/2021 10:15:14 PM,06/30/2021 10:15:35 PM,06/30/2021 10:16:12 PM,06/30/2021 10:16:19 PM,06/30/2021 10:21:45 PM,,,Against Medical Advice,06/30/2021 11:13:25 PM,1400 Block of HAIGHT ST,San Francisco,94117.0,B05,21.0,4466,3,3,3,True,Potentially Life-Threatening,1,MEDIC,3.0,5,5,Haight Ashbury,211813540-67,POINT (-122.44612843129802 37.770054661455745),3.0',\n",
       " '952,211813540,E21,21077753,Medical Incident,06/30/2021,06/30/2021,06/30/2021 10:15:14 PM,06/30/2021 10:15:35 PM,06/30/2021 10:16:12 PM,06/30/2021 10:17:04 PM,06/30/2021 10:19:59 PM,,,Against Medical Advice,06/30/2021 10:24:42 PM,1400 Block of HAIGHT ST,San Francisco,94117.0,B05,21.0,4466,3,3,3,False,Potentially Life-Threatening,1,ENGINE,1.0,5,5,Haight Ashbury,211813540-E21,POINT (-122.44612843129802 37.770054661455745),3.0',\n",
       " '953,211813540,E12,21077753,Medical Incident,06/30/2021,06/30/2021,06/30/2021 10:15:14 PM,06/30/2021 10:15:35 PM,06/30/2021 10:16:51 PM,06/30/2021 10:17:56 PM,06/30/2021 10:20:53 PM,,,Against Medical Advice,06/30/2021 10:24:48 PM,1400 Block of HAIGHT ST,San Francisco,94117.0,B05,21.0,4466,3,3,3,True,Potentially Life-Threatening,1,ENGINE,2.0,5,5,Haight Ashbury,211813540-E12,POINT (-122.44612843129802 37.770054661455745),3.0',\n",
       " '954,211813527,72,21077752,Medical Incident,06/30/2021,06/30/2021,06/30/2021 10:11:25 PM,06/30/2021 10:12:31 PM,06/30/2021 10:12:49 PM,06/30/2021 10:12:56 PM,06/30/2021 10:17:04 PM,06/30/2021 10:34:31 PM,06/30/2021 10:59:46 PM,Code 2 Transport,06/30/2021 11:52:44 PM,1500 Block of GRANT AVE,San Francisco,94133.0,B01,28.0,1265,3,2,2,True,Non Life-threatening,1,MEDIC,2.0,1,3,North Beach,211813527-72,POINT (-122.40777592961082 37.80124843342296),23.0',\n",
       " '955,211813527,E28,21077752,Medical Incident,06/30/2021,06/30/2021,06/30/2021 10:11:25 PM,06/30/2021 10:12:31 PM,06/30/2021 10:12:49 PM,06/30/2021 10:14:09 PM,06/30/2021 10:16:02 PM,,,Code 2 Transport,06/30/2021 10:20:56 PM,1500 Block of GRANT AVE,San Francisco,94133.0,B01,28.0,1265,3,2,2,False,Non Life-threatening,1,ENGINE,1.0,1,3,North Beach,211813527-E28,POINT (-122.40777592961082 37.80124843342296),23.0',\n",
       " '956,211813517,E23,21077751,Outside Fire,06/30/2021,06/30/2021,06/30/2021 10:09:21 PM,06/30/2021 10:10:13 PM,06/30/2021 10:10:31 PM,06/30/2021 10:12:42 PM,06/30/2021 10:15:36 PM,,,Fire,06/30/2021 10:19:34 PM,GREAT HY/KIRKHAM ST,San Francisco,94122.0,B08,23.0,7724,3,3,3,False,Fire,1,ENGINE,1.0,8,4,Sunset/Parkside,211813517-E23,POINT (-122.50911129030315 37.75841445371565),35.0',\n",
       " '957,211813499,E06,21077750,Outside Fire,06/30/2021,06/30/2021,06/30/2021 10:03:21 PM,06/30/2021 10:04:09 PM,06/30/2021 10:04:14 PM,06/30/2021 10:06:13 PM,06/30/2021 10:08:38 PM,,,Fire,06/30/2021 10:13:47 PM,HAIGHT ST/LAGUNA ST,San Francisco,94102.0,B02,36.0,3415,3,3,3,True,Fire,1,ENGINE,1.0,2,5,Hayes Valley,211813499-E06,POINT (-122.42551205603512 37.772734311086644),9.0',\n",
       " '958,211813480,85,21077749,Medical Incident,06/30/2021,06/30/2021,06/30/2021 09:59:26 PM,06/30/2021 09:59:26 PM,06/30/2021 09:59:42 PM,06/30/2021 10:00:31 PM,06/30/2021 10:13:00 PM,06/30/2021 10:20:28 PM,06/30/2021 10:33:44 PM,Code 2 Transport,06/30/2021 11:09:01 PM,700 Block of MINNA ST,San Francisco,94103.0,B02,1.0,2318,A,2,2,True,Non Life-threatening,1,MEDIC,1.0,2,6,South of Market,211813480-85,POINT (-122.41334620638337 37.77637456249964),34.0',\n",
       " '959,211813463,E36,21077748,Medical Incident,06/30/2021,06/30/2021,06/30/2021 09:54:22 PM,06/30/2021 09:54:22 PM,06/30/2021 09:56:14 PM,06/30/2021 09:57:41 PM,06/30/2021 10:00:11 PM,,,Code 2 Transport,06/30/2021 10:07:09 PM,7TH ST/MARKET ST,San Francisco,94103.0,B02,36.0,2316,B,3,3,True,Potentially Life-Threatening,1,ENGINE,1.0,2,6,South of Market,211813463-E36,POINT (-122.41251225721828 37.78047851217386),34.0',\n",
       " '960,211813463,KM11,21077748,Medical Incident,06/30/2021,06/30/2021,06/30/2021 09:54:22 PM,06/30/2021 09:54:22 PM,06/30/2021 09:56:14 PM,06/30/2021 09:56:59 PM,06/30/2021 10:05:10 PM,06/30/2021 10:12:16 PM,06/30/2021 10:21:36 PM,Code 2 Transport,06/30/2021 10:53:22 PM,7TH ST/MARKET ST,San Francisco,94103.0,B02,36.0,2316,B,3,3,False,Potentially Life-Threatening,1,PRIVATE,2.0,2,6,South of Market,211813463-KM11,POINT (-122.41251225721828 37.78047851217386),34.0',\n",
       " '961,211813446,76,21077747,Medical Incident,06/30/2021,06/30/2021,06/30/2021 09:44:51 PM,06/30/2021 09:46:03 PM,06/30/2021 09:46:16 PM,06/30/2021 09:46:25 PM,06/30/2021 09:57:55 PM,06/30/2021 10:14:55 PM,06/30/2021 10:30:30 PM,Code 2 Transport,06/30/2021 11:02:03 PM,2000 Block of BUSH ST,San Francisco,94115.0,B04,38.0,3512,2,2,2,True,Potentially Life-Threatening,1,MEDIC,1.0,4,5,Pacific Heights,211813446-76,POINT (-122.43097980067606 37.78728162582956),30.0',\n",
       " '962,211813428,67,21077746,Other,06/30/2021,06/30/2021,06/30/2021 09:39:01 PM,06/30/2021 09:39:01 PM,06/30/2021 09:39:29 PM,06/30/2021 09:39:59 PM,,,,Cancelled,06/30/2021 09:57:05 PM,700 Block of CLEMENTINA ST,San Francisco,94103.0,B02,1.0,2335,A,2,2,True,Non Life-threatening,1,MEDIC,1.0,2,6,South of Market,211813428-67,POINT (-122.41143917806632 37.77485298693652),34.0',\n",
       " '963,211813402,E32,21077745,Medical Incident,06/30/2021,06/30/2021,06/30/2021 09:33:44 PM,06/30/2021 09:34:13 PM,06/30/2021 09:34:38 PM,06/30/2021 09:37:51 PM,06/30/2021 09:37:51 PM,,,Code 2 Transport,06/30/2021 09:47:24 PM,CRESCENT AV/MOULTRIE ST,San Francisco,94110.0,B06,32.0,5751,3,3,3,True,Potentially Life-Threatening,1,ENGINE,1.0,6,9,Bernal Heights,211813402-E32,POINT (-122.41617188110293 37.73485571778992),2.0',\n",
       " '964,211813402,52,21077745,Medical Incident,06/30/2021,06/30/2021,06/30/2021 09:33:44 PM,06/30/2021 09:34:13 PM,06/30/2021 09:34:38 PM,06/30/2021 09:35:17 PM,06/30/2021 09:42:23 PM,06/30/2021 09:57:03 PM,06/30/2021 10:03:35 PM,Code 2 Transport,06/30/2021 11:50:32 PM,CRESCENT AV/MOULTRIE ST,San Francisco,94110.0,B06,32.0,5751,3,3,3,True,Potentially Life-Threatening,1,MEDIC,2.0,6,9,Bernal Heights,211813402-52,POINT (-122.41617188110293 37.73485571778992),2.0',\n",
       " '965,211813397,E18,21077744,Electrical Hazard,06/30/2021,06/30/2021,06/30/2021 09:28:44 PM,06/30/2021 09:32:30 PM,06/30/2021 09:32:44 PM,06/30/2021 09:33:48 PM,06/30/2021 09:38:07 PM,,,Unable to Locate,06/30/2021 09:40:02 PM,VICENTE ST/39TH AV,San Francisco,94116.0,B08,18.0,7613,3,3,3,True,Alarm,1,ENGINE,1.0,8,4,Sunset/Parkside,211813397-E18,POINT (-122.49685477025224 37.73837949999161),35.0',\n",
       " '966,211813363,B02,21077743,Gas Leak (Natural and LP Gases),06/30/2021,06/30/2021,06/30/2021 09:19:28 PM,06/30/2021 09:20:27 PM,06/30/2021 09:20:45 PM,06/30/2021 09:22:20 PM,06/30/2021 09:24:42 PM,,,Fire,06/30/2021 09:29:30 PM,400 Block of EDDY ST,San Francisco,94109.0,B02,3.0,1545,3,3,3,False,Alarm,1,CHIEF,3.0,2,6,Tenderloin,211813363-B02,POINT (-122.4150729808028 37.78367395235694),36.0',\n",
       " '967,211813363,E03,21077743,Gas Leak (Natural and LP Gases),06/30/2021,06/30/2021,06/30/2021 09:19:28 PM,06/30/2021 09:20:27 PM,06/30/2021 09:20:45 PM,06/30/2021 09:22:06 PM,06/30/2021 09:24:19 PM,,,Fire,06/30/2021 09:31:03 PM,400 Block of EDDY ST,San Francisco,94109.0,B02,3.0,1545,3,3,3,True,Alarm,1,ENGINE,1.0,2,6,Tenderloin,211813363-E03,POINT (-122.4150729808028 37.78367395235694),36.0',\n",
       " '968,211813363,T03,21077743,Gas Leak (Natural and LP Gases),06/30/2021,06/30/2021,06/30/2021 09:19:28 PM,06/30/2021 09:20:27 PM,06/30/2021 09:20:45 PM,06/30/2021 09:22:44 PM,06/30/2021 09:24:32 PM,,,Fire,06/30/2021 09:31:15 PM,400 Block of EDDY ST,San Francisco,94109.0,B02,3.0,1545,3,3,3,False,Alarm,1,TRUCK,2.0,2,6,Tenderloin,211813363-T03,POINT (-122.4150729808028 37.78367395235694),36.0',\n",
       " '969,211813353,70,21077742,Medical Incident,06/30/2021,06/30/2021,06/30/2021 09:16:17 PM,06/30/2021 09:18:39 PM,06/30/2021 09:19:28 PM,06/30/2021 09:19:38 PM,06/30/2021 09:35:10 PM,06/30/2021 09:52:34 PM,06/30/2021 10:25:18 PM,Code 2 Transport,06/30/2021 11:21:30 PM,100 Block of OTIS ST,San Francisco,94103.0,B02,36.0,5125,2,2,2,True,Potentially Life-Threatening,1,MEDIC,1.0,2,6,Mission,211813353-70,POINT (-122.42030499432508 37.77091333729764),20.0',\n",
       " '970,211813352,77,21077741,Medical Incident,06/30/2021,06/30/2021,06/30/2021 09:17:07 PM,06/30/2021 09:18:33 PM,06/30/2021 09:18:56 PM,06/30/2021 09:19:04 PM,06/30/2021 09:32:34 PM,06/30/2021 09:50:41 PM,06/30/2021 10:12:14 PM,Code 2 Transport,06/30/2021 11:01:14 PM,200 Block of MOSCOW ST,San Francisco,94112.0,B09,43.0,6164,2,2,2,True,Non Life-threatening,1,MEDIC,1.0,9,11,Excelsior,211813352-77,POINT (-122.42582545343713 37.72357589171212),7.0',\n",
       " '971,211813348,62,21077740,Medical Incident,06/30/2021,06/30/2021,06/30/2021 09:16:02 PM,06/30/2021 09:17:21 PM,06/30/2021 09:17:30 PM,06/30/2021 09:17:37 PM,06/30/2021 09:30:53 PM,06/30/2021 09:51:47 PM,06/30/2021 09:56:40 PM,Code 2 Transport,06/30/2021 10:52:18 PM,2000 Block of MARKET ST,San Francisco,94114.0,B02,6.0,5213,2,2,2,True,Non Life-threatening,1,MEDIC,1.0,2,8,Castro/Upper Market,211813348-62,POINT (-122.42695563170909 37.76924706320728),5.0',\n",
       " '972,211813325,68,21077739,Medical Incident,06/30/2021,06/30/2021,06/30/2021 09:11:08 PM,06/30/2021 09:11:08 PM,06/30/2021 09:11:30 PM,06/30/2021 09:12:11 PM,06/30/2021 09:22:02 PM,06/30/2021 09:43:07 PM,06/30/2021 10:00:59 PM,Code 2 Transport,06/30/2021 11:11:50 PM,200 Block of EDDY ST,San Francisco,94102.0,B03,3.0,1453,B,2,2,True,Non Life-threatening,1,MEDIC,1.0,3,6,Tenderloin,211813325-68,POINT (-122.41178436945442 37.78409103617571),36.0',\n",
       " '973,211813315,E43,21077738,Medical Incident,06/30/2021,06/30/2021,06/30/2021 09:06:23 PM,06/30/2021 09:07:45 PM,06/30/2021 09:08:12 PM,06/30/2021 09:09:00 PM,06/30/2021 09:23:19 PM,,,Code 3 Transport,06/30/2021 09:23:20 PM,2000 Block of SUNNYDALE AVE,San Francisco,94134.0,B09,44.0,6241,3,3,3,True,Potentially Life-Threatening,1,ENGINE,3.0,9,10,Visitacion Valley,211813315-E43,POINT (-122.41714122572736 37.712149508822876),40.0',\n",
       " '974,211813315,RC4,21077738,Medical Incident,06/30/2021,06/30/2021,06/30/2021 09:06:23 PM,06/30/2021 09:07:45 PM,06/30/2021 09:09:50 PM,06/30/2021 09:09:50 PM,06/30/2021 09:12:12 PM,,,Code 3 Transport,06/30/2021 10:03:34 PM,2000 Block of SUNNYDALE AVE,San Francisco,94134.0,B09,44.0,6241,3,3,3,True,Potentially Life-Threatening,1,RESCUE CAPTAIN,1.0,9,10,Visitacion Valley,211813315-RC4,POINT (-122.41714122572736 37.712149508822876),40.0',\n",
       " '975,211813315,AM118,21077738,Medical Incident,06/30/2021,06/30/2021,06/30/2021 09:06:23 PM,06/30/2021 09:07:45 PM,06/30/2021 09:08:12 PM,06/30/2021 09:08:41 PM,06/30/2021 09:20:27 PM,06/30/2021 09:33:54 PM,06/30/2021 09:50:16 PM,Code 3 Transport,06/30/2021 10:41:44 PM,2000 Block of SUNNYDALE AVE,San Francisco,94134.0,B09,44.0,6241,3,3,3,False,Potentially Life-Threatening,1,PRIVATE,2.0,9,10,Visitacion Valley,211813315-AM118,POINT (-122.41714122572736 37.712149508822876),40.0',\n",
       " '976,211813293,72,21077737,Other,06/30/2021,06/30/2021,06/30/2021 08:58:16 PM,06/30/2021 08:58:16 PM,06/30/2021 08:59:48 PM,06/30/2021 08:59:53 PM,06/30/2021 09:08:54 PM,,,Patient Declined Transport,06/30/2021 10:05:23 PM,800 Block of MISSION ST,San Francisco,94103.0,B03,1.0,2213,A,2,2,True,Non Life-threatening,1,MEDIC,1.0,3,6,South of Market,211813293-72,POINT (-122.40539549393893 37.783510071542366),34.0',\n",
       " '977,211813266,SCRT5,21077735,Medical Incident,06/30/2021,06/30/2021,06/30/2021 08:49:24 PM,06/30/2021 08:51:07 PM,06/30/2021 08:52:37 PM,06/30/2021 08:52:40 PM,06/30/2021 09:11:25 PM,,,Unable to Locate,06/30/2021 09:39:54 PM,700 Block of GEARY ST,San Francisco,94109.0,B04,3.0,1556,1,1,2,False,Non Life-threatening,1,SUPPORT,1.0,4,6,Tenderloin,211813266-SCRT5,POINT (-122.41561690024632 37.78636079146468),36.0',\n",
       " '978,211813261,E44,21077734,Alarms,06/30/2021,06/30/2021,06/30/2021 08:47:35 PM,06/30/2021 08:48:45 PM,06/30/2021 08:49:41 PM,06/30/2021 08:51:05 PM,06/30/2021 08:56:45 PM,,,Fire,06/30/2021 09:01:06 PM,700 Block of DARTMOUTH ST,San Francisco,94134.0,B09,44.0,6321,3,3,3,False,Alarm,1,ENGINE,1.0,9,9,Portola,211813261-E44,POINT (-122.40981930952496 37.72135407816782),25.0',\n",
       " '979,211813261,B10,21077734,Alarms,06/30/2021,06/30/2021,06/30/2021 08:47:35 PM,06/30/2021 08:48:45 PM,06/30/2021 08:49:41 PM,06/30/2021 08:51:15 PM,06/30/2021 08:56:52 PM,,,Fire,06/30/2021 08:58:08 PM,700 Block of DARTMOUTH ST,San Francisco,94134.0,B09,44.0,6321,3,3,3,False,Alarm,1,CHIEF,2.0,9,9,Portola,211813261-B10,POINT (-122.40981930952496 37.72135407816782),25.0',\n",
       " '980,211813261,T17,21077734,Alarms,06/30/2021,06/30/2021,06/30/2021 08:47:35 PM,06/30/2021 08:48:45 PM,06/30/2021 08:49:41 PM,06/30/2021 08:51:27 PM,,,,Fire,06/30/2021 09:08:27 PM,700 Block of DARTMOUTH ST,San Francisco,94134.0,B09,44.0,6321,3,3,3,False,Alarm,1,TRUCK,3.0,9,9,Portola,211813261-T17,POINT (-122.40981930952496 37.72135407816782),25.0',\n",
       " '981,211813258,96,21077733,Medical Incident,06/30/2021,06/30/2021,06/30/2021 08:47:11 PM,06/30/2021 08:48:34 PM,06/30/2021 08:48:53 PM,06/30/2021 08:48:59 PM,06/30/2021 08:54:47 PM,,,Against Medical Advice,06/30/2021 09:31:13 PM,STEVENSON ST/5TH ST,San Francisco,94103.0,B01,1.0,2247,3,3,3,True,Potentially Life-Threatening,1,MEDIC,2.0,3,6,South of Market,211813258-96,POINT (-122.407482813601 37.783528916199245),34.0',\n",
       " '982,211813258,E01,21077733,Medical Incident,06/30/2021,06/30/2021,06/30/2021 08:47:11 PM,06/30/2021 08:48:34 PM,06/30/2021 08:48:53 PM,06/30/2021 08:48:58 PM,06/30/2021 08:53:22 PM,,,Against Medical Advice,06/30/2021 09:02:14 PM,STEVENSON ST/5TH ST,San Francisco,94103.0,B01,1.0,2247,3,3,3,True,Potentially Life-Threatening,1,ENGINE,1.0,3,6,South of Market,211813258-E01,POINT (-122.407482813601 37.783528916199245),34.0',\n",
       " '983,211813253,E35,21077732,Alarms,06/30/2021,06/30/2021,06/30/2021 08:46:04 PM,06/30/2021 08:47:47 PM,06/30/2021 08:48:08 PM,06/30/2021 08:49:47 PM,06/30/2021 08:52:03 PM,,,Fire,06/30/2021 09:52:25 PM,0 Block of BAYSIDE VILLAGE PL,San Francisco,94107.0,B03,35.0,2134,3,3,3,True,Alarm,1,ENGINE,1.0,3,6,Financial District/South Beach,211813253-E35,POINT (-122.3896698664262 37.784898473610816),8.0',\n",
       " '984,211813253,B03,21077732,Alarms,06/30/2021,06/30/2021,06/30/2021 08:46:04 PM,06/30/2021 08:47:47 PM,06/30/2021 08:48:08 PM,06/30/2021 08:50:37 PM,06/30/2021 08:52:03 PM,,,Fire,06/30/2021 09:06:02 PM,0 Block of BAYSIDE VILLAGE PL,San Francisco,94107.0,B03,35.0,2134,3,3,3,False,Alarm,1,CHIEF,2.0,3,6,Financial District/South Beach,211813253-B03,POINT (-122.3896698664262 37.784898473610816),8.0',\n",
       " '985,211813253,T08,21077732,Alarms,06/30/2021,06/30/2021,06/30/2021 08:46:04 PM,06/30/2021 08:47:47 PM,06/30/2021 08:48:08 PM,06/30/2021 08:49:46 PM,06/30/2021 08:53:21 PM,,,Fire,06/30/2021 09:53:02 PM,0 Block of BAYSIDE VILLAGE PL,San Francisco,94107.0,B03,35.0,2134,3,3,3,False,Alarm,1,TRUCK,3.0,3,6,Financial District/South Beach,211813253-T08,POINT (-122.3896698664262 37.784898473610816),8.0',\n",
       " '986,211813252,E02,21077731,Medical Incident,06/30/2021,06/30/2021,06/30/2021 08:45:45 PM,06/30/2021 08:47:31 PM,06/30/2021 08:47:42 PM,06/30/2021 08:49:46 PM,06/30/2021 08:51:24 PM,,,Code 3 Transport,06/30/2021 09:03:44 PM,1300 Block of STOCKTON ST,San Francisco,94133.0,B01,2.0,1333,3,3,3,True,Potentially Life-Threatening,1,ENGINE,1.0,1,3,Chinatown,211813252-E02,POINT (-122.40864512740546 37.79810807456255),6.0',\n",
       " '987,211813252,AM120,21077731,Medical Incident,06/30/2021,06/30/2021,06/30/2021 08:45:45 PM,06/30/2021 08:47:31 PM,06/30/2021 08:47:42 PM,,,,,Code 3 Transport,06/30/2021 08:49:15 PM,1300 Block of STOCKTON ST,San Francisco,94133.0,B01,2.0,1333,3,3,3,False,Potentially Life-Threatening,1,PRIVATE,3.0,1,3,Chinatown,211813252-AM120,POINT (-122.40864512740546 37.79810807456255),6.0',\n",
       " '988,211813252,95,21077731,Medical Incident,06/30/2021,06/30/2021,06/30/2021 08:45:45 PM,06/30/2021 08:47:31 PM,06/30/2021 08:48:44 PM,06/30/2021 08:48:47 PM,06/30/2021 08:51:25 PM,06/30/2021 09:14:37 PM,06/30/2021 09:20:08 PM,Code 3 Transport,06/30/2021 10:14:37 PM,1300 Block of STOCKTON ST,San Francisco,94133.0,B01,2.0,1333,3,3,3,True,Potentially Life-Threatening,1,MEDIC,2.0,1,3,Chinatown,211813252-95,POINT (-122.40864512740546 37.79810807456255),6.0',\n",
       " '989,211813245,73,21077730,Medical Incident,06/30/2021,06/30/2021,06/30/2021 08:44:18 PM,06/30/2021 08:44:18 PM,06/30/2021 08:45:02 PM,06/30/2021 08:45:06 PM,06/30/2021 08:54:02 PM,06/30/2021 09:18:05 PM,06/30/2021 09:26:44 PM,Code 2 Transport,06/30/2021 10:58:21 PM,400 Block of GENEVA AVE,San Francisco,94112.0,B09,15.0,8319,B,2,2,True,Non Life-threatening,1,MEDIC,1.0,9,11,Outer Mission,211813245-73,POINT (-122.44713618372195 37.72103513607573),28.0',\n",
       " '990,211813229,95,21077729,Traffic Collision,06/30/2021,06/30/2021,06/30/2021 08:39:24 PM,06/30/2021 08:39:24 PM,06/30/2021 08:39:42 PM,06/30/2021 08:39:45 PM,06/30/2021 08:43:22 PM,,,Unable to Locate,06/30/2021 08:44:19 PM,7TH ST/MISSION ST,San Francisco,94103.0,B02,1.0,2315,A,3,3,True,Potentially Life-Threatening,1,MEDIC,2.0,2,6,South of Market,211813229-95,POINT (-122.41093657380003 37.779211684542325),34.0',\n",
       " '991,211813229,E36,21077729,Traffic Collision,06/30/2021,06/30/2021,06/30/2021 08:39:24 PM,06/30/2021 08:39:24 PM,06/30/2021 08:39:42 PM,06/30/2021 08:41:46 PM,,,,Unable to Locate,06/30/2021 08:43:55 PM,7TH ST/MISSION ST,San Francisco,94103.0,B02,1.0,2315,A,3,3,True,Potentially Life-Threatening,1,ENGINE,3.0,2,6,South of Market,211813229-E36,POINT (-122.41093657380003 37.779211684542325),34.0',\n",
       " '992,211813229,RS1,21077729,Traffic Collision,06/30/2021,06/30/2021,06/30/2021 08:39:24 PM,06/30/2021 08:39:24 PM,06/30/2021 08:39:42 PM,06/30/2021 08:41:13 PM,06/30/2021 08:43:01 PM,,,Unable to Locate,06/30/2021 08:44:24 PM,7TH ST/MISSION ST,San Francisco,94103.0,B02,1.0,2315,A,3,3,False,Potentially Life-Threatening,1,RESCUE SQUAD,1.0,2,6,South of Market,211813229-RS1,POINT (-122.41093657380003 37.779211684542325),34.0',\n",
       " '993,211813216,75,21077728,Medical Incident,06/30/2021,06/30/2021,06/30/2021 08:36:21 PM,06/30/2021 08:36:56 PM,06/30/2021 08:37:26 PM,06/30/2021 08:37:30 PM,06/30/2021 08:42:47 PM,06/30/2021 08:59:33 PM,06/30/2021 09:12:13 PM,Code 2 Transport,06/30/2021 10:04:35 PM,600 Block of BAY ST,San Francisco,94133.0,B01,28.0,1525,3,3,3,True,Potentially Life-Threatening,1,MEDIC,2.0,1,3,North Beach,211813216-75,POINT (-122.41706768464793 37.80524501913409),23.0',\n",
       " '994,211813216,E28,21077728,Medical Incident,06/30/2021,06/30/2021,06/30/2021 08:36:21 PM,06/30/2021 08:36:56 PM,06/30/2021 08:37:26 PM,06/30/2021 08:38:33 PM,06/30/2021 08:41:03 PM,,,Code 2 Transport,06/30/2021 08:47:30 PM,600 Block of BAY ST,San Francisco,94133.0,B01,28.0,1525,3,3,3,False,Potentially Life-Threatening,1,ENGINE,1.0,1,3,North Beach,211813216-E28,POINT (-122.41706768464793 37.80524501913409),23.0',\n",
       " '995,211813214,E01,21077727,Explosion,06/30/2021,06/30/2021,06/30/2021 08:34:13 PM,06/30/2021 08:36:32 PM,06/30/2021 08:37:57 PM,06/30/2021 08:39:45 PM,06/30/2021 08:41:29 PM,,,Fire,06/30/2021 08:43:34 PM,0 Block of HARRIET ST,San Francisco,94103.0,B03,1.0,2252,3,3,3,True,Fire,1,ENGINE,1.0,3,6,South of Market,211813214-E01,POINT (-122.40696994408671 37.77866179439041),34.0',\n",
       " '996,211813214,B03,21077727,Explosion,06/30/2021,06/30/2021,06/30/2021 08:34:13 PM,06/30/2021 08:36:32 PM,06/30/2021 08:37:57 PM,06/30/2021 08:39:57 PM,,,,Fire,06/30/2021 08:44:03 PM,0 Block of HARRIET ST,San Francisco,94103.0,B03,1.0,2252,3,3,3,False,Fire,1,CHIEF,2.0,3,6,South of Market,211813214-B03,POINT (-122.40696994408671 37.77866179439041),34.0',\n",
       " '997,211813211,KM11,21077726,Medical Incident,06/30/2021,06/30/2021,06/30/2021 08:36:26 PM,06/30/2021 08:36:26 PM,06/30/2021 08:36:40 PM,06/30/2021 08:37:20 PM,06/30/2021 08:46:19 PM,06/30/2021 08:54:03 PM,06/30/2021 09:08:12 PM,Code 2 Transport,06/30/2021 09:38:53 PM,0 Block of TOLEDO WAY,San Francisco,94123.0,B04,16.0,3565,A,2,2,False,Non Life-threatening,1,PRIVATE,1.0,4,2,Marina,211813211-KM11,POINT (-122.43846546123724 37.80119507315116),13.0',\n",
       " '998,211813205,E22,21077725,Alarms,06/30/2021,06/30/2021,06/30/2021 08:32:17 PM,06/30/2021 08:34:27 PM,06/30/2021 08:35:08 PM,06/30/2021 08:36:15 PM,06/30/2021 08:38:42 PM,,,Fire,06/30/2021 09:08:25 PM,0 Block of HAGIWARA TEA GARDEN DR,San Francisco,94118.0,B07,22.0,7742,3,3,3,False,Alarm,1,ENGINE,1.0,7,1,Golden Gate Park,211813205-E22,POINT (-122.46830096819892 37.770958280725445),12.0',\n",
       " ...]"
      ]
     },
     "execution_count": 5,
     "metadata": {},
     "output_type": "execute_result"
    }
   ],
   "source": [
    "input_rdd.collect()"
   ]
  },
  {
   "cell_type": "code",
   "execution_count": 3,
   "id": "5af5ec5c",
   "metadata": {},
   "outputs": [],
   "source": [
    "splitted_rdd = input_rdd.map(lambda x: x.split(','))"
   ]
  },
  {
   "cell_type": "code",
   "execution_count": 4,
   "id": "2b5a74fa",
   "metadata": {},
   "outputs": [
    {
     "name": "stderr",
     "output_type": "stream",
     "text": [
      "                                                                                \r"
     ]
    },
    {
     "data": {
      "text/plain": [
       "[['',\n",
       "  'Call Number',\n",
       "  'Unit ID',\n",
       "  'Incident Number',\n",
       "  'Call Type',\n",
       "  'Call Date',\n",
       "  'Watch Date',\n",
       "  'Received DtTm',\n",
       "  'Entry DtTm',\n",
       "  'Dispatch DtTm',\n",
       "  'Response DtTm',\n",
       "  'On Scene DtTm',\n",
       "  'Transport DtTm',\n",
       "  'Hospital DtTm',\n",
       "  'Call Final Disposition',\n",
       "  'Available DtTm',\n",
       "  'Address',\n",
       "  'City',\n",
       "  'Zipcode of Incident',\n",
       "  'Battalion',\n",
       "  'Station Area',\n",
       "  'Box',\n",
       "  'Original Priority',\n",
       "  'Priority',\n",
       "  'Final Priority',\n",
       "  'ALS Unit',\n",
       "  'Call Type Group',\n",
       "  'Number of Alarms',\n",
       "  'Unit Type',\n",
       "  'Unit sequence in call dispatch',\n",
       "  'Fire Prevention District',\n",
       "  'Supervisor District',\n",
       "  'Neighborhooods - Analysis Boundaries',\n",
       "  'RowID',\n",
       "  'case_location',\n",
       "  'Analysis Neighborhoods'],\n",
       " ['0',\n",
       "  '221210313',\n",
       "  'E36',\n",
       "  '22054955',\n",
       "  'Outside Fire',\n",
       "  '05/01/2022',\n",
       "  '04/30/2022',\n",
       "  '05/01/2022 02:58:25 AM',\n",
       "  '05/01/2022 02:59:15 AM',\n",
       "  '05/01/2022 02:59:25 AM',\n",
       "  '05/01/2022 03:01:06 AM',\n",
       "  '05/01/2022 03:02:27 AM',\n",
       "  '',\n",
       "  '',\n",
       "  'Fire',\n",
       "  '05/01/2022 03:05:00 AM',\n",
       "  'GOUGH ST/GROVE ST',\n",
       "  'San Francisco',\n",
       "  '94102.0',\n",
       "  'B02',\n",
       "  '36.0',\n",
       "  '3265',\n",
       "  '3',\n",
       "  '3',\n",
       "  '3',\n",
       "  'True',\n",
       "  'Fire',\n",
       "  '1',\n",
       "  'ENGINE',\n",
       "  '1.0',\n",
       "  '2',\n",
       "  '5',\n",
       "  'Hayes Valley',\n",
       "  '221210313-E36',\n",
       "  'POINT (-122.42316555403964 37.77781524520032)',\n",
       "  '9.0'],\n",
       " ['1',\n",
       "  '220190150',\n",
       "  'E29',\n",
       "  '22008871',\n",
       "  'Alarms',\n",
       "  '01/19/2022',\n",
       "  '01/18/2022',\n",
       "  '01/19/2022 01:42:12 AM',\n",
       "  '01/19/2022 01:44:13 AM',\n",
       "  '01/19/2022 01:44:28 AM',\n",
       "  '01/19/2022 01:46:47 AM',\n",
       "  '01/19/2022 01:49:32 AM',\n",
       "  '',\n",
       "  '',\n",
       "  'Fire',\n",
       "  '01/19/2022 02:35:26 AM',\n",
       "  '100 Block of MISSISSIPPI ST',\n",
       "  'San Francisco',\n",
       "  '94107.0',\n",
       "  'B03',\n",
       "  '29.0',\n",
       "  '2431',\n",
       "  '3',\n",
       "  '3',\n",
       "  '3',\n",
       "  'True',\n",
       "  'Alarm',\n",
       "  '1',\n",
       "  'ENGINE',\n",
       "  '1.0',\n",
       "  '3',\n",
       "  '10',\n",
       "  'Potrero Hill',\n",
       "  '220190150-E29',\n",
       "  'POINT (-122.39469970274361 37.76460987856451)',\n",
       "  '26.0'],\n",
       " ['2',\n",
       "  '211233271',\n",
       "  'T07',\n",
       "  '21053032',\n",
       "  'Alarms',\n",
       "  '05/03/2021',\n",
       "  '05/03/2021',\n",
       "  '05/03/2021 09:28:12 PM',\n",
       "  '05/03/2021 09:28:12 PM',\n",
       "  '05/03/2021 09:28:17 PM',\n",
       "  '05/03/2021 09:29:10 PM',\n",
       "  '05/03/2021 09:32:15 PM',\n",
       "  '',\n",
       "  '',\n",
       "  'Fire',\n",
       "  '05/03/2021 09:38:09 PM',\n",
       "  '0 Block of HOFF ST',\n",
       "  'San Francisco',\n",
       "  '94110.0',\n",
       "  'B02',\n",
       "  '7.0',\n",
       "  '5236',\n",
       "  'A',\n",
       "  '3',\n",
       "  '3',\n",
       "  'False',\n",
       "  'Alarm',\n",
       "  '1',\n",
       "  'TRUCK',\n",
       "  '2.0',\n",
       "  '2',\n",
       "  '9',\n",
       "  'Mission',\n",
       "  '211233271-T07',\n",
       "  'POINT (-122.42057572093252 37.76418194637148)',\n",
       "  '20.0'],\n",
       " ['3',\n",
       "  '212933533',\n",
       "  'B02',\n",
       "  '21127914',\n",
       "  'Alarms',\n",
       "  '10/20/2021',\n",
       "  '10/20/2021',\n",
       "  '10/20/2021 10:08:47 PM',\n",
       "  '10/20/2021 10:09:53 PM',\n",
       "  '10/20/2021 10:10:07 PM',\n",
       "  '10/20/2021 10:11:55 PM',\n",
       "  '',\n",
       "  '',\n",
       "  '',\n",
       "  'Fire',\n",
       "  '10/20/2021 10:25:52 PM',\n",
       "  '200 Block of JONES ST',\n",
       "  'San Francisco',\n",
       "  '94102.0',\n",
       "  'B03',\n",
       "  '3.0',\n",
       "  '1456',\n",
       "  '3',\n",
       "  '3',\n",
       "  '3',\n",
       "  'False',\n",
       "  'Alarm',\n",
       "  '1',\n",
       "  'CHIEF',\n",
       "  '3.0',\n",
       "  '3',\n",
       "  '6',\n",
       "  'Tenderloin',\n",
       "  '212933533-B02',\n",
       "  'POINT (-122.41243514072728 37.78347684038771)',\n",
       "  '36.0'],\n",
       " ['4',\n",
       "  '221202543',\n",
       "  'E41',\n",
       "  '22054815',\n",
       "  'Alarms',\n",
       "  '04/30/2022',\n",
       "  '04/30/2022',\n",
       "  '04/30/2022 06:35:58 PM',\n",
       "  '04/30/2022 06:37:28 PM',\n",
       "  '04/30/2022 06:37:43 PM',\n",
       "  '04/30/2022 06:38:17 PM',\n",
       "  '',\n",
       "  '',\n",
       "  '',\n",
       "  'Fire',\n",
       "  '04/30/2022 06:40:08 PM',\n",
       "  '1400 Block of FILBERT ST',\n",
       "  'San Francisco',\n",
       "  '94109.0',\n",
       "  'B04',\n",
       "  '16.0',\n",
       "  '3146',\n",
       "  '3',\n",
       "  '3',\n",
       "  '3',\n",
       "  'False',\n",
       "  'Alarm',\n",
       "  '1',\n",
       "  'ENGINE',\n",
       "  '4.0',\n",
       "  '4',\n",
       "  '2',\n",
       "  'Russian Hill',\n",
       "  '221202543-E41',\n",
       "  'POINT (-122.4233369425531 37.799534868680034)',\n",
       "  '32.0'],\n",
       " ['5',\n",
       "  '211232439',\n",
       "  'B01',\n",
       "  '21052945',\n",
       "  'Alarms',\n",
       "  '05/03/2021',\n",
       "  '05/03/2021',\n",
       "  '05/03/2021 04:57:21 PM',\n",
       "  '05/03/2021 04:58:39 PM',\n",
       "  '05/03/2021 04:58:44 PM',\n",
       "  '05/03/2021 05:00:27 PM',\n",
       "  '',\n",
       "  '',\n",
       "  '',\n",
       "  'Fire',\n",
       "  '05/03/2021 05:05:20 PM',\n",
       "  '500 Block of JONES ST',\n",
       "  'San Francisco',\n",
       "  '94102.0',\n",
       "  'B01',\n",
       "  '3.0',\n",
       "  '1462',\n",
       "  '3',\n",
       "  '3',\n",
       "  '3',\n",
       "  'False',\n",
       "  'Alarm',\n",
       "  '1',\n",
       "  'CHIEF',\n",
       "  '2.0',\n",
       "  '1',\n",
       "  '6',\n",
       "  'Tenderloin',\n",
       "  '211232439-B01',\n",
       "  'POINT (-122.41299723589606 37.78626844171642)',\n",
       "  '36.0'],\n",
       " ['6',\n",
       "  '211942517',\n",
       "  'T03',\n",
       "  '21083057',\n",
       "  'Alarms',\n",
       "  '07/13/2021',\n",
       "  '07/13/2021',\n",
       "  '07/13/2021 04:50:10 PM',\n",
       "  '07/13/2021 04:51:07 PM',\n",
       "  '07/13/2021 04:51:17 PM',\n",
       "  '',\n",
       "  '',\n",
       "  '',\n",
       "  '',\n",
       "  'Fire',\n",
       "  '07/13/2021 04:54:45 PM',\n",
       "  '900 Block of VAN NESS AVE',\n",
       "  'San Francisco',\n",
       "  '94109.0',\n",
       "  'B04',\n",
       "  '3.0',\n",
       "  '3162',\n",
       "  '3',\n",
       "  '3',\n",
       "  '3',\n",
       "  'False',\n",
       "  'Alarm',\n",
       "  '1',\n",
       "  'TRUCK',\n",
       "  '3.0',\n",
       "  '2',\n",
       "  '6',\n",
       "  'Tenderloin',\n",
       "  '211942517-T03',\n",
       "  'POINT (-122.42090696864193 37.784067668377766)',\n",
       "  '36.0'],\n",
       " ['7',\n",
       "  '212932758',\n",
       "  'B01',\n",
       "  '21127810',\n",
       "  'Alarms',\n",
       "  '10/20/2021',\n",
       "  '10/20/2021',\n",
       "  '10/20/2021 05:46:09 PM',\n",
       "  '10/20/2021 05:47:57 PM',\n",
       "  '10/20/2021 05:48:05 PM',\n",
       "  '10/20/2021 05:49:54 PM',\n",
       "  '10/20/2021 05:53:45 PM',\n",
       "  '',\n",
       "  '',\n",
       "  'Fire',\n",
       "  '10/20/2021 06:00:04 PM',\n",
       "  '0 Block of BEACH ST',\n",
       "  'San Francisco',\n",
       "  '94133.0',\n",
       "  'B01',\n",
       "  '28.0',\n",
       "  '0939',\n",
       "  '3',\n",
       "  '3',\n",
       "  '3',\n",
       "  'False',\n",
       "  'Alarm',\n",
       "  '1',\n",
       "  'CHIEF',\n",
       "  '2.0',\n",
       "  '1',\n",
       "  '3',\n",
       "  'North Beach',\n",
       "  '212932758-B01',\n",
       "  'POINT (-122.40987728293031 37.808050096906186)',\n",
       "  '23.0'],\n",
       " ['8',\n",
       "  '221201816',\n",
       "  'T03',\n",
       "  '22054719',\n",
       "  'Structure Fire',\n",
       "  '04/30/2022',\n",
       "  '04/30/2022',\n",
       "  '04/30/2022 02:27:39 PM',\n",
       "  '04/30/2022 02:28:53 PM',\n",
       "  '04/30/2022 02:29:13 PM',\n",
       "  '04/30/2022 02:31:58 PM',\n",
       "  '04/30/2022 02:31:58 PM',\n",
       "  '',\n",
       "  '',\n",
       "  'Fire',\n",
       "  '04/30/2022 02:46:15 PM',\n",
       "  'MISSION ST/9TH ST',\n",
       "  'San Francisco',\n",
       "  '94103.0',\n",
       "  'B02',\n",
       "  '36.0',\n",
       "  '2336',\n",
       "  '3',\n",
       "  '3',\n",
       "  '3',\n",
       "  'False',\n",
       "  'Alarm',\n",
       "  '1',\n",
       "  'TRUCK',\n",
       "  '3.0',\n",
       "  '2',\n",
       "  '6',\n",
       "  'South of Market',\n",
       "  '221201816-T03',\n",
       "  'POINT (-122.41471100467277 37.77623051778801)',\n",
       "  '34.0']]"
      ]
     },
     "execution_count": 4,
     "metadata": {},
     "output_type": "execute_result"
    }
   ],
   "source": [
    "splitted_rdd.collect()[:10]"
   ]
  },
  {
   "cell_type": "code",
   "execution_count": 5,
   "id": "ce7d3a96",
   "metadata": {},
   "outputs": [
    {
     "data": {
      "text/plain": [
       "['',\n",
       " 'Call Number',\n",
       " 'Unit ID',\n",
       " 'Incident Number',\n",
       " 'Call Type',\n",
       " 'Call Date',\n",
       " 'Watch Date',\n",
       " 'Received DtTm',\n",
       " 'Entry DtTm',\n",
       " 'Dispatch DtTm',\n",
       " 'Response DtTm',\n",
       " 'On Scene DtTm',\n",
       " 'Transport DtTm',\n",
       " 'Hospital DtTm',\n",
       " 'Call Final Disposition',\n",
       " 'Available DtTm',\n",
       " 'Address',\n",
       " 'City',\n",
       " 'Zipcode of Incident',\n",
       " 'Battalion',\n",
       " 'Station Area',\n",
       " 'Box',\n",
       " 'Original Priority',\n",
       " 'Priority',\n",
       " 'Final Priority',\n",
       " 'ALS Unit',\n",
       " 'Call Type Group',\n",
       " 'Number of Alarms',\n",
       " 'Unit Type',\n",
       " 'Unit sequence in call dispatch',\n",
       " 'Fire Prevention District',\n",
       " 'Supervisor District',\n",
       " 'Neighborhooods - Analysis Boundaries',\n",
       " 'RowID',\n",
       " 'case_location',\n",
       " 'Analysis Neighborhoods']"
      ]
     },
     "execution_count": 5,
     "metadata": {},
     "output_type": "execute_result"
    }
   ],
   "source": [
    "header = splitted_rdd.first()\n",
    "header"
   ]
  },
  {
   "cell_type": "code",
   "execution_count": 6,
   "id": "9383bf61",
   "metadata": {},
   "outputs": [
    {
     "data": {
      "text/plain": [
       "['3',\n",
       " '212933533',\n",
       " 'B02',\n",
       " '21127914',\n",
       " 'Alarms',\n",
       " '10/20/2021',\n",
       " '10/20/2021',\n",
       " '10/20/2021 10:08:47 PM',\n",
       " '10/20/2021 10:09:53 PM',\n",
       " '10/20/2021 10:10:07 PM',\n",
       " '10/20/2021 10:11:55 PM',\n",
       " '',\n",
       " '',\n",
       " '',\n",
       " 'Fire',\n",
       " '10/20/2021 10:25:52 PM',\n",
       " '200 Block of JONES ST',\n",
       " 'San Francisco',\n",
       " '94102.0',\n",
       " 'B03',\n",
       " '3.0',\n",
       " '1456',\n",
       " '3',\n",
       " '3',\n",
       " '3',\n",
       " 'False',\n",
       " 'Alarm',\n",
       " '1',\n",
       " 'CHIEF',\n",
       " '3.0',\n",
       " '3',\n",
       " '6',\n",
       " 'Tenderloin',\n",
       " '212933533-B02',\n",
       " 'POINT (-122.41243514072728 37.78347684038771)',\n",
       " '36.0']"
      ]
     },
     "execution_count": 6,
     "metadata": {},
     "output_type": "execute_result"
    }
   ],
   "source": [
    "splitted_rdd.collect()[4] "
   ]
  },
  {
   "cell_type": "code",
   "execution_count": 7,
   "id": "33fb45d6",
   "metadata": {},
   "outputs": [],
   "source": [
    "import numpy as np"
   ]
  },
  {
   "cell_type": "code",
   "execution_count": 9,
   "id": "72af64a1",
   "metadata": {},
   "outputs": [
    {
     "data": {
      "text/html": [
       "<div>\n",
       "<style scoped>\n",
       "    .dataframe tbody tr th:only-of-type {\n",
       "        vertical-align: middle;\n",
       "    }\n",
       "\n",
       "    .dataframe tbody tr th {\n",
       "        vertical-align: top;\n",
       "    }\n",
       "\n",
       "    .dataframe thead th {\n",
       "        text-align: right;\n",
       "    }\n",
       "</style>\n",
       "<table border=\"1\" class=\"dataframe\">\n",
       "  <thead>\n",
       "    <tr style=\"text-align: right;\">\n",
       "      <th></th>\n",
       "      <th>Unnamed: 0</th>\n",
       "      <th>Call Number</th>\n",
       "      <th>Unit ID</th>\n",
       "      <th>Incident Number</th>\n",
       "      <th>Call Type</th>\n",
       "      <th>Call Date</th>\n",
       "      <th>Watch Date</th>\n",
       "      <th>Received DtTm</th>\n",
       "      <th>Entry DtTm</th>\n",
       "      <th>Dispatch DtTm</th>\n",
       "      <th>...</th>\n",
       "      <th>Call Type Group</th>\n",
       "      <th>Number of Alarms</th>\n",
       "      <th>Unit Type</th>\n",
       "      <th>Unit sequence in call dispatch</th>\n",
       "      <th>Fire Prevention District</th>\n",
       "      <th>Supervisor District</th>\n",
       "      <th>Neighborhooods - Analysis Boundaries</th>\n",
       "      <th>RowID</th>\n",
       "      <th>case_location</th>\n",
       "      <th>Analysis Neighborhoods</th>\n",
       "    </tr>\n",
       "  </thead>\n",
       "  <tbody>\n",
       "    <tr>\n",
       "      <th>0</th>\n",
       "      <td>0</td>\n",
       "      <td>221210313</td>\n",
       "      <td>E36</td>\n",
       "      <td>22054955</td>\n",
       "      <td>Outside Fire</td>\n",
       "      <td>05/01/2022</td>\n",
       "      <td>04/30/2022</td>\n",
       "      <td>05/01/2022 02:58:25 AM</td>\n",
       "      <td>05/01/2022 02:59:15 AM</td>\n",
       "      <td>05/01/2022 02:59:25 AM</td>\n",
       "      <td>...</td>\n",
       "      <td>Fire</td>\n",
       "      <td>1</td>\n",
       "      <td>ENGINE</td>\n",
       "      <td>1.0</td>\n",
       "      <td>2</td>\n",
       "      <td>5</td>\n",
       "      <td>Hayes Valley</td>\n",
       "      <td>221210313-E36</td>\n",
       "      <td>POINT (-122.42316555403964 37.77781524520032)</td>\n",
       "      <td>9.0</td>\n",
       "    </tr>\n",
       "    <tr>\n",
       "      <th>1</th>\n",
       "      <td>1</td>\n",
       "      <td>220190150</td>\n",
       "      <td>E29</td>\n",
       "      <td>22008871</td>\n",
       "      <td>Alarms</td>\n",
       "      <td>01/19/2022</td>\n",
       "      <td>01/18/2022</td>\n",
       "      <td>01/19/2022 01:42:12 AM</td>\n",
       "      <td>01/19/2022 01:44:13 AM</td>\n",
       "      <td>01/19/2022 01:44:28 AM</td>\n",
       "      <td>...</td>\n",
       "      <td>Alarm</td>\n",
       "      <td>1</td>\n",
       "      <td>ENGINE</td>\n",
       "      <td>1.0</td>\n",
       "      <td>3</td>\n",
       "      <td>10</td>\n",
       "      <td>Potrero Hill</td>\n",
       "      <td>220190150-E29</td>\n",
       "      <td>POINT (-122.39469970274361 37.76460987856451)</td>\n",
       "      <td>26.0</td>\n",
       "    </tr>\n",
       "    <tr>\n",
       "      <th>2</th>\n",
       "      <td>2</td>\n",
       "      <td>211233271</td>\n",
       "      <td>T07</td>\n",
       "      <td>21053032</td>\n",
       "      <td>Alarms</td>\n",
       "      <td>05/03/2021</td>\n",
       "      <td>05/03/2021</td>\n",
       "      <td>05/03/2021 09:28:12 PM</td>\n",
       "      <td>05/03/2021 09:28:12 PM</td>\n",
       "      <td>05/03/2021 09:28:17 PM</td>\n",
       "      <td>...</td>\n",
       "      <td>Alarm</td>\n",
       "      <td>1</td>\n",
       "      <td>TRUCK</td>\n",
       "      <td>2.0</td>\n",
       "      <td>2</td>\n",
       "      <td>9</td>\n",
       "      <td>Mission</td>\n",
       "      <td>211233271-T07</td>\n",
       "      <td>POINT (-122.42057572093252 37.76418194637148)</td>\n",
       "      <td>20.0</td>\n",
       "    </tr>\n",
       "    <tr>\n",
       "      <th>3</th>\n",
       "      <td>3</td>\n",
       "      <td>212933533</td>\n",
       "      <td>B02</td>\n",
       "      <td>21127914</td>\n",
       "      <td>Alarms</td>\n",
       "      <td>10/20/2021</td>\n",
       "      <td>10/20/2021</td>\n",
       "      <td>10/20/2021 10:08:47 PM</td>\n",
       "      <td>10/20/2021 10:09:53 PM</td>\n",
       "      <td>10/20/2021 10:10:07 PM</td>\n",
       "      <td>...</td>\n",
       "      <td>Alarm</td>\n",
       "      <td>1</td>\n",
       "      <td>CHIEF</td>\n",
       "      <td>3.0</td>\n",
       "      <td>3</td>\n",
       "      <td>6</td>\n",
       "      <td>Tenderloin</td>\n",
       "      <td>212933533-B02</td>\n",
       "      <td>POINT (-122.41243514072728 37.78347684038771)</td>\n",
       "      <td>36.0</td>\n",
       "    </tr>\n",
       "    <tr>\n",
       "      <th>4</th>\n",
       "      <td>4</td>\n",
       "      <td>221202543</td>\n",
       "      <td>E41</td>\n",
       "      <td>22054815</td>\n",
       "      <td>Alarms</td>\n",
       "      <td>04/30/2022</td>\n",
       "      <td>04/30/2022</td>\n",
       "      <td>04/30/2022 06:35:58 PM</td>\n",
       "      <td>04/30/2022 06:37:28 PM</td>\n",
       "      <td>04/30/2022 06:37:43 PM</td>\n",
       "      <td>...</td>\n",
       "      <td>Alarm</td>\n",
       "      <td>1</td>\n",
       "      <td>ENGINE</td>\n",
       "      <td>4.0</td>\n",
       "      <td>4</td>\n",
       "      <td>2</td>\n",
       "      <td>Russian Hill</td>\n",
       "      <td>221202543-E41</td>\n",
       "      <td>POINT (-122.4233369425531 37.799534868680034)</td>\n",
       "      <td>32.0</td>\n",
       "    </tr>\n",
       "  </tbody>\n",
       "</table>\n",
       "<p>5 rows × 36 columns</p>\n",
       "</div>"
      ],
      "text/plain": [
       "   Unnamed: 0  Call Number Unit ID  Incident Number     Call Type   Call Date  \\\n",
       "0           0    221210313     E36         22054955  Outside Fire  05/01/2022   \n",
       "1           1    220190150     E29         22008871        Alarms  01/19/2022   \n",
       "2           2    211233271     T07         21053032        Alarms  05/03/2021   \n",
       "3           3    212933533     B02         21127914        Alarms  10/20/2021   \n",
       "4           4    221202543     E41         22054815        Alarms  04/30/2022   \n",
       "\n",
       "   Watch Date           Received DtTm              Entry DtTm  \\\n",
       "0  04/30/2022  05/01/2022 02:58:25 AM  05/01/2022 02:59:15 AM   \n",
       "1  01/18/2022  01/19/2022 01:42:12 AM  01/19/2022 01:44:13 AM   \n",
       "2  05/03/2021  05/03/2021 09:28:12 PM  05/03/2021 09:28:12 PM   \n",
       "3  10/20/2021  10/20/2021 10:08:47 PM  10/20/2021 10:09:53 PM   \n",
       "4  04/30/2022  04/30/2022 06:35:58 PM  04/30/2022 06:37:28 PM   \n",
       "\n",
       "            Dispatch DtTm  ... Call Type Group Number of Alarms Unit Type  \\\n",
       "0  05/01/2022 02:59:25 AM  ...            Fire                1    ENGINE   \n",
       "1  01/19/2022 01:44:28 AM  ...           Alarm                1    ENGINE   \n",
       "2  05/03/2021 09:28:17 PM  ...           Alarm                1     TRUCK   \n",
       "3  10/20/2021 10:10:07 PM  ...           Alarm                1     CHIEF   \n",
       "4  04/30/2022 06:37:43 PM  ...           Alarm                1    ENGINE   \n",
       "\n",
       "  Unit sequence in call dispatch Fire Prevention District Supervisor District  \\\n",
       "0                            1.0                        2                   5   \n",
       "1                            1.0                        3                  10   \n",
       "2                            2.0                        2                   9   \n",
       "3                            3.0                        3                   6   \n",
       "4                            4.0                        4                   2   \n",
       "\n",
       "  Neighborhooods - Analysis Boundaries          RowID  \\\n",
       "0                         Hayes Valley  221210313-E36   \n",
       "1                         Potrero Hill  220190150-E29   \n",
       "2                              Mission  211233271-T07   \n",
       "3                           Tenderloin  212933533-B02   \n",
       "4                         Russian Hill  221202543-E41   \n",
       "\n",
       "                                   case_location Analysis Neighborhoods  \n",
       "0  POINT (-122.42316555403964 37.77781524520032)                    9.0  \n",
       "1  POINT (-122.39469970274361 37.76460987856451)                   26.0  \n",
       "2  POINT (-122.42057572093252 37.76418194637148)                   20.0  \n",
       "3  POINT (-122.41243514072728 37.78347684038771)                   36.0  \n",
       "4  POINT (-122.4233369425531 37.799534868680034)                   32.0  \n",
       "\n",
       "[5 rows x 36 columns]"
      ]
     },
     "execution_count": 9,
     "metadata": {},
     "output_type": "execute_result"
    }
   ],
   "source": [
    "df = pd.read_csv('small_data.csv')\n",
    "df.head()"
   ]
  },
  {
   "cell_type": "code",
   "execution_count": 10,
   "id": "31604c1d",
   "metadata": {},
   "outputs": [
    {
     "data": {
      "text/plain": [
       "Index(['Unnamed: 0', 'Call Number', 'Unit ID', 'Incident Number', 'Call Type',\n",
       "       'Call Date', 'Watch Date', 'Received DtTm', 'Entry DtTm',\n",
       "       'Dispatch DtTm', 'Response DtTm', 'On Scene DtTm', 'Transport DtTm',\n",
       "       'Hospital DtTm', 'Call Final Disposition', 'Available DtTm', 'Address',\n",
       "       'City', 'Zipcode of Incident', 'Battalion', 'Station Area', 'Box',\n",
       "       'Original Priority', 'Priority', 'Final Priority', 'ALS Unit',\n",
       "       'Call Type Group', 'Number of Alarms', 'Unit Type',\n",
       "       'Unit sequence in call dispatch', 'Fire Prevention District',\n",
       "       'Supervisor District', 'Neighborhooods - Analysis Boundaries', 'RowID',\n",
       "       'case_location', 'Analysis Neighborhoods'],\n",
       "      dtype='object')"
      ]
     },
     "execution_count": 10,
     "metadata": {},
     "output_type": "execute_result"
    }
   ],
   "source": [
    "df.columns"
   ]
  },
  {
   "cell_type": "code",
   "execution_count": 14,
   "id": "f7e7d6c8",
   "metadata": {},
   "outputs": [
    {
     "data": {
      "text/plain": [
       "Call Number                                                                 221210313\n",
       "Unit ID                                                                           E36\n",
       "Incident Number                                                              22054955\n",
       "Call Type                                                                Outside Fire\n",
       "Call Date                                                                  05/01/2022\n",
       "Watch Date                                                                 04/30/2022\n",
       "Received DtTm                                                  05/01/2022 02:58:25 AM\n",
       "Entry DtTm                                                     05/01/2022 02:59:15 AM\n",
       "Dispatch DtTm                                                  05/01/2022 02:59:25 AM\n",
       "Response DtTm                                                  05/01/2022 03:01:06 AM\n",
       "On Scene DtTm                                                  05/01/2022 03:02:27 AM\n",
       "Transport DtTm                                                                    NaN\n",
       "Hospital DtTm                                                                     NaN\n",
       "Call Final Disposition                                                           Fire\n",
       "Available DtTm                                                 05/01/2022 03:05:00 AM\n",
       "Address                                                             GOUGH ST/GROVE ST\n",
       "City                                                                    San Francisco\n",
       "Zipcode of Incident                                                           94102.0\n",
       "Battalion                                                                         B02\n",
       "Station Area                                                                     36.0\n",
       "Box                                                                              3265\n",
       "Original Priority                                                                   3\n",
       "Priority                                                                            3\n",
       "Final Priority                                                                      3\n",
       "ALS Unit                                                                         True\n",
       "Call Type Group                                                                  Fire\n",
       "Number of Alarms                                                                    1\n",
       "Unit Type                                                                      ENGINE\n",
       "Unit sequence in call dispatch                                                    1.0\n",
       "Fire Prevention District                                                            2\n",
       "Supervisor District                                                                 5\n",
       "Neighborhooods - Analysis Boundaries                                     Hayes Valley\n",
       "RowID                                                                   221210313-E36\n",
       "case_location                           POINT (-122.42316555403964 37.77781524520032)\n",
       "Analysis Neighborhoods                                                            9.0\n",
       "Name: 0, dtype: object"
      ]
     },
     "execution_count": 14,
     "metadata": {},
     "output_type": "execute_result"
    }
   ],
   "source": [
    "df.iloc[0]"
   ]
  },
  {
   "cell_type": "code",
   "execution_count": 15,
   "id": "d18d6f5e",
   "metadata": {},
   "outputs": [
    {
     "data": {
      "text/plain": [
       "array([94102., 94107., 94110., 94109., 94133., 94103., 94127., 94114.,\n",
       "       94131., 94118., 94117., 94158., 94122., 94121., 94112., 94124.,\n",
       "       94134., 94123., 94132., 94108., 94129., 94130., 94111., 94116.,\n",
       "       94115., 94104., 94105.,    nan])"
      ]
     },
     "execution_count": 15,
     "metadata": {},
     "output_type": "execute_result"
    }
   ],
   "source": [
    "df['Zipcode of Incident'].unique() #col_index =18"
   ]
  },
  {
   "cell_type": "code",
   "execution_count": 19,
   "id": "ce6d5019",
   "metadata": {},
   "outputs": [
    {
     "data": {
      "text/plain": [
       "Series([], Name: Zipcode of Incident, dtype: float64)"
      ]
     },
     "execution_count": 19,
     "metadata": {},
     "output_type": "execute_result"
    }
   ],
   "source": [
    "df['Zipcode of Incident'][df['Zipcode of Incident']==np.nan]"
   ]
  },
  {
   "cell_type": "code",
   "execution_count": 16,
   "id": "6d662a9f",
   "metadata": {},
   "outputs": [
    {
     "data": {
      "text/plain": [
       "array(['Fire', 'SFPD', 'Code 2 Transport', 'Cancelled',\n",
       "       'Code 3 Transport', 'No Merit', 'Unable to Locate',\n",
       "       'Against Medical Advice', 'Other', 'Patient Declined Transport',\n",
       "       'Gone on Arrival', 'Medical Examiner', 'CHP', 'Duplicate',\n",
       "       'Multi-casualty Incident'], dtype=object)"
      ]
     },
     "execution_count": 16,
     "metadata": {},
     "output_type": "execute_result"
    }
   ],
   "source": [
    "df['Call Final Disposition'].unique() # col_index =14"
   ]
  },
  {
   "cell_type": "code",
   "execution_count": 8,
   "id": "81e6c0b8",
   "metadata": {},
   "outputs": [],
   "source": [
    "# which zipcode has which type of emergency"
   ]
  },
  {
   "cell_type": "code",
   "execution_count": 22,
   "id": "08c6c157",
   "metadata": {},
   "outputs": [],
   "source": [
    "df_small = df[:1000]\n",
    "df_small.to_csv('small_data.csv')"
   ]
  },
  {
   "cell_type": "code",
   "execution_count": 14,
   "id": "6019cb39",
   "metadata": {},
   "outputs": [],
   "source": [
    "def retrieve_column(array, col):\n",
    "    try:\n",
    "        return array[col]\n",
    "    except:\n",
    "        pass\n",
    " \n",
    "    \n",
    "def convert_string_to_timestamp(string):\n",
    "    try:\n",
    "        return datetime.strptime(string, '%Y-%M-%d').date()\n",
    "    except:\n",
    "        pass\n",
    " \n",
    " \n",
    "def string_to_int(x):\n",
    "    try:\n",
    "        return int(x)\n",
    "    except:\n",
    "        return 0"
   ]
  },
  {
   "cell_type": "code",
   "execution_count": null,
   "id": "23035f8f",
   "metadata": {},
   "outputs": [],
   "source": [
    "parsed_input = input_rdd.map(lambda x : x.split(\",\"))\\\n",
    "                    .map(lambda x : [string_to_int(retrieve_column(x,5)),\n",
    "                        convert_string_to_timestamp(retrieve_column(x, 0)),\n",
    "                                     retrieve_column(x, 1), \n",
    "                                     retrieve_column(x, 2),\n",
    "                                     retrieve_column(x, 3),\n",
    "                                     retrieve_column(x, 4), \n",
    "                                     string_to_int(retrieve_column(x,5))])\\\n",
    "                    .cache()"
   ]
  },
  {
   "cell_type": "markdown",
   "id": "ad8d600c",
   "metadata": {},
   "source": [
    "## Call Final Disposition per zip code of incident"
   ]
  },
  {
   "cell_type": "code",
   "execution_count": 12,
   "id": "76a46f2a",
   "metadata": {},
   "outputs": [
    {
     "data": {
      "text/plain": [
       "['',\n",
       " 'Call Number',\n",
       " 'Unit ID',\n",
       " 'Incident Number',\n",
       " 'Call Type',\n",
       " 'Call Date',\n",
       " 'Watch Date',\n",
       " 'Received DtTm',\n",
       " 'Entry DtTm',\n",
       " 'Dispatch DtTm',\n",
       " 'Response DtTm',\n",
       " 'On Scene DtTm',\n",
       " 'Transport DtTm',\n",
       " 'Hospital DtTm',\n",
       " 'Call Final Disposition',\n",
       " 'Available DtTm',\n",
       " 'Address',\n",
       " 'City',\n",
       " 'Zipcode of Incident',\n",
       " 'Battalion',\n",
       " 'Station Area',\n",
       " 'Box',\n",
       " 'Original Priority',\n",
       " 'Priority',\n",
       " 'Final Priority',\n",
       " 'ALS Unit',\n",
       " 'Call Type Group',\n",
       " 'Number of Alarms',\n",
       " 'Unit Type',\n",
       " 'Unit sequence in call dispatch',\n",
       " 'Fire Prevention District',\n",
       " 'Supervisor District',\n",
       " 'Neighborhooods - Analysis Boundaries',\n",
       " 'RowID',\n",
       " 'case_location',\n",
       " 'Analysis Neighborhoods']"
      ]
     },
     "execution_count": 12,
     "metadata": {},
     "output_type": "execute_result"
    }
   ],
   "source": [
    "header"
   ]
  },
  {
   "cell_type": "code",
   "execution_count": 11,
   "id": "95d43d56",
   "metadata": {},
   "outputs": [
    {
     "data": {
      "text/plain": [
       "['',\n",
       " 'Call Number',\n",
       " 'Unit ID',\n",
       " 'Incident Number',\n",
       " 'Call Type',\n",
       " 'Call Date',\n",
       " 'Watch Date',\n",
       " 'Received DtTm',\n",
       " 'Entry DtTm',\n",
       " 'Dispatch DtTm',\n",
       " 'Response DtTm',\n",
       " 'On Scene DtTm',\n",
       " 'Transport DtTm',\n",
       " 'Hospital DtTm',\n",
       " 'Call Final Disposition',\n",
       " 'Available DtTm',\n",
       " 'Address',\n",
       " 'City',\n",
       " 'Zipcode of Incident',\n",
       " 'Battalion',\n",
       " 'Station Area',\n",
       " 'Box',\n",
       " 'Original Priority',\n",
       " 'Priority',\n",
       " 'Final Priority',\n",
       " 'ALS Unit',\n",
       " 'Call Type Group',\n",
       " 'Number of Alarms',\n",
       " 'Unit Type',\n",
       " 'Unit sequence in call dispatch',\n",
       " 'Fire Prevention District',\n",
       " 'Supervisor District',\n",
       " 'Neighborhooods - Analysis Boundaries',\n",
       " 'RowID',\n",
       " 'case_location',\n",
       " 'Analysis Neighborhoods']"
      ]
     },
     "execution_count": 11,
     "metadata": {},
     "output_type": "execute_result"
    }
   ],
   "source": [
    "splitted_rdd.first()"
   ]
  },
  {
   "cell_type": "code",
   "execution_count": 14,
   "id": "8d7a6048",
   "metadata": {},
   "outputs": [
    {
     "data": {
      "text/plain": [
       "['0',\n",
       " '221210313',\n",
       " 'E36',\n",
       " '22054955',\n",
       " 'Outside Fire',\n",
       " '05/01/2022',\n",
       " '04/30/2022',\n",
       " '05/01/2022 02:58:25 AM',\n",
       " '05/01/2022 02:59:15 AM',\n",
       " '05/01/2022 02:59:25 AM',\n",
       " '05/01/2022 03:01:06 AM',\n",
       " '05/01/2022 03:02:27 AM',\n",
       " '',\n",
       " '',\n",
       " 'Fire',\n",
       " '05/01/2022 03:05:00 AM',\n",
       " 'GOUGH ST/GROVE ST',\n",
       " 'San Francisco',\n",
       " '94102.0',\n",
       " 'B02',\n",
       " '36.0',\n",
       " '3265',\n",
       " '3',\n",
       " '3',\n",
       " '3',\n",
       " 'True',\n",
       " 'Fire',\n",
       " '1',\n",
       " 'ENGINE',\n",
       " '1.0',\n",
       " '2',\n",
       " '5',\n",
       " 'Hayes Valley',\n",
       " '221210313-E36',\n",
       " 'POINT (-122.42316555403964 37.77781524520032)',\n",
       " '9.0']"
      ]
     },
     "execution_count": 14,
     "metadata": {},
     "output_type": "execute_result"
    }
   ],
   "source": [
    "data_rdd = splitted_rdd.filter(lambda x: x!=header)\n",
    "data_rdd.first()"
   ]
  },
  {
   "cell_type": "code",
   "execution_count": 15,
   "id": "140c6ea0",
   "metadata": {},
   "outputs": [
    {
     "data": {
      "text/plain": [
       "[('Fire', '94102.0'),\n",
       " ('Fire', '94107.0'),\n",
       " ('Fire', '94110.0'),\n",
       " ('Fire', '94102.0')]"
      ]
     },
     "execution_count": 15,
     "metadata": {},
     "output_type": "execute_result"
    }
   ],
   "source": [
    "disposition_zip = data_rdd.map(lambda x: (x[14], x[18]))\n",
    "disposition_zip.collect()[:4]"
   ]
  },
  {
   "cell_type": "code",
   "execution_count": 16,
   "id": "30fdf069",
   "metadata": {},
   "outputs": [
    {
     "data": {
      "text/html": [
       "<div>\n",
       "<style scoped>\n",
       "    .dataframe tbody tr th:only-of-type {\n",
       "        vertical-align: middle;\n",
       "    }\n",
       "\n",
       "    .dataframe tbody tr th {\n",
       "        vertical-align: top;\n",
       "    }\n",
       "\n",
       "    .dataframe thead th {\n",
       "        text-align: right;\n",
       "    }\n",
       "</style>\n",
       "<table border=\"1\" class=\"dataframe\">\n",
       "  <thead>\n",
       "    <tr style=\"text-align: right;\">\n",
       "      <th></th>\n",
       "      <th>Call Final Disposition</th>\n",
       "      <th>Zipcode of Incident</th>\n",
       "    </tr>\n",
       "  </thead>\n",
       "  <tbody>\n",
       "    <tr>\n",
       "      <th>0</th>\n",
       "      <td>Fire</td>\n",
       "      <td>94102.0</td>\n",
       "    </tr>\n",
       "    <tr>\n",
       "      <th>1</th>\n",
       "      <td>Fire</td>\n",
       "      <td>94107.0</td>\n",
       "    </tr>\n",
       "    <tr>\n",
       "      <th>2</th>\n",
       "      <td>Fire</td>\n",
       "      <td>94110.0</td>\n",
       "    </tr>\n",
       "    <tr>\n",
       "      <th>3</th>\n",
       "      <td>Fire</td>\n",
       "      <td>94102.0</td>\n",
       "    </tr>\n",
       "    <tr>\n",
       "      <th>4</th>\n",
       "      <td>Fire</td>\n",
       "      <td>94109.0</td>\n",
       "    </tr>\n",
       "  </tbody>\n",
       "</table>\n",
       "</div>"
      ],
      "text/plain": [
       "  Call Final Disposition Zipcode of Incident\n",
       "0                   Fire             94102.0\n",
       "1                   Fire             94107.0\n",
       "2                   Fire             94110.0\n",
       "3                   Fire             94102.0\n",
       "4                   Fire             94109.0"
      ]
     },
     "execution_count": 16,
     "metadata": {},
     "output_type": "execute_result"
    }
   ],
   "source": [
    "disposition_zip_df = pd.DataFrame(data = disposition_zip.collect(), columns=['Call Final Disposition', 'Zipcode of Incident'])\n",
    "disposition_zip_df.head()"
   ]
  },
  {
   "cell_type": "code",
   "execution_count": 18,
   "id": "a53ebc52",
   "metadata": {},
   "outputs": [
    {
     "data": {
      "application/vnd.plotly.v1+json": {
       "config": {
        "plotlyServerURL": "https://plot.ly"
       },
       "data": [
        {
         "alignmentgroup": "True",
         "hovertemplate": "Call Final Disposition=%{x}<br>Zipcode of Incident=%{y}<extra></extra>",
         "legendgroup": "",
         "marker": {
          "color": "#4F97A3",
          "pattern": {
           "shape": ""
          }
         },
         "name": "",
         "offsetgroup": "",
         "orientation": "v",
         "showlegend": false,
         "textposition": "auto",
         "type": "bar",
         "x": [
          "Against Medical Advice",
          "Against Medical Advice",
          "Against Medical Advice",
          "Against Medical Advice",
          "Against Medical Advice",
          "Against Medical Advice",
          "Against Medical Advice",
          "Against Medical Advice",
          "Against Medical Advice",
          "Against Medical Advice",
          "Against Medical Advice",
          "Against Medical Advice",
          "Against Medical Advice",
          "Against Medical Advice",
          "Against Medical Advice",
          "Against Medical Advice",
          "Against Medical Advice",
          "Against Medical Advice",
          "Against Medical Advice",
          "Against Medical Advice",
          "Against Medical Advice",
          "Cancelled",
          "Cancelled",
          "Cancelled",
          "Cancelled",
          "Cancelled",
          "Cancelled",
          "Cancelled",
          "Cancelled",
          "Cancelled",
          "Cancelled",
          "Cancelled",
          "Cancelled",
          "Cancelled",
          "Cancelled",
          "Cancelled",
          "Cancelled",
          "Cancelled",
          "Cancelled",
          "Cancelled",
          "Cancelled",
          "Cancelled",
          "Cancelled",
          "Cancelled",
          "Cancelled",
          "Cancelled",
          "Cancelled",
          "Cancelled",
          "Cancelled",
          "Cancelled",
          "Cancelled",
          "Cancelled",
          "Cancelled",
          "Cancelled",
          "Cancelled",
          "Cancelled",
          "Cancelled",
          "Cancelled",
          "Code 2 Transport",
          "Code 2 Transport",
          "Code 2 Transport",
          "Code 2 Transport",
          "Code 2 Transport",
          "Code 2 Transport",
          "Code 2 Transport",
          "Code 2 Transport",
          "Code 2 Transport",
          "Code 2 Transport",
          "Code 2 Transport",
          "Code 2 Transport",
          "Code 2 Transport",
          "Code 2 Transport",
          "Code 2 Transport",
          "Code 2 Transport",
          "Code 2 Transport",
          "Code 2 Transport",
          "Code 2 Transport",
          "Code 2 Transport",
          "Code 2 Transport",
          "Code 2 Transport",
          "Code 2 Transport",
          "Code 2 Transport",
          "Code 2 Transport",
          "Code 2 Transport",
          "Code 2 Transport",
          "Code 2 Transport",
          "Code 2 Transport",
          "Code 2 Transport",
          "Code 2 Transport",
          "Code 2 Transport",
          "Code 2 Transport",
          "Code 2 Transport",
          "Code 2 Transport",
          "Code 2 Transport",
          "Code 2 Transport",
          "Code 2 Transport",
          "Code 2 Transport",
          "Code 2 Transport",
          "Code 2 Transport",
          "Code 2 Transport",
          "Code 2 Transport",
          "Code 2 Transport",
          "Code 2 Transport",
          "Code 2 Transport",
          "Code 2 Transport",
          "Code 2 Transport",
          "Code 2 Transport",
          "Code 2 Transport",
          "Code 2 Transport",
          "Code 2 Transport",
          "Code 2 Transport",
          "Code 2 Transport",
          "Code 2 Transport",
          "Code 2 Transport",
          "Code 2 Transport",
          "Code 2 Transport",
          "Code 2 Transport",
          "Code 2 Transport",
          "Code 2 Transport",
          "Code 2 Transport",
          "Code 2 Transport",
          "Code 2 Transport",
          "Code 2 Transport",
          "Code 2 Transport",
          "Code 2 Transport",
          "Code 2 Transport",
          "Code 2 Transport",
          "Code 2 Transport",
          "Code 2 Transport",
          "Code 2 Transport",
          "Code 2 Transport",
          "Code 2 Transport",
          "Code 2 Transport",
          "Code 2 Transport",
          "Code 2 Transport",
          "Code 2 Transport",
          "Code 2 Transport",
          "Code 2 Transport",
          "Code 2 Transport",
          "Code 2 Transport",
          "Code 2 Transport",
          "Code 2 Transport",
          "Code 2 Transport",
          "Code 2 Transport",
          "Code 2 Transport",
          "Code 2 Transport",
          "Code 2 Transport",
          "Code 2 Transport",
          "Code 2 Transport",
          "Code 2 Transport",
          "Code 2 Transport",
          "Code 2 Transport",
          "Code 2 Transport",
          "Code 2 Transport",
          "Code 2 Transport",
          "Code 2 Transport",
          "Code 2 Transport",
          "Code 2 Transport",
          "Code 2 Transport",
          "Code 2 Transport",
          "Code 2 Transport",
          "Code 2 Transport",
          "Code 2 Transport",
          "Code 2 Transport",
          "Code 2 Transport",
          "Code 2 Transport",
          "Code 2 Transport",
          "Code 2 Transport",
          "Code 2 Transport",
          "Code 2 Transport",
          "Code 2 Transport",
          "Code 2 Transport",
          "Code 2 Transport",
          "Code 2 Transport",
          "Code 2 Transport",
          "Code 2 Transport",
          "Code 2 Transport",
          "Code 2 Transport",
          "Code 2 Transport",
          "Code 2 Transport",
          "Code 2 Transport",
          "Code 2 Transport",
          "Code 2 Transport",
          "Code 2 Transport",
          "Code 2 Transport",
          "Code 2 Transport",
          "Code 2 Transport",
          "Code 2 Transport",
          "Code 2 Transport",
          "Code 2 Transport",
          "Code 2 Transport",
          "Code 2 Transport",
          "Code 2 Transport",
          "Code 2 Transport",
          "Code 2 Transport",
          "Code 2 Transport",
          "Code 2 Transport",
          "Code 2 Transport",
          "Code 2 Transport",
          "Code 2 Transport",
          "Code 2 Transport",
          "Code 2 Transport",
          "Code 2 Transport",
          "Code 2 Transport",
          "Code 2 Transport",
          "Code 2 Transport",
          "Code 2 Transport",
          "Code 2 Transport",
          "Code 2 Transport",
          "Code 2 Transport",
          "Code 2 Transport",
          "Code 2 Transport",
          "Code 2 Transport",
          "Code 2 Transport",
          "Code 2 Transport",
          "Code 2 Transport",
          "Code 2 Transport",
          "Code 2 Transport",
          "Code 2 Transport",
          "Code 2 Transport",
          "Code 2 Transport",
          "Code 2 Transport",
          "Code 2 Transport",
          "Code 2 Transport",
          "Code 2 Transport",
          "Code 2 Transport",
          "Code 2 Transport",
          "Code 2 Transport",
          "Code 2 Transport",
          "Code 2 Transport",
          "Code 2 Transport",
          "Code 2 Transport",
          "Code 2 Transport",
          "Code 2 Transport",
          "Code 2 Transport",
          "Code 2 Transport",
          "Code 2 Transport",
          "Code 2 Transport",
          "Code 2 Transport",
          "Code 2 Transport",
          "Code 2 Transport",
          "Code 2 Transport",
          "Code 2 Transport",
          "Code 2 Transport",
          "Code 2 Transport",
          "Code 2 Transport",
          "Code 2 Transport",
          "Code 2 Transport",
          "Code 2 Transport",
          "Code 2 Transport",
          "Code 2 Transport",
          "Code 2 Transport",
          "Code 2 Transport",
          "Code 2 Transport",
          "Code 2 Transport",
          "Code 2 Transport",
          "Code 2 Transport",
          "Code 2 Transport",
          "Code 2 Transport",
          "Code 2 Transport",
          "Code 2 Transport",
          "Code 2 Transport",
          "Code 2 Transport",
          "Code 2 Transport",
          "Code 2 Transport",
          "Code 2 Transport",
          "Code 2 Transport",
          "Code 2 Transport",
          "Code 2 Transport",
          "Code 2 Transport",
          "Code 2 Transport",
          "Code 2 Transport",
          "Code 2 Transport",
          "Code 2 Transport",
          "Code 2 Transport",
          "Code 2 Transport",
          "Code 2 Transport",
          "Code 2 Transport",
          "Code 2 Transport",
          "Code 2 Transport",
          "Code 2 Transport",
          "Code 2 Transport",
          "Code 2 Transport",
          "Code 2 Transport",
          "Code 2 Transport",
          "Code 2 Transport",
          "Code 2 Transport",
          "Code 2 Transport",
          "Code 2 Transport",
          "Code 2 Transport",
          "Code 2 Transport",
          "Code 2 Transport",
          "Code 2 Transport",
          "Code 2 Transport",
          "Code 2 Transport",
          "Code 2 Transport",
          "Code 2 Transport",
          "Code 2 Transport",
          "Code 2 Transport",
          "Code 2 Transport",
          "Code 2 Transport",
          "Code 2 Transport",
          "Code 2 Transport",
          "Code 2 Transport",
          "Code 2 Transport",
          "Code 2 Transport",
          "Code 2 Transport",
          "Code 2 Transport",
          "Code 2 Transport",
          "Code 2 Transport",
          "Code 2 Transport",
          "Code 2 Transport",
          "Code 2 Transport",
          "Code 2 Transport",
          "Code 2 Transport",
          "Code 2 Transport",
          "Code 2 Transport",
          "Code 2 Transport",
          "Code 2 Transport",
          "Code 2 Transport",
          "Code 2 Transport",
          "Code 2 Transport",
          "Code 2 Transport",
          "Code 2 Transport",
          "Code 2 Transport",
          "Code 2 Transport",
          "Code 2 Transport",
          "Code 2 Transport",
          "Code 2 Transport",
          "Code 2 Transport",
          "Code 2 Transport",
          "Code 2 Transport",
          "Code 2 Transport",
          "Code 2 Transport",
          "Code 2 Transport",
          "Code 2 Transport",
          "Code 2 Transport",
          "Code 2 Transport",
          "Code 2 Transport",
          "Code 2 Transport",
          "Code 2 Transport",
          "Code 2 Transport",
          "Code 2 Transport",
          "Code 2 Transport",
          "Code 2 Transport",
          "Code 2 Transport",
          "Code 2 Transport",
          "Code 2 Transport",
          "Code 2 Transport",
          "Code 2 Transport",
          "Code 2 Transport",
          "Code 2 Transport",
          "Code 2 Transport",
          "Code 2 Transport",
          "Code 2 Transport",
          "Code 2 Transport",
          "Code 2 Transport",
          "Code 2 Transport",
          "Code 2 Transport",
          "Code 2 Transport",
          "Code 2 Transport",
          "Code 2 Transport",
          "Code 2 Transport",
          "Code 2 Transport",
          "Code 2 Transport",
          "Code 2 Transport",
          "Code 2 Transport",
          "Code 2 Transport",
          "Code 2 Transport",
          "Code 2 Transport",
          "Code 2 Transport",
          "Code 2 Transport",
          "Code 2 Transport",
          "Code 2 Transport",
          "Code 2 Transport",
          "Code 2 Transport",
          "Code 2 Transport",
          "Code 2 Transport",
          "Code 2 Transport",
          "Code 2 Transport",
          "Code 2 Transport",
          "Code 2 Transport",
          "Code 2 Transport",
          "Code 2 Transport",
          "Code 2 Transport",
          "Code 2 Transport",
          "Code 2 Transport",
          "Code 2 Transport",
          "Code 2 Transport",
          "Code 2 Transport",
          "Code 2 Transport",
          "Code 2 Transport",
          "Code 2 Transport",
          "Code 2 Transport",
          "Code 2 Transport",
          "Code 2 Transport",
          "Code 2 Transport",
          "Code 2 Transport",
          "Code 2 Transport",
          "Code 2 Transport",
          "Code 2 Transport",
          "Code 2 Transport",
          "Code 2 Transport",
          "Code 2 Transport",
          "Code 2 Transport",
          "Code 2 Transport",
          "Code 2 Transport",
          "Code 2 Transport",
          "Code 2 Transport",
          "Code 2 Transport",
          "Code 2 Transport",
          "Code 2 Transport",
          "Code 2 Transport",
          "Code 2 Transport",
          "Code 2 Transport",
          "Code 2 Transport",
          "Code 2 Transport",
          "Code 2 Transport",
          "Code 2 Transport",
          "Code 2 Transport",
          "Code 2 Transport",
          "Code 2 Transport",
          "Code 2 Transport",
          "Code 2 Transport",
          "Code 2 Transport",
          "Code 2 Transport",
          "Code 2 Transport",
          "Code 2 Transport",
          "Code 2 Transport",
          "Code 2 Transport",
          "Code 2 Transport",
          "Code 2 Transport",
          "Code 2 Transport",
          "Code 2 Transport",
          "Code 2 Transport",
          "Code 2 Transport",
          "Code 2 Transport",
          "Code 2 Transport",
          "Code 2 Transport",
          "Code 2 Transport",
          "Code 2 Transport",
          "Code 2 Transport",
          "Code 2 Transport",
          "Code 2 Transport",
          "Code 2 Transport",
          "Code 2 Transport",
          "Code 2 Transport",
          "Code 2 Transport",
          "Code 3 Transport",
          "Code 3 Transport",
          "Code 3 Transport",
          "Code 3 Transport",
          "Code 3 Transport",
          "Code 3 Transport",
          "Code 3 Transport",
          "Code 3 Transport",
          "Code 3 Transport",
          "Code 3 Transport",
          "Code 3 Transport",
          "Code 3 Transport",
          "Code 3 Transport",
          "Code 3 Transport",
          "Code 3 Transport",
          "Code 3 Transport",
          "Code 3 Transport",
          "Code 3 Transport",
          "Code 3 Transport",
          "Code 3 Transport",
          "Code 3 Transport",
          "Code 3 Transport",
          "Code 3 Transport",
          "Code 3 Transport",
          "Code 3 Transport",
          "Code 3 Transport",
          "Code 3 Transport",
          "Code 3 Transport",
          "Code 3 Transport",
          "Code 3 Transport",
          "Code 3 Transport",
          "Code 3 Transport",
          "Code 3 Transport",
          "Code 3 Transport",
          "Code 3 Transport",
          "Fire",
          "Fire",
          "Fire",
          "Fire",
          "Fire",
          "Fire",
          "Fire",
          "Fire",
          "Fire",
          "Fire",
          "Fire",
          "Fire",
          "Fire",
          "Fire",
          "Fire",
          "Fire",
          "Fire",
          "Fire",
          "Fire",
          "Fire",
          "Fire",
          "Fire",
          "Fire",
          "Fire",
          "Fire",
          "Fire",
          "Fire",
          "Fire",
          "Fire",
          "Fire",
          "Fire",
          "Fire",
          "Fire",
          "Fire",
          "Fire",
          "Fire",
          "Fire",
          "Fire",
          "Fire",
          "Fire",
          "Fire",
          "Fire",
          "Fire",
          "Fire",
          "Fire",
          "Fire",
          "Fire",
          "Fire",
          "Fire",
          "Fire",
          "Fire",
          "Fire",
          "Fire",
          "Fire",
          "Fire",
          "Fire",
          "Fire",
          "Fire",
          "Fire",
          "Fire",
          "Fire",
          "Fire",
          "Fire",
          "Fire",
          "Fire",
          "Fire",
          "Fire",
          "Fire",
          "Fire",
          "Fire",
          "Fire",
          "Fire",
          "Fire",
          "Fire",
          "Fire",
          "Fire",
          "Fire",
          "Fire",
          "Fire",
          "Fire",
          "Fire",
          "Fire",
          "Fire",
          "Fire",
          "Fire",
          "Fire",
          "Fire",
          "Fire",
          "Fire",
          "Fire",
          "Fire",
          "Fire",
          "Fire",
          "Fire",
          "Fire",
          "Fire",
          "Fire",
          "Fire",
          "Fire",
          "Fire",
          "Fire",
          "Fire",
          "Fire",
          "Fire",
          "Fire",
          "Fire",
          "Fire",
          "Fire",
          "Fire",
          "Fire",
          "Fire",
          "Fire",
          "Fire",
          "Fire",
          "Fire",
          "Fire",
          "Fire",
          "Fire",
          "Fire",
          "Fire",
          "Fire",
          "Fire",
          "Fire",
          "Fire",
          "Fire",
          "Fire",
          "Fire",
          "Fire",
          "Fire",
          "Fire",
          "Fire",
          "Fire",
          "Fire",
          "Fire",
          "Fire",
          "Fire",
          "Fire",
          "Fire",
          "Fire",
          "Fire",
          "Fire",
          "Fire",
          "Fire",
          "Fire",
          "Fire",
          "Fire",
          "Fire",
          "Fire",
          "Fire",
          "Fire",
          "Fire",
          "Fire",
          "Fire",
          "Fire",
          "Fire",
          "Fire",
          "Fire",
          "Fire",
          "Fire",
          "Fire",
          "Fire",
          "Fire",
          "Fire",
          "Fire",
          "Fire",
          "Fire",
          "Fire",
          "Fire",
          "Fire",
          "Fire",
          "Fire",
          "Fire",
          "Fire",
          "Fire",
          "Fire",
          "Fire",
          "Fire",
          "Fire",
          "Fire",
          "Fire",
          "Fire",
          "Fire",
          "Fire",
          "Fire",
          "Fire",
          "Fire",
          "Fire",
          "Fire",
          "Fire",
          "Fire",
          "Fire",
          "Fire",
          "Fire",
          "Fire",
          "Fire",
          "Fire",
          "Fire",
          "Fire",
          "Fire",
          "Fire",
          "Fire",
          "Fire",
          "Fire",
          "Fire",
          "Fire",
          "Fire",
          "Fire",
          "Fire",
          "Fire",
          "Fire",
          "Fire",
          "Fire",
          "Fire",
          "Fire",
          "Fire",
          "Fire",
          "Fire",
          "Fire",
          "Fire",
          "Fire",
          "Fire",
          "Fire",
          "Fire",
          "Fire",
          "Fire",
          "Fire",
          "Fire",
          "Fire",
          "Fire",
          "Fire",
          "Fire",
          "Fire",
          "Fire",
          "Fire",
          "Fire",
          "Fire",
          "Fire",
          "Fire",
          "Fire",
          "Fire",
          "Fire",
          "Fire",
          "Fire",
          "Fire",
          "Fire",
          "Fire",
          "Fire",
          "Fire",
          "Fire",
          "Fire",
          "Fire",
          "Fire",
          "Fire",
          "Fire",
          "Fire",
          "Fire",
          "Fire",
          "Fire",
          "Fire",
          "Fire",
          "Fire",
          "Fire",
          "Fire",
          "Fire",
          "Fire",
          "Fire",
          "Fire",
          "Fire",
          "Fire",
          "Fire",
          "Fire",
          "Fire",
          "Fire",
          "Fire",
          "Fire",
          "Fire",
          "Fire",
          "Fire",
          "Fire",
          "Fire",
          "Fire",
          "Fire",
          "Fire",
          "Fire",
          "Fire",
          "Fire",
          "Fire",
          "Fire",
          "Fire",
          "Fire",
          "Fire",
          "Fire",
          "Fire",
          "Fire",
          "Fire",
          "Fire",
          "Fire",
          "Fire",
          "Fire",
          "Fire",
          "Fire",
          "Fire",
          "Fire",
          "Fire",
          "Fire",
          "Fire",
          "Fire",
          "Fire",
          "Fire",
          "Fire",
          "Fire",
          "Fire",
          "Fire",
          "Fire",
          "Fire",
          "Fire",
          "Fire",
          "Fire",
          "Fire",
          "Fire",
          "Fire",
          "Fire",
          "Fire",
          "Fire",
          "Fire",
          "Fire",
          "Fire",
          "Fire",
          "Fire",
          "Fire",
          "Fire",
          "Fire",
          "Fire",
          "Fire",
          "Fire",
          "Fire",
          "Fire",
          "Fire",
          "Fire",
          "Fire",
          "Fire",
          "Fire",
          "Fire",
          "Fire",
          "Fire",
          "Fire",
          "Fire",
          "Fire",
          "Fire",
          "Gone on Arrival",
          "Gone on Arrival",
          "Medical Examiner",
          "Medical Examiner",
          "Medical Examiner",
          "Medical Examiner",
          "Medical Examiner",
          "Medical Examiner",
          "Medical Examiner",
          "Medical Examiner",
          "Medical Examiner",
          "Medical Examiner",
          "Medical Examiner",
          "Medical Examiner",
          "Medical Examiner",
          "Medical Examiner",
          "Medical Examiner",
          "Medical Examiner",
          "Medical Examiner",
          "Medical Examiner",
          "Medical Examiner",
          "Medical Examiner",
          "Medical Examiner",
          "Medical Examiner",
          "Medical Examiner",
          "Medical Examiner",
          "Medical Examiner",
          "Medical Examiner",
          "Medical Examiner",
          "Medical Examiner",
          "No Merit",
          "No Merit",
          "No Merit",
          "No Merit",
          "No Merit",
          "No Merit",
          "No Merit",
          "No Merit",
          "No Merit",
          "No Merit",
          "No Merit",
          "No Merit",
          "No Merit",
          "No Merit",
          "No Merit",
          "No Merit",
          "No Merit",
          "No Merit",
          "No Merit",
          "No Merit",
          "No Merit",
          "No Merit",
          "No Merit",
          "No Merit",
          "No Merit",
          "No Merit",
          "No Merit",
          "No Merit",
          "No Merit",
          "No Merit",
          "No Merit",
          "No Merit",
          "No Merit",
          "No Merit",
          "No Merit",
          "No Merit",
          "No Merit",
          "No Merit",
          "No Merit",
          "No Merit",
          "No Merit",
          "No Merit",
          "No Merit",
          "No Merit",
          "No Merit",
          "No Merit",
          "No Merit",
          "No Merit",
          "No Merit",
          "Other",
          "Other",
          "Other",
          "Other",
          "Other",
          "Other",
          "Other",
          "Other",
          "Other",
          "Other",
          "Other",
          "Other",
          "Patient Declined Transport",
          "Patient Declined Transport",
          "Patient Declined Transport",
          "Patient Declined Transport",
          "Patient Declined Transport",
          "Patient Declined Transport",
          "Patient Declined Transport",
          "Patient Declined Transport",
          "Patient Declined Transport",
          "Patient Declined Transport",
          "Patient Declined Transport",
          "Patient Declined Transport",
          "Patient Declined Transport",
          "Patient Declined Transport",
          "Patient Declined Transport",
          "Patient Declined Transport",
          "Patient Declined Transport",
          "Patient Declined Transport",
          "Patient Declined Transport",
          "Patient Declined Transport",
          "Patient Declined Transport",
          "Patient Declined Transport",
          "Patient Declined Transport",
          "Patient Declined Transport",
          "Patient Declined Transport",
          "Patient Declined Transport",
          "Patient Declined Transport",
          "Patient Declined Transport",
          "Patient Declined Transport",
          "Patient Declined Transport",
          "Patient Declined Transport",
          "Patient Declined Transport",
          "Patient Declined Transport",
          "Patient Declined Transport",
          "Patient Declined Transport",
          "Patient Declined Transport",
          "Patient Declined Transport",
          "Patient Declined Transport",
          "Patient Declined Transport",
          "Patient Declined Transport",
          "Patient Declined Transport",
          "Patient Declined Transport",
          "Patient Declined Transport",
          "Patient Declined Transport",
          "Patient Declined Transport",
          "Patient Declined Transport",
          "Patient Declined Transport",
          "Patient Declined Transport",
          "Patient Declined Transport",
          "Patient Declined Transport",
          "Patient Declined Transport",
          "Patient Declined Transport",
          "Patient Declined Transport",
          "Patient Declined Transport",
          "Patient Declined Transport",
          "SFPD",
          "SFPD",
          "SFPD",
          "SFPD",
          "SFPD",
          "SFPD",
          "SFPD",
          "SFPD",
          "SFPD",
          "SFPD",
          "Unable to Locate",
          "Unable to Locate",
          "Unable to Locate",
          "Unable to Locate",
          "Unable to Locate",
          "Unable to Locate",
          "Unable to Locate",
          "Unable to Locate",
          "Unable to Locate",
          "Unable to Locate",
          "Unable to Locate",
          "Unable to Locate"
         ],
         "xaxis": "x",
         "y": [
          "94103.0",
          "94132.0",
          "94102.0",
          "94105.0",
          "94105.0",
          "94124.0",
          "94124.0",
          "94124.0",
          "94134.0",
          "94117.0",
          "94117.0",
          "94117.0",
          "94132.0",
          "94132.0",
          "94103.0",
          "94103.0",
          "94132.0",
          "94132.0",
          "94103.0",
          "94118.0",
          "94118.0",
          "94102.0",
          "94110.0",
          "94102.0",
          "94109.0",
          "94109.0",
          "94123.0",
          "94124.0",
          "94103.0",
          "94103.0",
          "94103.0",
          "94124.0",
          "94103.0",
          "94103.0",
          "94103.0",
          "94103.0",
          "94103.0",
          "94109.0",
          "94103.0",
          "94130.0",
          "94112.0",
          "94109.0",
          "94103.0",
          "94112.0",
          "94102.0",
          "94124.0",
          "94108.0",
          "94121.0",
          "94103.0",
          "94117.0",
          "94103.0",
          "94103.0",
          "94102.0",
          "94103.0",
          "94124.0",
          "94124.0",
          "94103.0",
          "94102.0",
          "94112.0",
          "94115.0",
          "94112.0",
          "94129.0",
          "94115.0",
          "94132.0",
          "94132.0",
          "94112.0",
          "94109.0",
          "94103.0",
          "94132.0",
          "94102.0",
          "94102.0",
          "94102.0",
          "94114.0",
          "94109.0",
          "94109.0",
          "94109.0",
          "94109.0",
          "94132.0",
          "94132.0",
          "94102.0",
          "94102.0",
          "94102.0",
          "94112.0",
          "94103.0",
          "94103.0",
          "94112.0",
          "94102.0",
          "94102.0",
          "94132.0",
          "94124.0",
          "94118.0",
          "94109.0",
          "94123.0",
          "94110.0",
          "94115.0",
          "94117.0",
          "94105.0",
          "94110.0",
          "94110.0",
          "94117.0",
          "94109.0",
          "94117.0",
          "94109.0",
          "94103.0",
          "94103.0",
          "94103.0",
          "94103.0",
          "94110.0",
          "94110.0",
          "94103.0",
          "94102.0",
          "94109.0",
          "94107.0",
          "94110.0",
          "94102.0",
          "94118.0",
          "94108.0",
          "94108.0",
          "94124.0",
          "94124.0",
          "94124.0",
          "94124.0",
          "94123.0",
          "94124.0",
          "94118.0",
          "94124.0",
          "94110.0",
          "94109.0",
          "94109.0",
          "94122.0",
          "94110.0",
          "94122.0",
          "94109.0",
          "94110.0",
          "94105.0",
          "94115.0",
          "94109.0",
          "94132.0",
          "94109.0",
          "94130.0",
          "94124.0",
          "94122.0",
          "94102.0",
          "94102.0",
          "94127.0",
          "94127.0",
          "94114.0",
          "94102.0",
          "94114.0",
          "94132.0",
          "94132.0",
          "94114.0",
          "94103.0",
          "94102.0",
          "94115.0",
          "94115.0",
          "94109.0",
          "94109.0",
          "94109.0",
          "94115.0",
          "94130.0",
          "94130.0",
          "94130.0",
          "94124.0",
          "94116.0",
          "94103.0",
          "94103.0",
          "94103.0",
          "94103.0",
          "94110.0",
          "94103.0",
          "94103.0",
          "94103.0",
          "94109.0",
          "94103.0",
          "94121.0",
          "94124.0",
          "94124.0",
          "94124.0",
          "94110.0",
          "94124.0",
          "94124.0",
          "94124.0",
          "94124.0",
          "94124.0",
          "94124.0",
          "94121.0",
          "94109.0",
          "94124.0",
          "94110.0",
          "94122.0",
          "94109.0",
          "94110.0",
          "94102.0",
          "94102.0",
          "94122.0",
          "94109.0",
          "94116.0",
          "94116.0",
          "94102.0",
          "94102.0",
          "94102.0",
          "94102.0",
          "94116.0",
          "94118.0",
          "94112.0",
          "94103.0",
          "94103.0",
          "94103.0",
          "94123.0",
          "94123.0",
          "94134.0",
          "94134.0",
          "94122.0",
          "94103.0",
          "94103.0",
          "94102.0",
          "94102.0",
          "94103.0",
          "94103.0",
          "94102.0",
          "94103.0",
          "94118.0",
          "94118.0",
          "94103.0",
          "94124.0",
          "94118.0",
          "94102.0",
          "94117.0",
          "94117.0",
          "94117.0",
          "94102.0",
          "94115.0",
          "94115.0",
          "94124.0",
          "94103.0",
          "94110.0",
          "94118.0",
          "94131.0",
          "94103.0",
          "94124.0",
          "94115.0",
          "94102.0",
          "94102.0",
          "94102.0",
          "94110.0",
          "94110.0",
          "94110.0",
          "94109.0",
          "94109.0",
          "94115.0",
          "94134.0",
          "94112.0",
          "94133.0",
          "94102.0",
          "94102.0",
          "94132.0",
          "94109.0",
          "94102.0",
          "94117.0",
          "94117.0",
          "94122.0",
          "94109.0",
          "94133.0",
          "94134.0",
          "94103.0",
          "94103.0",
          "94124.0",
          "94115.0",
          "94115.0",
          "94110.0",
          "94110.0",
          "94116.0",
          "94116.0",
          "94116.0",
          "94103.0",
          "94103.0",
          "94109.0",
          "94109.0",
          "94109.0",
          "94109.0",
          "94110.0",
          "94110.0",
          "94117.0",
          "94117.0",
          "94117.0",
          "94103.0",
          "94103.0",
          "94103.0",
          "94103.0",
          "94107.0",
          "94129.0",
          "94103.0",
          "94123.0",
          "94110.0",
          "94110.0",
          "94110.0",
          "94133.0",
          "94133.0",
          "94134.0",
          "94117.0",
          "94131.0",
          "94131.0",
          "94131.0",
          "94102.0",
          "94117.0",
          "94103.0",
          "94103.0",
          "94110.0",
          "94110.0",
          "94103.0",
          "94112.0",
          "94133.0",
          "94133.0",
          "94103.0",
          "94123.0",
          "94131.0",
          "94114.0",
          "94112.0",
          "94103.0",
          "94133.0",
          "94103.0",
          "94102.0",
          "94102.0",
          "94105.0",
          "94133.0",
          "94133.0",
          "94103.0",
          "94132.0",
          "94103.0",
          "94103.0",
          "94103.0",
          "94115.0",
          "94112.0",
          "94110.0",
          "94110.0",
          "94121.0",
          "94117.0",
          "94133.0",
          "94103.0",
          "94103.0",
          "94122.0",
          "94122.0",
          "94103.0",
          "94118.0",
          "94115.0",
          "94134.0",
          "94110.0",
          "94110.0",
          "94134.0",
          "94115.0",
          "94134.0",
          "94110.0",
          "94112.0",
          "94133.0",
          "94116.0",
          "94105.0",
          "94116.0",
          "94102.0",
          "94124.0",
          "94123.0",
          "94133.0",
          "94103.0",
          "94112.0",
          "94112.0",
          "94115.0",
          "94108.0",
          "94108.0",
          "94134.0",
          "94124.0",
          "94116.0",
          "94124.0",
          "94124.0",
          "94112.0",
          "94109.0",
          "94112.0",
          "94103.0",
          "94103.0",
          "94103.0",
          "94116.0",
          "94103.0",
          "94102.0",
          "94102.0",
          "Treasure Isla",
          "Treasure Isla",
          "Treasure Isla",
          "94103.0",
          "94103.0",
          "94109.0",
          "94109.0",
          "94109.0",
          "94115.0",
          "94109.0",
          "94102.0",
          "94102.0",
          "94102.0",
          "94115.0",
          "94103.0",
          "94108.0",
          "94102.0",
          "94107.0",
          "94123.0",
          "94123.0",
          "94112.0",
          "94132.0",
          "94107.0",
          "94102.0",
          "94102.0",
          "94103.0",
          "94102.0",
          "94133.0",
          "94117.0",
          "94122.0",
          "94109.0",
          "94109.0",
          "94109.0",
          "94122.0",
          "94121.0",
          "94110.0",
          "94134.0",
          "94134.0",
          "94134.0",
          "94134.0",
          "94102.0",
          "94103.0",
          "94107.0",
          "94104.0",
          "94103.0",
          "94103.0",
          "94115.0",
          "94117.0",
          "94132.0",
          "94132.0",
          "94132.0",
          "94122.0",
          "94122.0",
          "94103.0",
          "94124.0",
          "94115.0",
          "94103.0",
          "94115.0",
          "94115.0",
          "94115.0",
          "94115.0",
          "94115.0",
          "94115.0",
          "94115.0",
          "94103.0",
          "Presidio",
          "94115.0",
          "94110.0",
          "94110.0",
          "94115.0",
          "Presidio",
          "Presidio",
          "94123.0",
          "94127.0",
          "94107.0",
          "94112.0",
          "94112.0",
          "94124.0",
          "94124.0",
          "94124.0",
          "94107.0",
          "94110.0",
          "94105.0",
          "94107.0",
          "94134.0",
          "94134.0",
          "94103.0",
          "94105.0",
          "94112.0",
          "94112.0",
          "94133.0",
          "94133.0",
          "94133.0",
          "94123.0",
          "94134.0",
          "94124.0",
          "94123.0",
          "94116.0",
          "94116.0",
          "94127.0",
          "94102.0",
          "94118.0",
          "94117.0",
          "94109.0",
          "94110.0",
          "94112.0",
          "94103.0",
          "94115.0",
          "94103.0",
          "94133.0",
          "94133.0",
          "94102.0",
          "94102.0",
          "94102.0",
          "94121.0",
          "94133.0",
          "94134.0",
          "94132.0",
          "94103.0",
          "94103.0",
          "94107.0",
          "94107.0",
          "94107.0",
          "94134.0",
          "94134.0",
          "94134.0",
          "94109.0",
          "94109.0",
          "94109.0",
          "94103.0",
          "94102.0",
          "94122.0",
          "94124.0",
          "94124.0",
          "94124.0",
          "94115.0",
          "94102.0",
          "94110.0",
          "94134.0",
          "94115.0",
          "94115.0",
          "94115.0",
          "94124.0",
          "94110.0",
          "94132.0",
          "94132.0",
          "94103.0",
          "94114.0",
          "94114.0",
          "94103.0",
          "94110.0",
          "94124.0",
          "94132.0",
          "94132.0",
          "94132.0",
          "94127.0",
          "94107.0",
          "94114.0",
          "94103.0",
          "94103.0",
          "94103.0",
          "94103.0",
          "94103.0",
          "94103.0",
          "94103.0",
          "94103.0",
          "94103.0",
          "94103.0",
          "94103.0",
          "94109.0",
          "94109.0",
          "94109.0",
          "94103.0",
          "94132.0",
          "94124.0",
          "94124.0",
          "94132.0",
          "94109.0",
          "94109.0",
          "94132.0",
          "94131.0",
          "94131.0",
          "94131.0",
          "94116.0",
          "94124.0",
          "94130.0",
          "94130.0",
          "94130.0",
          "94109.0",
          "94130.0",
          "94124.0",
          "94127.0",
          "94127.0",
          "94133.0",
          "94102.0",
          "94102.0",
          "94102.0",
          "94122.0",
          "94122.0",
          "94112.0",
          "94107.0",
          "94115.0",
          "94131.0",
          "94102.0",
          "94108.0",
          "94102.0",
          "94109.0",
          "94123.0",
          "94123.0",
          "94124.0",
          "94107.0",
          "94112.0",
          "94110.0",
          "94124.0",
          "94109.0",
          "94102.0",
          "94134.0",
          "94107.0",
          "94116.0",
          "94104.0",
          "94102.0",
          "94122.0",
          "94124.0",
          "94102.0",
          "94110.0",
          "94110.0",
          "94103.0",
          "94115.0",
          "94114.0",
          "94115.0",
          "94107.0",
          "94115.0",
          "94109.0",
          "94110.0",
          "94117.0",
          "94109.0",
          "94103.0",
          "94109.0",
          "94103.0",
          "94118.0",
          "94129.0",
          "94118.0",
          "94103.0",
          "94118.0",
          "94123.0",
          "94107.0",
          "94124.0",
          "94103.0",
          "94107.0",
          "94102.0",
          "94132.0",
          "94131.0",
          "94124.0",
          "94104.0",
          "94103.0",
          "94103.0",
          "94118.0",
          "94115.0",
          "94117.0",
          "94110.0",
          "94108.0",
          "94108.0",
          "94108.0",
          "94110.0",
          "94114.0",
          "94114.0",
          "94132.0",
          "94131.0",
          "94131.0",
          "94109.0",
          "94132.0",
          "94131.0",
          "94133.0",
          "94123.0",
          "94115.0",
          "94102.0",
          "94103.0",
          "94102.0",
          "94103.0",
          "94115.0",
          "94118.0",
          "94107.0",
          "94132.0",
          "94105.0",
          "94109.0",
          "94102.0",
          "94121.0",
          "94124.0",
          "94109.0",
          "94116.0",
          "94102.0",
          "94110.0",
          "94118.0",
          "94102.0",
          "94121.0",
          "94102.0",
          "94121.0",
          "94121.0",
          "94110.0",
          "94133.0",
          "94118.0",
          "94134.0",
          "94122.0",
          "94124.0",
          "94102.0",
          "94102.0",
          "94103.0",
          "94124.0",
          "94109.0",
          "94114.0",
          "94114.0",
          "94114.0",
          "94102.0",
          "94107.0",
          "94110.0",
          "94102.0",
          "94109.0",
          "94102.0",
          "94109.0",
          "94133.0",
          "94103.0",
          "94110.0",
          "94103.0",
          "94103.0",
          "94107.0",
          "94109.0",
          "94102.0",
          "94110.0",
          "94118.0",
          "94102.0",
          "94158.0",
          "94114.0",
          "94134.0",
          "94110.0",
          "94127.0",
          "94110.0",
          "94103.0",
          "94103.0",
          "94109.0",
          "94102.0",
          "94121.0",
          "94117.0",
          "94127.0",
          "94123.0",
          "94110.0",
          "94114.0",
          "94110.0",
          "94107.0",
          "94124.0",
          "94110.0",
          "94158.0",
          "94102.0",
          "94109.0",
          "94121.0",
          "94103.0",
          "94102.0",
          "94129.0",
          "94127.0",
          "94123.0",
          "94109.0",
          "94132.0",
          "94109.0",
          "94102.0",
          "94109.0",
          "94108.0",
          "94109.0",
          "94108.0",
          "94110.0",
          "94132.0",
          "94133.0",
          "94110.0",
          "94158.0",
          "94117.0",
          "94110.0",
          "94123.0",
          "94102.0",
          "94103.0",
          "94132.0",
          "94103.0",
          "94118.0",
          "94103.0",
          "94133.0",
          "94133.0",
          "94133.0",
          "94133.0",
          "94133.0",
          "94133.0",
          "94133.0",
          "94133.0",
          "94133.0",
          "94118.0",
          "94133.0",
          "94114.0",
          "94124.0",
          "94132.0",
          "94132.0",
          "94103.0",
          "94117.0",
          "94117.0",
          "94117.0",
          "94117.0",
          "94117.0",
          "94124.0",
          "94133.0",
          "94112.0",
          "94117.0",
          "94133.0",
          "94102.0",
          "94116.0",
          "94115.0",
          "94115.0",
          "94134.0",
          "94134.0",
          "94134.0",
          "94123.0",
          "94118.0",
          "94108.0",
          "94108.0",
          "94134.0",
          "94117.0",
          "94117.0",
          "94108.0",
          "94108.0",
          "94108.0",
          "94158.0",
          "94158.0",
          "94158.0",
          "94108.0",
          "94108.0",
          "94102.0",
          "94102.0",
          "94131.0",
          "94118.0",
          "94118.0",
          "94118.0",
          "94118.0",
          "94102.0",
          "94109.0",
          "94103.0",
          "94103.0",
          "94103.0",
          "94103.0",
          "94103.0",
          "94102.0",
          "94102.0",
          "94109.0",
          "94109.0",
          "94109.0",
          "94103.0",
          "94105.0",
          "94105.0",
          "94108.0",
          "94116.0",
          "94102.0",
          "94102.0",
          "94103.0",
          "94103.0",
          "94103.0",
          "94102.0",
          "94110.0",
          "94108.0",
          "94108.0",
          "94108.0",
          "94110.0",
          "94110.0",
          "94116.0",
          "94133.0",
          "94133.0",
          "94133.0",
          "94133.0",
          "94133.0",
          "94116.0",
          "94109.0",
          "94102.0",
          "94109.0",
          "94124.0",
          "94124.0",
          "94124.0",
          "94109.0",
          "94115.0",
          "94105.0",
          "94109.0",
          "94110.0",
          "94116.0",
          "94105.0",
          "94107.0",
          "94102.0",
          "94107.0",
          "94107.0",
          "94105.0",
          "94115.0",
          "94103.0",
          "94102.0",
          "94110.0",
          "94110.0",
          "94110.0",
          "94117.0",
          "94103.0",
          "94116.0",
          "94102.0",
          "94127.0",
          "94105.0",
          "94116.0",
          "94121.0",
          "94110.0",
          "94110.0",
          "94118.0",
          "94127.0",
          "94112.0",
          "94114.0",
          "94102.0",
          "94112.0",
          "94112.0",
          "94103.0",
          "94103.0",
          "94122.0",
          "94103.0",
          "94115.0",
          "94114.0",
          "94108.0",
          "94103.0",
          "94109.0",
          "94109.0",
          "94109.0",
          "94109.0",
          "94108.0",
          "94114.0",
          "94114.0",
          "94107.0",
          "94103.0",
          "94109.0",
          "94110.0",
          "94107.0",
          "94102.0",
          "94111.0",
          "94109.0",
          "94109.0",
          "94103.0",
          "94110.0",
          "94118.0",
          "94110.0",
          "94112.0",
          "94103.0",
          "94103.0",
          "94122.0",
          "94122.0",
          "94110.0",
          "94102.0",
          "94114.0",
          "94108.0",
          "94109.0",
          "94109.0",
          "94110.0",
          "94130.0",
          "94110.0",
          "94115.0",
          "94112.0",
          "94114.0",
          "94114.0",
          "94102.0",
          "94112.0",
          "94109.0",
          "94103.0",
          "94124.0",
          "94115.0",
          "94134.0",
          "94134.0",
          "94130.0",
          "94124.0",
          "94103.0",
          "94114.0",
          "94127.0",
          "94109.0",
          "94110.0",
          "94127.0",
          "94124.0",
          "94108.0",
          "94110.0",
          "94103.0",
          "94103.0",
          "94103.0",
          "94110.0",
          "94102.0",
          "94112.0",
          "94112.0",
          "94108.0",
          "94131.0",
          "94103.0",
          "94102.0",
          "94102.0",
          "94102.0",
          "94102.0",
          "94103.0",
          "94124.0",
          "94131.0",
          "94109.0",
          "94132.0",
          "94103.0",
          "94121.0",
          "94115.0",
          "94122.0",
          "94127.0",
          "94110.0",
          "94110.0",
          "94109.0",
          "94103.0",
          "94116.0",
          "94103.0",
          "94103.0",
          "94109.0",
          "94103.0",
          "94110.0",
          "94116.0",
          "94110.0",
          "94110.0",
          "94103.0",
          "94116.0"
         ],
         "yaxis": "y"
        }
       ],
       "layout": {
        "barmode": "relative",
        "height": 600,
        "legend": {
         "tracegroupgap": 0
        },
        "template": {
         "data": {
          "bar": [
           {
            "error_x": {
             "color": "#2a3f5f"
            },
            "error_y": {
             "color": "#2a3f5f"
            },
            "marker": {
             "line": {
              "color": "#E5ECF6",
              "width": 0.5
             },
             "pattern": {
              "fillmode": "overlay",
              "size": 10,
              "solidity": 0.2
             }
            },
            "type": "bar"
           }
          ],
          "barpolar": [
           {
            "marker": {
             "line": {
              "color": "#E5ECF6",
              "width": 0.5
             },
             "pattern": {
              "fillmode": "overlay",
              "size": 10,
              "solidity": 0.2
             }
            },
            "type": "barpolar"
           }
          ],
          "carpet": [
           {
            "aaxis": {
             "endlinecolor": "#2a3f5f",
             "gridcolor": "white",
             "linecolor": "white",
             "minorgridcolor": "white",
             "startlinecolor": "#2a3f5f"
            },
            "baxis": {
             "endlinecolor": "#2a3f5f",
             "gridcolor": "white",
             "linecolor": "white",
             "minorgridcolor": "white",
             "startlinecolor": "#2a3f5f"
            },
            "type": "carpet"
           }
          ],
          "choropleth": [
           {
            "colorbar": {
             "outlinewidth": 0,
             "ticks": ""
            },
            "type": "choropleth"
           }
          ],
          "contour": [
           {
            "colorbar": {
             "outlinewidth": 0,
             "ticks": ""
            },
            "colorscale": [
             [
              0,
              "#0d0887"
             ],
             [
              0.1111111111111111,
              "#46039f"
             ],
             [
              0.2222222222222222,
              "#7201a8"
             ],
             [
              0.3333333333333333,
              "#9c179e"
             ],
             [
              0.4444444444444444,
              "#bd3786"
             ],
             [
              0.5555555555555556,
              "#d8576b"
             ],
             [
              0.6666666666666666,
              "#ed7953"
             ],
             [
              0.7777777777777778,
              "#fb9f3a"
             ],
             [
              0.8888888888888888,
              "#fdca26"
             ],
             [
              1,
              "#f0f921"
             ]
            ],
            "type": "contour"
           }
          ],
          "contourcarpet": [
           {
            "colorbar": {
             "outlinewidth": 0,
             "ticks": ""
            },
            "type": "contourcarpet"
           }
          ],
          "heatmap": [
           {
            "colorbar": {
             "outlinewidth": 0,
             "ticks": ""
            },
            "colorscale": [
             [
              0,
              "#0d0887"
             ],
             [
              0.1111111111111111,
              "#46039f"
             ],
             [
              0.2222222222222222,
              "#7201a8"
             ],
             [
              0.3333333333333333,
              "#9c179e"
             ],
             [
              0.4444444444444444,
              "#bd3786"
             ],
             [
              0.5555555555555556,
              "#d8576b"
             ],
             [
              0.6666666666666666,
              "#ed7953"
             ],
             [
              0.7777777777777778,
              "#fb9f3a"
             ],
             [
              0.8888888888888888,
              "#fdca26"
             ],
             [
              1,
              "#f0f921"
             ]
            ],
            "type": "heatmap"
           }
          ],
          "heatmapgl": [
           {
            "colorbar": {
             "outlinewidth": 0,
             "ticks": ""
            },
            "colorscale": [
             [
              0,
              "#0d0887"
             ],
             [
              0.1111111111111111,
              "#46039f"
             ],
             [
              0.2222222222222222,
              "#7201a8"
             ],
             [
              0.3333333333333333,
              "#9c179e"
             ],
             [
              0.4444444444444444,
              "#bd3786"
             ],
             [
              0.5555555555555556,
              "#d8576b"
             ],
             [
              0.6666666666666666,
              "#ed7953"
             ],
             [
              0.7777777777777778,
              "#fb9f3a"
             ],
             [
              0.8888888888888888,
              "#fdca26"
             ],
             [
              1,
              "#f0f921"
             ]
            ],
            "type": "heatmapgl"
           }
          ],
          "histogram": [
           {
            "marker": {
             "pattern": {
              "fillmode": "overlay",
              "size": 10,
              "solidity": 0.2
             }
            },
            "type": "histogram"
           }
          ],
          "histogram2d": [
           {
            "colorbar": {
             "outlinewidth": 0,
             "ticks": ""
            },
            "colorscale": [
             [
              0,
              "#0d0887"
             ],
             [
              0.1111111111111111,
              "#46039f"
             ],
             [
              0.2222222222222222,
              "#7201a8"
             ],
             [
              0.3333333333333333,
              "#9c179e"
             ],
             [
              0.4444444444444444,
              "#bd3786"
             ],
             [
              0.5555555555555556,
              "#d8576b"
             ],
             [
              0.6666666666666666,
              "#ed7953"
             ],
             [
              0.7777777777777778,
              "#fb9f3a"
             ],
             [
              0.8888888888888888,
              "#fdca26"
             ],
             [
              1,
              "#f0f921"
             ]
            ],
            "type": "histogram2d"
           }
          ],
          "histogram2dcontour": [
           {
            "colorbar": {
             "outlinewidth": 0,
             "ticks": ""
            },
            "colorscale": [
             [
              0,
              "#0d0887"
             ],
             [
              0.1111111111111111,
              "#46039f"
             ],
             [
              0.2222222222222222,
              "#7201a8"
             ],
             [
              0.3333333333333333,
              "#9c179e"
             ],
             [
              0.4444444444444444,
              "#bd3786"
             ],
             [
              0.5555555555555556,
              "#d8576b"
             ],
             [
              0.6666666666666666,
              "#ed7953"
             ],
             [
              0.7777777777777778,
              "#fb9f3a"
             ],
             [
              0.8888888888888888,
              "#fdca26"
             ],
             [
              1,
              "#f0f921"
             ]
            ],
            "type": "histogram2dcontour"
           }
          ],
          "mesh3d": [
           {
            "colorbar": {
             "outlinewidth": 0,
             "ticks": ""
            },
            "type": "mesh3d"
           }
          ],
          "parcoords": [
           {
            "line": {
             "colorbar": {
              "outlinewidth": 0,
              "ticks": ""
             }
            },
            "type": "parcoords"
           }
          ],
          "pie": [
           {
            "automargin": true,
            "type": "pie"
           }
          ],
          "scatter": [
           {
            "fillpattern": {
             "fillmode": "overlay",
             "size": 10,
             "solidity": 0.2
            },
            "type": "scatter"
           }
          ],
          "scatter3d": [
           {
            "line": {
             "colorbar": {
              "outlinewidth": 0,
              "ticks": ""
             }
            },
            "marker": {
             "colorbar": {
              "outlinewidth": 0,
              "ticks": ""
             }
            },
            "type": "scatter3d"
           }
          ],
          "scattercarpet": [
           {
            "marker": {
             "colorbar": {
              "outlinewidth": 0,
              "ticks": ""
             }
            },
            "type": "scattercarpet"
           }
          ],
          "scattergeo": [
           {
            "marker": {
             "colorbar": {
              "outlinewidth": 0,
              "ticks": ""
             }
            },
            "type": "scattergeo"
           }
          ],
          "scattergl": [
           {
            "marker": {
             "colorbar": {
              "outlinewidth": 0,
              "ticks": ""
             }
            },
            "type": "scattergl"
           }
          ],
          "scattermapbox": [
           {
            "marker": {
             "colorbar": {
              "outlinewidth": 0,
              "ticks": ""
             }
            },
            "type": "scattermapbox"
           }
          ],
          "scatterpolar": [
           {
            "marker": {
             "colorbar": {
              "outlinewidth": 0,
              "ticks": ""
             }
            },
            "type": "scatterpolar"
           }
          ],
          "scatterpolargl": [
           {
            "marker": {
             "colorbar": {
              "outlinewidth": 0,
              "ticks": ""
             }
            },
            "type": "scatterpolargl"
           }
          ],
          "scatterternary": [
           {
            "marker": {
             "colorbar": {
              "outlinewidth": 0,
              "ticks": ""
             }
            },
            "type": "scatterternary"
           }
          ],
          "surface": [
           {
            "colorbar": {
             "outlinewidth": 0,
             "ticks": ""
            },
            "colorscale": [
             [
              0,
              "#0d0887"
             ],
             [
              0.1111111111111111,
              "#46039f"
             ],
             [
              0.2222222222222222,
              "#7201a8"
             ],
             [
              0.3333333333333333,
              "#9c179e"
             ],
             [
              0.4444444444444444,
              "#bd3786"
             ],
             [
              0.5555555555555556,
              "#d8576b"
             ],
             [
              0.6666666666666666,
              "#ed7953"
             ],
             [
              0.7777777777777778,
              "#fb9f3a"
             ],
             [
              0.8888888888888888,
              "#fdca26"
             ],
             [
              1,
              "#f0f921"
             ]
            ],
            "type": "surface"
           }
          ],
          "table": [
           {
            "cells": {
             "fill": {
              "color": "#EBF0F8"
             },
             "line": {
              "color": "white"
             }
            },
            "header": {
             "fill": {
              "color": "#C8D4E3"
             },
             "line": {
              "color": "white"
             }
            },
            "type": "table"
           }
          ]
         },
         "layout": {
          "annotationdefaults": {
           "arrowcolor": "#2a3f5f",
           "arrowhead": 0,
           "arrowwidth": 1
          },
          "autotypenumbers": "strict",
          "coloraxis": {
           "colorbar": {
            "outlinewidth": 0,
            "ticks": ""
           }
          },
          "colorscale": {
           "diverging": [
            [
             0,
             "#8e0152"
            ],
            [
             0.1,
             "#c51b7d"
            ],
            [
             0.2,
             "#de77ae"
            ],
            [
             0.3,
             "#f1b6da"
            ],
            [
             0.4,
             "#fde0ef"
            ],
            [
             0.5,
             "#f7f7f7"
            ],
            [
             0.6,
             "#e6f5d0"
            ],
            [
             0.7,
             "#b8e186"
            ],
            [
             0.8,
             "#7fbc41"
            ],
            [
             0.9,
             "#4d9221"
            ],
            [
             1,
             "#276419"
            ]
           ],
           "sequential": [
            [
             0,
             "#0d0887"
            ],
            [
             0.1111111111111111,
             "#46039f"
            ],
            [
             0.2222222222222222,
             "#7201a8"
            ],
            [
             0.3333333333333333,
             "#9c179e"
            ],
            [
             0.4444444444444444,
             "#bd3786"
            ],
            [
             0.5555555555555556,
             "#d8576b"
            ],
            [
             0.6666666666666666,
             "#ed7953"
            ],
            [
             0.7777777777777778,
             "#fb9f3a"
            ],
            [
             0.8888888888888888,
             "#fdca26"
            ],
            [
             1,
             "#f0f921"
            ]
           ],
           "sequentialminus": [
            [
             0,
             "#0d0887"
            ],
            [
             0.1111111111111111,
             "#46039f"
            ],
            [
             0.2222222222222222,
             "#7201a8"
            ],
            [
             0.3333333333333333,
             "#9c179e"
            ],
            [
             0.4444444444444444,
             "#bd3786"
            ],
            [
             0.5555555555555556,
             "#d8576b"
            ],
            [
             0.6666666666666666,
             "#ed7953"
            ],
            [
             0.7777777777777778,
             "#fb9f3a"
            ],
            [
             0.8888888888888888,
             "#fdca26"
            ],
            [
             1,
             "#f0f921"
            ]
           ]
          },
          "colorway": [
           "#636efa",
           "#EF553B",
           "#00cc96",
           "#ab63fa",
           "#FFA15A",
           "#19d3f3",
           "#FF6692",
           "#B6E880",
           "#FF97FF",
           "#FECB52"
          ],
          "font": {
           "color": "#2a3f5f"
          },
          "geo": {
           "bgcolor": "white",
           "lakecolor": "white",
           "landcolor": "#E5ECF6",
           "showlakes": true,
           "showland": true,
           "subunitcolor": "white"
          },
          "hoverlabel": {
           "align": "left"
          },
          "hovermode": "closest",
          "mapbox": {
           "style": "light"
          },
          "paper_bgcolor": "white",
          "plot_bgcolor": "#E5ECF6",
          "polar": {
           "angularaxis": {
            "gridcolor": "white",
            "linecolor": "white",
            "ticks": ""
           },
           "bgcolor": "#E5ECF6",
           "radialaxis": {
            "gridcolor": "white",
            "linecolor": "white",
            "ticks": ""
           }
          },
          "scene": {
           "xaxis": {
            "backgroundcolor": "#E5ECF6",
            "gridcolor": "white",
            "gridwidth": 2,
            "linecolor": "white",
            "showbackground": true,
            "ticks": "",
            "zerolinecolor": "white"
           },
           "yaxis": {
            "backgroundcolor": "#E5ECF6",
            "gridcolor": "white",
            "gridwidth": 2,
            "linecolor": "white",
            "showbackground": true,
            "ticks": "",
            "zerolinecolor": "white"
           },
           "zaxis": {
            "backgroundcolor": "#E5ECF6",
            "gridcolor": "white",
            "gridwidth": 2,
            "linecolor": "white",
            "showbackground": true,
            "ticks": "",
            "zerolinecolor": "white"
           }
          },
          "shapedefaults": {
           "line": {
            "color": "#2a3f5f"
           }
          },
          "ternary": {
           "aaxis": {
            "gridcolor": "white",
            "linecolor": "white",
            "ticks": ""
           },
           "baxis": {
            "gridcolor": "white",
            "linecolor": "white",
            "ticks": ""
           },
           "bgcolor": "#E5ECF6",
           "caxis": {
            "gridcolor": "white",
            "linecolor": "white",
            "ticks": ""
           }
          },
          "title": {
           "x": 0.05
          },
          "xaxis": {
           "automargin": true,
           "gridcolor": "white",
           "linecolor": "white",
           "ticks": "",
           "title": {
            "standoff": 15
           },
           "zerolinecolor": "white",
           "zerolinewidth": 2
          },
          "yaxis": {
           "automargin": true,
           "gridcolor": "white",
           "linecolor": "white",
           "ticks": "",
           "title": {
            "standoff": 15
           },
           "zerolinecolor": "white",
           "zerolinewidth": 2
          }
         }
        },
        "title": {
         "text": "Number of alarms on log scale per call type"
        },
        "xaxis": {
         "anchor": "y",
         "domain": [
          0,
          1
         ],
         "title": {
          "text": "Call Final Disposition"
         }
        },
        "yaxis": {
         "anchor": "x",
         "domain": [
          0,
          1
         ],
         "title": {
          "text": "Zipcode of Incident"
         }
        }
       }
      }
     },
     "metadata": {},
     "output_type": "display_data"
    }
   ],
   "source": [
    "fig=px.bar(disposition_zip_df.sort_values('Call Final Disposition'), y='Zipcode of Incident', x='Call Final Disposition', height=600, title='Number of alarms on log scale per call type')\n",
    "fig.update_traces(marker_color='#4F97A3')\n",
    "fig.show()"
   ]
  },
  {
   "cell_type": "code",
   "execution_count": 19,
   "id": "690f8a35",
   "metadata": {},
   "outputs": [
    {
     "data": {
      "text/plain": [
       "Call Final Disposition  Zipcode of Incident\n",
       "Code 2 Transport        94103.0                65\n",
       "                        94102.0                45\n",
       "Fire                    94103.0                45\n",
       "                        94102.0                39\n",
       "Code 2 Transport        94109.0                37\n",
       "                                               ..\n",
       "Other                   94118.0                 1\n",
       "Cancelled               94121.0                 1\n",
       "                        94117.0                 1\n",
       "                        94110.0                 1\n",
       "Against Medical Advice  94102.0                 1\n",
       "Length: 142, dtype: int64"
      ]
     },
     "execution_count": 19,
     "metadata": {},
     "output_type": "execute_result"
    }
   ],
   "source": [
    "disposition_zip_df.value_counts()"
   ]
  },
  {
   "cell_type": "code",
   "execution_count": 38,
   "id": "c4376660",
   "metadata": {},
   "outputs": [],
   "source": [
    "incident_count = disposition_zip_df.groupby(['Call Final Disposition']).count()\n",
    "incident_count.rename({'Zipcode of Incident':'Zipcode Count'}, inplace=True, axis=1)"
   ]
  },
  {
   "cell_type": "code",
   "execution_count": 39,
   "id": "8b202eb0",
   "metadata": {},
   "outputs": [
    {
     "data": {
      "text/html": [
       "<div>\n",
       "<style scoped>\n",
       "    .dataframe tbody tr th:only-of-type {\n",
       "        vertical-align: middle;\n",
       "    }\n",
       "\n",
       "    .dataframe tbody tr th {\n",
       "        vertical-align: top;\n",
       "    }\n",
       "\n",
       "    .dataframe thead th {\n",
       "        text-align: right;\n",
       "    }\n",
       "</style>\n",
       "<table border=\"1\" class=\"dataframe\">\n",
       "  <thead>\n",
       "    <tr style=\"text-align: right;\">\n",
       "      <th></th>\n",
       "      <th>Zipcode Count</th>\n",
       "    </tr>\n",
       "    <tr>\n",
       "      <th>Call Final Disposition</th>\n",
       "      <th></th>\n",
       "    </tr>\n",
       "  </thead>\n",
       "  <tbody>\n",
       "    <tr>\n",
       "      <th>Against Medical Advice</th>\n",
       "      <td>21</td>\n",
       "    </tr>\n",
       "    <tr>\n",
       "      <th>Cancelled</th>\n",
       "      <td>37</td>\n",
       "    </tr>\n",
       "    <tr>\n",
       "      <th>Code 2 Transport</th>\n",
       "      <td>390</td>\n",
       "    </tr>\n",
       "    <tr>\n",
       "      <th>Code 3 Transport</th>\n",
       "      <td>35</td>\n",
       "    </tr>\n",
       "    <tr>\n",
       "      <th>Fire</th>\n",
       "      <td>349</td>\n",
       "    </tr>\n",
       "    <tr>\n",
       "      <th>Gone on Arrival</th>\n",
       "      <td>2</td>\n",
       "    </tr>\n",
       "    <tr>\n",
       "      <th>Medical Examiner</th>\n",
       "      <td>28</td>\n",
       "    </tr>\n",
       "    <tr>\n",
       "      <th>No Merit</th>\n",
       "      <td>49</td>\n",
       "    </tr>\n",
       "    <tr>\n",
       "      <th>Other</th>\n",
       "      <td>12</td>\n",
       "    </tr>\n",
       "    <tr>\n",
       "      <th>Patient Declined Transport</th>\n",
       "      <td>55</td>\n",
       "    </tr>\n",
       "    <tr>\n",
       "      <th>SFPD</th>\n",
       "      <td>10</td>\n",
       "    </tr>\n",
       "    <tr>\n",
       "      <th>Unable to Locate</th>\n",
       "      <td>12</td>\n",
       "    </tr>\n",
       "  </tbody>\n",
       "</table>\n",
       "</div>"
      ],
      "text/plain": [
       "                            Zipcode Count\n",
       "Call Final Disposition                   \n",
       "Against Medical Advice                 21\n",
       "Cancelled                              37\n",
       "Code 2 Transport                      390\n",
       "Code 3 Transport                       35\n",
       "Fire                                  349\n",
       "Gone on Arrival                         2\n",
       "Medical Examiner                       28\n",
       "No Merit                               49\n",
       "Other                                  12\n",
       "Patient Declined Transport             55\n",
       "SFPD                                   10\n",
       "Unable to Locate                       12"
      ]
     },
     "execution_count": 39,
     "metadata": {},
     "output_type": "execute_result"
    }
   ],
   "source": [
    "incident_count"
   ]
  },
  {
   "cell_type": "code",
   "execution_count": 43,
   "id": "9a59127e",
   "metadata": {},
   "outputs": [
    {
     "data": {
      "application/vnd.plotly.v1+json": {
       "config": {
        "plotlyServerURL": "https://plot.ly"
       },
       "data": [
        {
         "alignmentgroup": "True",
         "hovertemplate": "x=%{x}<br>Zipcode Count=%{y}<extra></extra>",
         "legendgroup": "",
         "marker": {
          "color": "#4F97A3",
          "pattern": {
           "shape": ""
          }
         },
         "name": "",
         "offsetgroup": "",
         "orientation": "v",
         "showlegend": false,
         "textposition": "auto",
         "type": "bar",
         "x": [
          "Against Medical Advice",
          "Cancelled",
          "Code 2 Transport",
          "Code 3 Transport",
          "Fire",
          "Gone on Arrival",
          "Medical Examiner",
          "No Merit",
          "Other",
          "Patient Declined Transport",
          "SFPD",
          "Unable to Locate"
         ],
         "xaxis": "x",
         "y": [
          2,
          10,
          12,
          12,
          21,
          28,
          35,
          37,
          49,
          55,
          349,
          390
         ],
         "yaxis": "y"
        }
       ],
       "layout": {
        "barmode": "relative",
        "height": 600,
        "legend": {
         "tracegroupgap": 0
        },
        "template": {
         "data": {
          "bar": [
           {
            "error_x": {
             "color": "#2a3f5f"
            },
            "error_y": {
             "color": "#2a3f5f"
            },
            "marker": {
             "line": {
              "color": "#E5ECF6",
              "width": 0.5
             },
             "pattern": {
              "fillmode": "overlay",
              "size": 10,
              "solidity": 0.2
             }
            },
            "type": "bar"
           }
          ],
          "barpolar": [
           {
            "marker": {
             "line": {
              "color": "#E5ECF6",
              "width": 0.5
             },
             "pattern": {
              "fillmode": "overlay",
              "size": 10,
              "solidity": 0.2
             }
            },
            "type": "barpolar"
           }
          ],
          "carpet": [
           {
            "aaxis": {
             "endlinecolor": "#2a3f5f",
             "gridcolor": "white",
             "linecolor": "white",
             "minorgridcolor": "white",
             "startlinecolor": "#2a3f5f"
            },
            "baxis": {
             "endlinecolor": "#2a3f5f",
             "gridcolor": "white",
             "linecolor": "white",
             "minorgridcolor": "white",
             "startlinecolor": "#2a3f5f"
            },
            "type": "carpet"
           }
          ],
          "choropleth": [
           {
            "colorbar": {
             "outlinewidth": 0,
             "ticks": ""
            },
            "type": "choropleth"
           }
          ],
          "contour": [
           {
            "colorbar": {
             "outlinewidth": 0,
             "ticks": ""
            },
            "colorscale": [
             [
              0,
              "#0d0887"
             ],
             [
              0.1111111111111111,
              "#46039f"
             ],
             [
              0.2222222222222222,
              "#7201a8"
             ],
             [
              0.3333333333333333,
              "#9c179e"
             ],
             [
              0.4444444444444444,
              "#bd3786"
             ],
             [
              0.5555555555555556,
              "#d8576b"
             ],
             [
              0.6666666666666666,
              "#ed7953"
             ],
             [
              0.7777777777777778,
              "#fb9f3a"
             ],
             [
              0.8888888888888888,
              "#fdca26"
             ],
             [
              1,
              "#f0f921"
             ]
            ],
            "type": "contour"
           }
          ],
          "contourcarpet": [
           {
            "colorbar": {
             "outlinewidth": 0,
             "ticks": ""
            },
            "type": "contourcarpet"
           }
          ],
          "heatmap": [
           {
            "colorbar": {
             "outlinewidth": 0,
             "ticks": ""
            },
            "colorscale": [
             [
              0,
              "#0d0887"
             ],
             [
              0.1111111111111111,
              "#46039f"
             ],
             [
              0.2222222222222222,
              "#7201a8"
             ],
             [
              0.3333333333333333,
              "#9c179e"
             ],
             [
              0.4444444444444444,
              "#bd3786"
             ],
             [
              0.5555555555555556,
              "#d8576b"
             ],
             [
              0.6666666666666666,
              "#ed7953"
             ],
             [
              0.7777777777777778,
              "#fb9f3a"
             ],
             [
              0.8888888888888888,
              "#fdca26"
             ],
             [
              1,
              "#f0f921"
             ]
            ],
            "type": "heatmap"
           }
          ],
          "heatmapgl": [
           {
            "colorbar": {
             "outlinewidth": 0,
             "ticks": ""
            },
            "colorscale": [
             [
              0,
              "#0d0887"
             ],
             [
              0.1111111111111111,
              "#46039f"
             ],
             [
              0.2222222222222222,
              "#7201a8"
             ],
             [
              0.3333333333333333,
              "#9c179e"
             ],
             [
              0.4444444444444444,
              "#bd3786"
             ],
             [
              0.5555555555555556,
              "#d8576b"
             ],
             [
              0.6666666666666666,
              "#ed7953"
             ],
             [
              0.7777777777777778,
              "#fb9f3a"
             ],
             [
              0.8888888888888888,
              "#fdca26"
             ],
             [
              1,
              "#f0f921"
             ]
            ],
            "type": "heatmapgl"
           }
          ],
          "histogram": [
           {
            "marker": {
             "pattern": {
              "fillmode": "overlay",
              "size": 10,
              "solidity": 0.2
             }
            },
            "type": "histogram"
           }
          ],
          "histogram2d": [
           {
            "colorbar": {
             "outlinewidth": 0,
             "ticks": ""
            },
            "colorscale": [
             [
              0,
              "#0d0887"
             ],
             [
              0.1111111111111111,
              "#46039f"
             ],
             [
              0.2222222222222222,
              "#7201a8"
             ],
             [
              0.3333333333333333,
              "#9c179e"
             ],
             [
              0.4444444444444444,
              "#bd3786"
             ],
             [
              0.5555555555555556,
              "#d8576b"
             ],
             [
              0.6666666666666666,
              "#ed7953"
             ],
             [
              0.7777777777777778,
              "#fb9f3a"
             ],
             [
              0.8888888888888888,
              "#fdca26"
             ],
             [
              1,
              "#f0f921"
             ]
            ],
            "type": "histogram2d"
           }
          ],
          "histogram2dcontour": [
           {
            "colorbar": {
             "outlinewidth": 0,
             "ticks": ""
            },
            "colorscale": [
             [
              0,
              "#0d0887"
             ],
             [
              0.1111111111111111,
              "#46039f"
             ],
             [
              0.2222222222222222,
              "#7201a8"
             ],
             [
              0.3333333333333333,
              "#9c179e"
             ],
             [
              0.4444444444444444,
              "#bd3786"
             ],
             [
              0.5555555555555556,
              "#d8576b"
             ],
             [
              0.6666666666666666,
              "#ed7953"
             ],
             [
              0.7777777777777778,
              "#fb9f3a"
             ],
             [
              0.8888888888888888,
              "#fdca26"
             ],
             [
              1,
              "#f0f921"
             ]
            ],
            "type": "histogram2dcontour"
           }
          ],
          "mesh3d": [
           {
            "colorbar": {
             "outlinewidth": 0,
             "ticks": ""
            },
            "type": "mesh3d"
           }
          ],
          "parcoords": [
           {
            "line": {
             "colorbar": {
              "outlinewidth": 0,
              "ticks": ""
             }
            },
            "type": "parcoords"
           }
          ],
          "pie": [
           {
            "automargin": true,
            "type": "pie"
           }
          ],
          "scatter": [
           {
            "fillpattern": {
             "fillmode": "overlay",
             "size": 10,
             "solidity": 0.2
            },
            "type": "scatter"
           }
          ],
          "scatter3d": [
           {
            "line": {
             "colorbar": {
              "outlinewidth": 0,
              "ticks": ""
             }
            },
            "marker": {
             "colorbar": {
              "outlinewidth": 0,
              "ticks": ""
             }
            },
            "type": "scatter3d"
           }
          ],
          "scattercarpet": [
           {
            "marker": {
             "colorbar": {
              "outlinewidth": 0,
              "ticks": ""
             }
            },
            "type": "scattercarpet"
           }
          ],
          "scattergeo": [
           {
            "marker": {
             "colorbar": {
              "outlinewidth": 0,
              "ticks": ""
             }
            },
            "type": "scattergeo"
           }
          ],
          "scattergl": [
           {
            "marker": {
             "colorbar": {
              "outlinewidth": 0,
              "ticks": ""
             }
            },
            "type": "scattergl"
           }
          ],
          "scattermapbox": [
           {
            "marker": {
             "colorbar": {
              "outlinewidth": 0,
              "ticks": ""
             }
            },
            "type": "scattermapbox"
           }
          ],
          "scatterpolar": [
           {
            "marker": {
             "colorbar": {
              "outlinewidth": 0,
              "ticks": ""
             }
            },
            "type": "scatterpolar"
           }
          ],
          "scatterpolargl": [
           {
            "marker": {
             "colorbar": {
              "outlinewidth": 0,
              "ticks": ""
             }
            },
            "type": "scatterpolargl"
           }
          ],
          "scatterternary": [
           {
            "marker": {
             "colorbar": {
              "outlinewidth": 0,
              "ticks": ""
             }
            },
            "type": "scatterternary"
           }
          ],
          "surface": [
           {
            "colorbar": {
             "outlinewidth": 0,
             "ticks": ""
            },
            "colorscale": [
             [
              0,
              "#0d0887"
             ],
             [
              0.1111111111111111,
              "#46039f"
             ],
             [
              0.2222222222222222,
              "#7201a8"
             ],
             [
              0.3333333333333333,
              "#9c179e"
             ],
             [
              0.4444444444444444,
              "#bd3786"
             ],
             [
              0.5555555555555556,
              "#d8576b"
             ],
             [
              0.6666666666666666,
              "#ed7953"
             ],
             [
              0.7777777777777778,
              "#fb9f3a"
             ],
             [
              0.8888888888888888,
              "#fdca26"
             ],
             [
              1,
              "#f0f921"
             ]
            ],
            "type": "surface"
           }
          ],
          "table": [
           {
            "cells": {
             "fill": {
              "color": "#EBF0F8"
             },
             "line": {
              "color": "white"
             }
            },
            "header": {
             "fill": {
              "color": "#C8D4E3"
             },
             "line": {
              "color": "white"
             }
            },
            "type": "table"
           }
          ]
         },
         "layout": {
          "annotationdefaults": {
           "arrowcolor": "#2a3f5f",
           "arrowhead": 0,
           "arrowwidth": 1
          },
          "autotypenumbers": "strict",
          "coloraxis": {
           "colorbar": {
            "outlinewidth": 0,
            "ticks": ""
           }
          },
          "colorscale": {
           "diverging": [
            [
             0,
             "#8e0152"
            ],
            [
             0.1,
             "#c51b7d"
            ],
            [
             0.2,
             "#de77ae"
            ],
            [
             0.3,
             "#f1b6da"
            ],
            [
             0.4,
             "#fde0ef"
            ],
            [
             0.5,
             "#f7f7f7"
            ],
            [
             0.6,
             "#e6f5d0"
            ],
            [
             0.7,
             "#b8e186"
            ],
            [
             0.8,
             "#7fbc41"
            ],
            [
             0.9,
             "#4d9221"
            ],
            [
             1,
             "#276419"
            ]
           ],
           "sequential": [
            [
             0,
             "#0d0887"
            ],
            [
             0.1111111111111111,
             "#46039f"
            ],
            [
             0.2222222222222222,
             "#7201a8"
            ],
            [
             0.3333333333333333,
             "#9c179e"
            ],
            [
             0.4444444444444444,
             "#bd3786"
            ],
            [
             0.5555555555555556,
             "#d8576b"
            ],
            [
             0.6666666666666666,
             "#ed7953"
            ],
            [
             0.7777777777777778,
             "#fb9f3a"
            ],
            [
             0.8888888888888888,
             "#fdca26"
            ],
            [
             1,
             "#f0f921"
            ]
           ],
           "sequentialminus": [
            [
             0,
             "#0d0887"
            ],
            [
             0.1111111111111111,
             "#46039f"
            ],
            [
             0.2222222222222222,
             "#7201a8"
            ],
            [
             0.3333333333333333,
             "#9c179e"
            ],
            [
             0.4444444444444444,
             "#bd3786"
            ],
            [
             0.5555555555555556,
             "#d8576b"
            ],
            [
             0.6666666666666666,
             "#ed7953"
            ],
            [
             0.7777777777777778,
             "#fb9f3a"
            ],
            [
             0.8888888888888888,
             "#fdca26"
            ],
            [
             1,
             "#f0f921"
            ]
           ]
          },
          "colorway": [
           "#636efa",
           "#EF553B",
           "#00cc96",
           "#ab63fa",
           "#FFA15A",
           "#19d3f3",
           "#FF6692",
           "#B6E880",
           "#FF97FF",
           "#FECB52"
          ],
          "font": {
           "color": "#2a3f5f"
          },
          "geo": {
           "bgcolor": "white",
           "lakecolor": "white",
           "landcolor": "#E5ECF6",
           "showlakes": true,
           "showland": true,
           "subunitcolor": "white"
          },
          "hoverlabel": {
           "align": "left"
          },
          "hovermode": "closest",
          "mapbox": {
           "style": "light"
          },
          "paper_bgcolor": "white",
          "plot_bgcolor": "#E5ECF6",
          "polar": {
           "angularaxis": {
            "gridcolor": "white",
            "linecolor": "white",
            "ticks": ""
           },
           "bgcolor": "#E5ECF6",
           "radialaxis": {
            "gridcolor": "white",
            "linecolor": "white",
            "ticks": ""
           }
          },
          "scene": {
           "xaxis": {
            "backgroundcolor": "#E5ECF6",
            "gridcolor": "white",
            "gridwidth": 2,
            "linecolor": "white",
            "showbackground": true,
            "ticks": "",
            "zerolinecolor": "white"
           },
           "yaxis": {
            "backgroundcolor": "#E5ECF6",
            "gridcolor": "white",
            "gridwidth": 2,
            "linecolor": "white",
            "showbackground": true,
            "ticks": "",
            "zerolinecolor": "white"
           },
           "zaxis": {
            "backgroundcolor": "#E5ECF6",
            "gridcolor": "white",
            "gridwidth": 2,
            "linecolor": "white",
            "showbackground": true,
            "ticks": "",
            "zerolinecolor": "white"
           }
          },
          "shapedefaults": {
           "line": {
            "color": "#2a3f5f"
           }
          },
          "ternary": {
           "aaxis": {
            "gridcolor": "white",
            "linecolor": "white",
            "ticks": ""
           },
           "baxis": {
            "gridcolor": "white",
            "linecolor": "white",
            "ticks": ""
           },
           "bgcolor": "#E5ECF6",
           "caxis": {
            "gridcolor": "white",
            "linecolor": "white",
            "ticks": ""
           }
          },
          "title": {
           "x": 0.05
          },
          "xaxis": {
           "automargin": true,
           "gridcolor": "white",
           "linecolor": "white",
           "ticks": "",
           "title": {
            "standoff": 15
           },
           "zerolinecolor": "white",
           "zerolinewidth": 2
          },
          "yaxis": {
           "automargin": true,
           "gridcolor": "white",
           "linecolor": "white",
           "ticks": "",
           "title": {
            "standoff": 15
           },
           "zerolinecolor": "white",
           "zerolinewidth": 2
          }
         }
        },
        "title": {
         "text": "Number of zipcode count per final call disposition"
        },
        "xaxis": {
         "anchor": "y",
         "domain": [
          0,
          1
         ],
         "title": {
          "text": "x"
         }
        },
        "yaxis": {
         "anchor": "x",
         "domain": [
          0,
          1
         ],
         "title": {
          "text": "Zipcode Count"
         }
        }
       }
      }
     },
     "metadata": {},
     "output_type": "display_data"
    }
   ],
   "source": [
    "fig=px.bar(incident_count.sort_values('Zipcode Count'), y='Zipcode Count', x=incident_count.index, height=600, title='Number of zipcode count per final call disposition')\n",
    "fig.update_traces(marker_color='#4F97A3')\n",
    "fig.show()"
   ]
  },
  {
   "cell_type": "code",
   "execution_count": null,
   "id": "d80d7e5b",
   "metadata": {},
   "outputs": [],
   "source": []
  }
 ],
 "metadata": {
  "kernelspec": {
   "display_name": "Python 3.10.6 ('DistributedComputing')",
   "language": "python",
   "name": "python3"
  },
  "language_info": {
   "codemirror_mode": {
    "name": "ipython",
    "version": 3
   },
   "file_extension": ".py",
   "mimetype": "text/x-python",
   "name": "python",
   "nbconvert_exporter": "python",
   "pygments_lexer": "ipython3",
   "version": "3.10.6"
  },
  "vscode": {
   "interpreter": {
    "hash": "a6261fdbbcc1a0941000547ac8a1bbbff315db395aac841392867c7c480227a2"
   }
  }
 },
 "nbformat": 4,
 "nbformat_minor": 5
}
